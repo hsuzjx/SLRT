{
 "cells": [
  {
   "cell_type": "code",
   "id": "initial_id",
   "metadata": {
    "collapsed": true,
    "ExecuteTime": {
     "end_time": "2024-09-24T02:34:24.506459Z",
     "start_time": "2024-09-24T02:34:23.622411Z"
    }
   },
   "source": [
    "import os.path\n",
    "\n",
    "import numpy as np\n",
    "import torch\n",
    "import pandas as pd\n",
    "from transformers import AutoTokenizer\n",
    "from transformers import BertModel\n",
    "import matplotlib.pyplot as plt"
   ],
   "outputs": [],
   "execution_count": 1
  },
  {
   "metadata": {},
   "cell_type": "markdown",
   "source": "## Phoenix2014",
   "id": "f2c3e95e701f0bfd"
  },
  {
   "metadata": {
    "ExecuteTime": {
     "end_time": "2024-09-24T02:34:24.653798Z",
     "start_time": "2024-09-24T02:34:24.647318Z"
    }
   },
   "cell_type": "code",
   "source": "anno_dir = \"../data/phoenix2014/phoenix-2014-multisigner/annotations/manual\"",
   "id": "c8a8098df15cfe",
   "outputs": [],
   "execution_count": 2
  },
  {
   "metadata": {
    "ExecuteTime": {
     "end_time": "2024-09-24T02:34:24.961518Z",
     "start_time": "2024-09-24T02:34:24.947849Z"
    }
   },
   "cell_type": "code",
   "source": [
    "corpus = pd.read_csv(os.path.join(anno_dir, \"train.corpus.csv\"), sep='|', header=0, index_col='id')\n",
    "corpus"
   ],
   "id": "8cddc6e3ca72700b",
   "outputs": [
    {
     "data": {
      "text/plain": [
       "                                                                                          folder  \\\n",
       "id                                                                                                 \n",
       "01April_2010_Thursday_heute_default-0              01April_2010_Thursday_heute_default-0/1/*.png   \n",
       "01April_2010_Thursday_heute_default-2              01April_2010_Thursday_heute_default-2/1/*.png   \n",
       "01April_2010_Thursday_heute_default-3              01April_2010_Thursday_heute_default-3/1/*.png   \n",
       "01April_2010_Thursday_heute_default-4              01April_2010_Thursday_heute_default-4/1/*.png   \n",
       "01April_2010_Thursday_heute_default-6              01April_2010_Thursday_heute_default-6/1/*.png   \n",
       "...                                                                                          ...   \n",
       "31October_2009_Saturday_tagesschau_default-4   31October_2009_Saturday_tagesschau_default-4/1...   \n",
       "31October_2009_Saturday_tagesschau_default-6   31October_2009_Saturday_tagesschau_default-6/1...   \n",
       "31October_2009_Saturday_tagesschau_default-10  31October_2009_Saturday_tagesschau_default-10/...   \n",
       "31October_2009_Saturday_tagesschau_default-11  31October_2009_Saturday_tagesschau_default-11/...   \n",
       "31October_2009_Saturday_tagesschau_default-12  31October_2009_Saturday_tagesschau_default-12/...   \n",
       "\n",
       "                                                 signer  \\\n",
       "id                                                        \n",
       "01April_2010_Thursday_heute_default-0          Signer04   \n",
       "01April_2010_Thursday_heute_default-2          Signer04   \n",
       "01April_2010_Thursday_heute_default-3          Signer04   \n",
       "01April_2010_Thursday_heute_default-4          Signer04   \n",
       "01April_2010_Thursday_heute_default-6          Signer04   \n",
       "...                                                 ...   \n",
       "31October_2009_Saturday_tagesschau_default-4   Signer03   \n",
       "31October_2009_Saturday_tagesschau_default-6   Signer03   \n",
       "31October_2009_Saturday_tagesschau_default-10  Signer03   \n",
       "31October_2009_Saturday_tagesschau_default-11  Signer03   \n",
       "31October_2009_Saturday_tagesschau_default-12  Signer03   \n",
       "\n",
       "                                                                                      annotation  \n",
       "id                                                                                                \n",
       "01April_2010_Thursday_heute_default-0          __ON__ LIEB ZUSCHAUER ABEND WINTER GESTERN loc...  \n",
       "01April_2010_Thursday_heute_default-2                       loc-WEST WARM loc-WEST BLEIBEN KUEHL  \n",
       "01April_2010_Thursday_heute_default-3          KUEHL KUEHL IN-KOMMEND NACHT MINUS loc-MINUS-P...  \n",
       "01April_2010_Thursday_heute_default-4          MORGEN TEMPERATUR ACHT BIS DREIZEHN MAXIMAL DR...  \n",
       "01April_2010_Thursday_heute_default-6          AUCH SAMSTAG WEST FREUNDLICH IX TROCKEN WEST R...  \n",
       "...                                                                                          ...  \n",
       "31October_2009_Saturday_tagesschau_default-4   __ON__ NORD loc-REGION HEUTE NACHT SCHON WOLKE...  \n",
       "31October_2009_Saturday_tagesschau_default-6   __ON__ AUCH STURM WEHEN WEHEN NORD SEE STURM l...  \n",
       "31October_2009_Saturday_tagesschau_default-10  __ON__ MORGEN loc-SECHS GRAD loc-SIEBENZEHN GR...  \n",
       "31October_2009_Saturday_tagesschau_default-11  __ON__ MONTAG loc-SUEDOST loc-REGION VIEL REGE...  \n",
       "31October_2009_Saturday_tagesschau_default-12  __EMOTION__ IM-VERLAUF BLEIBEN WECHSELHAFT MEH...  \n",
       "\n",
       "[5672 rows x 3 columns]"
      ],
      "text/html": [
       "<div>\n",
       "<style scoped>\n",
       "    .dataframe tbody tr th:only-of-type {\n",
       "        vertical-align: middle;\n",
       "    }\n",
       "\n",
       "    .dataframe tbody tr th {\n",
       "        vertical-align: top;\n",
       "    }\n",
       "\n",
       "    .dataframe thead th {\n",
       "        text-align: right;\n",
       "    }\n",
       "</style>\n",
       "<table border=\"1\" class=\"dataframe\">\n",
       "  <thead>\n",
       "    <tr style=\"text-align: right;\">\n",
       "      <th></th>\n",
       "      <th>folder</th>\n",
       "      <th>signer</th>\n",
       "      <th>annotation</th>\n",
       "    </tr>\n",
       "    <tr>\n",
       "      <th>id</th>\n",
       "      <th></th>\n",
       "      <th></th>\n",
       "      <th></th>\n",
       "    </tr>\n",
       "  </thead>\n",
       "  <tbody>\n",
       "    <tr>\n",
       "      <th>01April_2010_Thursday_heute_default-0</th>\n",
       "      <td>01April_2010_Thursday_heute_default-0/1/*.png</td>\n",
       "      <td>Signer04</td>\n",
       "      <td>__ON__ LIEB ZUSCHAUER ABEND WINTER GESTERN loc...</td>\n",
       "    </tr>\n",
       "    <tr>\n",
       "      <th>01April_2010_Thursday_heute_default-2</th>\n",
       "      <td>01April_2010_Thursday_heute_default-2/1/*.png</td>\n",
       "      <td>Signer04</td>\n",
       "      <td>loc-WEST WARM loc-WEST BLEIBEN KUEHL</td>\n",
       "    </tr>\n",
       "    <tr>\n",
       "      <th>01April_2010_Thursday_heute_default-3</th>\n",
       "      <td>01April_2010_Thursday_heute_default-3/1/*.png</td>\n",
       "      <td>Signer04</td>\n",
       "      <td>KUEHL KUEHL IN-KOMMEND NACHT MINUS loc-MINUS-P...</td>\n",
       "    </tr>\n",
       "    <tr>\n",
       "      <th>01April_2010_Thursday_heute_default-4</th>\n",
       "      <td>01April_2010_Thursday_heute_default-4/1/*.png</td>\n",
       "      <td>Signer04</td>\n",
       "      <td>MORGEN TEMPERATUR ACHT BIS DREIZEHN MAXIMAL DR...</td>\n",
       "    </tr>\n",
       "    <tr>\n",
       "      <th>01April_2010_Thursday_heute_default-6</th>\n",
       "      <td>01April_2010_Thursday_heute_default-6/1/*.png</td>\n",
       "      <td>Signer04</td>\n",
       "      <td>AUCH SAMSTAG WEST FREUNDLICH IX TROCKEN WEST R...</td>\n",
       "    </tr>\n",
       "    <tr>\n",
       "      <th>...</th>\n",
       "      <td>...</td>\n",
       "      <td>...</td>\n",
       "      <td>...</td>\n",
       "    </tr>\n",
       "    <tr>\n",
       "      <th>31October_2009_Saturday_tagesschau_default-4</th>\n",
       "      <td>31October_2009_Saturday_tagesschau_default-4/1...</td>\n",
       "      <td>Signer03</td>\n",
       "      <td>__ON__ NORD loc-REGION HEUTE NACHT SCHON WOLKE...</td>\n",
       "    </tr>\n",
       "    <tr>\n",
       "      <th>31October_2009_Saturday_tagesschau_default-6</th>\n",
       "      <td>31October_2009_Saturday_tagesschau_default-6/1...</td>\n",
       "      <td>Signer03</td>\n",
       "      <td>__ON__ AUCH STURM WEHEN WEHEN NORD SEE STURM l...</td>\n",
       "    </tr>\n",
       "    <tr>\n",
       "      <th>31October_2009_Saturday_tagesschau_default-10</th>\n",
       "      <td>31October_2009_Saturday_tagesschau_default-10/...</td>\n",
       "      <td>Signer03</td>\n",
       "      <td>__ON__ MORGEN loc-SECHS GRAD loc-SIEBENZEHN GR...</td>\n",
       "    </tr>\n",
       "    <tr>\n",
       "      <th>31October_2009_Saturday_tagesschau_default-11</th>\n",
       "      <td>31October_2009_Saturday_tagesschau_default-11/...</td>\n",
       "      <td>Signer03</td>\n",
       "      <td>__ON__ MONTAG loc-SUEDOST loc-REGION VIEL REGE...</td>\n",
       "    </tr>\n",
       "    <tr>\n",
       "      <th>31October_2009_Saturday_tagesschau_default-12</th>\n",
       "      <td>31October_2009_Saturday_tagesschau_default-12/...</td>\n",
       "      <td>Signer03</td>\n",
       "      <td>__EMOTION__ IM-VERLAUF BLEIBEN WECHSELHAFT MEH...</td>\n",
       "    </tr>\n",
       "  </tbody>\n",
       "</table>\n",
       "<p>5672 rows × 3 columns</p>\n",
       "</div>"
      ]
     },
     "execution_count": 3,
     "metadata": {},
     "output_type": "execute_result"
    }
   ],
   "execution_count": 3
  },
  {
   "metadata": {
    "ExecuteTime": {
     "end_time": "2024-09-24T02:34:25.059974Z",
     "start_time": "2024-09-24T02:34:25.040446Z"
    }
   },
   "cell_type": "code",
   "source": [
    "tokenizer = AutoTokenizer.from_pretrained(\n",
    "    \"../.cache/huggingface/bert-base-german-dbmdz-uncased\",\n",
    "    clean_up_tokenization_spaces=True\n",
    ")\n",
    "tokenizer.vocab_size"
   ],
   "id": "9160be5428a94009",
   "outputs": [
    {
     "data": {
      "text/plain": [
       "31102"
      ]
     },
     "execution_count": 4,
     "metadata": {},
     "output_type": "execute_result"
    }
   ],
   "execution_count": 4
  },
  {
   "metadata": {
    "ExecuteTime": {
     "end_time": "2024-09-24T02:34:25.186062Z",
     "start_time": "2024-09-24T02:34:25.102627Z"
    }
   },
   "cell_type": "code",
   "source": [
    "model = BertModel.from_pretrained(\"../.cache/huggingface/bert-base-german-dbmdz-uncased\")\n",
    "model.config"
   ],
   "id": "99345b6f94567826",
   "outputs": [
    {
     "data": {
      "text/plain": [
       "BertConfig {\n",
       "  \"_name_or_path\": \"../.cache/huggingface/bert-base-german-dbmdz-uncased\",\n",
       "  \"architectures\": [\n",
       "    \"BertForMaskedLM\"\n",
       "  ],\n",
       "  \"attention_probs_dropout_prob\": 0.1,\n",
       "  \"classifier_dropout\": null,\n",
       "  \"hidden_act\": \"gelu\",\n",
       "  \"hidden_dropout_prob\": 0.1,\n",
       "  \"hidden_size\": 768,\n",
       "  \"initializer_range\": 0.02,\n",
       "  \"intermediate_size\": 3072,\n",
       "  \"layer_norm_eps\": 1e-12,\n",
       "  \"max_position_embeddings\": 512,\n",
       "  \"model_type\": \"bert\",\n",
       "  \"num_attention_heads\": 12,\n",
       "  \"num_hidden_layers\": 12,\n",
       "  \"pad_token_id\": 0,\n",
       "  \"position_embedding_type\": \"absolute\",\n",
       "  \"transformers_version\": \"4.44.2\",\n",
       "  \"type_vocab_size\": 2,\n",
       "  \"use_cache\": true,\n",
       "  \"vocab_size\": 31102\n",
       "}"
      ]
     },
     "execution_count": 5,
     "metadata": {},
     "output_type": "execute_result"
    }
   ],
   "execution_count": 5
  },
  {
   "metadata": {
    "ExecuteTime": {
     "end_time": "2024-09-24T02:34:25.265904Z",
     "start_time": "2024-09-24T02:34:25.252713Z"
    }
   },
   "cell_type": "code",
   "source": "tokenizer.tokenize(corpus.annotation.iloc[0])",
   "id": "adf6def57c643f85",
   "outputs": [
    {
     "data": {
      "text/plain": [
       "['_',\n",
       " '_',\n",
       " 'on',\n",
       " '_',\n",
       " '_',\n",
       " 'lieb',\n",
       " 'zuschauer',\n",
       " 'abend',\n",
       " 'winter',\n",
       " 'gestern',\n",
       " 'loc',\n",
       " '-',\n",
       " 'nord',\n",
       " 'schottland',\n",
       " 'loc',\n",
       " '-',\n",
       " 'region',\n",
       " 'ueber',\n",
       " '##schwe',\n",
       " '##mm',\n",
       " '##ung',\n",
       " 'amerika',\n",
       " 'ix']"
      ]
     },
     "execution_count": 6,
     "metadata": {},
     "output_type": "execute_result"
    }
   ],
   "execution_count": 6
  },
  {
   "metadata": {
    "ExecuteTime": {
     "end_time": "2024-09-24T02:34:25.299911Z",
     "start_time": "2024-09-24T02:34:25.289922Z"
    }
   },
   "cell_type": "code",
   "source": [
    "encoded = tokenizer.encode(corpus.annotation.iloc[0], truncation=True, padding=True, return_tensors='pt')\n",
    "encoded"
   ],
   "id": "dc5a8da00efa4c11",
   "outputs": [
    {
     "data": {
      "text/plain": [
       "tensor([[  102,  2002,  2002,   861,  2002,  2002,  6930,  6090,  2964,  2827,\n",
       "          6346,  6039,   223,  1230, 15394,  6039,   223,  1391, 23729, 13049,\n",
       "          1463,   140,  8491, 18676,   103]])"
      ]
     },
     "execution_count": 7,
     "metadata": {},
     "output_type": "execute_result"
    }
   ],
   "execution_count": 7
  },
  {
   "metadata": {
    "ExecuteTime": {
     "end_time": "2024-09-24T02:34:25.365503Z",
     "start_time": "2024-09-24T02:34:25.341649Z"
    }
   },
   "cell_type": "code",
   "source": [
    "embedding = model(encoded).last_hidden_state\n",
    "embedding"
   ],
   "id": "7897a8976461d455",
   "outputs": [
    {
     "data": {
      "text/plain": [
       "tensor([[[ 0.4376,  0.2374,  0.8281,  ...,  0.6385, -0.7208,  0.6743],\n",
       "         [ 0.7768,  0.4676,  1.3692,  ...,  0.4491, -1.0921,  0.2547],\n",
       "         [ 0.5351,  1.3192,  1.1783,  ..., -0.1320, -0.4861, -0.2992],\n",
       "         ...,\n",
       "         [ 0.7865,  1.0695, -0.0125,  ...,  0.6793, -0.7288, -0.0735],\n",
       "         [ 0.1505,  0.5297,  0.6863,  ...,  0.5957, -1.0238, -0.3550],\n",
       "         [ 0.8503,  0.5040,  0.7816,  ...,  0.3721, -0.6425,  0.0720]]],\n",
       "       grad_fn=<NativeLayerNormBackward0>)"
      ]
     },
     "execution_count": 8,
     "metadata": {},
     "output_type": "execute_result"
    }
   ],
   "execution_count": 8
  },
  {
   "metadata": {
    "ExecuteTime": {
     "end_time": "2024-09-24T02:34:25.477301Z",
     "start_time": "2024-09-24T02:34:25.381154Z"
    }
   },
   "cell_type": "code",
   "source": [
    "# 直方图查看特性分布\n",
    "plt.hist(embedding.detach().numpy().flatten(), bins=100, alpha=0.7)\n",
    "plt.title('Embedding Data Distribution')\n",
    "plt.xlabel('Value')\n",
    "plt.ylabel('Frequency')\n",
    "plt.show()\n"
   ],
   "id": "2a446cfad6ec4e83",
   "outputs": [
    {
     "data": {
      "text/plain": [
       "<Figure size 640x480 with 1 Axes>"
      ],
      "image/png": "[encoded data removed]"
     },
     "metadata": {},
     "output_type": "display_data"
    }
   ],
   "execution_count": 9
  },
  {
   "metadata": {
    "ExecuteTime": {
     "end_time": "2024-09-24T02:34:25.568129Z",
     "start_time": "2024-09-24T02:34:25.565369Z"
    }
   },
   "cell_type": "code",
   "source": [
    "mean = np.mean(embedding.detach().numpy())\n",
    "std = np.std(embedding.detach().numpy())\n",
    "min_val = np.min(embedding.detach().numpy())\n",
    "max_val = np.max(embedding.detach().numpy())\n",
    "\n",
    "print(f'Mean: {mean}, Standard Deviation: {std}')\n",
    "print(f'Minimum: {min_val}, Maximum: {max_val}')\n"
   ],
   "id": "9896b35f6a3755a3",
   "outputs": [
    {
     "name": "stdout",
     "output_type": "stream",
     "text": [
      "Mean: -0.0018152872798964381, Standard Deviation: 0.8101853728294373\n",
      "Minimum: -13.198883056640625, Maximum: 9.294820785522461\n"
     ]
    }
   ],
   "execution_count": 10
  },
  {
   "metadata": {
    "ExecuteTime": {
     "end_time": "2024-09-24T02:34:25.708635Z",
     "start_time": "2024-09-24T02:34:25.703700Z"
    }
   },
   "cell_type": "code",
   "source": "",
   "id": "ac12c2565e0db144",
   "outputs": [],
   "execution_count": null
  },
  {
   "metadata": {
    "ExecuteTime": {
     "end_time": "2024-09-24T02:34:25.812919Z",
     "start_time": "2024-09-24T02:34:25.808146Z"
    }
   },
   "cell_type": "code",
   "source": "",
   "id": "d48f2ac88dcfdff5",
   "outputs": [],
   "execution_count": null
  },
  {
   "metadata": {
    "ExecuteTime": {
     "end_time": "2024-09-24T02:34:25.931943Z",
     "start_time": "2024-09-24T02:34:25.926808Z"
    }
   },
   "cell_type": "code",
   "source": "",
   "id": "b4089a85ad144dc2",
   "outputs": [],
   "execution_count": null
  }
 ],
 "metadata": {
  "kernelspec": {
   "display_name": "Python 3",
   "language": "python",
   "name": "python3"
  },
  "language_info": {
   "codemirror_mode": {
    "name": "ipython",
    "version": 2
   },
   "file_extension": ".py",
   "mimetype": "text/x-python",
   "name": "python",
   "nbconvert_exporter": "python",
   "pygments_lexer": "ipython2",
   "version": "2.7.6"
  }
 },
 "nbformat": 4,
 "nbformat_minor": 5
}
