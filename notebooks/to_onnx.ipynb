{
 "cells": [
  {
   "cell_type": "code",
   "id": "initial_id",
   "metadata": {
    "collapsed": true,
    "ExecuteTime": {
     "end_time": "2024-09-04T07:33:27.423778Z",
     "start_time": "2024-09-04T07:33:27.299082Z"
    }
   },
   "source": "! pwd",
   "outputs": [
    {
     "name": "stdout",
     "output_type": "stream",
     "text": [
      "/new_home/xzj23/workspace/SLR/notebooks\r\n"
     ]
    }
   ],
   "execution_count": 1
  },
  {
   "metadata": {
    "ExecuteTime": {
     "end_time": "2024-09-04T07:43:40.788499Z",
     "start_time": "2024-09-04T07:43:40.718788Z"
    }
   },
   "cell_type": "code",
   "source": [
    "import os\n",
    "import torch\n",
    "from src.model import SLRModel\n",
    "from src.main import setup_model"
   ],
   "id": "52dbf167453bc87a",
   "outputs": [],
   "execution_count": 6
  },
  {
   "metadata": {
    "ExecuteTime": {
     "end_time": "2024-09-04T07:43:40.968767Z",
     "start_time": "2024-09-04T07:43:40.908345Z"
    }
   },
   "cell_type": "code",
   "source": [
    "\n",
    "\n",
    "\n",
    "model = setup_model(\n",
    "    save_dir='./.tmp',\n",
    "    gloss_dict=None,\n",
    "    dataset_name=None,\n",
    "    ground_truth_path=None,\n",
    "    model_cfg=None\n",
    ")\n",
    "model"
   ],
   "id": "65b105354ca13dd9",
   "outputs": [
    {
     "ename": "AttributeError",
     "evalue": "'NoneType' object has no attribute 'get'",
     "output_type": "error",
     "traceback": [
      "\u001B[0;31m---------------------------------------------------------------------------\u001B[0m",
      "\u001B[0;31mAttributeError\u001B[0m                            Traceback (most recent call last)",
      "Cell \u001B[0;32mIn[7], line 1\u001B[0m\n\u001B[0;32m----> 1\u001B[0m model \u001B[38;5;241m=\u001B[39m \u001B[43msetup_model\u001B[49m\u001B[43m(\u001B[49m\n\u001B[1;32m      2\u001B[0m \u001B[43m    \u001B[49m\u001B[43msave_dir\u001B[49m\u001B[38;5;241;43m=\u001B[39;49m\u001B[38;5;124;43m'\u001B[39;49m\u001B[38;5;124;43m./.tmp\u001B[39;49m\u001B[38;5;124;43m'\u001B[39;49m\u001B[43m,\u001B[49m\n\u001B[1;32m      3\u001B[0m \u001B[43m    \u001B[49m\u001B[43mgloss_dict\u001B[49m\u001B[38;5;241;43m=\u001B[39;49m\u001B[38;5;28;43;01mNone\u001B[39;49;00m\u001B[43m,\u001B[49m\n\u001B[1;32m      4\u001B[0m \u001B[43m    \u001B[49m\u001B[43mdataset_name\u001B[49m\u001B[38;5;241;43m=\u001B[39;49m\u001B[38;5;28;43;01mNone\u001B[39;49;00m\u001B[43m,\u001B[49m\n\u001B[1;32m      5\u001B[0m \u001B[43m    \u001B[49m\u001B[43mground_truth_path\u001B[49m\u001B[38;5;241;43m=\u001B[39;49m\u001B[38;5;28;43;01mNone\u001B[39;49;00m\u001B[43m,\u001B[49m\n\u001B[1;32m      6\u001B[0m \u001B[43m    \u001B[49m\u001B[43mmodel_cfg\u001B[49m\u001B[38;5;241;43m=\u001B[39;49m\u001B[38;5;28;43;01mNone\u001B[39;49;00m\n\u001B[1;32m      7\u001B[0m \u001B[43m)\u001B[49m\n\u001B[1;32m      8\u001B[0m model\n",
      "File \u001B[0;32m~/workspace/SLR/src/main.py:186\u001B[0m, in \u001B[0;36msetup_model\u001B[0;34m(save_dir, gloss_dict, dataset_name, ground_truth_path, model_cfg)\u001B[0m\n\u001B[1;32m    180\u001B[0m os\u001B[38;5;241m.\u001B[39mmakedirs(save_path, exist_ok\u001B[38;5;241m=\u001B[39m\u001B[38;5;28;01mTrue\u001B[39;00m)\n\u001B[1;32m    182\u001B[0m \u001B[38;5;66;03m# 构造模型\u001B[39;00m\n\u001B[1;32m    183\u001B[0m model \u001B[38;5;241m=\u001B[39m SLRModel(\n\u001B[1;32m    184\u001B[0m     \u001B[38;5;66;03m# for common\u001B[39;00m\n\u001B[1;32m    185\u001B[0m     save_path\u001B[38;5;241m=\u001B[39msave_path,  \u001B[38;5;66;03m# wer保存路径\u001B[39;00m\n\u001B[0;32m--> 186\u001B[0m     test_param\u001B[38;5;241m=\u001B[39m\u001B[43mmodel_cfg\u001B[49m\u001B[38;5;241;43m.\u001B[39;49m\u001B[43mget\u001B[49m(\u001B[38;5;124m'\u001B[39m\u001B[38;5;124mtest_param\u001B[39m\u001B[38;5;124m'\u001B[39m, \u001B[38;5;28;01mFalse\u001B[39;00m),  \u001B[38;5;66;03m# 是否测试参数\u001B[39;00m\n\u001B[1;32m    187\u001B[0m \n\u001B[1;32m    188\u001B[0m     \u001B[38;5;66;03m# for network\u001B[39;00m\n\u001B[1;32m    189\u001B[0m     num_classes\u001B[38;5;241m=\u001B[39mmodel_cfg\u001B[38;5;241m.\u001B[39mget(\u001B[38;5;124m'\u001B[39m\u001B[38;5;124mnum_classes\u001B[39m\u001B[38;5;124m'\u001B[39m, \u001B[38;5;241m-\u001B[39m\u001B[38;5;241m1\u001B[39m),  \u001B[38;5;66;03m# 分类数\u001B[39;00m\n\u001B[1;32m    190\u001B[0m     conv_type\u001B[38;5;241m=\u001B[39mmodel_cfg\u001B[38;5;241m.\u001B[39mget(\u001B[38;5;124m'\u001B[39m\u001B[38;5;124mconv_type\u001B[39m\u001B[38;5;124m'\u001B[39m, \u001B[38;5;241m2\u001B[39m),  \u001B[38;5;66;03m# 卷积类型\u001B[39;00m\n\u001B[1;32m    191\u001B[0m     use_bn\u001B[38;5;241m=\u001B[39mmodel_cfg\u001B[38;5;241m.\u001B[39mget(\u001B[38;5;124m'\u001B[39m\u001B[38;5;124muse_bn\u001B[39m\u001B[38;5;124m'\u001B[39m, \u001B[38;5;28;01mFalse\u001B[39;00m),  \u001B[38;5;66;03m# 不使用批量归一化\u001B[39;00m\n\u001B[1;32m    192\u001B[0m     hidden_size\u001B[38;5;241m=\u001B[39mmodel_cfg\u001B[38;5;241m.\u001B[39mget(\u001B[38;5;124m'\u001B[39m\u001B[38;5;124mhidden_size\u001B[39m\u001B[38;5;124m'\u001B[39m, \u001B[38;5;241m1024\u001B[39m),  \u001B[38;5;66;03m# 隐藏层大小\u001B[39;00m\n\u001B[1;32m    193\u001B[0m     share_classifier\u001B[38;5;241m=\u001B[39mmodel_cfg\u001B[38;5;241m.\u001B[39mget(\u001B[38;5;124m'\u001B[39m\u001B[38;5;124mshare_classifier\u001B[39m\u001B[38;5;124m'\u001B[39m, \u001B[38;5;28;01mFalse\u001B[39;00m),\n\u001B[1;32m    194\u001B[0m \n\u001B[1;32m    195\u001B[0m     \u001B[38;5;66;03m# for decoder\u001B[39;00m\n\u001B[1;32m    196\u001B[0m     gloss_dict\u001B[38;5;241m=\u001B[39mgloss_dict,  \u001B[38;5;66;03m# 标签字典\u001B[39;00m\n\u001B[1;32m    197\u001B[0m \n\u001B[1;32m    198\u001B[0m     \u001B[38;5;66;03m# for optimizer and lr_scheduler\u001B[39;00m\n\u001B[1;32m    199\u001B[0m     lr\u001B[38;5;241m=\u001B[39mmodel_cfg\u001B[38;5;241m.\u001B[39mget(\u001B[38;5;124m'\u001B[39m\u001B[38;5;124mlr\u001B[39m\u001B[38;5;124m'\u001B[39m, \u001B[38;5;241m0.0001\u001B[39m),  \u001B[38;5;66;03m# 学习率，默认值0.0001\u001B[39;00m\n\u001B[1;32m    200\u001B[0m     weight_norm\u001B[38;5;241m=\u001B[39mmodel_cfg\u001B[38;5;241m.\u001B[39mget(\u001B[38;5;124m'\u001B[39m\u001B[38;5;124mweight_norm\u001B[39m\u001B[38;5;124m'\u001B[39m, \u001B[38;5;28;01mTrue\u001B[39;00m),  \u001B[38;5;66;03m# 是否使用权重归一化\u001B[39;00m\n\u001B[1;32m    201\u001B[0m     weight_decay\u001B[38;5;241m=\u001B[39mmodel_cfg\u001B[38;5;241m.\u001B[39mget(\u001B[38;5;124m'\u001B[39m\u001B[38;5;124mweight_decay\u001B[39m\u001B[38;5;124m'\u001B[39m, \u001B[38;5;241m0.0001\u001B[39m),  \u001B[38;5;66;03m# 权重衰减，默认值0.0001\u001B[39;00m\n\u001B[1;32m    202\u001B[0m     lr_scheduler_milestones\u001B[38;5;241m=\u001B[39mmodel_cfg\u001B[38;5;241m.\u001B[39mget(\u001B[38;5;124m'\u001B[39m\u001B[38;5;124mlr_scheduler_milestones\u001B[39m\u001B[38;5;124m'\u001B[39m, \u001B[38;5;28;01mNone\u001B[39;00m),  \u001B[38;5;66;03m# 学习率调度的里程碑，默认为空列表\u001B[39;00m\n\u001B[1;32m    203\u001B[0m     lr_scheduler_gamma\u001B[38;5;241m=\u001B[39mmodel_cfg\u001B[38;5;241m.\u001B[39mget(\u001B[38;5;124m'\u001B[39m\u001B[38;5;124mlr_scheduler_gamma\u001B[39m\u001B[38;5;124m'\u001B[39m, \u001B[38;5;241m0.2\u001B[39m),  \u001B[38;5;66;03m# 学习率调度的因子\u001B[39;00m\n\u001B[1;32m    204\u001B[0m     last_epoch\u001B[38;5;241m=\u001B[39mmodel_cfg\u001B[38;5;241m.\u001B[39mget(\u001B[38;5;124m'\u001B[39m\u001B[38;5;124mlast_epoch\u001B[39m\u001B[38;5;124m'\u001B[39m, \u001B[38;5;241m-\u001B[39m\u001B[38;5;241m1\u001B[39m),  \u001B[38;5;66;03m# 上一个训练周期\u001B[39;00m\n\u001B[1;32m    205\u001B[0m \n\u001B[1;32m    206\u001B[0m     \u001B[38;5;66;03m# for evaluation\u001B[39;00m\n\u001B[1;32m    207\u001B[0m     dataset_name\u001B[38;5;241m=\u001B[39mdataset_name,  \u001B[38;5;66;03m# 数据集名称\u001B[39;00m\n\u001B[1;32m    208\u001B[0m     evaluation_sh_path\u001B[38;5;241m=\u001B[39mos\u001B[38;5;241m.\u001B[39mpath\u001B[38;5;241m.\u001B[39mabspath(model_cfg\u001B[38;5;241m.\u001B[39mget(\u001B[38;5;124m'\u001B[39m\u001B[38;5;124mevaluation_sh_path\u001B[39m\u001B[38;5;124m'\u001B[39m)),  \u001B[38;5;66;03m# 评估脚本路径\u001B[39;00m\n\u001B[1;32m    209\u001B[0m     ground_truth_path\u001B[38;5;241m=\u001B[39mground_truth_path,  \u001B[38;5;66;03m# 真实标签路径\u001B[39;00m\n\u001B[1;32m    210\u001B[0m     evaluation_sclite_path\u001B[38;5;241m=\u001B[39mos\u001B[38;5;241m.\u001B[39mpath\u001B[38;5;241m.\u001B[39mabspath(model_cfg\u001B[38;5;241m.\u001B[39mget(\u001B[38;5;124m'\u001B[39m\u001B[38;5;124mevaluation_sclite_path\u001B[39m\u001B[38;5;124m'\u001B[39m)),  \u001B[38;5;66;03m# sclite评估工具路径\u001B[39;00m\n\u001B[1;32m    211\u001B[0m     remove_eval_tmp_file\u001B[38;5;241m=\u001B[39mmodel_cfg\u001B[38;5;241m.\u001B[39mget(\u001B[38;5;124m'\u001B[39m\u001B[38;5;124mremove_eval_tmp_file\u001B[39m\u001B[38;5;124m'\u001B[39m)\n\u001B[1;32m    212\u001B[0m )\n\u001B[1;32m    213\u001B[0m \u001B[38;5;28;01mreturn\u001B[39;00m model\n",
      "\u001B[0;31mAttributeError\u001B[0m: 'NoneType' object has no attribute 'get'"
     ]
    }
   ],
   "execution_count": 7
  },
  {
   "metadata": {},
   "cell_type": "code",
   "outputs": [],
   "execution_count": null,
   "source": "",
   "id": "934d944aeb8c6884"
  }
 ],
 "metadata": {
  "kernelspec": {
   "display_name": "Python 3",
   "language": "python",
   "name": "python3"
  },
  "language_info": {
   "codemirror_mode": {
    "name": "ipython",
    "version": 2
   },
   "file_extension": ".py",
   "mimetype": "text/x-python",
   "name": "python",
   "nbconvert_exporter": "python",
   "pygments_lexer": "ipython2",
   "version": "2.7.6"
  }
 },
 "nbformat": 4,
 "nbformat_minor": 5
}
