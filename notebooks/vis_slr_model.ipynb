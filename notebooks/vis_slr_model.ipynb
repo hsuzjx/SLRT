{
 "cells": [
  {
   "cell_type": "code",
   "id": "initial_id",
   "metadata": {
    "collapsed": true,
    "ExecuteTime": {
     "end_time": "2024-09-04T07:30:05.870911Z",
     "start_time": "2024-09-04T07:30:05.759937Z"
    }
   },
   "source": "! pwd",
   "outputs": [
    {
     "name": "stdout",
     "output_type": "stream",
     "text": [
      "/new_home/xzj23/workspace/SLR/notebooks\r\n"
     ]
    }
   ],
   "execution_count": 1
  },
  {
   "metadata": {
    "ExecuteTime": {
     "end_time": "2024-09-04T07:30:06.338029Z",
     "start_time": "2024-09-04T07:30:05.885230Z"
    }
   },
   "cell_type": "code",
   "source": [
    "import os\n",
    "import torch"
   ],
   "id": "4e94271572a8e65e",
   "outputs": [],
   "execution_count": 2
  },
  {
   "metadata": {
    "ExecuteTime": {
     "end_time": "2024-09-04T07:30:06.572064Z",
     "start_time": "2024-09-04T07:30:06.570389Z"
    }
   },
   "cell_type": "code",
   "source": "checkpoints = '/new_home/xzj23/workspace/SLR/experiments/Phoenix2014/experiment_t8/2024-08-27_21-34-59/checkpoints/epoch=34-step=99225.ckpt'",
   "id": "9ee20d30ff105c1a",
   "outputs": [],
   "execution_count": 3
  },
  {
   "metadata": {
    "ExecuteTime": {
     "end_time": "2024-09-04T07:30:07.371847Z",
     "start_time": "2024-09-04T07:30:06.631155Z"
    }
   },
   "cell_type": "code",
   "source": "model = torch.load(checkpoints)",
   "id": "9f93b7d6cfa40c9d",
   "outputs": [],
   "execution_count": 4
  },
  {
   "metadata": {
    "ExecuteTime": {
     "end_time": "2024-09-04T07:30:07.455877Z",
     "start_time": "2024-09-04T07:30:07.441979Z"
    }
   },
   "cell_type": "code",
   "source": "type(model)",
   "id": "fde17055924f0de3",
   "outputs": [
    {
     "data": {
      "text/plain": [
       "dict"
      ]
     },
     "execution_count": 5,
     "metadata": {},
     "output_type": "execute_result"
    }
   ],
   "execution_count": 5
  },
  {
   "metadata": {
    "ExecuteTime": {
     "end_time": "2024-09-04T07:30:07.552415Z",
     "start_time": "2024-09-04T07:30:07.544175Z"
    }
   },
   "cell_type": "code",
   "source": "model.keys()",
   "id": "9e7f38a1d3f7fd9b",
   "outputs": [
    {
     "data": {
      "text/plain": [
       "dict_keys(['epoch', 'global_step', 'pytorch-lightning_version', 'state_dict', 'loops', 'callbacks', 'optimizer_states', 'lr_schedulers', 'MixedPrecisionPlugin', 'hparams_name', 'hyper_parameters'])"
      ]
     },
     "execution_count": 6,
     "metadata": {},
     "output_type": "execute_result"
    }
   ],
   "execution_count": 6
  },
  {
   "metadata": {
    "ExecuteTime": {
     "end_time": "2024-09-04T07:30:07.633469Z",
     "start_time": "2024-09-04T07:30:07.625500Z"
    }
   },
   "cell_type": "code",
   "source": [
    "state_dict = model['state_dict']\n",
    "\n",
    "type(state_dict)"
   ],
   "id": "7909fd6594129f",
   "outputs": [
    {
     "data": {
      "text/plain": [
       "collections.OrderedDict"
      ]
     },
     "execution_count": 7,
     "metadata": {},
     "output_type": "execute_result"
    }
   ],
   "execution_count": 7
  },
  {
   "metadata": {
    "ExecuteTime": {
     "end_time": "2024-09-04T07:30:07.713065Z",
     "start_time": "2024-09-04T07:30:07.711208Z"
    }
   },
   "cell_type": "code",
   "source": [
    "print('# number of keys:', len(state_dict))\n",
    "for key in state_dict.keys():\n",
    "    print(key)"
   ],
   "id": "23d133f7cbd47a21",
   "outputs": [
    {
     "name": "stdout",
     "output_type": "stream",
     "text": [
      "# number of keys: 186\n",
      "conv2d.alpha\n",
      "conv2d.conv1.weight\n",
      "conv2d.bn1.weight\n",
      "conv2d.bn1.bias\n",
      "conv2d.bn1.running_mean\n",
      "conv2d.bn1.running_var\n",
      "conv2d.bn1.num_batches_tracked\n",
      "conv2d.layer1.0.conv1.weight\n",
      "conv2d.layer1.0.bn1.weight\n",
      "conv2d.layer1.0.bn1.bias\n",
      "conv2d.layer1.0.bn1.running_mean\n",
      "conv2d.layer1.0.bn1.running_var\n",
      "conv2d.layer1.0.bn1.num_batches_tracked\n",
      "conv2d.layer1.0.conv2.weight\n",
      "conv2d.layer1.0.bn2.weight\n",
      "conv2d.layer1.0.bn2.bias\n",
      "conv2d.layer1.0.bn2.running_mean\n",
      "conv2d.layer1.0.bn2.running_var\n",
      "conv2d.layer1.0.bn2.num_batches_tracked\n",
      "conv2d.layer1.1.conv1.weight\n",
      "conv2d.layer1.1.bn1.weight\n",
      "conv2d.layer1.1.bn1.bias\n",
      "conv2d.layer1.1.bn1.running_mean\n",
      "conv2d.layer1.1.bn1.running_var\n",
      "conv2d.layer1.1.bn1.num_batches_tracked\n",
      "conv2d.layer1.1.conv2.weight\n",
      "conv2d.layer1.1.bn2.weight\n",
      "conv2d.layer1.1.bn2.bias\n",
      "conv2d.layer1.1.bn2.running_mean\n",
      "conv2d.layer1.1.bn2.running_var\n",
      "conv2d.layer1.1.bn2.num_batches_tracked\n",
      "conv2d.layer2.0.conv1.weight\n",
      "conv2d.layer2.0.bn1.weight\n",
      "conv2d.layer2.0.bn1.bias\n",
      "conv2d.layer2.0.bn1.running_mean\n",
      "conv2d.layer2.0.bn1.running_var\n",
      "conv2d.layer2.0.bn1.num_batches_tracked\n",
      "conv2d.layer2.0.conv2.weight\n",
      "conv2d.layer2.0.bn2.weight\n",
      "conv2d.layer2.0.bn2.bias\n",
      "conv2d.layer2.0.bn2.running_mean\n",
      "conv2d.layer2.0.bn2.running_var\n",
      "conv2d.layer2.0.bn2.num_batches_tracked\n",
      "conv2d.layer2.0.downsample.0.weight\n",
      "conv2d.layer2.0.downsample.1.weight\n",
      "conv2d.layer2.0.downsample.1.bias\n",
      "conv2d.layer2.0.downsample.1.running_mean\n",
      "conv2d.layer2.0.downsample.1.running_var\n",
      "conv2d.layer2.0.downsample.1.num_batches_tracked\n",
      "conv2d.layer2.1.conv1.weight\n",
      "conv2d.layer2.1.bn1.weight\n",
      "conv2d.layer2.1.bn1.bias\n",
      "conv2d.layer2.1.bn1.running_mean\n",
      "conv2d.layer2.1.bn1.running_var\n",
      "conv2d.layer2.1.bn1.num_batches_tracked\n",
      "conv2d.layer2.1.conv2.weight\n",
      "conv2d.layer2.1.bn2.weight\n",
      "conv2d.layer2.1.bn2.bias\n",
      "conv2d.layer2.1.bn2.running_mean\n",
      "conv2d.layer2.1.bn2.running_var\n",
      "conv2d.layer2.1.bn2.num_batches_tracked\n",
      "conv2d.corr1.weights\n",
      "conv2d.corr1.weights2\n",
      "conv2d.corr1.down_conv.weight\n",
      "conv2d.corr1.down_conv2.weight\n",
      "conv2d.corr1.spatial_aggregation1.weight\n",
      "conv2d.corr1.spatial_aggregation1.bias\n",
      "conv2d.corr1.spatial_aggregation2.weight\n",
      "conv2d.corr1.spatial_aggregation2.bias\n",
      "conv2d.corr1.spatial_aggregation3.weight\n",
      "conv2d.corr1.spatial_aggregation3.bias\n",
      "conv2d.corr1.conv_back.weight\n",
      "conv2d.layer3.0.conv1.weight\n",
      "conv2d.layer3.0.bn1.weight\n",
      "conv2d.layer3.0.bn1.bias\n",
      "conv2d.layer3.0.bn1.running_mean\n",
      "conv2d.layer3.0.bn1.running_var\n",
      "conv2d.layer3.0.bn1.num_batches_tracked\n",
      "conv2d.layer3.0.conv2.weight\n",
      "conv2d.layer3.0.bn2.weight\n",
      "conv2d.layer3.0.bn2.bias\n",
      "conv2d.layer3.0.bn2.running_mean\n",
      "conv2d.layer3.0.bn2.running_var\n",
      "conv2d.layer3.0.bn2.num_batches_tracked\n",
      "conv2d.layer3.0.downsample.0.weight\n",
      "conv2d.layer3.0.downsample.1.weight\n",
      "conv2d.layer3.0.downsample.1.bias\n",
      "conv2d.layer3.0.downsample.1.running_mean\n",
      "conv2d.layer3.0.downsample.1.running_var\n",
      "conv2d.layer3.0.downsample.1.num_batches_tracked\n",
      "conv2d.layer3.1.conv1.weight\n",
      "conv2d.layer3.1.bn1.weight\n",
      "conv2d.layer3.1.bn1.bias\n",
      "conv2d.layer3.1.bn1.running_mean\n",
      "conv2d.layer3.1.bn1.running_var\n",
      "conv2d.layer3.1.bn1.num_batches_tracked\n",
      "conv2d.layer3.1.conv2.weight\n",
      "conv2d.layer3.1.bn2.weight\n",
      "conv2d.layer3.1.bn2.bias\n",
      "conv2d.layer3.1.bn2.running_mean\n",
      "conv2d.layer3.1.bn2.running_var\n",
      "conv2d.layer3.1.bn2.num_batches_tracked\n",
      "conv2d.corr2.weights\n",
      "conv2d.corr2.weights2\n",
      "conv2d.corr2.down_conv.weight\n",
      "conv2d.corr2.down_conv2.weight\n",
      "conv2d.corr2.spatial_aggregation1.weight\n",
      "conv2d.corr2.spatial_aggregation1.bias\n",
      "conv2d.corr2.spatial_aggregation2.weight\n",
      "conv2d.corr2.spatial_aggregation2.bias\n",
      "conv2d.corr2.spatial_aggregation3.weight\n",
      "conv2d.corr2.spatial_aggregation3.bias\n",
      "conv2d.corr2.conv_back.weight\n",
      "conv2d.layer4.0.conv1.weight\n",
      "conv2d.layer4.0.bn1.weight\n",
      "conv2d.layer4.0.bn1.bias\n",
      "conv2d.layer4.0.bn1.running_mean\n",
      "conv2d.layer4.0.bn1.running_var\n",
      "conv2d.layer4.0.bn1.num_batches_tracked\n",
      "conv2d.layer4.0.conv2.weight\n",
      "conv2d.layer4.0.bn2.weight\n",
      "conv2d.layer4.0.bn2.bias\n",
      "conv2d.layer4.0.bn2.running_mean\n",
      "conv2d.layer4.0.bn2.running_var\n",
      "conv2d.layer4.0.bn2.num_batches_tracked\n",
      "conv2d.layer4.0.downsample.0.weight\n",
      "conv2d.layer4.0.downsample.1.weight\n",
      "conv2d.layer4.0.downsample.1.bias\n",
      "conv2d.layer4.0.downsample.1.running_mean\n",
      "conv2d.layer4.0.downsample.1.running_var\n",
      "conv2d.layer4.0.downsample.1.num_batches_tracked\n",
      "conv2d.layer4.1.conv1.weight\n",
      "conv2d.layer4.1.bn1.weight\n",
      "conv2d.layer4.1.bn1.bias\n",
      "conv2d.layer4.1.bn1.running_mean\n",
      "conv2d.layer4.1.bn1.running_var\n",
      "conv2d.layer4.1.bn1.num_batches_tracked\n",
      "conv2d.layer4.1.conv2.weight\n",
      "conv2d.layer4.1.bn2.weight\n",
      "conv2d.layer4.1.bn2.bias\n",
      "conv2d.layer4.1.bn2.running_mean\n",
      "conv2d.layer4.1.bn2.running_var\n",
      "conv2d.layer4.1.bn2.num_batches_tracked\n",
      "conv2d.corr3.weights\n",
      "conv2d.corr3.weights2\n",
      "conv2d.corr3.down_conv.weight\n",
      "conv2d.corr3.down_conv2.weight\n",
      "conv2d.corr3.spatial_aggregation1.weight\n",
      "conv2d.corr3.spatial_aggregation1.bias\n",
      "conv2d.corr3.spatial_aggregation2.weight\n",
      "conv2d.corr3.spatial_aggregation2.bias\n",
      "conv2d.corr3.spatial_aggregation3.weight\n",
      "conv2d.corr3.spatial_aggregation3.bias\n",
      "conv2d.corr3.conv_back.weight\n",
      "conv1d.temporal_conv.0.weight\n",
      "conv1d.temporal_conv.0.bias\n",
      "conv1d.temporal_conv.1.weight\n",
      "conv1d.temporal_conv.1.bias\n",
      "conv1d.temporal_conv.1.running_mean\n",
      "conv1d.temporal_conv.1.running_var\n",
      "conv1d.temporal_conv.1.num_batches_tracked\n",
      "conv1d.temporal_conv.4.weight\n",
      "conv1d.temporal_conv.4.bias\n",
      "conv1d.temporal_conv.5.weight\n",
      "conv1d.temporal_conv.5.bias\n",
      "conv1d.temporal_conv.5.running_mean\n",
      "conv1d.temporal_conv.5.running_var\n",
      "conv1d.temporal_conv.5.num_batches_tracked\n",
      "conv1d.fc.weight\n",
      "temporal_model.rnn.weight_ih_l0\n",
      "temporal_model.rnn.weight_hh_l0\n",
      "temporal_model.rnn.bias_ih_l0\n",
      "temporal_model.rnn.bias_hh_l0\n",
      "temporal_model.rnn.weight_ih_l0_reverse\n",
      "temporal_model.rnn.weight_hh_l0_reverse\n",
      "temporal_model.rnn.bias_ih_l0_reverse\n",
      "temporal_model.rnn.bias_hh_l0_reverse\n",
      "temporal_model.rnn.weight_ih_l1\n",
      "temporal_model.rnn.weight_hh_l1\n",
      "temporal_model.rnn.bias_ih_l1\n",
      "temporal_model.rnn.bias_hh_l1\n",
      "temporal_model.rnn.weight_ih_l1_reverse\n",
      "temporal_model.rnn.weight_hh_l1_reverse\n",
      "temporal_model.rnn.bias_ih_l1_reverse\n",
      "temporal_model.rnn.bias_hh_l1_reverse\n",
      "classifier.weight\n"
     ]
    }
   ],
   "execution_count": 8
  },
  {
   "metadata": {
    "ExecuteTime": {
     "end_time": "2024-09-04T07:31:03.870984Z",
     "start_time": "2024-09-04T07:31:03.864078Z"
    }
   },
   "cell_type": "code",
   "source": "model['loops']",
   "id": "1f84dbbced1ce168",
   "outputs": [
    {
     "data": {
      "text/plain": [
       "{'fit_loop': {'state_dict': {},\n",
       "  'epoch_loop.state_dict': {'_batches_that_stepped': 99225},\n",
       "  'epoch_loop.batch_progress': {'total': {'ready': 99225,\n",
       "    'completed': 99225,\n",
       "    'started': 99225,\n",
       "    'processed': 99225},\n",
       "   'current': {'ready': 2835,\n",
       "    'completed': 2835,\n",
       "    'started': 2835,\n",
       "    'processed': 2835},\n",
       "   'is_last_batch': True},\n",
       "  'epoch_loop.scheduler_progress': {'total': {'ready': 35, 'completed': 35},\n",
       "   'current': {'ready': 1, 'completed': 1}},\n",
       "  'epoch_loop.automatic_optimization.state_dict': {},\n",
       "  'epoch_loop.automatic_optimization.optim_progress': {'optimizer': {'step': {'total': {'ready': 99225,\n",
       "      'completed': 99225},\n",
       "     'current': {'ready': 2835, 'completed': 2835}},\n",
       "    'zero_grad': {'total': {'ready': 99225,\n",
       "      'completed': 99225,\n",
       "      'started': 99225},\n",
       "     'current': {'ready': 2835, 'completed': 2835, 'started': 2835}}}},\n",
       "  'epoch_loop.manual_optimization.state_dict': {},\n",
       "  'epoch_loop.manual_optimization.optim_step_progress': {'total': {'ready': 0,\n",
       "    'completed': 0},\n",
       "   'current': {'ready': 0, 'completed': 0}},\n",
       "  'epoch_loop.val_loop.state_dict': {},\n",
       "  'epoch_loop.val_loop.batch_progress': {'total': {'ready': 270,\n",
       "    'completed': 270,\n",
       "    'started': 270,\n",
       "    'processed': 270},\n",
       "   'current': {'ready': 270,\n",
       "    'completed': 270,\n",
       "    'started': 270,\n",
       "    'processed': 270},\n",
       "   'is_last_batch': True},\n",
       "  'epoch_progress': {'total': {'ready': 35,\n",
       "    'completed': 34,\n",
       "    'started': 35,\n",
       "    'processed': 35},\n",
       "   'current': {'ready': 35, 'completed': 34, 'started': 35, 'processed': 35}}},\n",
       " 'validate_loop': {'state_dict': {},\n",
       "  'batch_progress': {'total': {'ready': 0,\n",
       "    'completed': 0,\n",
       "    'started': 0,\n",
       "    'processed': 0},\n",
       "   'current': {'ready': 0, 'completed': 0, 'started': 0, 'processed': 0},\n",
       "   'is_last_batch': False}},\n",
       " 'test_loop': {'state_dict': {},\n",
       "  'batch_progress': {'total': {'ready': 0,\n",
       "    'completed': 0,\n",
       "    'started': 0,\n",
       "    'processed': 0},\n",
       "   'current': {'ready': 0, 'completed': 0, 'started': 0, 'processed': 0},\n",
       "   'is_last_batch': False}},\n",
       " 'predict_loop': {'state_dict': {},\n",
       "  'batch_progress': {'total': {'ready': 0,\n",
       "    'completed': 0,\n",
       "    'started': 0,\n",
       "    'processed': 0},\n",
       "   'current': {'ready': 0, 'completed': 0, 'started': 0, 'processed': 0}}}}"
      ]
     },
     "execution_count": 9,
     "metadata": {},
     "output_type": "execute_result"
    }
   ],
   "execution_count": 9
  },
  {
   "metadata": {},
   "cell_type": "code",
   "outputs": [],
   "execution_count": null,
   "source": "",
   "id": "f24a12461f14dfcc"
  }
 ],
 "metadata": {
  "kernelspec": {
   "display_name": "Python 3",
   "language": "python",
   "name": "python3"
  },
  "language_info": {
   "codemirror_mode": {
    "name": "ipython",
    "version": 2
   },
   "file_extension": ".py",
   "mimetype": "text/x-python",
   "name": "python",
   "nbconvert_exporter": "python",
   "pygments_lexer": "ipython2",
   "version": "2.7.6"
  }
 },
 "nbformat": 4,
 "nbformat_minor": 5
}
