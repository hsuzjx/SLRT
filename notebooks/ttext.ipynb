{
 "cells": [
  {
   "cell_type": "code",
   "id": "initial_id",
   "metadata": {
    "collapsed": true,
    "ExecuteTime": {
     "end_time": "2024-09-14T08:16:04.513711Z",
     "start_time": "2024-09-14T08:16:04.505858Z"
    }
   },
   "source": [
    "from torchtext.data.utils import get_tokenizer\n",
    "from collections import Counter\n",
    "from torchtext.vocab import vocab\n"
   ],
   "outputs": [],
   "execution_count": 16
  },
  {
   "metadata": {
    "ExecuteTime": {
     "end_time": "2024-09-14T08:16:04.696027Z",
     "start_time": "2024-09-14T08:16:04.689326Z"
    }
   },
   "cell_type": "code",
   "source": [
    "texts = [\n",
    "    \"I love programming in Python\",\n",
    "    \"Python is a great language\",\n",
    "    \"Programming is fun\"\n",
    "]\n"
   ],
   "id": "c47876f2fc2399d8",
   "outputs": [],
   "execution_count": 17
  },
  {
   "metadata": {
    "ExecuteTime": {
     "end_time": "2024-09-14T08:16:04.854323Z",
     "start_time": "2024-09-14T08:16:04.846770Z"
    }
   },
   "cell_type": "code",
   "source": [
    "tokenizer = get_tokenizer('basic_english')\n",
    "tokens = [tokenizer(text) for text in texts]\n"
   ],
   "id": "ab3e84877cfeb4f9",
   "outputs": [],
   "execution_count": 18
  },
  {
   "metadata": {
    "ExecuteTime": {
     "end_time": "2024-09-14T08:16:05.026606Z",
     "start_time": "2024-09-14T08:16:05.019053Z"
    }
   },
   "cell_type": "code",
   "source": [
    "counter = Counter()\n",
    "for token_list in tokens:\n",
    "    counter.update(token_list)\n"
   ],
   "id": "2a6b77c4d4f57378",
   "outputs": [],
   "execution_count": 19
  },
  {
   "metadata": {
    "ExecuteTime": {
     "end_time": "2024-09-14T08:16:05.699811Z",
     "start_time": "2024-09-14T08:16:05.690329Z"
    }
   },
   "cell_type": "code",
   "source": "counter",
   "id": "75c97bf58b735dab",
   "outputs": [
    {
     "data": {
      "text/plain": [
       "Counter({'programming': 2,\n",
       "         'python': 2,\n",
       "         'is': 2,\n",
       "         'i': 1,\n",
       "         'love': 1,\n",
       "         'in': 1,\n",
       "         'a': 1,\n",
       "         'great': 1,\n",
       "         'language': 1,\n",
       "         'fun': 1})"
      ]
     },
     "execution_count": 20,
     "metadata": {},
     "output_type": "execute_result"
    }
   ],
   "execution_count": 20
  },
  {
   "metadata": {
    "ExecuteTime": {
     "end_time": "2024-09-14T08:16:06.293212Z",
     "start_time": "2024-09-14T08:16:06.247654Z"
    }
   },
   "cell_type": "code",
   "source": "vocab = vocab(counter, min_freq=1, specials=['<unk>', '<pad>'])\n",
   "id": "e27b0817939270fe",
   "outputs": [],
   "execution_count": 21
  },
  {
   "metadata": {
    "ExecuteTime": {
     "end_time": "2024-09-14T08:16:49.351507Z",
     "start_time": "2024-09-14T08:16:49.341759Z"
    }
   },
   "cell_type": "code",
   "source": [
    "# 查找词汇索引\n",
    "word_index = vocab['python']\n",
    "print(f\"'Python' 的索引为: {word_index}\")\n",
    "\n",
    "# 将词汇列表转换为索引列表\n",
    "text = \"Python is a great language\"\n",
    "tokenized_text = tokenizer(text)\n",
    "indexed_text = [vocab[token] for token in tokenized_text]\n",
    "print(f\"分词后的索引列表: {indexed_text}\")\n"
   ],
   "id": "ba369fdf6793f1ef",
   "outputs": [
    {
     "name": "stdout",
     "output_type": "stream",
     "text": [
      "'Python' 的索引为: 6\n",
      "分词后的索引列表: [6, 7, 8, 9, 10]\n"
     ]
    }
   ],
   "execution_count": 23
  },
  {
   "metadata": {
    "ExecuteTime": {
     "end_time": "2024-09-14T08:11:52.091343Z",
     "start_time": "2024-09-14T08:11:52.069899Z"
    }
   },
   "cell_type": "code",
   "source": [
    "import torch\n",
    "from torchtext.data.utils import get_tokenizer\n",
    "from collections import Counter\n",
    "from torchtext.vocab import vocab\n",
    "from torch.utils.data import Dataset, DataLoader\n",
    "\n",
    "# 定义分词器\n",
    "tokenizer = get_tokenizer('basic_english')\n",
    "\n",
    "# 示例数据\n",
    "texts = [\n",
    "    \"I love programming in Python\",\n",
    "    \"Python is a great language\",\n",
    "    \"Programming is fun\"\n",
    "]\n",
    "labels = [1, 1, 0]  # 假设 1 表示正面评价，0 表示负面评价\n",
    "\n",
    "# 分词并统计词频\n",
    "tokens = [tokenizer(text) for text in texts]\n",
    "counter = Counter()\n",
    "for token_list in tokens:\n",
    "    counter.update(token_list)\n",
    "\n",
    "# 定义词汇表\n",
    "special_tokens = ['<unk>', '<pad>']\n",
    "vocab = Vocab(counter, min_freq=1, specials=special_tokens, special_first=True)\n",
    "\n",
    "# 定义数据集类\n",
    "class TextDataset(Dataset):\n",
    "    def __init__(self, texts, labels, tokenizer, vocab, max_length=10):\n",
    "        self.texts = texts\n",
    "        self.labels = labels\n",
    "        self.tokenizer = tokenizer\n",
    "        self.vocab = vocab\n",
    "        self.max_length = max_length\n",
    "\n",
    "    def __len__(self):\n",
    "        return len(self.texts)\n",
    "\n",
    "    def __getitem__(self, idx):\n",
    "        text = self.texts[idx]\n",
    "        label = self.labels[idx]\n",
    "        \n",
    "        # 分词并转换为索引\n",
    "        tokenized_text = self.tokenizer(text)\n",
    "        indexed_text = [self.vocab[token] if token in self.vocab else self.vocab['<unk>'] for token in tokenized_text]\n",
    "        \n",
    "        # 填充或截断\n",
    "        if len(indexed_text) < self.max_length:\n",
    "            indexed_text += [self.vocab['<pad>']] * (self.max_length - len(indexed_text))\n",
    "        else:\n",
    "            indexed_text = indexed_text[:self.max_length]\n",
    "        \n",
    "        return torch.tensor(indexed_text, dtype=torch.long), torch.tensor(label, dtype=torch.float)\n",
    "\n",
    "# 创建数据集\n",
    "dataset = TextDataset(texts, labels, tokenizer, vocab)\n",
    "\n",
    "# 创建数据加载器\n",
    "batch_size = 2\n",
    "data_loader = DataLoader(dataset, batch_size=batch_size, shuffle=True)\n",
    "\n",
    "# 打印数据集中的一个批次\n",
    "for batch in data_loader:\n",
    "    inputs, targets = batch\n",
    "    print(\"Inputs:\", inputs)\n",
    "    print(\"Targets:\", targets)\n",
    "    break\n",
    "\n",
    "# 打印词汇表\n",
    "print(\"Vocabulary size:\", len(vocab))\n",
    "print(\"Vocabulary:\", vocab)\n"
   ],
   "id": "16b6c86f42f3d6b6",
   "outputs": [
    {
     "ename": "TypeError",
     "evalue": "Vocab.__init__() got an unexpected keyword argument 'min_freq'",
     "output_type": "error",
     "traceback": [
      "\u001B[0;31m---------------------------------------------------------------------------\u001B[0m",
      "\u001B[0;31mTypeError\u001B[0m                                 Traceback (most recent call last)",
      "Cell \u001B[0;32mIn[8], line 26\u001B[0m\n\u001B[1;32m     24\u001B[0m \u001B[38;5;66;03m# 定义词汇表\u001B[39;00m\n\u001B[1;32m     25\u001B[0m special_tokens \u001B[38;5;241m=\u001B[39m [\u001B[38;5;124m'\u001B[39m\u001B[38;5;124m<unk>\u001B[39m\u001B[38;5;124m'\u001B[39m, \u001B[38;5;124m'\u001B[39m\u001B[38;5;124m<pad>\u001B[39m\u001B[38;5;124m'\u001B[39m]\n\u001B[0;32m---> 26\u001B[0m vocab \u001B[38;5;241m=\u001B[39m \u001B[43mVocab\u001B[49m\u001B[43m(\u001B[49m\u001B[43mcounter\u001B[49m\u001B[43m,\u001B[49m\u001B[43m \u001B[49m\u001B[43mmin_freq\u001B[49m\u001B[38;5;241;43m=\u001B[39;49m\u001B[38;5;241;43m1\u001B[39;49m\u001B[43m,\u001B[49m\u001B[43m \u001B[49m\u001B[43mspecials\u001B[49m\u001B[38;5;241;43m=\u001B[39;49m\u001B[43mspecial_tokens\u001B[49m\u001B[43m,\u001B[49m\u001B[43m \u001B[49m\u001B[43mspecial_first\u001B[49m\u001B[38;5;241;43m=\u001B[39;49m\u001B[38;5;28;43;01mTrue\u001B[39;49;00m\u001B[43m)\u001B[49m\n\u001B[1;32m     28\u001B[0m \u001B[38;5;66;03m# 定义数据集类\u001B[39;00m\n\u001B[1;32m     29\u001B[0m \u001B[38;5;28;01mclass\u001B[39;00m \u001B[38;5;21;01mTextDataset\u001B[39;00m(Dataset):\n",
      "\u001B[0;31mTypeError\u001B[0m: Vocab.__init__() got an unexpected keyword argument 'min_freq'"
     ]
    }
   ],
   "execution_count": 8
  },
  {
   "metadata": {},
   "cell_type": "code",
   "outputs": [],
   "execution_count": null,
   "source": "",
   "id": "d0aa1fa02d4aaa70"
  }
 ],
 "metadata": {
  "kernelspec": {
   "display_name": "Python 3",
   "language": "python",
   "name": "python3"
  },
  "language_info": {
   "codemirror_mode": {
    "name": "ipython",
    "version": 2
   },
   "file_extension": ".py",
   "mimetype": "text/x-python",
   "name": "python",
   "nbconvert_exporter": "python",
   "pygments_lexer": "ipython2",
   "version": "2.7.6"
  }
 },
 "nbformat": 4,
 "nbformat_minor": 5
}
