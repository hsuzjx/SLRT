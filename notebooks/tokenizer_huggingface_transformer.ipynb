{
 "cells": [
  {
   "metadata": {
    "ExecuteTime": {
     "end_time": "2024-09-14T08:55:18.683246Z",
     "start_time": "2024-09-14T08:55:18.450920Z"
    }
   },
   "cell_type": "code",
   "source": [
    "! export http_proxy=http://10.12.44.139:7890\n",
    "! export https_proxy=http://10.12.44.139:7890\n"
   ],
   "id": "2607ae8de32ccdef",
   "outputs": [],
   "execution_count": 1
  },
  {
   "metadata": {
    "collapsed": true,
    "ExecuteTime": {
     "end_time": "2024-09-14T08:55:19.515451Z",
     "start_time": "2024-09-14T08:55:18.920610Z"
    }
   },
   "cell_type": "code",
   "source": [
    "import torch\n",
    "from transformers import AutoTokenizer\n",
    "from torch.utils.data import Dataset, DataLoader\n",
    "\n",
    "# 示例数据\n",
    "texts = [\n",
    "    \"I love programming in Python\",\n",
    "    \"Python is a great language\",\n",
    "    \"Programming is fun\"\n",
    "]\n",
    "labels = [1, 1, 0]  # 假设 1 表示正面评价，0 表示负面评价\n",
    "\n",
    "# 加载预训练的分词器\n",
    "tokenizer = AutoTokenizer.from_pretrained(\n",
    "    \"../.pretrained_models/bert-base-cased\",\n",
    "    clean_up_tokenization_spaces=True\n",
    ")\n",
    "\n",
    "\n",
    "# 定义数据集类\n",
    "class TextDataset(Dataset):\n",
    "    def __init__(self, texts, labels, tokenizer, max_length=10):\n",
    "        self.texts = texts\n",
    "        self.labels = labels\n",
    "        self.tokenizer = tokenizer\n",
    "        self.max_length = max_length\n",
    "\n",
    "    def __len__(self):\n",
    "        return len(self.texts)\n",
    "\n",
    "    def __getitem__(self, idx):\n",
    "        text = self.texts[idx]\n",
    "        label = self.labels[idx]\n",
    "\n",
    "        # 使用分词器进行分词和编码\n",
    "        encoding = self.tokenizer(\n",
    "            text,\n",
    "            truncation=True,\n",
    "            padding='max_length',\n",
    "            max_length=self.max_length,\n",
    "            return_tensors='pt'\n",
    "        )\n",
    "\n",
    "        input_ids = encoding['input_ids'].squeeze(0)\n",
    "        attention_mask = encoding['attention_mask'].squeeze(0)\n",
    "\n",
    "        return input_ids, attention_mask, torch.tensor(label, dtype=torch.float)\n",
    "\n",
    "\n",
    "# 创建数据集\n",
    "dataset = TextDataset(texts, labels, tokenizer)\n",
    "\n",
    "# 创建数据加载器\n",
    "batch_size = 2\n",
    "data_loader = DataLoader(dataset, batch_size=batch_size, shuffle=True)\n",
    "\n",
    "# 打印数据集中的一个批次\n",
    "for batch in data_loader:\n",
    "    input_ids, attention_mask, targets = batch\n",
    "    print(\"Input IDs:\", input_ids)\n",
    "    print(\"Attention Mask:\", attention_mask)\n",
    "    print(\"Targets:\", targets)\n",
    "    break\n",
    "\n",
    "# 打印分词器的词汇表大小\n",
    "print(\"Vocabulary size:\", len(tokenizer))\n"
   ],
   "id": "initial_id",
   "outputs": [
    {
     "name": "stdout",
     "output_type": "stream",
     "text": [
      "Input IDs: tensor([[  101, 21076,  1110,  4106,   102,     0,     0,     0,     0,     0],\n",
      "        [  101, 23334,  1110,   170,  1632,  1846,   102,     0,     0,     0]])\n",
      "Attention Mask: tensor([[1, 1, 1, 1, 1, 0, 0, 0, 0, 0],\n",
      "        [1, 1, 1, 1, 1, 1, 1, 0, 0, 0]])\n",
      "Targets: tensor([0., 1.])\n",
      "Vocabulary size: 28996\n"
     ]
    }
   ],
   "execution_count": 2
  },
  {
   "metadata": {},
   "cell_type": "code",
   "outputs": [],
   "execution_count": null,
   "source": "",
   "id": "a388ca84579d134c"
  }
 ],
 "metadata": {
  "kernelspec": {
   "display_name": "Python 3",
   "language": "python",
   "name": "python3"
  },
  "language_info": {
   "codemirror_mode": {
    "name": "ipython",
    "version": 2
   },
   "file_extension": ".py",
   "mimetype": "text/x-python",
   "name": "python",
   "nbconvert_exporter": "python",
   "pygments_lexer": "ipython2",
   "version": "2.7.6"
  }
 },
 "nbformat": 4,
 "nbformat_minor": 5
}
