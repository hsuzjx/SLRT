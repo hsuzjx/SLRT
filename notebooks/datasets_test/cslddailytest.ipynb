{
 "cells": [
  {
   "cell_type": "code",
   "id": "initial_id",
   "metadata": {
    "collapsed": true,
    "ExecuteTime": {
     "end_time": "2024-09-26T08:22:13.584457Z",
     "start_time": "2024-09-26T08:22:13.577574Z"
    }
   },
   "source": "from torch.utils.data import DataLoader\n",
   "outputs": [],
   "execution_count": 32
  },
  {
   "metadata": {
    "ExecuteTime": {
     "end_time": "2024-09-26T08:22:13.853684Z",
     "start_time": "2024-09-26T08:22:13.847102Z"
    }
   },
   "cell_type": "code",
   "source": [
    "\n",
    "from slr.datasets.CSLDailyDataset import CSLDailyDataset"
   ],
   "id": "f9b39d6c18450e8d",
   "outputs": [],
   "execution_count": 33
  },
  {
   "metadata": {
    "ExecuteTime": {
     "end_time": "2024-09-26T08:22:14.119170Z",
     "start_time": "2024-09-26T08:22:14.112308Z"
    }
   },
   "cell_type": "code",
   "source": "import lightning as L",
   "id": "de0a53e61963bc23",
   "outputs": [],
   "execution_count": 34
  },
  {
   "metadata": {
    "ExecuteTime": {
     "end_time": "2024-09-26T08:22:14.498396Z",
     "start_time": "2024-09-26T08:22:14.363120Z"
    }
   },
   "cell_type": "code",
   "source": [
    "datasaet = CSLDailyDataset(\n",
    "    dataset_dir='/new_home/xzj23/workspace/SLR/data/csl-daily',\n",
    "    mode=\"train\"\n",
    ")"
   ],
   "id": "141b42ce35100e90",
   "outputs": [],
   "execution_count": 35
  },
  {
   "metadata": {
    "ExecuteTime": {
     "end_time": "2024-09-26T08:22:14.638597Z",
     "start_time": "2024-09-26T08:22:14.628957Z"
    }
   },
   "cell_type": "code",
   "source": "datasaet.__len__()",
   "id": "2ef232ba6a70f420",
   "outputs": [
    {
     "data": {
      "text/plain": [
       "18401"
      ]
     },
     "execution_count": 36,
     "metadata": {},
     "output_type": "execute_result"
    }
   ],
   "execution_count": 36
  },
  {
   "metadata": {
    "ExecuteTime": {
     "end_time": "2024-09-26T08:22:17.162040Z",
     "start_time": "2024-09-26T08:22:17.049350Z"
    }
   },
   "cell_type": "code",
   "source": [
    "ds = CSLDailyDataset(\n",
    "    dataset_dir='/new_home/xzj23/workspace/SLR/data/csl-daily',\n",
    "    mode=[\"train\", \"dev\"]\n",
    ")\n",
    "ds.__len__()"
   ],
   "id": "bac3e61075f45f6d",
   "outputs": [
    {
     "data": {
      "text/plain": [
       "19478"
      ]
     },
     "execution_count": 37,
     "metadata": {},
     "output_type": "execute_result"
    }
   ],
   "execution_count": 37
  },
  {
   "metadata": {
    "ExecuteTime": {
     "end_time": "2024-09-26T08:22:17.869338Z",
     "start_time": "2024-09-26T08:22:17.863429Z"
    }
   },
   "cell_type": "code",
   "source": "ds",
   "id": "8e3c8fda7fad308b",
   "outputs": [
    {
     "data": {
      "text/plain": [
       "<slr.datasets.CSLDailyDataset.CSLDailyDataset at 0x7ff0bbb3ba00>"
      ]
     },
     "execution_count": 38,
     "metadata": {},
     "output_type": "execute_result"
    }
   ],
   "execution_count": 38
  },
  {
   "metadata": {
    "ExecuteTime": {
     "end_time": "2024-09-26T08:22:18.349622Z",
     "start_time": "2024-09-26T08:22:18.347606Z"
    }
   },
   "cell_type": "code",
   "source": [
    "dl = DataLoader(datasaet, batch_size=2, shuffle=True, pin_memory=True, num_workers=10, drop_last=True,\n",
    "                collate_fn=datasaet.collate_fn)"
   ],
   "id": "b242942bab145ed6",
   "outputs": [],
   "execution_count": 39
  },
  {
   "metadata": {
    "ExecuteTime": {
     "end_time": "2024-09-26T08:25:12.410791Z",
     "start_time": "2024-09-26T08:22:19.225597Z"
    }
   },
   "cell_type": "code",
   "source": [
    "from tqdm import tqdm\n",
    "\n",
    "for x, y, x_lgt, y_lgt, info in tqdm(dl):\n",
    "    x = x.cuda()"
   ],
   "id": "ec6445360e910fd0",
   "outputs": [
    {
     "name": "stderr",
     "output_type": "stream",
     "text": [
      "  2%|▏         | 195/9200 [02:52<2:12:57,  1.13it/s]Process Process-57:\n",
      "Process Process-55:\n",
      "Process Process-49:\n",
      "Process Process-53:\n",
      "\n",
      "Process Process-54:\n",
      "Process Process-50:\n",
      "Process Process-56:\n",
      "Traceback (most recent call last):\n",
      "Traceback (most recent call last):\n",
      "Traceback (most recent call last):\n",
      "  File \"/new_home/xzj23/.conda/envs/slr/lib/python3.10/multiprocessing/process.py\", line 317, in _bootstrap\n",
      "    util._exit_function()\n",
      "  File \"/new_home/xzj23/.conda/envs/slr/lib/python3.10/multiprocessing/process.py\", line 317, in _bootstrap\n",
      "    util._exit_function()\n",
      "Traceback (most recent call last):\n",
      "Traceback (most recent call last):\n",
      "Traceback (most recent call last):\n",
      "  File \"/new_home/xzj23/.conda/envs/slr/lib/python3.10/multiprocessing/process.py\", line 317, in _bootstrap\n",
      "    util._exit_function()\n",
      "  File \"/new_home/xzj23/.conda/envs/slr/lib/python3.10/multiprocessing/util.py\", line 334, in _exit_function\n",
      "    _run_finalizers(0)\n",
      "Traceback (most recent call last):\n",
      "  File \"/new_home/xzj23/.conda/envs/slr/lib/python3.10/multiprocessing/util.py\", line 334, in _exit_function\n",
      "    _run_finalizers(0)\n",
      "  File \"/new_home/xzj23/.conda/envs/slr/lib/python3.10/multiprocessing/process.py\", line 317, in _bootstrap\n",
      "    util._exit_function()\n",
      "  File \"/new_home/xzj23/.conda/envs/slr/lib/python3.10/multiprocessing/process.py\", line 317, in _bootstrap\n",
      "    util._exit_function()\n",
      "  File \"/new_home/xzj23/.conda/envs/slr/lib/python3.10/multiprocessing/process.py\", line 317, in _bootstrap\n",
      "    util._exit_function()\n",
      "  File \"/new_home/xzj23/.conda/envs/slr/lib/python3.10/multiprocessing/util.py\", line 334, in _exit_function\n",
      "    _run_finalizers(0)\n",
      "Process Process-48:\n",
      "  File \"/new_home/xzj23/.conda/envs/slr/lib/python3.10/multiprocessing/util.py\", line 300, in _run_finalizers\n",
      "    finalizer()\n",
      "  File \"/new_home/xzj23/.conda/envs/slr/lib/python3.10/multiprocessing/process.py\", line 317, in _bootstrap\n",
      "    util._exit_function()\n",
      "  File \"/new_home/xzj23/.conda/envs/slr/lib/python3.10/multiprocessing/util.py\", line 300, in _run_finalizers\n",
      "    finalizer()\n",
      "  File \"/new_home/xzj23/.conda/envs/slr/lib/python3.10/multiprocessing/util.py\", line 334, in _exit_function\n",
      "    _run_finalizers(0)\n",
      "  File \"/new_home/xzj23/.conda/envs/slr/lib/python3.10/multiprocessing/util.py\", line 334, in _exit_function\n",
      "    _run_finalizers(0)\n",
      "  File \"/new_home/xzj23/.conda/envs/slr/lib/python3.10/multiprocessing/util.py\", line 334, in _exit_function\n",
      "    _run_finalizers(0)\n",
      "  File \"/new_home/xzj23/.conda/envs/slr/lib/python3.10/multiprocessing/util.py\", line 300, in _run_finalizers\n",
      "    finalizer()\n",
      "KeyboardInterrupt\n",
      "  File \"/new_home/xzj23/.conda/envs/slr/lib/python3.10/multiprocessing/util.py\", line 334, in _exit_function\n",
      "    _run_finalizers(0)\n",
      "KeyboardInterrupt\n",
      "  File \"/new_home/xzj23/.conda/envs/slr/lib/python3.10/multiprocessing/util.py\", line 300, in _run_finalizers\n",
      "    finalizer()\n",
      "  File \"/new_home/xzj23/.conda/envs/slr/lib/python3.10/multiprocessing/util.py\", line 300, in _run_finalizers\n",
      "    finalizer()\n",
      "  File \"/new_home/xzj23/.conda/envs/slr/lib/python3.10/multiprocessing/util.py\", line 300, in _run_finalizers\n",
      "    finalizer()\n",
      "  File \"/new_home/xzj23/.conda/envs/slr/lib/python3.10/multiprocessing/util.py\", line 300, in _run_finalizers\n",
      "    finalizer()\n",
      "KeyboardInterrupt\n",
      "  File \"/new_home/xzj23/.conda/envs/slr/lib/python3.10/multiprocessing/util.py\", line 224, in __call__\n",
      "    res = self._callback(*self._args, **self._kwargs)\n",
      "  File \"/new_home/xzj23/.conda/envs/slr/lib/python3.10/multiprocessing/util.py\", line 224, in __call__\n",
      "    res = self._callback(*self._args, **self._kwargs)\n",
      "  File \"/new_home/xzj23/.conda/envs/slr/lib/python3.10/multiprocessing/util.py\", line 224, in __call__\n",
      "    res = self._callback(*self._args, **self._kwargs)\n",
      "KeyboardInterrupt\n",
      "KeyboardInterrupt\n",
      "Traceback (most recent call last):\n",
      "KeyboardInterrupt\n",
      "KeyboardInterrupt\n",
      "  File \"/new_home/xzj23/.conda/envs/slr/lib/python3.10/multiprocessing/process.py\", line 317, in _bootstrap\n",
      "    util._exit_function()\n",
      "  File \"/new_home/xzj23/.conda/envs/slr/lib/python3.10/multiprocessing/util.py\", line 334, in _exit_function\n",
      "    _run_finalizers(0)\n",
      "  File \"/new_home/xzj23/.conda/envs/slr/lib/python3.10/multiprocessing/util.py\", line 300, in _run_finalizers\n",
      "    finalizer()\n",
      "  File \"/new_home/xzj23/.conda/envs/slr/lib/python3.10/multiprocessing/util.py\", line 218, in __call__\n",
      "    if self._pid != getpid():\n",
      "KeyboardInterrupt\n"
     ]
    },
    {
     "name": "stdout",
     "output_type": "stream",
     "text": [
      "Unexpected exception formatting exception. Falling back to standard exception\n"
     ]
    },
    {
     "name": "stderr",
     "output_type": "stream",
     "text": [
      "Traceback (most recent call last):\n",
      "  File \"/new_home/xzj23/.conda/envs/slr/lib/python3.10/site-packages/IPython/core/interactiveshell.py\", line 3577, in run_code\n",
      "    exec(code_obj, self.user_global_ns, self.user_ns)\n",
      "  File \"/tmp/ipykernel_531435/1744069952.py\", line 3, in <module>\n",
      "    for x, y, x_lgt, y_lgt, info in tqdm(dl):\n",
      "  File \"/new_home/xzj23/.conda/envs/slr/lib/python3.10/site-packages/tqdm/std.py\", line 1181, in __iter__\n",
      "    for obj in iterable:\n",
      "  File \"/new_home/xzj23/.conda/envs/slr/lib/python3.10/site-packages/torch/utils/data/dataloader.py\", line 628, in __next__\n",
      "    data = self._next_data()\n",
      "  File \"/new_home/xzj23/.conda/envs/slr/lib/python3.10/site-packages/torch/utils/data/dataloader.py\", line 1316, in _next_data\n",
      "    idx, data = self._get_data()\n",
      "  File \"/new_home/xzj23/.conda/envs/slr/lib/python3.10/site-packages/torch/utils/data/dataloader.py\", line 1272, in _get_data\n",
      "    success, data = self._try_get_data()\n",
      "  File \"/new_home/xzj23/.conda/envs/slr/lib/python3.10/site-packages/torch/utils/data/dataloader.py\", line 1120, in _try_get_data\n",
      "    data = self._data_queue.get(timeout=timeout)\n",
      "  File \"/new_home/xzj23/.conda/envs/slr/lib/python3.10/queue.py\", line 180, in get\n",
      "    self.not_empty.wait(remaining)\n",
      "  File \"/new_home/xzj23/.conda/envs/slr/lib/python3.10/threading.py\", line 324, in wait\n",
      "    gotit = waiter.acquire(True, timeout)\n",
      "KeyboardInterrupt\n",
      "\n",
      "During handling of the above exception, another exception occurred:\n",
      "\n",
      "Traceback (most recent call last):\n",
      "  File \"/new_home/xzj23/.conda/envs/slr/lib/python3.10/site-packages/IPython/core/interactiveshell.py\", line 3517, in run_ast_nodes\n",
      "    if await self.run_code(code, result, async_=asy):\n",
      "  File \"/new_home/xzj23/.conda/envs/slr/lib/python3.10/site-packages/IPython/core/interactiveshell.py\", line 3598, in run_code\n",
      "    result.error_in_exec = sys.exc_info()[1]\n",
      "KeyboardInterrupt\n",
      "\n",
      "During handling of the above exception, another exception occurred:\n",
      "\n",
      "Traceback (most recent call last):\n",
      "  File \"/new_home/xzj23/.conda/envs/slr/lib/python3.10/site-packages/IPython/core/interactiveshell.py\", line 2168, in showtraceback\n",
      "    stb = self.InteractiveTB.structured_traceback(\n",
      "  File \"/new_home/xzj23/.conda/envs/slr/lib/python3.10/site-packages/IPython/core/ultratb.py\", line 1454, in structured_traceback\n",
      "    return FormattedTB.structured_traceback(\n",
      "  File \"/new_home/xzj23/.conda/envs/slr/lib/python3.10/site-packages/IPython/core/ultratb.py\", line 1345, in structured_traceback\n",
      "    return VerboseTB.structured_traceback(\n",
      "  File \"/new_home/xzj23/.conda/envs/slr/lib/python3.10/site-packages/IPython/core/ultratb.py\", line 1192, in structured_traceback\n",
      "    formatted_exception = self.format_exception_as_a_whole(etype, evalue, etb, number_of_lines_of_context,\n",
      "  File \"/new_home/xzj23/.conda/envs/slr/lib/python3.10/site-packages/IPython/core/ultratb.py\", line 1082, in format_exception_as_a_whole\n",
      "    self.get_records(etb, number_of_lines_of_context, tb_offset) if etb else []\n",
      "  File \"/new_home/xzj23/.conda/envs/slr/lib/python3.10/site-packages/IPython/core/ultratb.py\", line 1135, in get_records\n",
      "    formatter = Terminal256Formatter(style=style)\n",
      "  File \"/new_home/xzj23/.conda/envs/slr/lib/python3.10/site-packages/pygments/formatters/terminal256.py\", line 147, in __init__\n",
      "    self._setup_styles()  # convert selected style's colors to term. colors\n",
      "  File \"/new_home/xzj23/.conda/envs/slr/lib/python3.10/site-packages/pygments/formatters/terminal256.py\", line 225, in _setup_styles\n",
      "    for ttype, ndef in self.style:\n",
      "  File \"/new_home/xzj23/.conda/envs/slr/lib/python3.10/site-packages/pygments/style.py\", line 164, in __iter__\n",
      "    yield token, cls.style_for_token(token)\n",
      "  File \"/new_home/xzj23/.conda/envs/slr/lib/python3.10/site-packages/pygments/style.py\", line 126, in style_for_token\n",
      "    def style_for_token(cls, token):\n",
      "  File \"/new_home/xzj23/.conda/envs/slr/lib/python3.10/site-packages/torch/utils/data/_utils/signal_handling.py\", line 66, in handler\n",
      "    _error_if_any_worker_fails()\n",
      "RuntimeError: DataLoader worker (pid 539436) exited unexpectedly with exit code 1. Details are lost due to multiprocessing. Rerunning with num_workers=0 may give better error trace.\n"
     ]
    }
   ],
   "execution_count": 40
  },
  {
   "metadata": {
    "ExecuteTime": {
     "end_time": "2024-09-26T07:39:38.841802Z",
     "start_time": "2024-09-26T03:10:31.533454Z"
    }
   },
   "cell_type": "code",
   "source": "a = next(enumerate(dl))",
   "id": "8609c1fcb7032690",
   "outputs": [],
   "execution_count": 5
  },
  {
   "metadata": {
    "ExecuteTime": {
     "end_time": "2024-09-26T07:39:38.841941Z",
     "start_time": "2024-09-26T03:10:34.752217Z"
    }
   },
   "cell_type": "code",
   "source": "a",
   "id": "6d4b9566d8f261ee",
   "outputs": [
    {
     "data": {
      "text/plain": [
       "(0,\n",
       " [tensor([[[[[0., 0., 0.,  ..., 0., 0., 0.],\n",
       "             [0., 0., 0.,  ..., 0., 0., 0.],\n",
       "             [0., 0., 0.,  ..., 0., 0., 0.],\n",
       "             ...,\n",
       "             [0., 0., 0.,  ..., 0., 0., 0.],\n",
       "             [0., 0., 0.,  ..., 0., 0., 0.],\n",
       "             [0., 0., 0.,  ..., 0., 0., 0.]],\n",
       "  \n",
       "            [[0., 0., 0.,  ..., 0., 0., 0.],\n",
       "             [0., 0., 0.,  ..., 0., 0., 0.],\n",
       "             [0., 0., 0.,  ..., 0., 0., 0.],\n",
       "             ...,\n",
       "             [0., 0., 0.,  ..., 0., 0., 0.],\n",
       "             [0., 0., 0.,  ..., 0., 0., 0.],\n",
       "             [0., 0., 0.,  ..., 0., 0., 0.]],\n",
       "  \n",
       "            [[0., 0., 0.,  ..., 0., 0., 0.],\n",
       "             [0., 0., 0.,  ..., 0., 0., 0.],\n",
       "             [0., 0., 0.,  ..., 0., 0., 0.],\n",
       "             ...,\n",
       "             [0., 0., 0.,  ..., 0., 0., 0.],\n",
       "             [0., 0., 0.,  ..., 0., 0., 0.],\n",
       "             [0., 0., 0.,  ..., 0., 0., 0.]]],\n",
       "  \n",
       "  \n",
       "           [[[0., 0., 0.,  ..., 0., 0., 0.],\n",
       "             [0., 0., 0.,  ..., 0., 0., 0.],\n",
       "             [0., 0., 0.,  ..., 0., 0., 0.],\n",
       "             ...,\n",
       "             [0., 0., 0.,  ..., 0., 0., 0.],\n",
       "             [0., 0., 0.,  ..., 0., 0., 0.],\n",
       "             [0., 0., 0.,  ..., 0., 0., 0.]],\n",
       "  \n",
       "            [[0., 0., 0.,  ..., 0., 0., 0.],\n",
       "             [0., 0., 0.,  ..., 0., 0., 0.],\n",
       "             [0., 0., 0.,  ..., 0., 0., 0.],\n",
       "             ...,\n",
       "             [0., 0., 0.,  ..., 0., 0., 0.],\n",
       "             [0., 0., 0.,  ..., 0., 0., 0.],\n",
       "             [0., 0., 0.,  ..., 0., 0., 0.]],\n",
       "  \n",
       "            [[0., 0., 0.,  ..., 0., 0., 0.],\n",
       "             [0., 0., 0.,  ..., 0., 0., 0.],\n",
       "             [0., 0., 0.,  ..., 0., 0., 0.],\n",
       "             ...,\n",
       "             [0., 0., 0.,  ..., 0., 0., 0.],\n",
       "             [0., 0., 0.,  ..., 0., 0., 0.],\n",
       "             [0., 0., 0.,  ..., 0., 0., 0.]]],\n",
       "  \n",
       "  \n",
       "           [[[0., 0., 0.,  ..., 0., 0., 0.],\n",
       "             [0., 0., 0.,  ..., 0., 0., 0.],\n",
       "             [0., 0., 0.,  ..., 0., 0., 0.],\n",
       "             ...,\n",
       "             [0., 0., 0.,  ..., 0., 0., 0.],\n",
       "             [0., 0., 0.,  ..., 0., 0., 0.],\n",
       "             [0., 0., 0.,  ..., 0., 0., 0.]],\n",
       "  \n",
       "            [[0., 0., 0.,  ..., 0., 0., 0.],\n",
       "             [0., 0., 0.,  ..., 0., 0., 0.],\n",
       "             [0., 0., 0.,  ..., 0., 0., 0.],\n",
       "             ...,\n",
       "             [0., 0., 0.,  ..., 0., 0., 0.],\n",
       "             [0., 0., 0.,  ..., 0., 0., 0.],\n",
       "             [0., 0., 0.,  ..., 0., 0., 0.]],\n",
       "  \n",
       "            [[0., 0., 0.,  ..., 0., 0., 0.],\n",
       "             [0., 0., 0.,  ..., 0., 0., 0.],\n",
       "             [0., 0., 0.,  ..., 0., 0., 0.],\n",
       "             ...,\n",
       "             [0., 0., 0.,  ..., 0., 0., 0.],\n",
       "             [0., 0., 0.,  ..., 0., 0., 0.],\n",
       "             [0., 0., 0.,  ..., 0., 0., 0.]]],\n",
       "  \n",
       "  \n",
       "           ...,\n",
       "  \n",
       "  \n",
       "           [[[0., 0., 0.,  ..., 0., 0., 0.],\n",
       "             [0., 0., 0.,  ..., 0., 0., 0.],\n",
       "             [0., 0., 0.,  ..., 0., 0., 0.],\n",
       "             ...,\n",
       "             [0., 0., 0.,  ..., 0., 0., 0.],\n",
       "             [0., 0., 0.,  ..., 0., 0., 0.],\n",
       "             [0., 0., 0.,  ..., 0., 0., 0.]],\n",
       "  \n",
       "            [[0., 0., 0.,  ..., 0., 0., 0.],\n",
       "             [0., 0., 0.,  ..., 0., 0., 0.],\n",
       "             [0., 0., 0.,  ..., 0., 0., 0.],\n",
       "             ...,\n",
       "             [0., 0., 0.,  ..., 0., 0., 0.],\n",
       "             [0., 0., 0.,  ..., 0., 0., 0.],\n",
       "             [0., 0., 0.,  ..., 0., 0., 0.]],\n",
       "  \n",
       "            [[0., 0., 0.,  ..., 0., 0., 0.],\n",
       "             [0., 0., 0.,  ..., 0., 0., 0.],\n",
       "             [0., 0., 0.,  ..., 0., 0., 0.],\n",
       "             ...,\n",
       "             [0., 0., 0.,  ..., 0., 0., 0.],\n",
       "             [0., 0., 0.,  ..., 0., 0., 0.],\n",
       "             [0., 0., 0.,  ..., 0., 0., 0.]]],\n",
       "  \n",
       "  \n",
       "           [[[0., 0., 0.,  ..., 0., 0., 0.],\n",
       "             [0., 0., 0.,  ..., 0., 0., 0.],\n",
       "             [0., 0., 0.,  ..., 0., 0., 0.],\n",
       "             ...,\n",
       "             [0., 0., 0.,  ..., 0., 0., 0.],\n",
       "             [0., 0., 0.,  ..., 0., 0., 0.],\n",
       "             [0., 0., 0.,  ..., 0., 0., 0.]],\n",
       "  \n",
       "            [[0., 0., 0.,  ..., 0., 0., 0.],\n",
       "             [0., 0., 0.,  ..., 0., 0., 0.],\n",
       "             [0., 0., 0.,  ..., 0., 0., 0.],\n",
       "             ...,\n",
       "             [0., 0., 0.,  ..., 0., 0., 0.],\n",
       "             [0., 0., 0.,  ..., 0., 0., 0.],\n",
       "             [0., 0., 0.,  ..., 0., 0., 0.]],\n",
       "  \n",
       "            [[0., 0., 0.,  ..., 0., 0., 0.],\n",
       "             [0., 0., 0.,  ..., 0., 0., 0.],\n",
       "             [0., 0., 0.,  ..., 0., 0., 0.],\n",
       "             ...,\n",
       "             [0., 0., 0.,  ..., 0., 0., 0.],\n",
       "             [0., 0., 0.,  ..., 0., 0., 0.],\n",
       "             [0., 0., 0.,  ..., 0., 0., 0.]]],\n",
       "  \n",
       "  \n",
       "           [[[0., 0., 0.,  ..., 0., 0., 0.],\n",
       "             [0., 0., 0.,  ..., 0., 0., 0.],\n",
       "             [0., 0., 0.,  ..., 0., 0., 0.],\n",
       "             ...,\n",
       "             [0., 0., 0.,  ..., 0., 0., 0.],\n",
       "             [0., 0., 0.,  ..., 0., 0., 0.],\n",
       "             [0., 0., 0.,  ..., 0., 0., 0.]],\n",
       "  \n",
       "            [[0., 0., 0.,  ..., 0., 0., 0.],\n",
       "             [0., 0., 0.,  ..., 0., 0., 0.],\n",
       "             [0., 0., 0.,  ..., 0., 0., 0.],\n",
       "             ...,\n",
       "             [0., 0., 0.,  ..., 0., 0., 0.],\n",
       "             [0., 0., 0.,  ..., 0., 0., 0.],\n",
       "             [0., 0., 0.,  ..., 0., 0., 0.]],\n",
       "  \n",
       "            [[0., 0., 0.,  ..., 0., 0., 0.],\n",
       "             [0., 0., 0.,  ..., 0., 0., 0.],\n",
       "             [0., 0., 0.,  ..., 0., 0., 0.],\n",
       "             ...,\n",
       "             [0., 0., 0.,  ..., 0., 0., 0.],\n",
       "             [0., 0., 0.,  ..., 0., 0., 0.],\n",
       "             [0., 0., 0.,  ..., 0., 0., 0.]]]],\n",
       "  \n",
       "  \n",
       "  \n",
       "          [[[[0., 0., 0.,  ..., 0., 0., 0.],\n",
       "             [0., 0., 0.,  ..., 0., 0., 0.],\n",
       "             [0., 0., 0.,  ..., 0., 0., 0.],\n",
       "             ...,\n",
       "             [0., 0., 0.,  ..., 0., 0., 0.],\n",
       "             [0., 0., 0.,  ..., 0., 0., 0.],\n",
       "             [0., 0., 0.,  ..., 0., 0., 0.]],\n",
       "  \n",
       "            [[0., 0., 0.,  ..., 0., 0., 0.],\n",
       "             [0., 0., 0.,  ..., 0., 0., 0.],\n",
       "             [0., 0., 0.,  ..., 0., 0., 0.],\n",
       "             ...,\n",
       "             [0., 0., 0.,  ..., 0., 0., 0.],\n",
       "             [0., 0., 0.,  ..., 0., 0., 0.],\n",
       "             [0., 0., 0.,  ..., 0., 0., 0.]],\n",
       "  \n",
       "            [[0., 0., 0.,  ..., 0., 0., 0.],\n",
       "             [0., 0., 0.,  ..., 0., 0., 0.],\n",
       "             [0., 0., 0.,  ..., 0., 0., 0.],\n",
       "             ...,\n",
       "             [0., 0., 0.,  ..., 0., 0., 0.],\n",
       "             [0., 0., 0.,  ..., 0., 0., 0.],\n",
       "             [0., 0., 0.,  ..., 0., 0., 0.]]],\n",
       "  \n",
       "  \n",
       "           [[[0., 0., 0.,  ..., 0., 0., 0.],\n",
       "             [0., 0., 0.,  ..., 0., 0., 0.],\n",
       "             [0., 0., 0.,  ..., 0., 0., 0.],\n",
       "             ...,\n",
       "             [0., 0., 0.,  ..., 0., 0., 0.],\n",
       "             [0., 0., 0.,  ..., 0., 0., 0.],\n",
       "             [0., 0., 0.,  ..., 0., 0., 0.]],\n",
       "  \n",
       "            [[0., 0., 0.,  ..., 0., 0., 0.],\n",
       "             [0., 0., 0.,  ..., 0., 0., 0.],\n",
       "             [0., 0., 0.,  ..., 0., 0., 0.],\n",
       "             ...,\n",
       "             [0., 0., 0.,  ..., 0., 0., 0.],\n",
       "             [0., 0., 0.,  ..., 0., 0., 0.],\n",
       "             [0., 0., 0.,  ..., 0., 0., 0.]],\n",
       "  \n",
       "            [[0., 0., 0.,  ..., 0., 0., 0.],\n",
       "             [0., 0., 0.,  ..., 0., 0., 0.],\n",
       "             [0., 0., 0.,  ..., 0., 0., 0.],\n",
       "             ...,\n",
       "             [0., 0., 0.,  ..., 0., 0., 0.],\n",
       "             [0., 0., 0.,  ..., 0., 0., 0.],\n",
       "             [0., 0., 0.,  ..., 0., 0., 0.]]],\n",
       "  \n",
       "  \n",
       "           [[[0., 0., 0.,  ..., 0., 0., 0.],\n",
       "             [0., 0., 0.,  ..., 0., 0., 0.],\n",
       "             [0., 0., 0.,  ..., 0., 0., 0.],\n",
       "             ...,\n",
       "             [0., 0., 0.,  ..., 0., 0., 0.],\n",
       "             [0., 0., 0.,  ..., 0., 0., 0.],\n",
       "             [0., 0., 0.,  ..., 0., 0., 0.]],\n",
       "  \n",
       "            [[0., 0., 0.,  ..., 0., 0., 0.],\n",
       "             [0., 0., 0.,  ..., 0., 0., 0.],\n",
       "             [0., 0., 0.,  ..., 0., 0., 0.],\n",
       "             ...,\n",
       "             [0., 0., 0.,  ..., 0., 0., 0.],\n",
       "             [0., 0., 0.,  ..., 0., 0., 0.],\n",
       "             [0., 0., 0.,  ..., 0., 0., 0.]],\n",
       "  \n",
       "            [[0., 0., 0.,  ..., 0., 0., 0.],\n",
       "             [0., 0., 0.,  ..., 0., 0., 0.],\n",
       "             [0., 0., 0.,  ..., 0., 0., 0.],\n",
       "             ...,\n",
       "             [0., 0., 0.,  ..., 0., 0., 0.],\n",
       "             [0., 0., 0.,  ..., 0., 0., 0.],\n",
       "             [0., 0., 0.,  ..., 0., 0., 0.]]],\n",
       "  \n",
       "  \n",
       "           ...,\n",
       "  \n",
       "  \n",
       "           [[[0., 0., 0.,  ..., 0., 0., 0.],\n",
       "             [0., 0., 0.,  ..., 0., 0., 0.],\n",
       "             [0., 0., 0.,  ..., 0., 0., 0.],\n",
       "             ...,\n",
       "             [0., 0., 0.,  ..., 0., 0., 0.],\n",
       "             [0., 0., 0.,  ..., 0., 0., 0.],\n",
       "             [0., 0., 0.,  ..., 0., 0., 0.]],\n",
       "  \n",
       "            [[0., 0., 0.,  ..., 0., 0., 0.],\n",
       "             [0., 0., 0.,  ..., 0., 0., 0.],\n",
       "             [0., 0., 0.,  ..., 0., 0., 0.],\n",
       "             ...,\n",
       "             [0., 0., 0.,  ..., 0., 0., 0.],\n",
       "             [0., 0., 0.,  ..., 0., 0., 0.],\n",
       "             [0., 0., 0.,  ..., 0., 0., 0.]],\n",
       "  \n",
       "            [[0., 0., 0.,  ..., 0., 0., 0.],\n",
       "             [0., 0., 0.,  ..., 0., 0., 0.],\n",
       "             [0., 0., 0.,  ..., 0., 0., 0.],\n",
       "             ...,\n",
       "             [0., 0., 0.,  ..., 0., 0., 0.],\n",
       "             [0., 0., 0.,  ..., 0., 0., 0.],\n",
       "             [0., 0., 0.,  ..., 0., 0., 0.]]],\n",
       "  \n",
       "  \n",
       "           [[[0., 0., 0.,  ..., 0., 0., 0.],\n",
       "             [0., 0., 0.,  ..., 0., 0., 0.],\n",
       "             [0., 0., 0.,  ..., 0., 0., 0.],\n",
       "             ...,\n",
       "             [0., 0., 0.,  ..., 0., 0., 0.],\n",
       "             [0., 0., 0.,  ..., 0., 0., 0.],\n",
       "             [0., 0., 0.,  ..., 0., 0., 0.]],\n",
       "  \n",
       "            [[0., 0., 0.,  ..., 0., 0., 0.],\n",
       "             [0., 0., 0.,  ..., 0., 0., 0.],\n",
       "             [0., 0., 0.,  ..., 0., 0., 0.],\n",
       "             ...,\n",
       "             [0., 0., 0.,  ..., 0., 0., 0.],\n",
       "             [0., 0., 0.,  ..., 0., 0., 0.],\n",
       "             [0., 0., 0.,  ..., 0., 0., 0.]],\n",
       "  \n",
       "            [[0., 0., 0.,  ..., 0., 0., 0.],\n",
       "             [0., 0., 0.,  ..., 0., 0., 0.],\n",
       "             [0., 0., 0.,  ..., 0., 0., 0.],\n",
       "             ...,\n",
       "             [0., 0., 0.,  ..., 0., 0., 0.],\n",
       "             [0., 0., 0.,  ..., 0., 0., 0.],\n",
       "             [0., 0., 0.,  ..., 0., 0., 0.]]],\n",
       "  \n",
       "  \n",
       "           [[[0., 0., 0.,  ..., 0., 0., 0.],\n",
       "             [0., 0., 0.,  ..., 0., 0., 0.],\n",
       "             [0., 0., 0.,  ..., 0., 0., 0.],\n",
       "             ...,\n",
       "             [0., 0., 0.,  ..., 0., 0., 0.],\n",
       "             [0., 0., 0.,  ..., 0., 0., 0.],\n",
       "             [0., 0., 0.,  ..., 0., 0., 0.]],\n",
       "  \n",
       "            [[0., 0., 0.,  ..., 0., 0., 0.],\n",
       "             [0., 0., 0.,  ..., 0., 0., 0.],\n",
       "             [0., 0., 0.,  ..., 0., 0., 0.],\n",
       "             ...,\n",
       "             [0., 0., 0.,  ..., 0., 0., 0.],\n",
       "             [0., 0., 0.,  ..., 0., 0., 0.],\n",
       "             [0., 0., 0.,  ..., 0., 0., 0.]],\n",
       "  \n",
       "            [[0., 0., 0.,  ..., 0., 0., 0.],\n",
       "             [0., 0., 0.,  ..., 0., 0., 0.],\n",
       "             [0., 0., 0.,  ..., 0., 0., 0.],\n",
       "             ...,\n",
       "             [0., 0., 0.,  ..., 0., 0., 0.],\n",
       "             [0., 0., 0.,  ..., 0., 0., 0.],\n",
       "             [0., 0., 0.,  ..., 0., 0., 0.]]]]]),\n",
       "  [['你们', '好'], ['你们', '好']],\n",
       "  [52, 47],\n",
       "  [2, 2],\n",
       "  ['S000000_P0000_T00', 'S000000_P0004_T00']])"
      ]
     },
     "execution_count": 6,
     "metadata": {},
     "output_type": "execute_result"
    }
   ],
   "execution_count": 6
  },
  {
   "metadata": {
    "ExecuteTime": {
     "end_time": "2024-09-26T07:39:38.842877Z",
     "start_time": "2024-09-26T03:10:34.869553Z"
    }
   },
   "cell_type": "code",
   "source": "len(a)",
   "id": "8b4b03175dd4daf7",
   "outputs": [
    {
     "data": {
      "text/plain": [
       "2"
      ]
     },
     "execution_count": 7,
     "metadata": {},
     "output_type": "execute_result"
    }
   ],
   "execution_count": 7
  },
  {
   "metadata": {
    "ExecuteTime": {
     "end_time": "2024-09-26T07:39:38.843114Z",
     "start_time": "2024-09-26T03:10:34.891053Z"
    }
   },
   "cell_type": "code",
   "source": "video, label, video_length, label_length, info = a[1]",
   "id": "a47420a92e4ef449",
   "outputs": [],
   "execution_count": 8
  },
  {
   "metadata": {
    "ExecuteTime": {
     "end_time": "2024-09-26T07:39:38.843736Z",
     "start_time": "2024-09-26T03:10:34.904457Z"
    }
   },
   "cell_type": "code",
   "source": "video.shape",
   "id": "ebecd5536931c3fe",
   "outputs": [
    {
     "data": {
      "text/plain": [
       "torch.Size([2, 64, 3, 512, 512])"
      ]
     },
     "execution_count": 9,
     "metadata": {},
     "output_type": "execute_result"
    }
   ],
   "execution_count": 9
  },
  {
   "metadata": {
    "ExecuteTime": {
     "end_time": "2024-09-26T07:39:38.843932Z",
     "start_time": "2024-09-26T03:10:34.934379Z"
    }
   },
   "cell_type": "code",
   "source": "label",
   "id": "d6d5e8ae05d58679",
   "outputs": [
    {
     "data": {
      "text/plain": [
       "[['你们', '好'], ['你们', '好']]"
      ]
     },
     "execution_count": 10,
     "metadata": {},
     "output_type": "execute_result"
    }
   ],
   "execution_count": 10
  },
  {
   "metadata": {
    "ExecuteTime": {
     "end_time": "2024-09-26T07:39:38.844086Z",
     "start_time": "2024-09-26T03:10:34.981210Z"
    }
   },
   "cell_type": "code",
   "source": "video_length",
   "id": "b539cf94edc9fe5c",
   "outputs": [
    {
     "data": {
      "text/plain": [
       "[52, 47]"
      ]
     },
     "execution_count": 11,
     "metadata": {},
     "output_type": "execute_result"
    }
   ],
   "execution_count": 11
  },
  {
   "metadata": {
    "ExecuteTime": {
     "end_time": "2024-09-26T07:39:38.844236Z",
     "start_time": "2024-09-26T03:10:34.999436Z"
    }
   },
   "cell_type": "code",
   "source": "label_length",
   "id": "19b5758cfb2f058b",
   "outputs": [
    {
     "data": {
      "text/plain": [
       "[2, 2]"
      ]
     },
     "execution_count": 12,
     "metadata": {},
     "output_type": "execute_result"
    }
   ],
   "execution_count": 12
  },
  {
   "metadata": {
    "ExecuteTime": {
     "end_time": "2024-09-26T07:39:38.844391Z",
     "start_time": "2024-09-26T03:10:35.015475Z"
    }
   },
   "cell_type": "code",
   "source": "info",
   "id": "14e67f46099b909c",
   "outputs": [
    {
     "data": {
      "text/plain": [
       "['S000000_P0000_T00', 'S000000_P0004_T00']"
      ]
     },
     "execution_count": 13,
     "metadata": {},
     "output_type": "execute_result"
    }
   ],
   "execution_count": 13
  },
  {
   "metadata": {
    "ExecuteTime": {
     "end_time": "2024-09-26T07:39:38.844540Z",
     "start_time": "2024-09-26T03:10:35.068238Z"
    }
   },
   "cell_type": "code",
   "source": "b = datasaet.__getitem__(0)",
   "id": "29e39a8e0e203f6",
   "outputs": [],
   "execution_count": 14
  },
  {
   "metadata": {
    "ExecuteTime": {
     "end_time": "2024-09-26T07:39:38.844660Z",
     "start_time": "2024-09-26T03:10:35.139589Z"
    }
   },
   "cell_type": "code",
   "source": "b[2]",
   "id": "af7b0fac78c43a6b",
   "outputs": [
    {
     "data": {
      "text/plain": [
       "name            S000000_P0000_T00\n",
       "length                         52\n",
       "label_gloss               [你们, 好]\n",
       "label_char           [你, 们, 好, ！]\n",
       "label_word             [你们, 好, ！]\n",
       "label_postag            [r, a, w]\n",
       "signer                          0\n",
       "time                            0\n",
       "Name: 0, dtype: object"
      ]
     },
     "execution_count": 15,
     "metadata": {},
     "output_type": "execute_result"
    }
   ],
   "execution_count": 15
  },
  {
   "metadata": {
    "ExecuteTime": {
     "end_time": "2024-09-26T07:39:38.844886Z",
     "start_time": "2024-09-26T03:10:35.161157Z"
    }
   },
   "cell_type": "code",
   "source": "b[0].shape",
   "id": "1d6e7ca67c8e3cab",
   "outputs": [
    {
     "data": {
      "text/plain": [
       "torch.Size([52, 3, 512, 512])"
      ]
     },
     "execution_count": 16,
     "metadata": {},
     "output_type": "execute_result"
    }
   ],
   "execution_count": 16
  },
  {
   "metadata": {
    "ExecuteTime": {
     "end_time": "2024-09-26T07:39:38.857444Z",
     "start_time": "2024-09-26T03:10:35.182426Z"
    }
   },
   "cell_type": "code",
   "source": "b[1]",
   "id": "1a4d6f3335568bb3",
   "outputs": [
    {
     "data": {
      "text/plain": [
       "['你们', '好']"
      ]
     },
     "execution_count": 17,
     "metadata": {},
     "output_type": "execute_result"
    }
   ],
   "execution_count": 17
  },
  {
   "metadata": {
    "ExecuteTime": {
     "end_time": "2024-09-26T07:39:38.858079Z",
     "start_time": "2024-09-26T03:12:06.768442Z"
    }
   },
   "cell_type": "code",
   "source": "video[0][6:58]",
   "id": "29f867e0ef52af7e",
   "outputs": [
    {
     "data": {
      "text/plain": [
       "tensor([[[[218., 218., 218.,  ..., 218., 218., 218.],\n",
       "          [218., 218., 218.,  ..., 218., 218., 218.],\n",
       "          [218., 218., 218.,  ..., 218., 218., 218.],\n",
       "          ...,\n",
       "          [184., 184., 185.,  ..., 175., 176., 176.],\n",
       "          [184., 184., 183.,  ..., 176., 176., 176.],\n",
       "          [184., 185., 183.,  ..., 177., 177., 177.]],\n",
       "\n",
       "         [[243., 243., 243.,  ..., 243., 243., 243.],\n",
       "          [243., 243., 243.,  ..., 243., 243., 243.],\n",
       "          [243., 243., 243.,  ..., 243., 243., 243.],\n",
       "          ...,\n",
       "          [190., 190., 191.,  ..., 179., 179., 179.],\n",
       "          [190., 190., 191.,  ..., 179., 178., 178.],\n",
       "          [190., 191., 191.,  ..., 180., 179., 179.]],\n",
       "\n",
       "         [[245., 245., 245.,  ..., 245., 245., 245.],\n",
       "          [245., 245., 245.,  ..., 245., 245., 245.],\n",
       "          [245., 245., 245.,  ..., 245., 245., 245.],\n",
       "          ...,\n",
       "          [197., 197., 198.,  ..., 184., 184., 184.],\n",
       "          [195., 195., 198.,  ..., 184., 186., 186.],\n",
       "          [195., 196., 198.,  ..., 185., 187., 187.]]],\n",
       "\n",
       "\n",
       "        [[[218., 218., 218.,  ..., 218., 218., 218.],\n",
       "          [218., 218., 218.,  ..., 218., 218., 218.],\n",
       "          [218., 218., 218.,  ..., 218., 218., 218.],\n",
       "          ...,\n",
       "          [184., 184., 184.,  ..., 175., 175., 174.],\n",
       "          [183., 183., 184.,  ..., 175., 174., 174.],\n",
       "          [183., 183., 184.,  ..., 175., 175., 175.]],\n",
       "\n",
       "         [[243., 243., 243.,  ..., 243., 243., 243.],\n",
       "          [243., 243., 243.,  ..., 243., 243., 243.],\n",
       "          [243., 243., 243.,  ..., 243., 243., 243.],\n",
       "          ...,\n",
       "          [189., 189., 189.,  ..., 182., 182., 181.],\n",
       "          [188., 188., 189.,  ..., 182., 181., 181.],\n",
       "          [188., 188., 189.,  ..., 182., 182., 182.]],\n",
       "\n",
       "         [[245., 245., 245.,  ..., 245., 245., 245.],\n",
       "          [245., 245., 245.,  ..., 245., 245., 245.],\n",
       "          [245., 245., 245.,  ..., 245., 245., 245.],\n",
       "          ...,\n",
       "          [198., 198., 198.,  ..., 185., 185., 184.],\n",
       "          [197., 197., 198.,  ..., 185., 184., 184.],\n",
       "          [197., 197., 198.,  ..., 185., 185., 185.]]],\n",
       "\n",
       "\n",
       "        [[[218., 218., 218.,  ..., 218., 218., 218.],\n",
       "          [218., 218., 218.,  ..., 218., 218., 218.],\n",
       "          [218., 218., 218.,  ..., 218., 218., 218.],\n",
       "          ...,\n",
       "          [186., 186., 186.,  ..., 174., 174., 174.],\n",
       "          [185., 185., 185.,  ..., 175., 175., 174.],\n",
       "          [186., 186., 185.,  ..., 174., 175., 174.]],\n",
       "\n",
       "         [[243., 243., 243.,  ..., 243., 243., 243.],\n",
       "          [243., 243., 243.,  ..., 243., 243., 243.],\n",
       "          [243., 243., 243.,  ..., 243., 243., 243.],\n",
       "          ...,\n",
       "          [188., 188., 188.,  ..., 180., 180., 180.],\n",
       "          [187., 187., 187.,  ..., 182., 182., 181.],\n",
       "          [188., 188., 187.,  ..., 181., 182., 181.]],\n",
       "\n",
       "         [[245., 245., 245.,  ..., 245., 245., 245.],\n",
       "          [245., 245., 245.,  ..., 245., 245., 245.],\n",
       "          [245., 245., 245.,  ..., 245., 245., 245.],\n",
       "          ...,\n",
       "          [198., 198., 198.,  ..., 185., 185., 185.],\n",
       "          [197., 197., 197.,  ..., 185., 185., 184.],\n",
       "          [198., 198., 197.,  ..., 184., 185., 184.]]],\n",
       "\n",
       "\n",
       "        ...,\n",
       "\n",
       "\n",
       "        [[[218., 218., 218.,  ..., 218., 218., 218.],\n",
       "          [218., 218., 218.,  ..., 218., 218., 218.],\n",
       "          [218., 218., 218.,  ..., 218., 218., 218.],\n",
       "          ...,\n",
       "          [181., 180., 180.,  ..., 175., 175., 176.],\n",
       "          [180., 180., 180.,  ..., 174., 177., 177.],\n",
       "          [180., 180., 180.,  ..., 174., 176., 176.]],\n",
       "\n",
       "         [[243., 243., 243.,  ..., 243., 243., 243.],\n",
       "          [243., 243., 243.,  ..., 243., 243., 243.],\n",
       "          [243., 243., 243.,  ..., 243., 243., 243.],\n",
       "          ...,\n",
       "          [186., 185., 185.,  ..., 178., 178., 179.],\n",
       "          [185., 185., 185.,  ..., 177., 177., 177.],\n",
       "          [185., 185., 185.,  ..., 177., 176., 176.]],\n",
       "\n",
       "         [[245., 245., 245.,  ..., 245., 245., 245.],\n",
       "          [245., 245., 245.,  ..., 245., 245., 245.],\n",
       "          [245., 245., 245.,  ..., 245., 245., 245.],\n",
       "          ...,\n",
       "          [195., 194., 194.,  ..., 183., 183., 184.],\n",
       "          [194., 194., 194.,  ..., 182., 183., 183.],\n",
       "          [194., 194., 194.,  ..., 182., 182., 182.]]],\n",
       "\n",
       "\n",
       "        [[[218., 218., 218.,  ..., 218., 218., 218.],\n",
       "          [218., 218., 218.,  ..., 218., 218., 218.],\n",
       "          [218., 218., 218.,  ..., 218., 218., 218.],\n",
       "          ...,\n",
       "          [178., 178., 178.,  ..., 174., 175., 175.],\n",
       "          [178., 178., 178.,  ..., 175., 175., 175.],\n",
       "          [178., 178., 178.,  ..., 175., 175., 174.]],\n",
       "\n",
       "         [[243., 243., 243.,  ..., 243., 243., 243.],\n",
       "          [243., 243., 243.,  ..., 243., 243., 243.],\n",
       "          [243., 243., 243.,  ..., 243., 243., 243.],\n",
       "          ...,\n",
       "          [187., 187., 187.,  ..., 178., 179., 179.],\n",
       "          [187., 187., 187.,  ..., 179., 179., 179.],\n",
       "          [187., 187., 187.,  ..., 179., 179., 178.]],\n",
       "\n",
       "         [[245., 245., 245.,  ..., 245., 245., 245.],\n",
       "          [245., 245., 245.,  ..., 245., 245., 245.],\n",
       "          [245., 245., 245.,  ..., 245., 245., 245.],\n",
       "          ...,\n",
       "          [191., 191., 191.,  ..., 183., 184., 184.],\n",
       "          [191., 191., 191.,  ..., 184., 184., 184.],\n",
       "          [191., 191., 191.,  ..., 184., 184., 183.]]],\n",
       "\n",
       "\n",
       "        [[[218., 218., 218.,  ..., 218., 218., 218.],\n",
       "          [218., 218., 218.,  ..., 218., 218., 218.],\n",
       "          [218., 218., 218.,  ..., 218., 218., 218.],\n",
       "          ...,\n",
       "          [181., 180., 180.,  ..., 173., 172., 172.],\n",
       "          [181., 180., 178.,  ..., 173., 173., 172.],\n",
       "          [181., 181., 178.,  ..., 173., 173., 172.]],\n",
       "\n",
       "         [[243., 243., 243.,  ..., 243., 243., 243.],\n",
       "          [243., 243., 243.,  ..., 243., 243., 243.],\n",
       "          [243., 243., 243.,  ..., 243., 243., 243.],\n",
       "          ...,\n",
       "          [187., 186., 185.,  ..., 181., 180., 180.],\n",
       "          [187., 186., 185.,  ..., 181., 181., 180.],\n",
       "          [187., 187., 185.,  ..., 181., 181., 180.]],\n",
       "\n",
       "         [[245., 245., 245.,  ..., 245., 245., 245.],\n",
       "          [245., 245., 245.,  ..., 245., 245., 245.],\n",
       "          [245., 245., 245.,  ..., 245., 245., 245.],\n",
       "          ...,\n",
       "          [194., 193., 194.,  ..., 181., 180., 180.],\n",
       "          [194., 193., 194.,  ..., 181., 181., 180.],\n",
       "          [194., 194., 194.,  ..., 181., 181., 180.]]]])"
      ]
     },
     "execution_count": 24,
     "metadata": {},
     "output_type": "execute_result"
    }
   ],
   "execution_count": 24
  },
  {
   "metadata": {
    "ExecuteTime": {
     "end_time": "2024-09-26T07:39:38.858617Z",
     "start_time": "2024-09-26T02:56:47.784913Z"
    }
   },
   "cell_type": "code",
   "source": "b[0]",
   "id": "3a750f13ea73c189",
   "outputs": [
    {
     "data": {
      "text/plain": [
       "tensor([[[[218., 218., 218.,  ..., 218., 218., 218.],\n",
       "          [218., 218., 218.,  ..., 218., 218., 218.],\n",
       "          [218., 218., 218.,  ..., 218., 218., 218.],\n",
       "          ...,\n",
       "          [184., 184., 185.,  ..., 175., 176., 176.],\n",
       "          [184., 184., 183.,  ..., 176., 176., 176.],\n",
       "          [184., 185., 183.,  ..., 177., 177., 177.]],\n",
       "\n",
       "         [[243., 243., 243.,  ..., 243., 243., 243.],\n",
       "          [243., 243., 243.,  ..., 243., 243., 243.],\n",
       "          [243., 243., 243.,  ..., 243., 243., 243.],\n",
       "          ...,\n",
       "          [190., 190., 191.,  ..., 179., 179., 179.],\n",
       "          [190., 190., 191.,  ..., 179., 178., 178.],\n",
       "          [190., 191., 191.,  ..., 180., 179., 179.]],\n",
       "\n",
       "         [[245., 245., 245.,  ..., 245., 245., 245.],\n",
       "          [245., 245., 245.,  ..., 245., 245., 245.],\n",
       "          [245., 245., 245.,  ..., 245., 245., 245.],\n",
       "          ...,\n",
       "          [197., 197., 198.,  ..., 184., 184., 184.],\n",
       "          [195., 195., 198.,  ..., 184., 186., 186.],\n",
       "          [195., 196., 198.,  ..., 185., 187., 187.]]],\n",
       "\n",
       "\n",
       "        [[[218., 218., 218.,  ..., 218., 218., 218.],\n",
       "          [218., 218., 218.,  ..., 218., 218., 218.],\n",
       "          [218., 218., 218.,  ..., 218., 218., 218.],\n",
       "          ...,\n",
       "          [184., 184., 184.,  ..., 175., 175., 174.],\n",
       "          [183., 183., 184.,  ..., 175., 174., 174.],\n",
       "          [183., 183., 184.,  ..., 175., 175., 175.]],\n",
       "\n",
       "         [[243., 243., 243.,  ..., 243., 243., 243.],\n",
       "          [243., 243., 243.,  ..., 243., 243., 243.],\n",
       "          [243., 243., 243.,  ..., 243., 243., 243.],\n",
       "          ...,\n",
       "          [189., 189., 189.,  ..., 182., 182., 181.],\n",
       "          [188., 188., 189.,  ..., 182., 181., 181.],\n",
       "          [188., 188., 189.,  ..., 182., 182., 182.]],\n",
       "\n",
       "         [[245., 245., 245.,  ..., 245., 245., 245.],\n",
       "          [245., 245., 245.,  ..., 245., 245., 245.],\n",
       "          [245., 245., 245.,  ..., 245., 245., 245.],\n",
       "          ...,\n",
       "          [198., 198., 198.,  ..., 185., 185., 184.],\n",
       "          [197., 197., 198.,  ..., 185., 184., 184.],\n",
       "          [197., 197., 198.,  ..., 185., 185., 185.]]],\n",
       "\n",
       "\n",
       "        [[[218., 218., 218.,  ..., 218., 218., 218.],\n",
       "          [218., 218., 218.,  ..., 218., 218., 218.],\n",
       "          [218., 218., 218.,  ..., 218., 218., 218.],\n",
       "          ...,\n",
       "          [186., 186., 186.,  ..., 174., 174., 174.],\n",
       "          [185., 185., 185.,  ..., 175., 175., 174.],\n",
       "          [186., 186., 185.,  ..., 174., 175., 174.]],\n",
       "\n",
       "         [[243., 243., 243.,  ..., 243., 243., 243.],\n",
       "          [243., 243., 243.,  ..., 243., 243., 243.],\n",
       "          [243., 243., 243.,  ..., 243., 243., 243.],\n",
       "          ...,\n",
       "          [188., 188., 188.,  ..., 180., 180., 180.],\n",
       "          [187., 187., 187.,  ..., 182., 182., 181.],\n",
       "          [188., 188., 187.,  ..., 181., 182., 181.]],\n",
       "\n",
       "         [[245., 245., 245.,  ..., 245., 245., 245.],\n",
       "          [245., 245., 245.,  ..., 245., 245., 245.],\n",
       "          [245., 245., 245.,  ..., 245., 245., 245.],\n",
       "          ...,\n",
       "          [198., 198., 198.,  ..., 185., 185., 185.],\n",
       "          [197., 197., 197.,  ..., 185., 185., 184.],\n",
       "          [198., 198., 197.,  ..., 184., 185., 184.]]],\n",
       "\n",
       "\n",
       "        ...,\n",
       "\n",
       "\n",
       "        [[[218., 218., 218.,  ..., 218., 218., 218.],\n",
       "          [218., 218., 218.,  ..., 218., 218., 218.],\n",
       "          [218., 218., 218.,  ..., 218., 218., 218.],\n",
       "          ...,\n",
       "          [181., 180., 180.,  ..., 175., 175., 176.],\n",
       "          [180., 180., 180.,  ..., 174., 177., 177.],\n",
       "          [180., 180., 180.,  ..., 174., 176., 176.]],\n",
       "\n",
       "         [[243., 243., 243.,  ..., 243., 243., 243.],\n",
       "          [243., 243., 243.,  ..., 243., 243., 243.],\n",
       "          [243., 243., 243.,  ..., 243., 243., 243.],\n",
       "          ...,\n",
       "          [186., 185., 185.,  ..., 178., 178., 179.],\n",
       "          [185., 185., 185.,  ..., 177., 177., 177.],\n",
       "          [185., 185., 185.,  ..., 177., 176., 176.]],\n",
       "\n",
       "         [[245., 245., 245.,  ..., 245., 245., 245.],\n",
       "          [245., 245., 245.,  ..., 245., 245., 245.],\n",
       "          [245., 245., 245.,  ..., 245., 245., 245.],\n",
       "          ...,\n",
       "          [195., 194., 194.,  ..., 183., 183., 184.],\n",
       "          [194., 194., 194.,  ..., 182., 183., 183.],\n",
       "          [194., 194., 194.,  ..., 182., 182., 182.]]],\n",
       "\n",
       "\n",
       "        [[[218., 218., 218.,  ..., 218., 218., 218.],\n",
       "          [218., 218., 218.,  ..., 218., 218., 218.],\n",
       "          [218., 218., 218.,  ..., 218., 218., 218.],\n",
       "          ...,\n",
       "          [178., 178., 178.,  ..., 174., 175., 175.],\n",
       "          [178., 178., 178.,  ..., 175., 175., 175.],\n",
       "          [178., 178., 178.,  ..., 175., 175., 174.]],\n",
       "\n",
       "         [[243., 243., 243.,  ..., 243., 243., 243.],\n",
       "          [243., 243., 243.,  ..., 243., 243., 243.],\n",
       "          [243., 243., 243.,  ..., 243., 243., 243.],\n",
       "          ...,\n",
       "          [187., 187., 187.,  ..., 178., 179., 179.],\n",
       "          [187., 187., 187.,  ..., 179., 179., 179.],\n",
       "          [187., 187., 187.,  ..., 179., 179., 178.]],\n",
       "\n",
       "         [[245., 245., 245.,  ..., 245., 245., 245.],\n",
       "          [245., 245., 245.,  ..., 245., 245., 245.],\n",
       "          [245., 245., 245.,  ..., 245., 245., 245.],\n",
       "          ...,\n",
       "          [191., 191., 191.,  ..., 183., 184., 184.],\n",
       "          [191., 191., 191.,  ..., 184., 184., 184.],\n",
       "          [191., 191., 191.,  ..., 184., 184., 183.]]],\n",
       "\n",
       "\n",
       "        [[[218., 218., 218.,  ..., 218., 218., 218.],\n",
       "          [218., 218., 218.,  ..., 218., 218., 218.],\n",
       "          [218., 218., 218.,  ..., 218., 218., 218.],\n",
       "          ...,\n",
       "          [181., 180., 180.,  ..., 173., 172., 172.],\n",
       "          [181., 180., 178.,  ..., 173., 173., 172.],\n",
       "          [181., 181., 178.,  ..., 173., 173., 172.]],\n",
       "\n",
       "         [[243., 243., 243.,  ..., 243., 243., 243.],\n",
       "          [243., 243., 243.,  ..., 243., 243., 243.],\n",
       "          [243., 243., 243.,  ..., 243., 243., 243.],\n",
       "          ...,\n",
       "          [187., 186., 185.,  ..., 181., 180., 180.],\n",
       "          [187., 186., 185.,  ..., 181., 181., 180.],\n",
       "          [187., 187., 185.,  ..., 181., 181., 180.]],\n",
       "\n",
       "         [[245., 245., 245.,  ..., 245., 245., 245.],\n",
       "          [245., 245., 245.,  ..., 245., 245., 245.],\n",
       "          [245., 245., 245.,  ..., 245., 245., 245.],\n",
       "          ...,\n",
       "          [194., 193., 194.,  ..., 181., 180., 180.],\n",
       "          [194., 193., 194.,  ..., 181., 181., 180.],\n",
       "          [194., 194., 194.,  ..., 181., 181., 180.]]]])"
      ]
     },
     "execution_count": 24,
     "metadata": {},
     "output_type": "execute_result"
    }
   ],
   "execution_count": 24
  },
  {
   "metadata": {
    "ExecuteTime": {
     "end_time": "2024-09-26T07:39:38.859150Z",
     "start_time": "2024-09-26T03:12:46.932785Z"
    }
   },
   "cell_type": "code",
   "source": [
    "for l in range(6, 58):\n",
    "    for c in range(video[0].shape[1]):\n",
    "        for h in range(video[0].shape[2]):\n",
    "            for w in range(video[0].shape[3]):\n",
    "                if video[0][l, c, h, w] != b[0][l - 6, c, h, w]:\n",
    "                    print(video[0][l, c, h, w], b[0][l, c, h, w])"
   ],
   "id": "d1015a057968ab08",
   "outputs": [],
   "execution_count": 25
  },
  {
   "metadata": {},
   "cell_type": "markdown",
   "source": "# CSLDailyDataModule",
   "id": "981051d706b4a07c"
  },
  {
   "metadata": {
    "ExecuteTime": {
     "end_time": "2024-09-27T03:56:23.894558Z",
     "start_time": "2024-09-27T03:56:22.192183Z"
    }
   },
   "cell_type": "code",
   "source": [
    "from slr.datasets import CSLDailyDataModule\n",
    "from tqdm import tqdm\n",
    "\n",
    "datamodule = CSLDailyDataModule(\n",
    "    dataset_dir='/new_home/xzj23/workspace/SLR/data/csl-daily',\n",
    "    batch_size=2,\n",
    "    num_workers=10,\n",
    ")"
   ],
   "id": "e398c8c0bddb357",
   "outputs": [
    {
     "name": "stdout",
     "output_type": "stream",
     "text": [
      "Warning: 'transform' is None, using default values.\n",
      "Warning: 'tokenizer' is None, using default values.\n"
     ]
    }
   ],
   "execution_count": 1
  },
  {
   "metadata": {
    "ExecuteTime": {
     "end_time": "2024-09-27T03:56:24.427042Z",
     "start_time": "2024-09-27T03:56:23.988146Z"
    }
   },
   "cell_type": "code",
   "source": "datamodule.setup('fit')",
   "id": "adb48ddce92b41b8",
   "outputs": [],
   "execution_count": 2
  },
  {
   "metadata": {
    "ExecuteTime": {
     "end_time": "2024-09-27T03:56:24.717270Z",
     "start_time": "2024-09-27T03:56:24.715554Z"
    }
   },
   "cell_type": "code",
   "source": "dl = datamodule.train_dataloader()",
   "id": "606c5d5b56379c7d",
   "outputs": [],
   "execution_count": 3
  },
  {
   "metadata": {
    "ExecuteTime": {
     "end_time": "2024-09-27T03:58:01.329474Z",
     "start_time": "2024-09-27T03:56:25.623841Z"
    }
   },
   "cell_type": "code",
   "source": [
    "for x, y, x_lgt, y_lgt, info in tqdm(dl):\n",
    "    print(x.shape)"
   ],
   "id": "3b83167c59751e23",
   "outputs": [
    {
     "name": "stderr",
     "output_type": "stream",
     "text": [
      "  0%|          | 1/9200 [00:05<15:07:38,  5.92s/it]"
     ]
    },
    {
     "name": "stdout",
     "output_type": "stream",
     "text": [
      "torch.Size([2, 167, 3, 224, 224])\n",
      "torch.Size([2, 129, 3, 224, 224])\n",
      "torch.Size([2, 136, 3, 224, 224])\n"
     ]
    },
    {
     "name": "stderr",
     "output_type": "stream",
     "text": [
      "  0%|          | 4/9200 [00:09<5:27:24,  2.14s/it] "
     ]
    },
    {
     "name": "stdout",
     "output_type": "stream",
     "text": [
      "torch.Size([2, 256, 3, 224, 224])\n",
      "torch.Size([2, 133, 3, 224, 224])\n",
      "torch.Size([2, 196, 3, 224, 224])\n",
      "torch.Size([2, 184, 3, 224, 224])\n",
      "torch.Size([2, 100, 3, 224, 224])\n",
      "torch.Size([2, 145, 3, 224, 224])\n",
      "torch.Size([2, 107, 3, 224, 224])\n"
     ]
    },
    {
     "name": "stderr",
     "output_type": "stream",
     "text": [
      "  0%|          | 11/9200 [00:10<1:39:17,  1.54it/s]"
     ]
    },
    {
     "name": "stdout",
     "output_type": "stream",
     "text": [
      "torch.Size([2, 152, 3, 224, 224])\n",
      "torch.Size([2, 154, 3, 224, 224])\n",
      "torch.Size([2, 164, 3, 224, 224])\n"
     ]
    },
    {
     "name": "stderr",
     "output_type": "stream",
     "text": [
      "  0%|          | 14/9200 [00:11<1:26:14,  1.78it/s]"
     ]
    },
    {
     "name": "stdout",
     "output_type": "stream",
     "text": [
      "torch.Size([2, 81, 3, 224, 224])\n",
      "torch.Size([2, 147, 3, 224, 224])\n",
      "torch.Size([2, 121, 3, 224, 224])\n",
      "torch.Size([2, 155, 3, 224, 224])\n",
      "torch.Size([2, 189, 3, 224, 224])\n",
      "torch.Size([2, 99, 3, 224, 224])\n"
     ]
    },
    {
     "name": "stderr",
     "output_type": "stream",
     "text": [
      "  0%|          | 20/9200 [00:12<55:57,  2.73it/s]  "
     ]
    },
    {
     "name": "stdout",
     "output_type": "stream",
     "text": [
      "torch.Size([2, 242, 3, 224, 224])\n"
     ]
    },
    {
     "name": "stderr",
     "output_type": "stream",
     "text": [
      "  0%|          | 21/9200 [00:14<1:25:07,  1.80it/s]"
     ]
    },
    {
     "name": "stdout",
     "output_type": "stream",
     "text": [
      "torch.Size([2, 148, 3, 224, 224])\n",
      "torch.Size([2, 133, 3, 224, 224])\n",
      "torch.Size([2, 130, 3, 224, 224])\n"
     ]
    },
    {
     "name": "stderr",
     "output_type": "stream",
     "text": [
      "  0%|          | 24/9200 [00:15<1:09:51,  2.19it/s]"
     ]
    },
    {
     "name": "stdout",
     "output_type": "stream",
     "text": [
      "torch.Size([2, 132, 3, 224, 224])\n",
      "torch.Size([2, 140, 3, 224, 224])\n"
     ]
    },
    {
     "name": "stderr",
     "output_type": "stream",
     "text": [
      "  0%|          | 26/9200 [00:17<1:25:41,  1.78it/s]"
     ]
    },
    {
     "name": "stdout",
     "output_type": "stream",
     "text": [
      "torch.Size([2, 307, 3, 224, 224])\n",
      "torch.Size([2, 163, 3, 224, 224])\n"
     ]
    },
    {
     "name": "stderr",
     "output_type": "stream",
     "text": [
      "  0%|          | 28/9200 [00:19<1:48:56,  1.40it/s]"
     ]
    },
    {
     "name": "stdout",
     "output_type": "stream",
     "text": [
      "torch.Size([2, 287, 3, 224, 224])\n",
      "torch.Size([2, 122, 3, 224, 224])\n",
      "torch.Size([2, 129, 3, 224, 224])\n"
     ]
    },
    {
     "name": "stderr",
     "output_type": "stream",
     "text": [
      "  0%|          | 31/9200 [00:21<1:38:34,  1.55it/s]"
     ]
    },
    {
     "name": "stdout",
     "output_type": "stream",
     "text": [
      "torch.Size([2, 184, 3, 224, 224])\n"
     ]
    },
    {
     "name": "stderr",
     "output_type": "stream",
     "text": [
      "  0%|          | 32/9200 [00:21<1:34:45,  1.61it/s]"
     ]
    },
    {
     "name": "stdout",
     "output_type": "stream",
     "text": [
      "torch.Size([2, 251, 3, 224, 224])\n",
      "torch.Size([2, 142, 3, 224, 224])\n"
     ]
    },
    {
     "name": "stderr",
     "output_type": "stream",
     "text": [
      "  0%|          | 34/9200 [00:21<1:13:27,  2.08it/s]"
     ]
    },
    {
     "name": "stdout",
     "output_type": "stream",
     "text": [
      "torch.Size([2, 197, 3, 224, 224])\n",
      "torch.Size([2, 168, 3, 224, 224])\n",
      "torch.Size([2, 126, 3, 224, 224])\n",
      "torch.Size([2, 187, 3, 224, 224])\n"
     ]
    },
    {
     "name": "stderr",
     "output_type": "stream",
     "text": [
      "  0%|          | 38/9200 [00:25<1:48:01,  1.41it/s]"
     ]
    },
    {
     "name": "stdout",
     "output_type": "stream",
     "text": [
      "torch.Size([2, 197, 3, 224, 224])\n",
      "torch.Size([2, 183, 3, 224, 224])\n",
      "torch.Size([2, 294, 3, 224, 224])\n"
     ]
    },
    {
     "name": "stderr",
     "output_type": "stream",
     "text": [
      "  0%|          | 41/9200 [00:26<1:27:27,  1.75it/s]"
     ]
    },
    {
     "name": "stdout",
     "output_type": "stream",
     "text": [
      "torch.Size([2, 168, 3, 224, 224])\n",
      "torch.Size([2, 163, 3, 224, 224])\n",
      "torch.Size([2, 220, 3, 224, 224])\n",
      "torch.Size([2, 136, 3, 224, 224])\n"
     ]
    },
    {
     "name": "stderr",
     "output_type": "stream",
     "text": [
      "  0%|          | 45/9200 [00:27<1:05:56,  2.31it/s]"
     ]
    },
    {
     "name": "stdout",
     "output_type": "stream",
     "text": [
      "torch.Size([2, 264, 3, 224, 224])\n",
      "torch.Size([2, 146, 3, 224, 224])\n",
      "torch.Size([2, 196, 3, 224, 224])\n"
     ]
    },
    {
     "name": "stderr",
     "output_type": "stream",
     "text": [
      "  1%|          | 48/9200 [00:28<1:06:12,  2.30it/s]"
     ]
    },
    {
     "name": "stdout",
     "output_type": "stream",
     "text": [
      "torch.Size([2, 91, 3, 224, 224])\n",
      "torch.Size([2, 154, 3, 224, 224])\n"
     ]
    },
    {
     "name": "stderr",
     "output_type": "stream",
     "text": [
      "  1%|          | 50/9200 [00:30<1:27:09,  1.75it/s]"
     ]
    },
    {
     "name": "stdout",
     "output_type": "stream",
     "text": [
      "torch.Size([2, 179, 3, 224, 224])\n"
     ]
    },
    {
     "name": "stderr",
     "output_type": "stream",
     "text": [
      "  1%|          | 51/9200 [00:32<1:52:57,  1.35it/s]"
     ]
    },
    {
     "name": "stdout",
     "output_type": "stream",
     "text": [
      "torch.Size([2, 193, 3, 224, 224])\n",
      "torch.Size([2, 118, 3, 224, 224])\n",
      "torch.Size([2, 176, 3, 224, 224])\n",
      "torch.Size([2, 103, 3, 224, 224])\n",
      "torch.Size([2, 100, 3, 224, 224])\n",
      "torch.Size([2, 135, 3, 224, 224])\n"
     ]
    },
    {
     "name": "stderr",
     "output_type": "stream",
     "text": [
      "  1%|          | 57/9200 [00:32<55:48,  2.73it/s]  "
     ]
    },
    {
     "name": "stdout",
     "output_type": "stream",
     "text": [
      "torch.Size([2, 241, 3, 224, 224])\n"
     ]
    },
    {
     "name": "stderr",
     "output_type": "stream",
     "text": [
      "  1%|          | 58/9200 [00:33<1:06:35,  2.29it/s]"
     ]
    },
    {
     "name": "stdout",
     "output_type": "stream",
     "text": [
      "torch.Size([2, 155, 3, 224, 224])\n",
      "torch.Size([2, 173, 3, 224, 224])\n"
     ]
    },
    {
     "name": "stderr",
     "output_type": "stream",
     "text": [
      "  1%|          | 60/9200 [00:34<1:08:27,  2.22it/s]"
     ]
    },
    {
     "name": "stdout",
     "output_type": "stream",
     "text": [
      "torch.Size([2, 136, 3, 224, 224])\n"
     ]
    },
    {
     "name": "stderr",
     "output_type": "stream",
     "text": [
      "  1%|          | 61/9200 [00:36<1:38:02,  1.55it/s]"
     ]
    },
    {
     "name": "stdout",
     "output_type": "stream",
     "text": [
      "torch.Size([2, 126, 3, 224, 224])\n",
      "torch.Size([2, 135, 3, 224, 224])\n",
      "torch.Size([2, 130, 3, 224, 224])\n",
      "torch.Size([2, 159, 3, 224, 224])\n",
      "torch.Size([2, 166, 3, 224, 224])\n",
      "torch.Size([2, 88, 3, 224, 224])\n"
     ]
    },
    {
     "name": "stderr",
     "output_type": "stream",
     "text": [
      "  1%|          | 67/9200 [00:38<1:09:10,  2.20it/s]"
     ]
    },
    {
     "name": "stdout",
     "output_type": "stream",
     "text": [
      "torch.Size([2, 182, 3, 224, 224])\n",
      "torch.Size([2, 114, 3, 224, 224])\n",
      "torch.Size([2, 142, 3, 224, 224])\n"
     ]
    },
    {
     "name": "stderr",
     "output_type": "stream",
     "text": [
      "  1%|          | 77/9200 [00:43<1:02:36,  2.43it/s]"
     ]
    },
    {
     "name": "stdout",
     "output_type": "stream",
     "text": [
      "torch.Size([2, 322, 3, 224, 224])\n",
      "torch.Size([2, 120, 3, 224, 224])\n",
      "torch.Size([2, 131, 3, 224, 224])\n",
      "torch.Size([2, 193, 3, 224, 224])\n",
      "torch.Size([2, 98, 3, 224, 224])\n",
      "torch.Size([2, 135, 3, 224, 224])\n",
      "torch.Size([2, 184, 3, 224, 224])\n",
      "torch.Size([2, 204, 3, 224, 224])\n",
      "torch.Size([2, 133, 3, 224, 224])\n",
      "torch.Size([2, 76, 3, 224, 224])\n"
     ]
    },
    {
     "name": "stderr",
     "output_type": "stream",
     "text": [
      "  1%|          | 80/9200 [00:48<1:45:26,  1.44it/s]"
     ]
    },
    {
     "name": "stdout",
     "output_type": "stream",
     "text": [
      "torch.Size([2, 257, 3, 224, 224])\n",
      "torch.Size([2, 159, 3, 224, 224])\n",
      "torch.Size([2, 100, 3, 224, 224])\n",
      "torch.Size([2, 129, 3, 224, 224])\n",
      "torch.Size([2, 68, 3, 224, 224])\n",
      "torch.Size([2, 173, 3, 224, 224])\n",
      "torch.Size([2, 149, 3, 224, 224])\n",
      "torch.Size([2, 196, 3, 224, 224])\n",
      "torch.Size([2, 140, 3, 224, 224])\n",
      "torch.Size([2, 177, 3, 224, 224])\n"
     ]
    },
    {
     "name": "stderr",
     "output_type": "stream",
     "text": [
      "  1%|          | 90/9200 [00:53<1:27:58,  1.73it/s]"
     ]
    },
    {
     "name": "stdout",
     "output_type": "stream",
     "text": [
      "torch.Size([2, 222, 3, 224, 224])\n",
      "torch.Size([2, 190, 3, 224, 224])\n",
      "torch.Size([2, 135, 3, 224, 224])\n",
      "torch.Size([2, 134, 3, 224, 224])\n",
      "torch.Size([2, 169, 3, 224, 224])\n",
      "torch.Size([2, 146, 3, 224, 224])\n",
      "torch.Size([2, 126, 3, 224, 224])\n",
      "torch.Size([2, 184, 3, 224, 224])\n",
      "torch.Size([2, 135, 3, 224, 224])\n",
      "torch.Size([2, 197, 3, 224, 224])\n"
     ]
    },
    {
     "name": "stderr",
     "output_type": "stream",
     "text": [
      "  1%|          | 100/9200 [00:58<1:22:15,  1.84it/s]"
     ]
    },
    {
     "name": "stdout",
     "output_type": "stream",
     "text": [
      "torch.Size([2, 173, 3, 224, 224])\n",
      "torch.Size([2, 118, 3, 224, 224])\n",
      "torch.Size([2, 144, 3, 224, 224])\n",
      "torch.Size([2, 168, 3, 224, 224])\n",
      "torch.Size([2, 159, 3, 224, 224])\n",
      "torch.Size([2, 100, 3, 224, 224])\n",
      "torch.Size([2, 88, 3, 224, 224])\n",
      "torch.Size([2, 163, 3, 224, 224])\n",
      "torch.Size([2, 176, 3, 224, 224])\n",
      "torch.Size([2, 153, 3, 224, 224])\n"
     ]
    },
    {
     "name": "stderr",
     "output_type": "stream",
     "text": [
      "  1%|          | 110/9200 [01:01<1:10:35,  2.15it/s]"
     ]
    },
    {
     "name": "stdout",
     "output_type": "stream",
     "text": [
      "torch.Size([2, 133, 3, 224, 224])\n",
      "torch.Size([2, 136, 3, 224, 224])\n",
      "torch.Size([2, 127, 3, 224, 224])\n",
      "torch.Size([2, 164, 3, 224, 224])\n",
      "torch.Size([2, 122, 3, 224, 224])\n",
      "torch.Size([2, 167, 3, 224, 224])\n",
      "torch.Size([2, 190, 3, 224, 224])\n",
      "torch.Size([2, 197, 3, 224, 224])\n",
      "torch.Size([2, 122, 3, 224, 224])\n",
      "torch.Size([2, 205, 3, 224, 224])\n"
     ]
    },
    {
     "name": "stderr",
     "output_type": "stream",
     "text": [
      "  1%|▏         | 120/9200 [01:04<1:01:37,  2.46it/s]"
     ]
    },
    {
     "name": "stdout",
     "output_type": "stream",
     "text": [
      "torch.Size([2, 109, 3, 224, 224])\n",
      "torch.Size([2, 189, 3, 224, 224])\n",
      "torch.Size([2, 172, 3, 224, 224])\n"
     ]
    },
    {
     "name": "stderr",
     "output_type": "stream",
     "text": [
      "  1%|▏         | 123/9200 [01:05<59:15,  2.55it/s]  "
     ]
    },
    {
     "name": "stdout",
     "output_type": "stream",
     "text": [
      "torch.Size([2, 211, 3, 224, 224])\n",
      "torch.Size([2, 98, 3, 224, 224])\n",
      "torch.Size([2, 110, 3, 224, 224])\n",
      "torch.Size([2, 178, 3, 224, 224])\n",
      "torch.Size([2, 153, 3, 224, 224])\n",
      "torch.Size([2, 193, 3, 224, 224])\n",
      "torch.Size([2, 219, 3, 224, 224])\n"
     ]
    },
    {
     "name": "stderr",
     "output_type": "stream",
     "text": [
      "  1%|▏         | 130/9200 [01:09<1:06:24,  2.28it/s]"
     ]
    },
    {
     "name": "stdout",
     "output_type": "stream",
     "text": [
      "torch.Size([2, 133, 3, 224, 224])\n",
      "torch.Size([2, 278, 3, 224, 224])\n",
      "torch.Size([2, 83, 3, 224, 224])\n"
     ]
    },
    {
     "name": "stderr",
     "output_type": "stream",
     "text": [
      "  1%|▏         | 133/9200 [01:09<1:02:16,  2.43it/s]"
     ]
    },
    {
     "name": "stdout",
     "output_type": "stream",
     "text": [
      "torch.Size([2, 168, 3, 224, 224])\n",
      "torch.Size([2, 110, 3, 224, 224])\n",
      "torch.Size([2, 86, 3, 224, 224])\n",
      "torch.Size([2, 102, 3, 224, 224])\n"
     ]
    },
    {
     "name": "stderr",
     "output_type": "stream",
     "text": [
      "  1%|▏         | 137/9200 [01:10<51:11,  2.95it/s]  "
     ]
    },
    {
     "name": "stdout",
     "output_type": "stream",
     "text": [
      "torch.Size([2, 203, 3, 224, 224])\n",
      "torch.Size([2, 179, 3, 224, 224])\n",
      "torch.Size([2, 101, 3, 224, 224])\n"
     ]
    },
    {
     "name": "stderr",
     "output_type": "stream",
     "text": [
      "  2%|▏         | 140/9200 [01:12<1:04:13,  2.35it/s]"
     ]
    },
    {
     "name": "stdout",
     "output_type": "stream",
     "text": [
      "torch.Size([2, 113, 3, 224, 224])\n",
      "torch.Size([2, 76, 3, 224, 224])\n",
      "torch.Size([2, 137, 3, 224, 224])\n",
      "torch.Size([2, 110, 3, 224, 224])\n",
      "torch.Size([2, 148, 3, 224, 224])\n",
      "torch.Size([2, 102, 3, 224, 224])\n",
      "torch.Size([2, 121, 3, 224, 224])\n"
     ]
    },
    {
     "name": "stderr",
     "output_type": "stream",
     "text": [
      "  2%|▏         | 147/9200 [01:14<53:35,  2.82it/s]  "
     ]
    },
    {
     "name": "stdout",
     "output_type": "stream",
     "text": [
      "torch.Size([2, 134, 3, 224, 224])\n",
      "torch.Size([2, 168, 3, 224, 224])\n"
     ]
    },
    {
     "name": "stderr",
     "output_type": "stream",
     "text": [
      "  2%|▏         | 149/9200 [01:14<49:10,  3.07it/s]"
     ]
    },
    {
     "name": "stdout",
     "output_type": "stream",
     "text": [
      "torch.Size([2, 190, 3, 224, 224])\n"
     ]
    },
    {
     "name": "stderr",
     "output_type": "stream",
     "text": [
      "  2%|▏         | 150/9200 [01:15<58:47,  2.57it/s]"
     ]
    },
    {
     "name": "stdout",
     "output_type": "stream",
     "text": [
      "torch.Size([2, 126, 3, 224, 224])\n",
      "torch.Size([2, 75, 3, 224, 224])\n"
     ]
    },
    {
     "name": "stderr",
     "output_type": "stream",
     "text": [
      "  2%|▏         | 152/9200 [01:16<1:00:35,  2.49it/s]"
     ]
    },
    {
     "name": "stdout",
     "output_type": "stream",
     "text": [
      "torch.Size([2, 158, 3, 224, 224])\n",
      "torch.Size([2, 111, 3, 224, 224])\n",
      "torch.Size([2, 162, 3, 224, 224])\n",
      "torch.Size([2, 128, 3, 224, 224])\n",
      "torch.Size([2, 136, 3, 224, 224])\n"
     ]
    },
    {
     "name": "stderr",
     "output_type": "stream",
     "text": [
      "  2%|▏         | 157/9200 [01:18<53:33,  2.81it/s]  "
     ]
    },
    {
     "name": "stdout",
     "output_type": "stream",
     "text": [
      "torch.Size([2, 113, 3, 224, 224])\n",
      "torch.Size([2, 173, 3, 224, 224])\n"
     ]
    },
    {
     "name": "stderr",
     "output_type": "stream",
     "text": [
      "  2%|▏         | 162/9200 [01:21<1:03:33,  2.37it/s]"
     ]
    },
    {
     "name": "stdout",
     "output_type": "stream",
     "text": [
      "torch.Size([2, 195, 3, 224, 224])\n",
      "torch.Size([2, 60, 3, 224, 224])\n",
      "torch.Size([2, 144, 3, 224, 224])\n",
      "torch.Size([2, 175, 3, 224, 224])\n",
      "torch.Size([2, 147, 3, 224, 224])\n"
     ]
    },
    {
     "name": "stderr",
     "output_type": "stream",
     "text": [
      "  2%|▏         | 164/9200 [01:22<1:14:54,  2.01it/s]"
     ]
    },
    {
     "name": "stdout",
     "output_type": "stream",
     "text": [
      "torch.Size([2, 244, 3, 224, 224])\n",
      "torch.Size([2, 154, 3, 224, 224])\n",
      "torch.Size([2, 209, 3, 224, 224])\n"
     ]
    },
    {
     "name": "stderr",
     "output_type": "stream",
     "text": [
      "  2%|▏         | 167/9200 [01:23<58:10,  2.59it/s]  "
     ]
    },
    {
     "name": "stdout",
     "output_type": "stream",
     "text": [
      "torch.Size([2, 208, 3, 224, 224])\n"
     ]
    },
    {
     "name": "stderr",
     "output_type": "stream",
     "text": [
      "  2%|▏         | 168/9200 [01:25<1:40:10,  1.50it/s]"
     ]
    },
    {
     "name": "stdout",
     "output_type": "stream",
     "text": [
      "torch.Size([2, 231, 3, 224, 224])\n",
      "torch.Size([2, 118, 3, 224, 224])\n",
      "torch.Size([2, 174, 3, 224, 224])\n",
      "torch.Size([2, 155, 3, 224, 224])\n",
      "torch.Size([2, 140, 3, 224, 224])\n",
      "torch.Size([2, 98, 3, 224, 224])\n"
     ]
    },
    {
     "name": "stderr",
     "output_type": "stream",
     "text": [
      "  2%|▏         | 174/9200 [01:27<1:11:28,  2.10it/s]"
     ]
    },
    {
     "name": "stdout",
     "output_type": "stream",
     "text": [
      "torch.Size([2, 147, 3, 224, 224])\n",
      "torch.Size([2, 119, 3, 224, 224])\n",
      "torch.Size([2, 176, 3, 224, 224])\n",
      "torch.Size([2, 116, 3, 224, 224])\n"
     ]
    },
    {
     "name": "stderr",
     "output_type": "stream",
     "text": [
      "  2%|▏         | 178/9200 [01:28<1:03:30,  2.37it/s]"
     ]
    },
    {
     "name": "stdout",
     "output_type": "stream",
     "text": [
      "torch.Size([2, 97, 3, 224, 224])\n"
     ]
    },
    {
     "name": "stderr",
     "output_type": "stream",
     "text": [
      "  2%|▏         | 179/9200 [01:30<1:20:46,  1.86it/s]"
     ]
    },
    {
     "name": "stdout",
     "output_type": "stream",
     "text": [
      "torch.Size([2, 174, 3, 224, 224])\n",
      "torch.Size([2, 162, 3, 224, 224])\n",
      "torch.Size([2, 109, 3, 224, 224])\n"
     ]
    },
    {
     "name": "stderr",
     "output_type": "stream",
     "text": [
      "  2%|▏         | 182/9200 [01:30<1:04:06,  2.34it/s]"
     ]
    },
    {
     "name": "stdout",
     "output_type": "stream",
     "text": [
      "torch.Size([2, 189, 3, 224, 224])\n",
      "torch.Size([2, 101, 3, 224, 224])\n"
     ]
    },
    {
     "name": "stderr",
     "output_type": "stream",
     "text": [
      "  2%|▏         | 184/9200 [01:31<56:08,  2.68it/s]  "
     ]
    },
    {
     "name": "stdout",
     "output_type": "stream",
     "text": [
      "torch.Size([2, 141, 3, 224, 224])\n",
      "torch.Size([2, 166, 3, 224, 224])\n",
      "torch.Size([2, 184, 3, 224, 224])\n",
      "torch.Size([2, 126, 3, 224, 224])\n"
     ]
    },
    {
     "name": "stderr",
     "output_type": "stream",
     "text": [
      "  2%|▏         | 188/9200 [01:34<1:28:05,  1.70it/s]"
     ]
    },
    {
     "name": "stdout",
     "output_type": "stream",
     "text": [
      "torch.Size([2, 183, 3, 224, 224])\n",
      "torch.Size([2, 139, 3, 224, 224])\n",
      "torch.Size([2, 209, 3, 224, 224])\n",
      "torch.Size([2, 140, 3, 224, 224])\n",
      "torch.Size([2, 108, 3, 224, 224])\n",
      "torch.Size([2, 89, 3, 224, 224])\n"
     ]
    },
    {
     "name": "stderr",
     "output_type": "stream",
     "text": [
      "  2%|▏         | 197/9200 [01:35<1:12:42,  2.06it/s]"
     ]
    },
    {
     "name": "stdout",
     "output_type": "stream",
     "text": [
      "torch.Size([2, 123, 3, 224, 224])\n",
      "torch.Size([2, 177, 3, 224, 224])\n",
      "torch.Size([2, 179, 3, 224, 224])\n",
      "torch.Size([2, 170, 3, 224, 224])\n"
     ]
    },
    {
     "name": "stderr",
     "output_type": "stream",
     "text": [
      "\n"
     ]
    },
    {
     "ename": "KeyboardInterrupt",
     "evalue": "",
     "output_type": "error",
     "traceback": [
      "\u001B[0;31m---------------------------------------------------------------------------\u001B[0m",
      "\u001B[0;31mKeyboardInterrupt\u001B[0m                         Traceback (most recent call last)",
      "Cell \u001B[0;32mIn[4], line 1\u001B[0m\n\u001B[0;32m----> 1\u001B[0m \u001B[38;5;28;01mfor\u001B[39;00m x, y, x_lgt, y_lgt, info \u001B[38;5;129;01min\u001B[39;00m tqdm(dl):\n\u001B[1;32m      2\u001B[0m     \u001B[38;5;28mprint\u001B[39m(x\u001B[38;5;241m.\u001B[39mshape)\n",
      "File \u001B[0;32m~/.conda/envs/slr/lib/python3.10/site-packages/tqdm/std.py:1181\u001B[0m, in \u001B[0;36mtqdm.__iter__\u001B[0;34m(self)\u001B[0m\n\u001B[1;32m   1178\u001B[0m time \u001B[38;5;241m=\u001B[39m \u001B[38;5;28mself\u001B[39m\u001B[38;5;241m.\u001B[39m_time\n\u001B[1;32m   1180\u001B[0m \u001B[38;5;28;01mtry\u001B[39;00m:\n\u001B[0;32m-> 1181\u001B[0m     \u001B[38;5;28;01mfor\u001B[39;00m obj \u001B[38;5;129;01min\u001B[39;00m iterable:\n\u001B[1;32m   1182\u001B[0m         \u001B[38;5;28;01myield\u001B[39;00m obj\n\u001B[1;32m   1183\u001B[0m         \u001B[38;5;66;03m# Update and possibly print the progressbar.\u001B[39;00m\n\u001B[1;32m   1184\u001B[0m         \u001B[38;5;66;03m# Note: does not call self.update(1) for speed optimisation.\u001B[39;00m\n",
      "File \u001B[0;32m~/.conda/envs/slr/lib/python3.10/site-packages/torch/utils/data/dataloader.py:628\u001B[0m, in \u001B[0;36m_BaseDataLoaderIter.__next__\u001B[0;34m(self)\u001B[0m\n\u001B[1;32m    625\u001B[0m \u001B[38;5;28;01mif\u001B[39;00m \u001B[38;5;28mself\u001B[39m\u001B[38;5;241m.\u001B[39m_sampler_iter \u001B[38;5;129;01mis\u001B[39;00m \u001B[38;5;28;01mNone\u001B[39;00m:\n\u001B[1;32m    626\u001B[0m     \u001B[38;5;66;03m# TODO(https://github.com/pytorch/pytorch/issues/76750)\u001B[39;00m\n\u001B[1;32m    627\u001B[0m     \u001B[38;5;28mself\u001B[39m\u001B[38;5;241m.\u001B[39m_reset()  \u001B[38;5;66;03m# type: ignore[call-arg]\u001B[39;00m\n\u001B[0;32m--> 628\u001B[0m data \u001B[38;5;241m=\u001B[39m \u001B[38;5;28;43mself\u001B[39;49m\u001B[38;5;241;43m.\u001B[39;49m\u001B[43m_next_data\u001B[49m\u001B[43m(\u001B[49m\u001B[43m)\u001B[49m\n\u001B[1;32m    629\u001B[0m \u001B[38;5;28mself\u001B[39m\u001B[38;5;241m.\u001B[39m_num_yielded \u001B[38;5;241m+\u001B[39m\u001B[38;5;241m=\u001B[39m \u001B[38;5;241m1\u001B[39m\n\u001B[1;32m    630\u001B[0m \u001B[38;5;28;01mif\u001B[39;00m \u001B[38;5;28mself\u001B[39m\u001B[38;5;241m.\u001B[39m_dataset_kind \u001B[38;5;241m==\u001B[39m _DatasetKind\u001B[38;5;241m.\u001B[39mIterable \u001B[38;5;129;01mand\u001B[39;00m \\\n\u001B[1;32m    631\u001B[0m         \u001B[38;5;28mself\u001B[39m\u001B[38;5;241m.\u001B[39m_IterableDataset_len_called \u001B[38;5;129;01mis\u001B[39;00m \u001B[38;5;129;01mnot\u001B[39;00m \u001B[38;5;28;01mNone\u001B[39;00m \u001B[38;5;129;01mand\u001B[39;00m \\\n\u001B[1;32m    632\u001B[0m         \u001B[38;5;28mself\u001B[39m\u001B[38;5;241m.\u001B[39m_num_yielded \u001B[38;5;241m>\u001B[39m \u001B[38;5;28mself\u001B[39m\u001B[38;5;241m.\u001B[39m_IterableDataset_len_called:\n",
      "File \u001B[0;32m~/.conda/envs/slr/lib/python3.10/site-packages/torch/utils/data/dataloader.py:1316\u001B[0m, in \u001B[0;36m_MultiProcessingDataLoaderIter._next_data\u001B[0;34m(self)\u001B[0m\n\u001B[1;32m   1313\u001B[0m     \u001B[38;5;28;01mreturn\u001B[39;00m \u001B[38;5;28mself\u001B[39m\u001B[38;5;241m.\u001B[39m_process_data(data)\n\u001B[1;32m   1315\u001B[0m \u001B[38;5;28;01massert\u001B[39;00m \u001B[38;5;129;01mnot\u001B[39;00m \u001B[38;5;28mself\u001B[39m\u001B[38;5;241m.\u001B[39m_shutdown \u001B[38;5;129;01mand\u001B[39;00m \u001B[38;5;28mself\u001B[39m\u001B[38;5;241m.\u001B[39m_tasks_outstanding \u001B[38;5;241m>\u001B[39m \u001B[38;5;241m0\u001B[39m\n\u001B[0;32m-> 1316\u001B[0m idx, data \u001B[38;5;241m=\u001B[39m \u001B[38;5;28;43mself\u001B[39;49m\u001B[38;5;241;43m.\u001B[39;49m\u001B[43m_get_data\u001B[49m\u001B[43m(\u001B[49m\u001B[43m)\u001B[49m\n\u001B[1;32m   1317\u001B[0m \u001B[38;5;28mself\u001B[39m\u001B[38;5;241m.\u001B[39m_tasks_outstanding \u001B[38;5;241m-\u001B[39m\u001B[38;5;241m=\u001B[39m \u001B[38;5;241m1\u001B[39m\n\u001B[1;32m   1318\u001B[0m \u001B[38;5;28;01mif\u001B[39;00m \u001B[38;5;28mself\u001B[39m\u001B[38;5;241m.\u001B[39m_dataset_kind \u001B[38;5;241m==\u001B[39m _DatasetKind\u001B[38;5;241m.\u001B[39mIterable:\n\u001B[1;32m   1319\u001B[0m     \u001B[38;5;66;03m# Check for _IterableDatasetStopIteration\u001B[39;00m\n",
      "File \u001B[0;32m~/.conda/envs/slr/lib/python3.10/site-packages/torch/utils/data/dataloader.py:1272\u001B[0m, in \u001B[0;36m_MultiProcessingDataLoaderIter._get_data\u001B[0;34m(self)\u001B[0m\n\u001B[1;32m   1270\u001B[0m \u001B[38;5;28;01melif\u001B[39;00m \u001B[38;5;28mself\u001B[39m\u001B[38;5;241m.\u001B[39m_pin_memory:\n\u001B[1;32m   1271\u001B[0m     \u001B[38;5;28;01mwhile\u001B[39;00m \u001B[38;5;28mself\u001B[39m\u001B[38;5;241m.\u001B[39m_pin_memory_thread\u001B[38;5;241m.\u001B[39mis_alive():\n\u001B[0;32m-> 1272\u001B[0m         success, data \u001B[38;5;241m=\u001B[39m \u001B[38;5;28;43mself\u001B[39;49m\u001B[38;5;241;43m.\u001B[39;49m\u001B[43m_try_get_data\u001B[49m\u001B[43m(\u001B[49m\u001B[43m)\u001B[49m\n\u001B[1;32m   1273\u001B[0m         \u001B[38;5;28;01mif\u001B[39;00m success:\n\u001B[1;32m   1274\u001B[0m             \u001B[38;5;28;01mreturn\u001B[39;00m data\n",
      "File \u001B[0;32m~/.conda/envs/slr/lib/python3.10/site-packages/torch/utils/data/dataloader.py:1120\u001B[0m, in \u001B[0;36m_MultiProcessingDataLoaderIter._try_get_data\u001B[0;34m(self, timeout)\u001B[0m\n\u001B[1;32m   1107\u001B[0m \u001B[38;5;28;01mdef\u001B[39;00m \u001B[38;5;21m_try_get_data\u001B[39m(\u001B[38;5;28mself\u001B[39m, timeout\u001B[38;5;241m=\u001B[39m_utils\u001B[38;5;241m.\u001B[39mMP_STATUS_CHECK_INTERVAL):\n\u001B[1;32m   1108\u001B[0m     \u001B[38;5;66;03m# Tries to fetch data from `self._data_queue` once for a given timeout.\u001B[39;00m\n\u001B[1;32m   1109\u001B[0m     \u001B[38;5;66;03m# This can also be used as inner loop of fetching without timeout, with\u001B[39;00m\n\u001B[0;32m   (...)\u001B[0m\n\u001B[1;32m   1117\u001B[0m     \u001B[38;5;66;03m# Returns a 2-tuple:\u001B[39;00m\n\u001B[1;32m   1118\u001B[0m     \u001B[38;5;66;03m#   (bool: whether successfully get data, any: data if successful else None)\u001B[39;00m\n\u001B[1;32m   1119\u001B[0m     \u001B[38;5;28;01mtry\u001B[39;00m:\n\u001B[0;32m-> 1120\u001B[0m         data \u001B[38;5;241m=\u001B[39m \u001B[38;5;28;43mself\u001B[39;49m\u001B[38;5;241;43m.\u001B[39;49m\u001B[43m_data_queue\u001B[49m\u001B[38;5;241;43m.\u001B[39;49m\u001B[43mget\u001B[49m\u001B[43m(\u001B[49m\u001B[43mtimeout\u001B[49m\u001B[38;5;241;43m=\u001B[39;49m\u001B[43mtimeout\u001B[49m\u001B[43m)\u001B[49m\n\u001B[1;32m   1121\u001B[0m         \u001B[38;5;28;01mreturn\u001B[39;00m (\u001B[38;5;28;01mTrue\u001B[39;00m, data)\n\u001B[1;32m   1122\u001B[0m     \u001B[38;5;28;01mexcept\u001B[39;00m \u001B[38;5;167;01mException\u001B[39;00m \u001B[38;5;28;01mas\u001B[39;00m e:\n\u001B[1;32m   1123\u001B[0m         \u001B[38;5;66;03m# At timeout and error, we manually check whether any worker has\u001B[39;00m\n\u001B[1;32m   1124\u001B[0m         \u001B[38;5;66;03m# failed. Note that this is the only mechanism for Windows to detect\u001B[39;00m\n\u001B[1;32m   1125\u001B[0m         \u001B[38;5;66;03m# worker failures.\u001B[39;00m\n",
      "File \u001B[0;32m~/.conda/envs/slr/lib/python3.10/queue.py:180\u001B[0m, in \u001B[0;36mQueue.get\u001B[0;34m(self, block, timeout)\u001B[0m\n\u001B[1;32m    178\u001B[0m         \u001B[38;5;28;01mif\u001B[39;00m remaining \u001B[38;5;241m<\u001B[39m\u001B[38;5;241m=\u001B[39m \u001B[38;5;241m0.0\u001B[39m:\n\u001B[1;32m    179\u001B[0m             \u001B[38;5;28;01mraise\u001B[39;00m Empty\n\u001B[0;32m--> 180\u001B[0m         \u001B[38;5;28;43mself\u001B[39;49m\u001B[38;5;241;43m.\u001B[39;49m\u001B[43mnot_empty\u001B[49m\u001B[38;5;241;43m.\u001B[39;49m\u001B[43mwait\u001B[49m\u001B[43m(\u001B[49m\u001B[43mremaining\u001B[49m\u001B[43m)\u001B[49m\n\u001B[1;32m    181\u001B[0m item \u001B[38;5;241m=\u001B[39m \u001B[38;5;28mself\u001B[39m\u001B[38;5;241m.\u001B[39m_get()\n\u001B[1;32m    182\u001B[0m \u001B[38;5;28mself\u001B[39m\u001B[38;5;241m.\u001B[39mnot_full\u001B[38;5;241m.\u001B[39mnotify()\n",
      "File \u001B[0;32m~/.conda/envs/slr/lib/python3.10/threading.py:324\u001B[0m, in \u001B[0;36mCondition.wait\u001B[0;34m(self, timeout)\u001B[0m\n\u001B[1;32m    322\u001B[0m \u001B[38;5;28;01melse\u001B[39;00m:\n\u001B[1;32m    323\u001B[0m     \u001B[38;5;28;01mif\u001B[39;00m timeout \u001B[38;5;241m>\u001B[39m \u001B[38;5;241m0\u001B[39m:\n\u001B[0;32m--> 324\u001B[0m         gotit \u001B[38;5;241m=\u001B[39m \u001B[43mwaiter\u001B[49m\u001B[38;5;241;43m.\u001B[39;49m\u001B[43macquire\u001B[49m\u001B[43m(\u001B[49m\u001B[38;5;28;43;01mTrue\u001B[39;49;00m\u001B[43m,\u001B[49m\u001B[43m \u001B[49m\u001B[43mtimeout\u001B[49m\u001B[43m)\u001B[49m\n\u001B[1;32m    325\u001B[0m     \u001B[38;5;28;01melse\u001B[39;00m:\n\u001B[1;32m    326\u001B[0m         gotit \u001B[38;5;241m=\u001B[39m waiter\u001B[38;5;241m.\u001B[39macquire(\u001B[38;5;28;01mFalse\u001B[39;00m)\n",
      "\u001B[0;31mKeyboardInterrupt\u001B[0m: "
     ]
    }
   ],
   "execution_count": 4
  },
  {
   "metadata": {},
   "cell_type": "code",
   "outputs": [],
   "execution_count": null,
   "source": "",
   "id": "81d1924b7c6c3f13"
  },
  {
   "metadata": {},
   "cell_type": "markdown",
   "source": "# CSL Daily Dataset",
   "id": "b1084a4be1eb60da"
  },
  {
   "metadata": {
    "ExecuteTime": {
     "end_time": "2024-09-27T07:37:40.747971Z",
     "start_time": "2024-09-27T07:37:40.733597Z"
    }
   },
   "cell_type": "code",
   "source": "import pickle",
   "id": "89ffd5e269050691",
   "outputs": [],
   "execution_count": 1
  },
  {
   "metadata": {
    "ExecuteTime": {
     "end_time": "2024-09-27T07:37:40.807394Z",
     "start_time": "2024-09-27T07:37:40.799663Z"
    }
   },
   "cell_type": "code",
   "source": [
    "with open(\"/new_home/xzj23/workspace/SLR/data/csl-daily/gloss2ids.pkl\", \"rb\") as f:\n",
    "    gloss2ids = pickle.load(f)"
   ],
   "id": "2834dd2f14d144b4",
   "outputs": [],
   "execution_count": 2
  },
  {
   "metadata": {
    "ExecuteTime": {
     "end_time": "2024-09-27T07:37:44.264380Z",
     "start_time": "2024-09-27T07:37:44.250634Z"
    }
   },
   "cell_type": "code",
   "source": "gloss2ids",
   "id": "4f16dbb6334ef085",
   "outputs": [
    {
     "data": {
      "text/plain": [
       "{'<si>': 0,\n",
       " '<unk>': 1,\n",
       " '<pad>': 2,\n",
       " '</s>': 3,\n",
       " '我': 4,\n",
       " '他': 5,\n",
       " '你': 6,\n",
       " '这': 7,\n",
       " '人': 8,\n",
       " '不': 9,\n",
       " '多': 10,\n",
       " '是': 11,\n",
       " '有': 12,\n",
       " '要': 13,\n",
       " '好': 14,\n",
       " '1': 15,\n",
       " '我们': 16,\n",
       " '没有': 17,\n",
       " '看': 18,\n",
       " '去': 19,\n",
       " '想': 20,\n",
       " '房子': 21,\n",
       " '什么': 22,\n",
       " '自己': 23,\n",
       " '不行': 24,\n",
       " '可以': 25,\n",
       " '吃': 26,\n",
       " '工作': 27,\n",
       " '今天': 28,\n",
       " '说': 29,\n",
       " '时间': 30,\n",
       " '做': 31,\n",
       " '钱': 32,\n",
       " '会': 33,\n",
       " '小': 34,\n",
       " '买': 35,\n",
       " '在': 36,\n",
       " '全部': 37,\n",
       " '到': 38,\n",
       " '老师': 39,\n",
       " '妈妈': 40,\n",
       " '对': 41,\n",
       " '喜欢': 42,\n",
       " '爸爸': 43,\n",
       " '事情': 44,\n",
       " '给': 45,\n",
       " '好了': 46,\n",
       " '2': 47,\n",
       " '学': 48,\n",
       " '年': 49,\n",
       " '还': 50,\n",
       " '但是': 51,\n",
       " '病': 52,\n",
       " '快': 53,\n",
       " '他们': 54,\n",
       " '东西': 55,\n",
       " '喝': 56,\n",
       " '大': 57,\n",
       " '来': 58,\n",
       " '朋友': 59,\n",
       " '不好': 60,\n",
       " '一直': 61,\n",
       " '找': 62,\n",
       " '为': 63,\n",
       " '孩子': 64,\n",
       " '多少': 65,\n",
       " '书': 66,\n",
       " '身体': 67,\n",
       " '晚上': 68,\n",
       " '明天': 69,\n",
       " '走': 70,\n",
       " '帮助': 71,\n",
       " '美丽': 72,\n",
       " '学校': 73,\n",
       " '写': 74,\n",
       " '新': 75,\n",
       " '最': 76,\n",
       " '感觉': 77,\n",
       " '手机': 78,\n",
       " '早': 79,\n",
       " '努力': 80,\n",
       " '生活': 81,\n",
       " '天': 82,\n",
       " '带': 83,\n",
       " '不喜欢': 84,\n",
       " '方法': 85,\n",
       " '不是': 86,\n",
       " '中国': 87,\n",
       " '公司': 88,\n",
       " '每': 89,\n",
       " '和': 90,\n",
       " '心': 91,\n",
       " '难': 92,\n",
       " '各种': 93,\n",
       " '必须': 94,\n",
       " '让': 95,\n",
       " '每天': 96,\n",
       " '成功': 97,\n",
       " '旅游': 98,\n",
       " '用': 99,\n",
       " '变': 100,\n",
       " '医生': 101,\n",
       " '拿': 102,\n",
       " '女': 103,\n",
       " '电影': 104,\n",
       " '考试': 105,\n",
       " '增加': 106,\n",
       " '因为': 107,\n",
       " '睡觉': 108,\n",
       " '后': 109,\n",
       " '像': 110,\n",
       " '那': 111,\n",
       " '学生': 112,\n",
       " '路': 113,\n",
       " '组': 114,\n",
       " '前': 115,\n",
       " '大家': 116,\n",
       " '简单': 117,\n",
       " '你们': 118,\n",
       " '错误': 119,\n",
       " '同学': 120,\n",
       " '准备': 121,\n",
       " '一样': 122,\n",
       " '如果': 123,\n",
       " '点': 124,\n",
       " '一起': 125,\n",
       " '请': 126,\n",
       " '别': 127,\n",
       " '知道': 128,\n",
       " '情况': 129,\n",
       " '驾驶': 130,\n",
       " '听': 131,\n",
       " '教': 132,\n",
       " '道理': 133,\n",
       " '火车': 134,\n",
       " '读书': 135,\n",
       " '运动': 136,\n",
       " '真': 137,\n",
       " '外': 138,\n",
       " '重要': 139,\n",
       " '害怕': 140,\n",
       " '上海': 141,\n",
       " '衣服': 142,\n",
       " '员工': 143,\n",
       " '开始': 144,\n",
       " '跳舞': 145,\n",
       " '应该': 146,\n",
       " '玩': 147,\n",
       " '超市': 148,\n",
       " '方便': 149,\n",
       " '车': 150,\n",
       " '改变': 151,\n",
       " '菜': 152,\n",
       " '电脑': 153,\n",
       " '等': 154,\n",
       " '坏': 155,\n",
       " '大概': 156,\n",
       " '水': 157,\n",
       " '高': 158,\n",
       " '3': 159,\n",
       " '下雨': 160,\n",
       " '课': 161,\n",
       " '失败': 162,\n",
       " '上': 163,\n",
       " '大学': 164,\n",
       " '技术': 165,\n",
       " '医院': 166,\n",
       " '检查': 167,\n",
       " '接受': 168,\n",
       " '男': 169,\n",
       " '里': 170,\n",
       " '签名': 171,\n",
       " '骄傲': 172,\n",
       " '联系': 173,\n",
       " '外国': 174,\n",
       " '感冒': 175,\n",
       " '聪明': 176,\n",
       " '票': 177,\n",
       " '不会': 178,\n",
       " '北京': 179,\n",
       " '领导': 180,\n",
       " '亲属': 181,\n",
       " '发现': 182,\n",
       " '决定': 183,\n",
       " '信': 184,\n",
       " '下': 185,\n",
       " '发展': 186,\n",
       " '热': 187,\n",
       " '发生': 188,\n",
       " '影响': 189,\n",
       " '注意': 190,\n",
       " '要求': 191,\n",
       " '少': 192,\n",
       " '经常': 193,\n",
       " '问题': 194,\n",
       " '得': 195,\n",
       " '问': 196,\n",
       " '脸': 197,\n",
       " '年龄': 198,\n",
       " '老': 199,\n",
       " '一般': 200,\n",
       " '刚才': 201,\n",
       " '慢': 202,\n",
       " '远': 203,\n",
       " '以前': 204,\n",
       " '比': 205,\n",
       " '老板': 206,\n",
       " '叫': 207,\n",
       " '地铁': 208,\n",
       " '炒': 209,\n",
       " '怎么': 210,\n",
       " '担心': 211,\n",
       " '飞机': 212,\n",
       " '药': 213,\n",
       " '高兴': 214,\n",
       " '送': 215,\n",
       " '酒': 216,\n",
       " '中': 217,\n",
       " '王': 218,\n",
       " '选择': 219,\n",
       " '地方': 220,\n",
       " '天气': 221,\n",
       " '银行': 222,\n",
       " '分': 223,\n",
       " '安静': 224,\n",
       " '站': 225,\n",
       " '姐姐': 226,\n",
       " '比赛': 227,\n",
       " '研究': 228,\n",
       " '5': 229,\n",
       " '手语': 230,\n",
       " '结婚': 231,\n",
       " '美国': 232,\n",
       " '记得': 233,\n",
       " '互相': 234,\n",
       " '们': 235,\n",
       " '尊重': 236,\n",
       " '世界': 237,\n",
       " '丢': 238,\n",
       " '发送': 239,\n",
       " '忘记': 240,\n",
       " '日期': 241,\n",
       " '经验': 242,\n",
       " '饭店': 243,\n",
       " '人们': 244,\n",
       " '缺少': 245,\n",
       " '谁': 246,\n",
       " '越': 247,\n",
       " '十': 248,\n",
       " '崇拜': 249,\n",
       " '工资': 250,\n",
       " '放': 251,\n",
       " '模仿': 252,\n",
       " '分钟': 253,\n",
       " '社会': 254,\n",
       " '红': 255,\n",
       " '花': 256,\n",
       " '认识': 257,\n",
       " '坐': 258,\n",
       " '处理': 259,\n",
       " '把': 260,\n",
       " '白天': 261,\n",
       " '第一': 262,\n",
       " '哥哥': 263,\n",
       " '长': 264,\n",
       " '进': 265,\n",
       " '完成': 266,\n",
       " '山': 267,\n",
       " '星期': 268,\n",
       " '纸': 269,\n",
       " '结果': 270,\n",
       " '开': 271,\n",
       " '女儿': 272,\n",
       " '负责': 273,\n",
       " '交流': 274,\n",
       " '安全': 275,\n",
       " '付': 276,\n",
       " '定': 277,\n",
       " '昨天': 278,\n",
       " '股票': 279,\n",
       " '冬天': 280,\n",
       " '护照': 281,\n",
       " '爷爷': 282,\n",
       " '包': 283,\n",
       " '贵': 284,\n",
       " '保护': 285,\n",
       " '品': 286,\n",
       " '国家': 287,\n",
       " '水果': 288,\n",
       " '不懂': 289,\n",
       " '先': 290,\n",
       " '客': 291,\n",
       " '期': 292,\n",
       " '肯定': 293,\n",
       " '表格': 294,\n",
       " '否认': 295,\n",
       " '强': 296,\n",
       " '提高': 297,\n",
       " '穿': 298,\n",
       " '赚': 299,\n",
       " '倒霉': 300,\n",
       " '出租车': 301,\n",
       " '百': 302,\n",
       " '租': 303,\n",
       " '重复': 304,\n",
       " '生日': 305,\n",
       " '礼物': 306,\n",
       " '过去': 307,\n",
       " '会议': 308,\n",
       " '商店': 309,\n",
       " '查询': 310,\n",
       " '榜样': 311,\n",
       " '电视': 312,\n",
       " '近': 313,\n",
       " '不够': 314,\n",
       " '猫': 315,\n",
       " '跑步': 316,\n",
       " '小时': 317,\n",
       " '告诉': 318,\n",
       " '广告': 319,\n",
       " '快递': 320,\n",
       " '月': 321,\n",
       " '爱护': 322,\n",
       " '不同': 323,\n",
       " '几': 324,\n",
       " '发': 325,\n",
       " '根据': 326,\n",
       " '饱': 327,\n",
       " '6': 328,\n",
       " '出': 329,\n",
       " '只': 330,\n",
       " '封面': 331,\n",
       " '最后': 332,\n",
       " '法律': 333,\n",
       " '部分': 334,\n",
       " '生': 335,\n",
       " '累': 336,\n",
       " '不管': 337,\n",
       " '差不多': 338,\n",
       " '红包': 339,\n",
       " '周': 340,\n",
       " '牛奶': 341,\n",
       " '自然': 342,\n",
       " '茶叶': 343,\n",
       " '迟到': 344,\n",
       " '高铁': 345,\n",
       " '了解': 346,\n",
       " '收': 347,\n",
       " '节省': 348,\n",
       " '除了': 349,\n",
       " '后悔': 350,\n",
       " '年轻': 351,\n",
       " '样子': 352,\n",
       " '熟悉': 353,\n",
       " '颜色': 354,\n",
       " '劳动': 355,\n",
       " '哭': 356,\n",
       " '拒绝': 357,\n",
       " '核磁共振': 358,\n",
       " '清楚': 359,\n",
       " '身份证': 360,\n",
       " '预防': 361,\n",
       " '宾馆': 362,\n",
       " '系统': 363,\n",
       " '警察': 364,\n",
       " '通过': 365,\n",
       " '危险': 366,\n",
       " '咖啡': 367,\n",
       " '嘲笑': 368,\n",
       " '妹妹': 369,\n",
       " '工': 370,\n",
       " '过敏': 371,\n",
       " '卡': 372,\n",
       " '服务': 373,\n",
       " '痛': 374,\n",
       " '休息': 375,\n",
       " '公交车': 376,\n",
       " '参加': 377,\n",
       " '微信': 378,\n",
       " '舒服': 379,\n",
       " '为什么': 380,\n",
       " '传染': 381,\n",
       " '名字': 382,\n",
       " '堵车': 383,\n",
       " '害羞': 384,\n",
       " '排队': 385,\n",
       " '白': 386,\n",
       " '不知道': 387,\n",
       " '儿子': 388,\n",
       " '店': 389,\n",
       " '方式': 390,\n",
       " '算': 391,\n",
       " '7': 392,\n",
       " '指': 393,\n",
       " '祝福': 394,\n",
       " '试': 395,\n",
       " '贴': 396,\n",
       " '代表': 397,\n",
       " '力量': 398,\n",
       " '卖': 399,\n",
       " '急诊': 400,\n",
       " '打算': 401,\n",
       " '桌子': 402,\n",
       " '裙子': 403,\n",
       " '观众': 404,\n",
       " '从': 405,\n",
       " '弟弟': 406,\n",
       " '张': 407,\n",
       " '欺负': 408,\n",
       " '死': 409,\n",
       " '精神': 410,\n",
       " '代替': 411,\n",
       " '急': 412,\n",
       " '总结': 413,\n",
       " '故障': 414,\n",
       " '沟通': 415,\n",
       " '艾滋': 416,\n",
       " '养': 417,\n",
       " '报名': 418,\n",
       " '差点': 419,\n",
       " '惊吓': 420,\n",
       " '感动': 421,\n",
       " '斑马线': 422,\n",
       " '科学': 423,\n",
       " '保险': 424,\n",
       " '来往': 425,\n",
       " '爬': 426,\n",
       " '班长': 427,\n",
       " '离婚': 428,\n",
       " '过': 429,\n",
       " '随便': 430,\n",
       " '音乐': 431,\n",
       " '中午': 432,\n",
       " '介绍': 433,\n",
       " '原来': 434,\n",
       " '变化': 435,\n",
       " '声音': 436,\n",
       " '奇怪': 437,\n",
       " '怀疑': 438,\n",
       " '怎么样': 439,\n",
       " '成绩': 440,\n",
       " '明': 441,\n",
       " '标准': 442,\n",
       " '次': 443,\n",
       " '班级': 444,\n",
       " '网': 445,\n",
       " '队': 446,\n",
       " '下午': 447,\n",
       " '作弊': 448,\n",
       " '刺激': 449,\n",
       " '办理': 450,\n",
       " '合作': 451,\n",
       " '处罚': 452,\n",
       " '希望': 453,\n",
       " '承认': 454,\n",
       " '搬': 455,\n",
       " '流行': 456,\n",
       " '理解': 457,\n",
       " '蓝牙': 458,\n",
       " '降': 459,\n",
       " '冷': 460,\n",
       " '方向': 461,\n",
       " '环境': 462,\n",
       " '钥匙': 463,\n",
       " '毕业': 464,\n",
       " '电': 465,\n",
       " '胖': 466,\n",
       " '计划': 467,\n",
       " '起床': 468,\n",
       " '追': 469,\n",
       " '风': 470,\n",
       " '估计': 471,\n",
       " '借口': 472,\n",
       " '哪': 473,\n",
       " '团': 474,\n",
       " '奶奶': 475,\n",
       " '平时': 476,\n",
       " '愿意': 477,\n",
       " '懂': 478,\n",
       " '抱怨': 479,\n",
       " '抵挡': 480,\n",
       " '涨': 481,\n",
       " '特别': 482,\n",
       " '生产': 483,\n",
       " '笔记本': 484,\n",
       " '请假': 485,\n",
       " '导航': 486,\n",
       " '惭愧': 487,\n",
       " '片子': 488,\n",
       " '生气': 489,\n",
       " '经济': 490,\n",
       " '货': 491,\n",
       " '过节': 492,\n",
       " '连': 493,\n",
       " '道歉': 494,\n",
       " '吃饭': 495,\n",
       " '回答': 496,\n",
       " '灯': 497,\n",
       " '爱': 498,\n",
       " '禁止': 499,\n",
       " '被': 500,\n",
       " '讨论': 501,\n",
       " '公': 502,\n",
       " '关节': 503,\n",
       " '勇敢': 504,\n",
       " '吃不消': 505,\n",
       " '娃娃': 506,\n",
       " '安装': 507,\n",
       " '宣传': 508,\n",
       " '挂': 509,\n",
       " '换': 510,\n",
       " '提前': 511,\n",
       " '知识': 512,\n",
       " '绷带': 513,\n",
       " '认真': 514,\n",
       " '质量': 515,\n",
       " '赋': 516,\n",
       " '阑尾': 517,\n",
       " '万': 518,\n",
       " '不用': 519,\n",
       " '严重': 520,\n",
       " '分别': 521,\n",
       " '地图': 522,\n",
       " '复印': 523,\n",
       " '政府': 524,\n",
       " '牛': 525,\n",
       " '短信息': 526,\n",
       " '答案': 527,\n",
       " '能力': 528,\n",
       " '苹果': 529,\n",
       " '著名': 530,\n",
       " '蛋糕': 531,\n",
       " '解决': 532,\n",
       " '餐巾': 533,\n",
       " '准确': 534,\n",
       " '口': 535,\n",
       " '就': 536,\n",
       " '辞职': 537,\n",
       " '面包': 538,\n",
       " '卑': 539,\n",
       " '合肥': 540,\n",
       " '嫌弃': 541,\n",
       " '字幕': 542,\n",
       " '拍照': 543,\n",
       " '插': 544,\n",
       " '梦想': 545,\n",
       " '癌': 546,\n",
       " '脉搏': 547,\n",
       " '还是': 548,\n",
       " '遗憾': 549,\n",
       " '阻拦': 550,\n",
       " '付出': 551,\n",
       " '兼职': 552,\n",
       " '动物': 553,\n",
       " '夫妻': 554,\n",
       " '机器': 555,\n",
       " '没': 556,\n",
       " '附近': 557,\n",
       " '骗': 558,\n",
       " '八宝粥': 559,\n",
       " '反对': 560,\n",
       " '打': 561,\n",
       " '树': 562,\n",
       " '活动': 563,\n",
       " '游戏': 564,\n",
       " '便宜': 565,\n",
       " '力': 566,\n",
       " '委屈': 567,\n",
       " '定居': 568,\n",
       " '恋爱': 569,\n",
       " '成熟': 570,\n",
       " '机场': 571,\n",
       " '爱-1': 572,\n",
       " '登记': 573,\n",
       " '种': 574,\n",
       " '配合': 575,\n",
       " '难过': 576,\n",
       " '雪': 577,\n",
       " '借款': 578,\n",
       " '减': 579,\n",
       " '升': 580,\n",
       " '吵架': 581,\n",
       " '坚持': 582,\n",
       " '弱': 583,\n",
       " '强调': 584,\n",
       " '彻底': 585,\n",
       " '性': 586,\n",
       " '支持': 587,\n",
       " '画画': 588,\n",
       " '破坏': 589,\n",
       " '考': 590,\n",
       " '超过': 591,\n",
       " '项目': 592,\n",
       " '预定': 593,\n",
       " '产品': 594,\n",
       " '修': 595,\n",
       " '复习': 596,\n",
       " '按照': 597,\n",
       " '接触': 598,\n",
       " '过程': 599,\n",
       " '冠军': 600,\n",
       " '句子': 601,\n",
       " '幸福': 602,\n",
       " '方': 603,\n",
       " '碰': 604,\n",
       " '糖': 605,\n",
       " '联想': 606,\n",
       " '裤子': 607,\n",
       " '规定': 608,\n",
       " '记仇': 609,\n",
       " '踢足球': 610,\n",
       " '还有': 611,\n",
       " '面': 612,\n",
       " '鱼': 613,\n",
       " '黑': 614,\n",
       " '任务': 615,\n",
       " '伞': 616,\n",
       " '又': 617,\n",
       " '号码': 618,\n",
       " '好吃': 619,\n",
       " '安慰': 620,\n",
       " '抽血': 621,\n",
       " '最近': 622,\n",
       " '狗': 623,\n",
       " '眼睛': 624,\n",
       " '茫然': 625,\n",
       " '认为': 626,\n",
       " '输液': 627,\n",
       " '住': 628,\n",
       " '宣布': 629,\n",
       " '当面': 630,\n",
       " '所以': 631,\n",
       " '效果': 632,\n",
       " '楼': 633,\n",
       " '生病': 634,\n",
       " '空': 635,\n",
       " '证明': 636,\n",
       " '4': 637,\n",
       " '上网': 638,\n",
       " '亲切': 639,\n",
       " '偶': 640,\n",
       " '区': 641,\n",
       " '厨师': 642,\n",
       " '圆': 643,\n",
       " '多媒体': 644,\n",
       " '存折': 645,\n",
       " '差别': 646,\n",
       " '弹幕': 647,\n",
       " '承包': 648,\n",
       " '游泳': 649,\n",
       " '照顾': 650,\n",
       " '称赞': 651,\n",
       " '躲': 652,\n",
       " '集中': 653,\n",
       " '二维码': 654,\n",
       " '仔细': 655,\n",
       " '作业': 656,\n",
       " '喊': 657,\n",
       " '处方': 658,\n",
       " '彩票': 659,\n",
       " '杯子': 660,\n",
       " '汽车': 661,\n",
       " '申请': 662,\n",
       " '管理': 663,\n",
       " '箱子': 664,\n",
       " '行为': 665,\n",
       " '见面': 666,\n",
       " '设计': 667,\n",
       " '通宵': 668,\n",
       " '个月': 669,\n",
       " '军': 670,\n",
       " '国': 671,\n",
       " '得罪': 672,\n",
       " '打扮': 673,\n",
       " '沉迷': 674,\n",
       " '消灭': 675,\n",
       " '玻璃': 676,\n",
       " '班': 677,\n",
       " '进步': 678,\n",
       " '阶段': 679,\n",
       " '严格': 680,\n",
       " '侥幸': 681,\n",
       " '偷': 682,\n",
       " '忙': 683,\n",
       " '手术': 684,\n",
       " '抢': 685,\n",
       " '担架': 686,\n",
       " '程序': 687,\n",
       " '突然': 688,\n",
       " '题目': 689,\n",
       " '骂': 690,\n",
       " '信息': 691,\n",
       " '农村': 692,\n",
       " '固定': 693,\n",
       " '怪不得': 694,\n",
       " '救': 695,\n",
       " '深': 696,\n",
       " '足够': 697,\n",
       " '重': 698,\n",
       " '专门': 699,\n",
       " '敌人': 700,\n",
       " '笑': 701,\n",
       " '表情': 702,\n",
       " '论文': 703,\n",
       " '门': 704,\n",
       " '个': 705,\n",
       " '主': 706,\n",
       " '习惯': 707,\n",
       " '冷场': 708,\n",
       " '吸取': 709,\n",
       " '味道': 710,\n",
       " '城市': 711,\n",
       " '失望': 712,\n",
       " '存': 713,\n",
       " '干': 714,\n",
       " '录取': 715,\n",
       " '治疗': 716,\n",
       " '火': 717,\n",
       " '肯德基': 718,\n",
       " '请客': 719,\n",
       " '跟': 720,\n",
       " '倒': 721,\n",
       " '停止': 722,\n",
       " '健康': 723,\n",
       " '对象': 724,\n",
       " '文': 725,\n",
       " '活': 726,\n",
       " '电话': 727,\n",
       " '过期': 728,\n",
       " '一些': 729,\n",
       " '乏味': 730,\n",
       " '企业': 731,\n",
       " '场合': 732,\n",
       " '大雨': 733,\n",
       " '手': 734,\n",
       " '演讲': 735,\n",
       " '翻脸': 736,\n",
       " '表示': 737,\n",
       " '辣': 738,\n",
       " '动': 739,\n",
       " '动车': 740,\n",
       " '合适': 741,\n",
       " '同事': 742,\n",
       " '圈': 743,\n",
       " '惩罚': 744,\n",
       " '感情': 745,\n",
       " '操心': 746,\n",
       " '无': 747,\n",
       " '春天': 748,\n",
       " '穷': 749,\n",
       " '米': 750,\n",
       " '精彩': 751,\n",
       " '西瓜': 752,\n",
       " '追求': 753,\n",
       " '也': 754,\n",
       " '吃亏': 755,\n",
       " '意见': 756,\n",
       " '机会': 757,\n",
       " '硬': 758,\n",
       " '鼓励': 759,\n",
       " '丑': 760,\n",
       " '决赛': 761,\n",
       " '同意': 762,\n",
       " '妻子': 763,\n",
       " '房间': 764,\n",
       " '文章': 765,\n",
       " '方面': 766,\n",
       " '椅子': 767,\n",
       " '福气': 768,\n",
       " '聋': 769,\n",
       " '千': 770,\n",
       " '厂': 771,\n",
       " '把握': 772,\n",
       " '放弃': 773,\n",
       " '标志': 774,\n",
       " '白内障': 775,\n",
       " '老实': 776,\n",
       " '语言': 777,\n",
       " '谢谢': 778,\n",
       " '跑': 779,\n",
       " '逃': 780,\n",
       " '邮件': 781,\n",
       " '金融': 782,\n",
       " '防止': 783,\n",
       " '人生': 784,\n",
       " '仍然': 785,\n",
       " '借': 786,\n",
       " '包括': 787,\n",
       " '反': 788,\n",
       " '合同': 789,\n",
       " '或者': 790,\n",
       " '战争': 791,\n",
       " '手表': 792,\n",
       " '报告': 793,\n",
       " '拍': 794,\n",
       " '放假': 795,\n",
       " '旧': 796,\n",
       " '权力': 797,\n",
       " '配': 798,\n",
       " '受伤': 799,\n",
       " '接': 800,\n",
       " '故事': 801,\n",
       " '气': 802,\n",
       " '火锅': 803,\n",
       " '礼貌': 804,\n",
       " '离开': 805,\n",
       " '草稿': 806,\n",
       " '行李': 807,\n",
       " '话': 808,\n",
       " '车站': 809,\n",
       " '元': 810,\n",
       " '减肥': 811,\n",
       " '同': 812,\n",
       " '工厂': 813,\n",
       " '市场': 814,\n",
       " '废': 815,\n",
       " '晚': 816,\n",
       " '犯罪': 817,\n",
       " '艺术': 818,\n",
       " '节日': 819,\n",
       " '草': 820,\n",
       " '退': 821,\n",
       " '9': 822,\n",
       " '可爱': 823,\n",
       " '干净': 824,\n",
       " '抄': 825,\n",
       " '拖延': 826,\n",
       " '爱好': 827,\n",
       " '篮球': 828,\n",
       " '饭': 829,\n",
       " '交': 830,\n",
       " '交通': 831,\n",
       " '优秀': 832,\n",
       " '包装': 833,\n",
       " '历史': 834,\n",
       " '回家': 835,\n",
       " '局部': 836,\n",
       " '护士': 837,\n",
       " '本领': 838,\n",
       " '欢迎': 839,\n",
       " '没关系': 840,\n",
       " '满意': 841,\n",
       " '竞争': 842,\n",
       " '紧张': 843,\n",
       " '面条': 844,\n",
       " '伤害': 845,\n",
       " '光': 846,\n",
       " '反调': 847,\n",
       " '始终': 848,\n",
       " '性格': 849,\n",
       " '摸鱼': 850,\n",
       " '教训': 851,\n",
       " '法': 852,\n",
       " '流量': 853,\n",
       " '粉': 854,\n",
       " '结束': 855,\n",
       " '英语': 856,\n",
       " '读': 857,\n",
       " '适合': 858,\n",
       " '关心': 859,\n",
       " '兴趣': 860,\n",
       " '发明': 861,\n",
       " '富贵': 862,\n",
       " '海': 863,\n",
       " '碗': 864,\n",
       " '积极': 865,\n",
       " '行动': 866,\n",
       " '避孕': 867,\n",
       " '今': 868,\n",
       " '团结': 869,\n",
       " '意思': 870,\n",
       " '破': 871,\n",
       " '缺点': 872,\n",
       " '脏': 873,\n",
       " '规律': 874,\n",
       " '这样': 875,\n",
       " '丈夫': 876,\n",
       " '分析': 877,\n",
       " '发烧': 878,\n",
       " '心跳': 879,\n",
       " '教室': 880,\n",
       " '文化': 881,\n",
       " '新闻': 882,\n",
       " '正确': 883,\n",
       " '比较': 884,\n",
       " '炎': 885,\n",
       " '理想': 886,\n",
       " '空调': 887,\n",
       " '终于': 888,\n",
       " '装': 889,\n",
       " '陌生': 890,\n",
       " '默': 891,\n",
       " '位置': 892,\n",
       " '分之': 893,\n",
       " '恶心': 894,\n",
       " '或': 895,\n",
       " '打胎': 896,\n",
       " '旁边': 897,\n",
       " '本': 898,\n",
       " '流': 899,\n",
       " '留': 900,\n",
       " '说谎': 901,\n",
       " '足球': 902,\n",
       " '违反': 903,\n",
       " '逼': 904,\n",
       " '伤': 905,\n",
       " '农民': 906,\n",
       " '半': 907,\n",
       " '厕所': 908,\n",
       " '原谅': 909,\n",
       " '呕吐': 910,\n",
       " '快乐': 911,\n",
       " '期待': 912,\n",
       " '看不起': 913,\n",
       " '石': 914,\n",
       " '血': 915,\n",
       " '运': 916,\n",
       " '错': 917,\n",
       " '陪': 918,\n",
       " '买卖': 919,\n",
       " '乱': 920,\n",
       " '争取': 921,\n",
       " '低头': 922,\n",
       " '兴奋': 923,\n",
       " '各': 924,\n",
       " '向': 925,\n",
       " '吸烟': 926,\n",
       " '周围': 927,\n",
       " '回': 928,\n",
       " '安排': 929,\n",
       " '幸运': 930,\n",
       " '心理': 931,\n",
       " '思考': 932,\n",
       " '批评': 933,\n",
       " '抓住': 934,\n",
       " '按': 935,\n",
       " '推荐': 936,\n",
       " '数': 937,\n",
       " '桥': 938,\n",
       " '水平': 939,\n",
       " '温暖': 940,\n",
       " '生命': 941,\n",
       " '着急': 942,\n",
       " '秒': 943,\n",
       " '经理': 944,\n",
       " '跳': 945,\n",
       " '边': 946,\n",
       " '靠': 947,\n",
       " '鞋子': 948,\n",
       " '预报': 949,\n",
       " '30': 950,\n",
       " '冰箱': 951,\n",
       " '字': 952,\n",
       " '对不起': 953,\n",
       " '师傅': 954,\n",
       " '建立': 955,\n",
       " '忍受': 956,\n",
       " '总': 957,\n",
       " '感谢': 958,\n",
       " '放松': 959,\n",
       " '电子': 960,\n",
       " '瘦': 961,\n",
       " '看法': 962,\n",
       " '继续': 963,\n",
       " '诱惑': 964,\n",
       " '调查': 965,\n",
       " '超': 966,\n",
       " '达到': 967,\n",
       " '黄': 968,\n",
       " '不好吃': 969,\n",
       " '事故': 970,\n",
       " '关闭': 971,\n",
       " '差': 972,\n",
       " '引起': 973,\n",
       " '打针': 974,\n",
       " '无聊': 975,\n",
       " '河': 976,\n",
       " '热情': 977,\n",
       " '脑子': 978,\n",
       " '距离': 979,\n",
       " '辛苦': 980,\n",
       " '遇到': 981,\n",
       " '限制': 982,\n",
       " '鬼': 983,\n",
       " '不幸': 984,\n",
       " '不理': 985,\n",
       " '乒乓球': 986,\n",
       " '传统': 987,\n",
       " '共产党': 988,\n",
       " '南': 989,\n",
       " '只好': 990,\n",
       " '吸引': 991,\n",
       " '呼吸': 992,\n",
       " '客气': 993,\n",
       " '手指': 994,\n",
       " '批准': 995,\n",
       " '暖': 996,\n",
       " '条': 997,\n",
       " '条件': 998,\n",
       " '猜': 999,\n",
       " ...}"
      ]
     },
     "execution_count": 3,
     "metadata": {},
     "output_type": "execute_result"
    }
   ],
   "execution_count": 3
  },
  {
   "metadata": {},
   "cell_type": "code",
   "outputs": [],
   "execution_count": null,
   "source": "",
   "id": "8eb2647fc6dd8bbc"
  },
  {
   "metadata": {},
   "cell_type": "markdown",
   "source": "# Tokenizer",
   "id": "386babb0dc573426"
  },
  {
   "metadata": {
    "ExecuteTime": {
     "end_time": "2024-09-27T10:00:25.990649Z",
     "start_time": "2024-09-27T10:00:24.285494Z"
    }
   },
   "cell_type": "code",
   "source": "from slr.datasets.tknzs.simple_tokenizer import SimpleTokenizer",
   "id": "7cf6640a45ddfe92",
   "outputs": [],
   "execution_count": 1
  },
  {
   "metadata": {
    "ExecuteTime": {
     "end_time": "2024-09-27T10:00:26.026075Z",
     "start_time": "2024-09-27T10:00:26.021526Z"
    }
   },
   "cell_type": "code",
   "source": "tknz = SimpleTokenizer(vocab_file=\"/new_home/xzj23/workspace/SLR/slrt/datasets/vocabs/csl-daily_gloss_vocab.txt\")",
   "id": "392c4e652c77d83f",
   "outputs": [],
   "execution_count": 2
  },
  {
   "metadata": {
    "ExecuteTime": {
     "end_time": "2024-09-27T10:00:26.845484Z",
     "start_time": "2024-09-27T10:00:26.819657Z"
    }
   },
   "cell_type": "code",
   "source": "tknz.vocab",
   "id": "fe2a7f0fed7dc6ca",
   "outputs": [
    {
     "data": {
      "text/plain": [
       "{'0': 1,\n",
       " '1': 2,\n",
       " '11': 3,\n",
       " '12': 4,\n",
       " '15': 5,\n",
       " '18': 6,\n",
       " '2': 7,\n",
       " '20': 8,\n",
       " '24': 9,\n",
       " '3': 10,\n",
       " '30': 11,\n",
       " '32': 12,\n",
       " '4': 13,\n",
       " '45': 14,\n",
       " '5': 15,\n",
       " '50': 16,\n",
       " '500': 17,\n",
       " '6': 18,\n",
       " '7': 19,\n",
       " '70': 20,\n",
       " '75': 21,\n",
       " '8': 22,\n",
       " '9': 23,\n",
       " '98': 24,\n",
       " 'APP': 25,\n",
       " 'P': 26,\n",
       " 'PPT': 27,\n",
       " '爱': 28,\n",
       " '癌': 29,\n",
       " '爱-1': 30,\n",
       " '爱好': 31,\n",
       " '爱护': 32,\n",
       " '爱情': 33,\n",
       " '艾滋': 34,\n",
       " '按': 35,\n",
       " '安': 36,\n",
       " '暗': 37,\n",
       " '按键': 38,\n",
       " '安静': 39,\n",
       " '安排': 40,\n",
       " '安全': 41,\n",
       " '安全套': 42,\n",
       " '安慰': 43,\n",
       " '按照': 44,\n",
       " '安装': 45,\n",
       " '奥运': 46,\n",
       " '阿姨': 47,\n",
       " 'b': 48,\n",
       " '把': 49,\n",
       " '爸爸': 50,\n",
       " '八宝粥': 51,\n",
       " '白': 52,\n",
       " '百': 53,\n",
       " '白内障': 54,\n",
       " '白天': 55,\n",
       " '班': 56,\n",
       " '办': 57,\n",
       " '半': 58,\n",
       " '搬': 59,\n",
       " '版': 60,\n",
       " '办公室': 61,\n",
       " '榜样': 62,\n",
       " '帮助': 63,\n",
       " '班级': 64,\n",
       " '办理': 65,\n",
       " '斑马': 66,\n",
       " '斑马线': 67,\n",
       " '班长': 68,\n",
       " '包': 69,\n",
       " '饱': 70,\n",
       " '抱': 71,\n",
       " '薄': 72,\n",
       " '报': 73,\n",
       " '宝宝': 74,\n",
       " '包庇': 75,\n",
       " '保持': 76,\n",
       " '报复': 77,\n",
       " '报告': 78,\n",
       " '宝贵': 79,\n",
       " '保护': 80,\n",
       " '包括': 81,\n",
       " '保密': 82,\n",
       " '报名': 83,\n",
       " '保险': 84,\n",
       " '保养': 85,\n",
       " '抱怨': 86,\n",
       " '爆炸': 87,\n",
       " '保证': 88,\n",
       " '报纸': 89,\n",
       " '包装': 90,\n",
       " '把握': 91,\n",
       " '北': 92,\n",
       " '被': 93,\n",
       " '卑': 94,\n",
       " '辈': 95,\n",
       " '背后': 96,\n",
       " '北京': 97,\n",
       " '贝壳': 98,\n",
       " '杯子': 99,\n",
       " '被子': 100,\n",
       " '本': 101,\n",
       " '笨': 102,\n",
       " '奔驰': 103,\n",
       " '绷带': 104,\n",
       " '本领': 105,\n",
       " '比': 106,\n",
       " '笔': 107,\n",
       " '逼': 108,\n",
       " '变': 109,\n",
       " '边': 110,\n",
       " '变化': 111,\n",
       " '表': 112,\n",
       " '表白': 113,\n",
       " '表格': 114,\n",
       " '表面': 115,\n",
       " '表情': 116,\n",
       " '表示': 117,\n",
       " '表现': 118,\n",
       " '表扬': 119,\n",
       " '标志': 120,\n",
       " '标准': 121,\n",
       " '别': 122,\n",
       " '别人': 123,\n",
       " '比较': 124,\n",
       " '笔记本': 125,\n",
       " '避免': 126,\n",
       " '病': 127,\n",
       " '兵': 128,\n",
       " '病毒': 129,\n",
       " '病历': 130,\n",
       " '宾馆': 131,\n",
       " '冰箱': 132,\n",
       " '比如': 133,\n",
       " '比赛': 134,\n",
       " '必须': 135,\n",
       " '毕业': 136,\n",
       " '避孕': 137,\n",
       " '闭嘴': 138,\n",
       " '伯伯': 139,\n",
       " '播放': 140,\n",
       " '玻璃': 141,\n",
       " '博物': 142,\n",
       " '不': 143,\n",
       " '部': 144,\n",
       " '步': 145,\n",
       " '布': 146,\n",
       " '不懂': 147,\n",
       " '部分': 148,\n",
       " '不够': 149,\n",
       " '不管': 150,\n",
       " '不好': 151,\n",
       " '不好吃': 152,\n",
       " '不会': 153,\n",
       " '不见': 154,\n",
       " '不久': 155,\n",
       " '不理': 156,\n",
       " '部门': 157,\n",
       " '不能': 158,\n",
       " '不如': 159,\n",
       " '不是': 160,\n",
       " '补贴': 161,\n",
       " '不同': 162,\n",
       " '不同意': 163,\n",
       " '不想': 164,\n",
       " '不相信': 165,\n",
       " '不喜欢': 166,\n",
       " '不行': 167,\n",
       " '不幸': 168,\n",
       " '不用': 169,\n",
       " '不在': 170,\n",
       " '不知道': 171,\n",
       " '擦': 172,\n",
       " '菜': 173,\n",
       " '才': 174,\n",
       " '猜': 175,\n",
       " '采访': 176,\n",
       " '彩票': 177,\n",
       " '彩色': 178,\n",
       " '仓库': 179,\n",
       " '参观': 180,\n",
       " '残疾': 181,\n",
       " '参加': 182,\n",
       " '餐巾': 183,\n",
       " '惭愧': 184,\n",
       " '草': 185,\n",
       " '草稿': 186,\n",
       " '操心': 187,\n",
       " '层': 188,\n",
       " '厕所': 189,\n",
       " '插': 190,\n",
       " '差': 191,\n",
       " '差别': 192,\n",
       " '差不多': 193,\n",
       " '差点': 194,\n",
       " '拆开': 195,\n",
       " '唱': 196,\n",
       " '厂': 197,\n",
       " '肠': 198,\n",
       " '唱歌': 199,\n",
       " '场合': 200,\n",
       " '长江': 201,\n",
       " '尝试': 202,\n",
       " '场所': 203,\n",
       " '产品': 204,\n",
       " '炒': 205,\n",
       " '超': 206,\n",
       " '抄': 207,\n",
       " '炒菜': 208,\n",
       " '超过': 209,\n",
       " '吵架': 210,\n",
       " '超市': 211,\n",
       " '朝鲜': 212,\n",
       " '嘲笑': 213,\n",
       " '查询': 214,\n",
       " '茶叶': 215,\n",
       " '车': 216,\n",
       " '彻底': 217,\n",
       " '车祸': 218,\n",
       " '车流': 219,\n",
       " '承包': 220,\n",
       " '成都': 221,\n",
       " '程度': 222,\n",
       " '惩罚': 223,\n",
       " '成功': 224,\n",
       " '成绩': 225,\n",
       " '承诺': 226,\n",
       " '承认': 227,\n",
       " '城市': 228,\n",
       " '成熟': 229,\n",
       " '称谓': 230,\n",
       " '程序': 231,\n",
       " '称赞': 232,\n",
       " '成长': 233,\n",
       " '沉迷': 234,\n",
       " '沉默': 235,\n",
       " '车胎': 236,\n",
       " '车站': 237,\n",
       " '吃': 238,\n",
       " '吃不消': 239,\n",
       " '迟到': 240,\n",
       " '吃饭': 241,\n",
       " '吃亏': 242,\n",
       " '虫': 243,\n",
       " '宠爱': 244,\n",
       " '崇拜': 245,\n",
       " '冲动': 246,\n",
       " '充分': 247,\n",
       " '重复': 248,\n",
       " '重新': 249,\n",
       " '丑': 250,\n",
       " '抽': 251,\n",
       " '臭': 252,\n",
       " '愁眉': 253,\n",
       " '抽血': 254,\n",
       " '抽烟': 255,\n",
       " '出': 256,\n",
       " '穿': 257,\n",
       " '船': 258,\n",
       " '传': 259,\n",
       " '传遍': 260,\n",
       " '窗': 261,\n",
       " '床': 262,\n",
       " '创': 263,\n",
       " '创新': 264,\n",
       " '创业': 265,\n",
       " '传染': 266,\n",
       " '传统': 267,\n",
       " '传销': 268,\n",
       " '处罚': 269,\n",
       " '处方': 270,\n",
       " '吹': 271,\n",
       " '吹棒': 272,\n",
       " '除了': 273,\n",
       " '处理': 274,\n",
       " '出门': 275,\n",
       " '春天': 276,\n",
       " '厨师': 277,\n",
       " '出示': 278,\n",
       " '出台': 279,\n",
       " '出现': 280,\n",
       " '出院': 281,\n",
       " '出租车': 282,\n",
       " '次': 283,\n",
       " '刺': 284,\n",
       " '刺激': 285,\n",
       " '词语': 286,\n",
       " '辞职': 287,\n",
       " '从': 288,\n",
       " '从来': 289,\n",
       " '聪明': 290,\n",
       " '粗': 291,\n",
       " '存': 292,\n",
       " '存折': 293,\n",
       " '错': 294,\n",
       " '错过': 295,\n",
       " '错误': 296,\n",
       " 'd': 297,\n",
       " '大': 298,\n",
       " '打': 299,\n",
       " '答': 300,\n",
       " '答案': 301,\n",
       " '打扮': 302,\n",
       " '大便': 303,\n",
       " '达到': 304,\n",
       " '大概': 305,\n",
       " '带': 306,\n",
       " '呆': 307,\n",
       " '戴': 308,\n",
       " '代表': 309,\n",
       " '贷款': 310,\n",
       " '代替': 311,\n",
       " '袋子': 312,\n",
       " '大家': 313,\n",
       " '打架': 314,\n",
       " '单': 315,\n",
       " '淡': 316,\n",
       " '蛋': 317,\n",
       " '党': 318,\n",
       " '当': 319,\n",
       " '蛋糕': 320,\n",
       " '当面': 321,\n",
       " '担架': 322,\n",
       " '弹幕': 323,\n",
       " '但是': 324,\n",
       " '单位': 325,\n",
       " '担心': 326,\n",
       " '到': 327,\n",
       " '倒': 328,\n",
       " '刀': 329,\n",
       " '道': 330,\n",
       " '到处': 331,\n",
       " '到底': 332,\n",
       " '导航': 333,\n",
       " '道理': 334,\n",
       " '倒霉': 335,\n",
       " '道歉': 336,\n",
       " '导致': 337,\n",
       " '打扰': 338,\n",
       " '大人': 339,\n",
       " '打扫': 340,\n",
       " '大事': 341,\n",
       " '打算': 342,\n",
       " '打胎': 343,\n",
       " '大学': 344,\n",
       " '大学生': 345,\n",
       " '打印': 346,\n",
       " '大雨': 347,\n",
       " '打招呼': 348,\n",
       " '打折': 349,\n",
       " '打针': 350,\n",
       " '得': 351,\n",
       " '德': 352,\n",
       " '得到': 353,\n",
       " '等': 354,\n",
       " '灯': 355,\n",
       " '登': 356,\n",
       " '瞪': 357,\n",
       " '登记': 358,\n",
       " '灯塔': 359,\n",
       " '等于': 360,\n",
       " '得罪': 361,\n",
       " '滴': 362,\n",
       " '低': 363,\n",
       " '地': 364,\n",
       " '点': 365,\n",
       " '店': 366,\n",
       " '电': 367,\n",
       " '电话': 368,\n",
       " '电脑': 369,\n",
       " '电视': 370,\n",
       " '电梯': 371,\n",
       " '点头': 372,\n",
       " '电影': 373,\n",
       " '电子': 374,\n",
       " '钓': 375,\n",
       " '掉': 376,\n",
       " '调': 377,\n",
       " '调查': 378,\n",
       " '抵挡': 379,\n",
       " '弟弟': 380,\n",
       " '第二': 381,\n",
       " '地方': 382,\n",
       " '抵抗': 383,\n",
       " '定': 384,\n",
       " '订': 385,\n",
       " '定居': 386,\n",
       " '定位': 387,\n",
       " '地球': 388,\n",
       " '敌人': 389,\n",
       " '迪士尼': 390,\n",
       " '地铁': 391,\n",
       " '低头': 392,\n",
       " '地图': 393,\n",
       " '丢': 394,\n",
       " '丢脸': 395,\n",
       " '地形': 396,\n",
       " '第一': 397,\n",
       " '地震': 398,\n",
       " '动': 399,\n",
       " '懂': 400,\n",
       " '洞': 401,\n",
       " '动车': 402,\n",
       " '懂得': 403,\n",
       " '东方明珠': 404,\n",
       " '动画': 405,\n",
       " '冬天': 406,\n",
       " '动物': 407,\n",
       " '东西': 408,\n",
       " '动作': 409,\n",
       " '堵': 410,\n",
       " '毒': 411,\n",
       " '读': 412,\n",
       " '短': 413,\n",
       " '段': 414,\n",
       " '断': 415,\n",
       " '端': 416,\n",
       " '锻炼': 417,\n",
       " '短信息': 418,\n",
       " '赌博': 419,\n",
       " '堵车': 420,\n",
       " '对': 421,\n",
       " '队': 422,\n",
       " '对不起': 423,\n",
       " '对方': 424,\n",
       " '对面': 425,\n",
       " '队伍': 426,\n",
       " '对象': 427,\n",
       " '独立': 428,\n",
       " '吨': 429,\n",
       " '多': 430,\n",
       " '躲': 431,\n",
       " '躲避': 432,\n",
       " '多媒体': 433,\n",
       " '多少': 434,\n",
       " '读书': 435,\n",
       " '肚子': 436,\n",
       " '饿': 437,\n",
       " '二': 438,\n",
       " '耳机': 439,\n",
       " '二维码': 440,\n",
       " '儿子': 441,\n",
       " '恶心': 442,\n",
       " '发': 443,\n",
       " '法': 444,\n",
       " '法国': 445,\n",
       " '法律': 446,\n",
       " '发明': 447,\n",
       " '饭': 448,\n",
       " '翻': 449,\n",
       " '烦': 450,\n",
       " '反': 451,\n",
       " '犯': 452,\n",
       " '犯错': 453,\n",
       " '饭店': 454,\n",
       " '反调': 455,\n",
       " '反对': 456,\n",
       " '放': 457,\n",
       " '防': 458,\n",
       " '方': 459,\n",
       " '房': 460,\n",
       " '方案': 461,\n",
       " '方便': 462,\n",
       " '放大': 463,\n",
       " '方法': 464,\n",
       " '放假': 465,\n",
       " '房间': 466,\n",
       " '方面': 467,\n",
       " '放弃': 468,\n",
       " '方式': 469,\n",
       " '放松': 470,\n",
       " '犯规': 471,\n",
       " '方向': 472,\n",
       " '放心': 473,\n",
       " '放学': 474,\n",
       " '防止': 475,\n",
       " '房子': 476,\n",
       " '翻脸': 477,\n",
       " '烦恼': 478,\n",
       " '翻译': 479,\n",
       " '反应': 480,\n",
       " '犯罪': 481,\n",
       " '发票': 482,\n",
       " '发烧': 483,\n",
       " '发生': 484,\n",
       " '发送': 485,\n",
       " '乏味': 486,\n",
       " '发现': 487,\n",
       " '发展': 488,\n",
       " '废': 489,\n",
       " '飞': 490,\n",
       " '肥': 491,\n",
       " '非常': 492,\n",
       " '飞机': 493,\n",
       " '粉': 494,\n",
       " '分': 495,\n",
       " '分别': 496,\n",
       " '纷纷': 497,\n",
       " '风': 498,\n",
       " '丰富': 499,\n",
       " '风格': 500,\n",
       " '风景': 501,\n",
       " '疯狂': 502,\n",
       " '封面': 503,\n",
       " '分开': 504,\n",
       " '分手': 505,\n",
       " '分数': 506,\n",
       " '分析': 507,\n",
       " '分之': 508,\n",
       " '分钟': 509,\n",
       " '否认': 510,\n",
       " '付': 511,\n",
       " '服': 512,\n",
       " '赋': 513,\n",
       " '腹': 514,\n",
       " '副': 515,\n",
       " '付出': 516,\n",
       " '服从': 517,\n",
       " '负担': 518,\n",
       " '富贵': 519,\n",
       " '符合': 520,\n",
       " '附近': 521,\n",
       " '夫妻': 522,\n",
       " '福气': 523,\n",
       " '服务': 524,\n",
       " '复习': 525,\n",
       " '复印': 526,\n",
       " '复杂': 527,\n",
       " '负责': 528,\n",
       " '改变': 529,\n",
       " '改革': 530,\n",
       " '概念': 531,\n",
       " '盖章': 532,\n",
       " '干': 533,\n",
       " '干部': 534,\n",
       " '感动': 535,\n",
       " '尴尬': 536,\n",
       " '钢笔': 537,\n",
       " '刚才': 538,\n",
       " '刚刚': 539,\n",
       " '钢琴': 540,\n",
       " '岗位': 541,\n",
       " '赶紧': 542,\n",
       " '干净': 543,\n",
       " '感觉': 544,\n",
       " '感冒': 545,\n",
       " '感情': 546,\n",
       " '感染': 547,\n",
       " '感谢': 548,\n",
       " '高': 549,\n",
       " '告白': 550,\n",
       " '高峰': 551,\n",
       " '高考': 552,\n",
       " '告诉': 553,\n",
       " '高速公路': 554,\n",
       " '高铁': 555,\n",
       " '高兴': 556,\n",
       " '高中': 557,\n",
       " '各': 558,\n",
       " '个': 559,\n",
       " '哥哥': 560,\n",
       " '给': 561,\n",
       " '革命': 562,\n",
       " '跟': 563,\n",
       " '更多': 564,\n",
       " '更新': 565,\n",
       " '根据': 566,\n",
       " '格式': 567,\n",
       " '个月': 568,\n",
       " '各种': 569,\n",
       " '格子': 570,\n",
       " '公': 571,\n",
       " '工': 572,\n",
       " '共': 573,\n",
       " '共产党': 574,\n",
       " '工厂': 575,\n",
       " '工程': 576,\n",
       " '攻击': 577,\n",
       " '公交车': 578,\n",
       " '工具': 579,\n",
       " '功能': 580,\n",
       " '公平': 581,\n",
       " '工人': 582,\n",
       " '共事': 583,\n",
       " '公司': 584,\n",
       " '共享': 585,\n",
       " '公园': 586,\n",
       " '工资': 587,\n",
       " '工作': 588,\n",
       " '狗': 589,\n",
       " '沟通': 590,\n",
       " '古': 591,\n",
       " '挂': 592,\n",
       " '瓜': 593,\n",
       " '怪不得': 594,\n",
       " '官': 595,\n",
       " '馆': 596,\n",
       " '关闭': 597,\n",
       " '观察': 598,\n",
       " '观点': 599,\n",
       " '光': 600,\n",
       " '广播': 601,\n",
       " '广告': 602,\n",
       " '光荣': 603,\n",
       " '关节': 604,\n",
       " '冠军': 605,\n",
       " '管理': 606,\n",
       " '关门': 607,\n",
       " '关心': 608,\n",
       " '关于': 609,\n",
       " '观众': 610,\n",
       " '关注': 611,\n",
       " '管子': 612,\n",
       " '固定': 613,\n",
       " '贵': 614,\n",
       " '鬼': 615,\n",
       " '规定': 616,\n",
       " '规律': 617,\n",
       " '规则': 618,\n",
       " '估计': 619,\n",
       " '鼓励': 620,\n",
       " '过': 621,\n",
       " '国': 622,\n",
       " '过程': 623,\n",
       " '过度': 624,\n",
       " '国际': 625,\n",
       " '国家': 626,\n",
       " '过节': 627,\n",
       " '过来': 628,\n",
       " '过敏': 629,\n",
       " '国民党': 630,\n",
       " '过期': 631,\n",
       " '过去': 632,\n",
       " '过世': 633,\n",
       " '国王': 634,\n",
       " '果汁': 635,\n",
       " '股票': 636,\n",
       " '故事': 637,\n",
       " '顾问': 638,\n",
       " '鼓掌': 639,\n",
       " '故障': 640,\n",
       " '还': 641,\n",
       " '害': 642,\n",
       " '海': 643,\n",
       " '害怕': 644,\n",
       " '还是': 645,\n",
       " '害羞': 646,\n",
       " '还有': 647,\n",
       " '孩子': 648,\n",
       " '喊': 649,\n",
       " '汗': 650,\n",
       " '汉堡': 651,\n",
       " '航空': 652,\n",
       " '汗水': 653,\n",
       " '好': 654,\n",
       " '好不好': 655,\n",
       " '好吃': 656,\n",
       " '好处': 657,\n",
       " '好看': 658,\n",
       " '好了': 659,\n",
       " '号码': 660,\n",
       " '好听': 661,\n",
       " '好心': 662,\n",
       " '号召': 663,\n",
       " '喝': 664,\n",
       " '和': 665,\n",
       " '河': 666,\n",
       " '核磁共振': 667,\n",
       " '核对': 668,\n",
       " '合肥': 669,\n",
       " '黑': 670,\n",
       " '黑暗': 671,\n",
       " '恨': 672,\n",
       " '和平': 673,\n",
       " '合适': 674,\n",
       " '核桃': 675,\n",
       " '合同': 676,\n",
       " '盒子': 677,\n",
       " '合作': 678,\n",
       " '红': 679,\n",
       " '红包': 680,\n",
       " '洪水': 681,\n",
       " '后': 682,\n",
       " '厚': 683,\n",
       " '后果': 684,\n",
       " '后悔': 685,\n",
       " '猴子': 686,\n",
       " '虎': 687,\n",
       " '湖': 688,\n",
       " '花': 689,\n",
       " '华': 690,\n",
       " '话': 691,\n",
       " '画': 692,\n",
       " '划': 693,\n",
       " '花费': 694,\n",
       " '画画': 695,\n",
       " '坏': 696,\n",
       " '怀疑': 697,\n",
       " '怀孕': 698,\n",
       " '换': 699,\n",
       " '黄': 700,\n",
       " '环节': 701,\n",
       " '环境': 702,\n",
       " '欢迎': 703,\n",
       " '花钱': 704,\n",
       " '划算': 705,\n",
       " '话题': 706,\n",
       " '会': 707,\n",
       " '回': 708,\n",
       " '回报': 709,\n",
       " '灰尘': 710,\n",
       " '回答': 711,\n",
       " '恢复': 712,\n",
       " '回家': 713,\n",
       " '贿赂': 714,\n",
       " '回头': 715,\n",
       " '灰心': 716,\n",
       " '会议': 717,\n",
       " '回忆': 718,\n",
       " '会员': 719,\n",
       " '混': 720,\n",
       " '或': 721,\n",
       " '活': 722,\n",
       " '火': 723,\n",
       " '货': 724,\n",
       " '火车': 725,\n",
       " '获得': 726,\n",
       " '活动': 727,\n",
       " '火锅': 728,\n",
       " '火箭': 729,\n",
       " '活泼': 730,\n",
       " '或者': 731,\n",
       " '护士': 732,\n",
       " '糊涂': 733,\n",
       " '呼吸': 734,\n",
       " '互相': 735,\n",
       " '忽悠': 736,\n",
       " '护照': 737,\n",
       " '急': 738,\n",
       " '几': 739,\n",
       " '寄': 740,\n",
       " '挤': 741,\n",
       " '假': 742,\n",
       " '夹': 743,\n",
       " '嫁': 744,\n",
       " '价格': 745,\n",
       " '家具': 746,\n",
       " '见': 747,\n",
       " '减': 748,\n",
       " '捡': 749,\n",
       " '剪': 750,\n",
       " '检查': 751,\n",
       " '坚持': 752,\n",
       " '简单': 753,\n",
       " '减肥': 754,\n",
       " '降': 755,\n",
       " '奖': 756,\n",
       " '讲': 757,\n",
       " '将来': 758,\n",
       " '健康': 759,\n",
       " '建立': 760,\n",
       " '见面': 761,\n",
       " '减少': 762,\n",
       " '建设': 763,\n",
       " '监视': 764,\n",
       " '建议': 765,\n",
       " '监狱': 766,\n",
       " '建造': 767,\n",
       " '兼职': 768,\n",
       " '建筑': 769,\n",
       " '叫': 770,\n",
       " '教': 771,\n",
       " '交': 772,\n",
       " '脚': 773,\n",
       " '骄傲': 774,\n",
       " '教材': 775,\n",
       " '焦急': 776,\n",
       " '交流': 777,\n",
       " '郊区': 778,\n",
       " '教室': 779,\n",
       " '交通': 780,\n",
       " '侥幸': 781,\n",
       " '教训': 782,\n",
       " '交易': 783,\n",
       " '饺子': 784,\n",
       " '驾驶': 785,\n",
       " '加油': 786,\n",
       " '假装': 787,\n",
       " '机场': 788,\n",
       " '记仇': 789,\n",
       " '基础': 790,\n",
       " '记得': 791,\n",
       " '嫉妒': 792,\n",
       " '接': 793,\n",
       " '借': 794,\n",
       " '接触': 795,\n",
       " '街道': 796,\n",
       " '阶段': 797,\n",
       " '解放': 798,\n",
       " '解放军': 799,\n",
       " '结果': 800,\n",
       " '结婚': 801,\n",
       " '姐姐': 802,\n",
       " '解决': 803,\n",
       " '揭开': 804,\n",
       " '借口': 805,\n",
       " '借款': 806,\n",
       " '节日': 807,\n",
       " '介绍': 808,\n",
       " '节省': 809,\n",
       " '解释': 810,\n",
       " '接受': 811,\n",
       " '结束': 812,\n",
       " '节约': 813,\n",
       " '截止': 814,\n",
       " '机构': 815,\n",
       " '计划': 816,\n",
       " '机会': 817,\n",
       " '积极': 818,\n",
       " '计较': 819,\n",
       " '基金会': 820,\n",
       " '急救': 821,\n",
       " '积累': 822,\n",
       " '激烈': 823,\n",
       " '记录': 824,\n",
       " '纪律': 825,\n",
       " '近': 826,\n",
       " '斤': 827,\n",
       " '进': 828,\n",
       " '金': 829,\n",
       " '紧': 830,\n",
       " '今': 831,\n",
       " '进步': 832,\n",
       " '精': 833,\n",
       " '精彩': 834,\n",
       " '警察': 835,\n",
       " '经常': 836,\n",
       " '警告': 837,\n",
       " '经过': 838,\n",
       " '经济': 839,\n",
       " '经理': 840,\n",
       " '经历': 841,\n",
       " '经商': 842,\n",
       " '精神': 843,\n",
       " '警惕': 844,\n",
       " '惊喜': 845,\n",
       " '惊吓': 846,\n",
       " '惊讶': 847,\n",
       " '经验': 848,\n",
       " '竞争': 849,\n",
       " '镜子': 850,\n",
       " '几年': 851,\n",
       " '纪念': 852,\n",
       " '晋级': 853,\n",
       " '尽量': 854,\n",
       " '金融': 855,\n",
       " '紧缩': 856,\n",
       " '今天': 857,\n",
       " '紧握': 858,\n",
       " '进行': 859,\n",
       " '紧张': 860,\n",
       " '禁止': 861,\n",
       " '机器': 862,\n",
       " '技术': 863,\n",
       " '计算': 864,\n",
       " '集体': 865,\n",
       " '就': 866,\n",
       " '酒': 867,\n",
       " '旧': 868,\n",
       " '救': 869,\n",
       " '久': 870,\n",
       " '酒店': 871,\n",
       " '舅舅': 872,\n",
       " '就是': 873,\n",
       " '救援': 874,\n",
       " '极限': 875,\n",
       " '继续': 876,\n",
       " '记者': 877,\n",
       " '急诊': 878,\n",
       " '集中': 879,\n",
       " '剧': 880,\n",
       " '局': 881,\n",
       " '捐钱': 882,\n",
       " '局部': 883,\n",
       " '觉': 884,\n",
       " '决定': 885,\n",
       " '决赛': 886,\n",
       " '拒绝': 887,\n",
       " '距离': 888,\n",
       " '军': 889,\n",
       " '举手': 890,\n",
       " '居住': 891,\n",
       " '句子': 892,\n",
       " '卡': 893,\n",
       " '咖啡': 894,\n",
       " '开': 895,\n",
       " '开除': 896,\n",
       " '开放': 897,\n",
       " '开始': 898,\n",
       " '开学': 899,\n",
       " '看': 900,\n",
       " '砍': 901,\n",
       " '看不惯': 902,\n",
       " '看不见': 903,\n",
       " '看不起': 904,\n",
       " '看法': 905,\n",
       " '考': 906,\n",
       " '靠': 907,\n",
       " '考虑': 908,\n",
       " '考试': 909,\n",
       " '考验': 910,\n",
       " '课': 911,\n",
       " '客': 912,\n",
       " '可': 913,\n",
       " '可爱': 914,\n",
       " '克服': 915,\n",
       " '客户': 916,\n",
       " '肯德基': 917,\n",
       " '肯定': 918,\n",
       " '客气': 919,\n",
       " '咳嗽': 920,\n",
       " '可惜': 921,\n",
       " '科学': 922,\n",
       " '可以': 923,\n",
       " '空': 924,\n",
       " '恐怖': 925,\n",
       " '空气': 926,\n",
       " '空调': 927,\n",
       " '控制': 928,\n",
       " '口': 929,\n",
       " '扣': 930,\n",
       " '口渴': 931,\n",
       " '口味': 932,\n",
       " '哭': 933,\n",
       " '苦': 934,\n",
       " '快': 935,\n",
       " '快递': 936,\n",
       " '快乐': 937,\n",
       " '宽': 938,\n",
       " '宽容': 939,\n",
       " '亏': 940,\n",
       " '困': 941,\n",
       " '裤子': 942,\n",
       " '辣': 943,\n",
       " '来': 944,\n",
       " '来不及': 945,\n",
       " '来往': 946,\n",
       " '来自': 947,\n",
       " '垃圾': 948,\n",
       " '蓝': 949,\n",
       " '懒': 950,\n",
       " '浪费': 951,\n",
       " '篮球': 952,\n",
       " '蓝色': 953,\n",
       " '阑尾': 954,\n",
       " '蓝牙': 955,\n",
       " '老': 956,\n",
       " '捞': 957,\n",
       " '老板': 958,\n",
       " '唠叨': 959,\n",
       " '劳动': 960,\n",
       " '老虎': 961,\n",
       " '老婆': 962,\n",
       " '老师': 963,\n",
       " '老实': 964,\n",
       " '老鼠': 965,\n",
       " '了': 966,\n",
       " '累': 967,\n",
       " '冷': 968,\n",
       " '冷场': 969,\n",
       " '冷静': 970,\n",
       " '李': 971,\n",
       " '里': 972,\n",
       " '理': 973,\n",
       " '力': 974,\n",
       " '脸': 975,\n",
       " '连': 976,\n",
       " '恋爱': 977,\n",
       " '亮': 978,\n",
       " '量': 979,\n",
       " '两': 980,\n",
       " '脸红': 981,\n",
       " '联欢': 982,\n",
       " '连接': 983,\n",
       " '联系': 984,\n",
       " '练习': 985,\n",
       " '联想': 986,\n",
       " '连续': 987,\n",
       " '了解': 988,\n",
       " '聊天': 989,\n",
       " '离婚': 990,\n",
       " '理解': 991,\n",
       " '离开': 992,\n",
       " '力量': 993,\n",
       " '理论': 994,\n",
       " '礼貌': 995,\n",
       " '领导': 996,\n",
       " '灵活': 997,\n",
       " '领巾': 998,\n",
       " '领事': 999,\n",
       " '零食': 1000,\n",
       " ...}"
      ]
     },
     "execution_count": 3,
     "metadata": {},
     "output_type": "execute_result"
    }
   ],
   "execution_count": 3
  },
  {
   "metadata": {
    "ExecuteTime": {
     "end_time": "2024-09-27T10:00:27.737692Z",
     "start_time": "2024-09-27T10:00:27.732764Z"
    }
   },
   "cell_type": "code",
   "source": "tknz.vocab_size",
   "id": "95e198c2ef23b947",
   "outputs": [
    {
     "data": {
      "text/plain": [
       "2004"
      ]
     },
     "execution_count": 4,
     "metadata": {},
     "output_type": "execute_result"
    }
   ],
   "execution_count": 4
  },
  {
   "metadata": {
    "ExecuteTime": {
     "end_time": "2024-09-27T10:00:31.495080Z",
     "start_time": "2024-09-27T10:00:31.484680Z"
    }
   },
   "cell_type": "code",
   "source": "tknz.convert_ids_to_tokens([5, 6, 2, 3, 4, 888])",
   "id": "86ea50eed3265e30",
   "outputs": [
    {
     "data": {
      "text/plain": [
       "['15', '18', '1', '11', '12', '距离']"
      ]
     },
     "execution_count": 5,
     "metadata": {},
     "output_type": "execute_result"
    }
   ],
   "execution_count": 5
  },
  {
   "metadata": {
    "ExecuteTime": {
     "end_time": "2024-09-27T09:51:50.195068Z",
     "start_time": "2024-09-27T09:51:50.186231Z"
    }
   },
   "cell_type": "code",
   "source": "tknz.convert_tokens_to_ids(tknz.pad_token)",
   "id": "35596054fb688479",
   "outputs": [
    {
     "data": {
      "text/plain": [
       "2001"
      ]
     },
     "execution_count": 6,
     "metadata": {},
     "output_type": "execute_result"
    }
   ],
   "execution_count": 6
  },
  {
   "metadata": {
    "ExecuteTime": {
     "end_time": "2024-09-27T10:02:40.182400Z",
     "start_time": "2024-09-27T10:02:40.172573Z"
    }
   },
   "cell_type": "code",
   "source": "tknz.encode([\"你\", \"好\", \"谢谢\", \"再\", \"见\"])",
   "id": "22e910c117fe2cec",
   "outputs": [
    {
     "data": {
      "text/plain": [
       "tensor([2003, 2002, 1634, 2002, 2004])"
      ]
     },
     "execution_count": 8,
     "metadata": {},
     "output_type": "execute_result"
    }
   ],
   "execution_count": 8
  },
  {
   "metadata": {
    "ExecuteTime": {
     "end_time": "2024-09-27T10:03:16.132608Z",
     "start_time": "2024-09-27T10:03:16.121455Z"
    }
   },
   "cell_type": "code",
   "source": "tknz.decode(tknz.encode([\"你\", \"好\", \"谢谢\", \"再\", \"见\"]))",
   "id": "fb4a6f0f2f782b20",
   "outputs": [
    {
     "data": {
      "text/plain": [
       "['<SOS>', '你', '好', '谢谢', '<UNK>', '见', '<EOS>']"
      ]
     },
     "execution_count": 10,
     "metadata": {},
     "output_type": "execute_result"
    }
   ],
   "execution_count": 10
  },
  {
   "metadata": {},
   "cell_type": "code",
   "outputs": [],
   "execution_count": null,
   "source": "",
   "id": "ec9af74622da6949"
  },
  {
   "metadata": {},
   "cell_type": "code",
   "outputs": [],
   "execution_count": null,
   "source": "",
   "id": "a64e7b5e8ce5163d"
  },
  {
   "metadata": {},
   "cell_type": "markdown",
   "source": "# CSL Daily DataModule Test",
   "id": "70961a39b54cedb7"
  },
  {
   "metadata": {
    "ExecuteTime": {
     "end_time": "2024-09-27T12:06:55.015420Z",
     "start_time": "2024-09-27T12:06:51.927510Z"
    }
   },
   "cell_type": "code",
   "source": [
    "from slr.datasets import CSLDailyDataModule\n",
    "from slr.datasets.tknzs.simple_tokenizer import SimpleTokenizer"
   ],
   "id": "b08ed3deb2135b79",
   "outputs": [],
   "execution_count": 1
  },
  {
   "metadata": {
    "ExecuteTime": {
     "end_time": "2024-09-27T12:06:55.039938Z",
     "start_time": "2024-09-27T12:06:55.035849Z"
    }
   },
   "cell_type": "code",
   "source": "tokenizer = SimpleTokenizer(vocab_file=\"/new_home/xzj23/workspace/SLR/slrt/datasets/vocabs/csl-daily_gloss_vocab.txt\")",
   "id": "c8c429b747828456",
   "outputs": [],
   "execution_count": 2
  },
  {
   "metadata": {
    "ExecuteTime": {
     "end_time": "2024-09-27T12:06:55.509055Z",
     "start_time": "2024-09-27T12:06:55.505325Z"
    }
   },
   "cell_type": "code",
   "source": [
    "datamodule = CSLDailyDataModule(dataset_dir='/new_home/xzj23/workspace/SLR/data/csl-daily', batch_size=2, num_workers=8,\n",
    "                                tokenizer=tokenizer)"
   ],
   "id": "1135f2e90b122efa",
   "outputs": [
    {
     "name": "stdout",
     "output_type": "stream",
     "text": [
      "Warning: 'transform' is None, using default values.\n"
     ]
    }
   ],
   "execution_count": 3
  },
  {
   "metadata": {
    "ExecuteTime": {
     "end_time": "2024-09-27T12:06:56.297732Z",
     "start_time": "2024-09-27T12:06:55.533207Z"
    }
   },
   "cell_type": "code",
   "source": "datamodule.setup('fit')",
   "id": "b6ab05516deef89d",
   "outputs": [],
   "execution_count": 4
  },
  {
   "metadata": {
    "ExecuteTime": {
     "end_time": "2024-09-27T12:06:56.324769Z",
     "start_time": "2024-09-27T12:06:56.322589Z"
    }
   },
   "cell_type": "code",
   "source": "train_dataloader = datamodule.train_dataloader()",
   "id": "d69663acc27a2cf9",
   "outputs": [],
   "execution_count": 5
  },
  {
   "metadata": {
    "ExecuteTime": {
     "end_time": "2024-09-27T12:06:56.380424Z",
     "start_time": "2024-09-27T12:06:56.377830Z"
    }
   },
   "cell_type": "code",
   "source": [
    "# for x, y, x_lgt, y_lgt, info in train_dataloader:\n",
    "#     print(x.shape)"
   ],
   "id": "4eafd44c221c1121",
   "outputs": [],
   "execution_count": 6
  },
  {
   "metadata": {
    "ExecuteTime": {
     "end_time": "2024-09-27T12:07:04.049697Z",
     "start_time": "2024-09-27T12:06:56.410744Z"
    }
   },
   "cell_type": "code",
   "source": "x, y, x_lgt, y_lgt, info = next(iter(train_dataloader))",
   "id": "d11c6049b4954b7b",
   "outputs": [],
   "execution_count": 7
  },
  {
   "metadata": {
    "ExecuteTime": {
     "end_time": "2024-09-27T12:07:04.100295Z",
     "start_time": "2024-09-27T12:07:04.091928Z"
    }
   },
   "cell_type": "code",
   "source": "x.shape",
   "id": "b2913e2f48047f81",
   "outputs": [
    {
     "data": {
      "text/plain": [
       "torch.Size([2, 112, 3, 224, 224])"
      ]
     },
     "execution_count": 8,
     "metadata": {},
     "output_type": "execute_result"
    }
   ],
   "execution_count": 8
  },
  {
   "metadata": {
    "ExecuteTime": {
     "end_time": "2024-09-27T12:07:04.163521Z",
     "start_time": "2024-09-27T12:07:04.155501Z"
    }
   },
   "cell_type": "code",
   "source": "x[1, 10, 2, 55, 55]",
   "id": "d0293ff4774c9f27",
   "outputs": [
    {
     "data": {
      "text/plain": [
       "tensor(212.5000)"
      ]
     },
     "execution_count": 9,
     "metadata": {},
     "output_type": "execute_result"
    }
   ],
   "execution_count": 9
  },
  {
   "metadata": {
    "ExecuteTime": {
     "end_time": "2024-09-27T12:07:04.220274Z",
     "start_time": "2024-09-27T12:07:04.216238Z"
    }
   },
   "cell_type": "code",
   "source": "y",
   "id": "f6c09b06ebd6258d",
   "outputs": [
    {
     "data": {
      "text/plain": [
       "tensor([[2003, 1392,  476, 1575,  900,  963, 2004, 2001, 2001, 2001],\n",
       "        [2003, 1830,  476, 1436, 1213,   45, 1502, 1480,  862, 2004]])"
      ]
     },
     "execution_count": 10,
     "metadata": {},
     "output_type": "execute_result"
    }
   ],
   "execution_count": 10
  },
  {
   "metadata": {
    "ExecuteTime": {
     "end_time": "2024-09-27T12:07:04.290665Z",
     "start_time": "2024-09-27T12:07:04.281528Z"
    }
   },
   "cell_type": "code",
   "source": "y_lgt",
   "id": "bcf675571f21bb34",
   "outputs": [
    {
     "data": {
      "text/plain": [
       "[7, 10]"
      ]
     },
     "execution_count": 11,
     "metadata": {},
     "output_type": "execute_result"
    }
   ],
   "execution_count": 11
  },
  {
   "metadata": {
    "ExecuteTime": {
     "end_time": "2024-09-27T12:07:04.330659Z",
     "start_time": "2024-09-27T12:07:04.326263Z"
    }
   },
   "cell_type": "code",
   "source": "tokenizer.decode(y[0])",
   "id": "471756d739bd4e4a",
   "outputs": [
    {
     "data": {
      "text/plain": [
       "['<SOS>', '书', '房子', '我', '看', '老师', '<EOS>', '<PAD>', '<PAD>', '<PAD>']"
      ]
     },
     "execution_count": 12,
     "metadata": {},
     "output_type": "execute_result"
    }
   ],
   "execution_count": 12
  },
  {
   "metadata": {
    "ExecuteTime": {
     "end_time": "2024-09-27T12:07:04.542912Z",
     "start_time": "2024-09-27T12:07:04.538486Z"
    }
   },
   "cell_type": "code",
   "source": "tokenizer.decode(y[1])",
   "id": "1e02cd0a5dfa9e37",
   "outputs": [
    {
     "data": {
      "text/plain": [
       "['<SOS>', '在', '房子', '他', '悄悄', '安装', '偷', '听', '机器', '<EOS>']"
      ]
     },
     "execution_count": 13,
     "metadata": {},
     "output_type": "execute_result"
    }
   ],
   "execution_count": 13
  },
  {
   "metadata": {
    "ExecuteTime": {
     "end_time": "2024-09-27T12:07:04.646664Z",
     "start_time": "2024-09-27T12:07:04.642912Z"
    }
   },
   "cell_type": "code",
   "source": "image = x[0, 10].numpy()",
   "id": "26430b3d4db219e0",
   "outputs": [],
   "execution_count": 14
  },
  {
   "metadata": {
    "ExecuteTime": {
     "end_time": "2024-09-27T12:07:04.685403Z",
     "start_time": "2024-09-27T12:07:04.680082Z"
    }
   },
   "cell_type": "code",
   "source": "image = image.transpose(1, 2, 0)",
   "id": "591dac1700b0f224",
   "outputs": [],
   "execution_count": 15
  },
  {
   "metadata": {
    "ExecuteTime": {
     "end_time": "2024-09-27T12:07:04.912059Z",
     "start_time": "2024-09-27T12:07:04.744596Z"
    }
   },
   "cell_type": "code",
   "source": [
    "import numpy as np\n",
    "import matplotlib.pyplot as plt\n",
    "import cv2\n",
    "\n",
    "image = image.astype(np.uint8)\n",
    "# 在 Jupyter Notebook 中显示图片\n",
    "plt.imshow(image)\n",
    "plt.axis('off')  # 关闭坐标轴\n",
    "plt.show()\n",
    "\n",
    "# 调整颜色空间（可选）\n",
    "rgb_arr = cv2.cvtColor(image, cv2.COLOR_BGR2RGB)\n",
    "plt.imshow(rgb_arr)\n",
    "plt.axis('off')\n",
    "plt.show()\n"
   ],
   "id": "7b3023eea8dd8dd",
   "outputs": [
    {
     "data": {
      "text/plain": [
       "<Figure size 640x480 with 1 Axes>"
      ],
      "image/png": "[encoded data removed]"
     },
     "metadata": {},
     "output_type": "display_data"
    },
    {
     "data": {
      "text/plain": [
       "<Figure size 640x480 with 1 Axes>"
      ],
      "image/png": "[encoded data removed]"
     },
     "metadata": {},
     "output_type": "display_data"
    }
   ],
   "execution_count": 16
  },
  {
   "metadata": {
    "ExecuteTime": {
     "end_time": "2024-09-27T11:59:53.370203Z",
     "start_time": "2024-09-27T11:59:53.320541Z"
    }
   },
   "cell_type": "code",
   "source": [
    "import torch\n",
    "from torchvision import transforms\n",
    "import matplotlib.pyplot as plt\n",
    "import cv2\n",
    "import numpy as np\n",
    "\n",
    "# 定义转换\n",
    "transform = transforms.Compose([\n",
    "    transforms.ToTensor(),\n",
    "    transforms.Resize((256, 256)),\n",
    "    transforms.CenterCrop(224),\n",
    "])\n",
    "\n",
    "# 读取图片\n",
    "image_path = '/new_home/xzj23/workspace/SLR/data/csl-daily/sentence_frames-512x512/frames_512x512/S000000_P0004_T00/000005.jpg'\n",
    "image = cv2.imread(image_path)\n",
    "\n",
    "# 将 BGR 转换为 RGB\n",
    "image_rgb = cv2.cvtColor(image, cv2.COLOR_BGR2RGB)\n",
    "\n",
    "# 应用转换\n",
    "transformed_image = transform(image_rgb)\n",
    "\n",
    "# 将张量转换回 NumPy 数组\n",
    "transformed_image_np = transformed_image.permute(1, 2, 0).numpy()\n",
    "\n",
    "# 确保数据范围在 [0, 1]\n",
    "transformed_image_np = np.clip(transformed_image_np, 0, 1)\n",
    "\n",
    "# 显示图片\n",
    "plt.imshow(transformed_image_np)\n",
    "# plt.imshow(transformed_image_np)\n",
    "plt.axis('off')\n",
    "plt.show()\n"
   ],
   "id": "d6a6ce627c1aa166",
   "outputs": [
    {
     "data": {
      "text/plain": [
       "<Figure size 640x480 with 1 Axes>"
      ],
      "image/png": "[encoded data removed]"
     },
     "metadata": {},
     "output_type": "display_data"
    }
   ],
   "execution_count": 25
  },
  {
   "metadata": {
    "ExecuteTime": {
     "end_time": "2024-09-27T12:35:44.641378Z",
     "start_time": "2024-09-27T12:35:44.167565Z"
    }
   },
   "cell_type": "code",
   "source": [
    "import matplotlib.pyplot as plt\n",
    "from PIL import Image\n",
    "\n",
    "# 打开图片\n",
    "img = Image.open('/new_home/xzj23/workspace/SLR/data/csl-daily/sentence_frames-512x512/frames_512x512/S000000_P0004_T00/000005.jpg')\n",
    "\n",
    "# 使用 matplotlib 显示图片\n",
    "plt.imshow(img)\n",
    "plt.axis('off')  # 可选: 不显示坐标轴\n",
    "plt.show()\n"
   ],
   "id": "cbde612199d49855",
   "outputs": [
    {
     "data": {
      "text/plain": [
       "<Figure size 640x480 with 1 Axes>"
      ],
      "image/png": "[encoded data removed]"
     },
     "metadata": {},
     "output_type": "display_data"
    }
   ],
   "execution_count": 1
  },
  {
   "metadata": {},
   "cell_type": "code",
   "outputs": [],
   "execution_count": null,
   "source": "",
   "id": "ce2d5bb1dec325a6"
  }
 ],
 "metadata": {
  "kernelspec": {
   "display_name": "Python 3",
   "language": "python",
   "name": "python3"
  },
  "language_info": {
   "codemirror_mode": {
    "name": "ipython",
    "version": 2
   },
   "file_extension": ".py",
   "mimetype": "text/x-python",
   "name": "python",
   "nbconvert_exporter": "python",
   "pygments_lexer": "ipython2",
   "version": "2.7.6"
  }
 },
 "nbformat": 4,
 "nbformat_minor": 5
}
