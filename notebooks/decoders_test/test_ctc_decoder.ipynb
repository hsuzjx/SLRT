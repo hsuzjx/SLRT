{
 "cells": [
  {
   "metadata": {
    "ExecuteTime": {
     "end_time": "2024-09-30T02:12:49.647897Z",
     "start_time": "2024-09-30T02:12:47.920840Z"
    }
   },
   "cell_type": "code",
   "source": [
    "from slr.models.CorrNet import CorrNet\n",
    "from slr.datasets.Phoenix2014DataModule import Phoenix2014DataModule\n",
    "import numpy as np\n",
    "import os\n",
    "import torch"
   ],
   "id": "123973f9b9aa5df1",
   "outputs": [],
   "execution_count": 1
  },
  {
   "metadata": {
    "ExecuteTime": {
     "end_time": "2024-09-30T02:12:50.907864Z",
     "start_time": "2024-09-30T02:12:49.673817Z"
    }
   },
   "cell_type": "code",
   "source": [
    "# load model\n",
    "model = CorrNet.load_from_checkpoint(\n",
    "    \"/new_home/xzj23/workspace/SLR/experiments/Phoenix2014/CorrNet/2024-09-23_12-48-46/checkpoints/epoch=21-DEV_WER=19.10.ckpt\")\n",
    "model"
   ],
   "id": "99a54b64c246a746",
   "outputs": [
    {
     "data": {
      "text/plain": [
       "CorrNet(\n",
       "  (conv2d): ResNet(\n",
       "    (conv1): Conv3d(3, 64, kernel_size=(1, 7, 7), stride=(1, 2, 2), padding=(0, 3, 3), bias=False)\n",
       "    (bn1): BatchNorm3d(64, eps=1e-05, momentum=0.1, affine=True, track_running_stats=True)\n",
       "    (relu): ReLU(inplace=True)\n",
       "    (maxpool): MaxPool3d(kernel_size=(1, 3, 3), stride=(1, 2, 2), padding=(0, 1, 1), dilation=1, ceil_mode=False)\n",
       "    (layer1): Sequential(\n",
       "      (0): BasicBlock(\n",
       "        (conv1): Conv3d(64, 64, kernel_size=(1, 3, 3), stride=(1, 1, 1), padding=(0, 1, 1), bias=False)\n",
       "        (bn1): BatchNorm3d(64, eps=1e-05, momentum=0.1, affine=True, track_running_stats=True)\n",
       "        (relu): ReLU(inplace=True)\n",
       "        (conv2): Conv3d(64, 64, kernel_size=(1, 3, 3), stride=(1, 1, 1), padding=(0, 1, 1), bias=False)\n",
       "        (bn2): BatchNorm3d(64, eps=1e-05, momentum=0.1, affine=True, track_running_stats=True)\n",
       "      )\n",
       "      (1): BasicBlock(\n",
       "        (conv1): Conv3d(64, 64, kernel_size=(1, 3, 3), stride=(1, 1, 1), padding=(0, 1, 1), bias=False)\n",
       "        (bn1): BatchNorm3d(64, eps=1e-05, momentum=0.1, affine=True, track_running_stats=True)\n",
       "        (relu): ReLU(inplace=True)\n",
       "        (conv2): Conv3d(64, 64, kernel_size=(1, 3, 3), stride=(1, 1, 1), padding=(0, 1, 1), bias=False)\n",
       "        (bn2): BatchNorm3d(64, eps=1e-05, momentum=0.1, affine=True, track_running_stats=True)\n",
       "      )\n",
       "    )\n",
       "    (layer2): Sequential(\n",
       "      (0): BasicBlock(\n",
       "        (conv1): Conv3d(64, 128, kernel_size=(1, 3, 3), stride=(1, 2, 2), padding=(0, 1, 1), bias=False)\n",
       "        (bn1): BatchNorm3d(128, eps=1e-05, momentum=0.1, affine=True, track_running_stats=True)\n",
       "        (relu): ReLU(inplace=True)\n",
       "        (conv2): Conv3d(128, 128, kernel_size=(1, 3, 3), stride=(1, 1, 1), padding=(0, 1, 1), bias=False)\n",
       "        (bn2): BatchNorm3d(128, eps=1e-05, momentum=0.1, affine=True, track_running_stats=True)\n",
       "        (downsample): Sequential(\n",
       "          (0): Conv3d(64, 128, kernel_size=(1, 1, 1), stride=(1, 2, 2), bias=False)\n",
       "          (1): BatchNorm3d(128, eps=1e-05, momentum=0.1, affine=True, track_running_stats=True)\n",
       "        )\n",
       "      )\n",
       "      (1): BasicBlock(\n",
       "        (conv1): Conv3d(128, 128, kernel_size=(1, 3, 3), stride=(1, 1, 1), padding=(0, 1, 1), bias=False)\n",
       "        (bn1): BatchNorm3d(128, eps=1e-05, momentum=0.1, affine=True, track_running_stats=True)\n",
       "        (relu): ReLU(inplace=True)\n",
       "        (conv2): Conv3d(128, 128, kernel_size=(1, 3, 3), stride=(1, 1, 1), padding=(0, 1, 1), bias=False)\n",
       "        (bn2): BatchNorm3d(128, eps=1e-05, momentum=0.1, affine=True, track_running_stats=True)\n",
       "      )\n",
       "    )\n",
       "    (corr1): Get_Correlation(\n",
       "      (down_conv): Conv3d(128, 8, kernel_size=(1, 1, 1), stride=(1, 1, 1), bias=False)\n",
       "      (down_conv2): Conv3d(128, 128, kernel_size=(1, 1, 1), stride=(1, 1, 1), bias=False)\n",
       "      (spatial_aggregation1): Conv3d(8, 8, kernel_size=(9, 3, 3), stride=(1, 1, 1), padding=(4, 1, 1), groups=8)\n",
       "      (spatial_aggregation2): Conv3d(8, 8, kernel_size=(9, 3, 3), stride=(1, 1, 1), padding=(4, 2, 2), dilation=(1, 2, 2), groups=8)\n",
       "      (spatial_aggregation3): Conv3d(8, 8, kernel_size=(9, 3, 3), stride=(1, 1, 1), padding=(4, 3, 3), dilation=(1, 3, 3), groups=8)\n",
       "      (conv_back): Conv3d(8, 128, kernel_size=(1, 1, 1), stride=(1, 1, 1), bias=False)\n",
       "    )\n",
       "    (layer3): Sequential(\n",
       "      (0): BasicBlock(\n",
       "        (conv1): Conv3d(128, 256, kernel_size=(1, 3, 3), stride=(1, 2, 2), padding=(0, 1, 1), bias=False)\n",
       "        (bn1): BatchNorm3d(256, eps=1e-05, momentum=0.1, affine=True, track_running_stats=True)\n",
       "        (relu): ReLU(inplace=True)\n",
       "        (conv2): Conv3d(256, 256, kernel_size=(1, 3, 3), stride=(1, 1, 1), padding=(0, 1, 1), bias=False)\n",
       "        (bn2): BatchNorm3d(256, eps=1e-05, momentum=0.1, affine=True, track_running_stats=True)\n",
       "        (downsample): Sequential(\n",
       "          (0): Conv3d(128, 256, kernel_size=(1, 1, 1), stride=(1, 2, 2), bias=False)\n",
       "          (1): BatchNorm3d(256, eps=1e-05, momentum=0.1, affine=True, track_running_stats=True)\n",
       "        )\n",
       "      )\n",
       "      (1): BasicBlock(\n",
       "        (conv1): Conv3d(256, 256, kernel_size=(1, 3, 3), stride=(1, 1, 1), padding=(0, 1, 1), bias=False)\n",
       "        (bn1): BatchNorm3d(256, eps=1e-05, momentum=0.1, affine=True, track_running_stats=True)\n",
       "        (relu): ReLU(inplace=True)\n",
       "        (conv2): Conv3d(256, 256, kernel_size=(1, 3, 3), stride=(1, 1, 1), padding=(0, 1, 1), bias=False)\n",
       "        (bn2): BatchNorm3d(256, eps=1e-05, momentum=0.1, affine=True, track_running_stats=True)\n",
       "      )\n",
       "    )\n",
       "    (corr2): Get_Correlation(\n",
       "      (down_conv): Conv3d(256, 16, kernel_size=(1, 1, 1), stride=(1, 1, 1), bias=False)\n",
       "      (down_conv2): Conv3d(256, 256, kernel_size=(1, 1, 1), stride=(1, 1, 1), bias=False)\n",
       "      (spatial_aggregation1): Conv3d(16, 16, kernel_size=(9, 3, 3), stride=(1, 1, 1), padding=(4, 1, 1), groups=16)\n",
       "      (spatial_aggregation2): Conv3d(16, 16, kernel_size=(9, 3, 3), stride=(1, 1, 1), padding=(4, 2, 2), dilation=(1, 2, 2), groups=16)\n",
       "      (spatial_aggregation3): Conv3d(16, 16, kernel_size=(9, 3, 3), stride=(1, 1, 1), padding=(4, 3, 3), dilation=(1, 3, 3), groups=16)\n",
       "      (conv_back): Conv3d(16, 256, kernel_size=(1, 1, 1), stride=(1, 1, 1), bias=False)\n",
       "    )\n",
       "    (layer4): Sequential(\n",
       "      (0): BasicBlock(\n",
       "        (conv1): Conv3d(256, 512, kernel_size=(1, 3, 3), stride=(1, 2, 2), padding=(0, 1, 1), bias=False)\n",
       "        (bn1): BatchNorm3d(512, eps=1e-05, momentum=0.1, affine=True, track_running_stats=True)\n",
       "        (relu): ReLU(inplace=True)\n",
       "        (conv2): Conv3d(512, 512, kernel_size=(1, 3, 3), stride=(1, 1, 1), padding=(0, 1, 1), bias=False)\n",
       "        (bn2): BatchNorm3d(512, eps=1e-05, momentum=0.1, affine=True, track_running_stats=True)\n",
       "        (downsample): Sequential(\n",
       "          (0): Conv3d(256, 512, kernel_size=(1, 1, 1), stride=(1, 2, 2), bias=False)\n",
       "          (1): BatchNorm3d(512, eps=1e-05, momentum=0.1, affine=True, track_running_stats=True)\n",
       "        )\n",
       "      )\n",
       "      (1): BasicBlock(\n",
       "        (conv1): Conv3d(512, 512, kernel_size=(1, 3, 3), stride=(1, 1, 1), padding=(0, 1, 1), bias=False)\n",
       "        (bn1): BatchNorm3d(512, eps=1e-05, momentum=0.1, affine=True, track_running_stats=True)\n",
       "        (relu): ReLU(inplace=True)\n",
       "        (conv2): Conv3d(512, 512, kernel_size=(1, 3, 3), stride=(1, 1, 1), padding=(0, 1, 1), bias=False)\n",
       "        (bn2): BatchNorm3d(512, eps=1e-05, momentum=0.1, affine=True, track_running_stats=True)\n",
       "      )\n",
       "    )\n",
       "    (corr3): Get_Correlation(\n",
       "      (down_conv): Conv3d(512, 32, kernel_size=(1, 1, 1), stride=(1, 1, 1), bias=False)\n",
       "      (down_conv2): Conv3d(512, 512, kernel_size=(1, 1, 1), stride=(1, 1, 1), bias=False)\n",
       "      (spatial_aggregation1): Conv3d(32, 32, kernel_size=(9, 3, 3), stride=(1, 1, 1), padding=(4, 1, 1), groups=32)\n",
       "      (spatial_aggregation2): Conv3d(32, 32, kernel_size=(9, 3, 3), stride=(1, 1, 1), padding=(4, 2, 2), dilation=(1, 2, 2), groups=32)\n",
       "      (spatial_aggregation3): Conv3d(32, 32, kernel_size=(9, 3, 3), stride=(1, 1, 1), padding=(4, 3, 3), dilation=(1, 3, 3), groups=32)\n",
       "      (conv_back): Conv3d(32, 512, kernel_size=(1, 1, 1), stride=(1, 1, 1), bias=False)\n",
       "    )\n",
       "    (avgpool): AvgPool2d(kernel_size=7, stride=1, padding=0)\n",
       "    (fc): Identity()\n",
       "  )\n",
       "  (conv1d): TemporalConv(\n",
       "    (temporal_conv): Sequential(\n",
       "      (0): Conv1d(512, 1024, kernel_size=(5,), stride=(1,))\n",
       "      (1): BatchNorm1d(1024, eps=1e-05, momentum=0.1, affine=True, track_running_stats=True)\n",
       "      (2): ReLU(inplace=True)\n",
       "      (3): AvgPool1d(kernel_size=(2,), stride=(2,), padding=(0,))\n",
       "      (4): Conv1d(1024, 1024, kernel_size=(5,), stride=(1,))\n",
       "      (5): BatchNorm1d(1024, eps=1e-05, momentum=0.1, affine=True, track_running_stats=True)\n",
       "      (6): ReLU(inplace=True)\n",
       "      (7): AvgPool1d(kernel_size=(2,), stride=(2,), padding=(0,))\n",
       "    )\n",
       "    (fc): NormLinear()\n",
       "  )\n",
       "  (temporal_model): BiLSTMLayer(\n",
       "    (rnn): LSTM(1024, 512, num_layers=2, dropout=0.3, bidirectional=True)\n",
       "  )\n",
       "  (classifier): NormLinear()\n",
       "  (ctc_loss): CTCLoss()\n",
       "  (dist_loss): SeqKD(\n",
       "    (kdloss): KLDivLoss()\n",
       "  )\n",
       ")"
      ]
     },
     "execution_count": 2,
     "metadata": {},
     "output_type": "execute_result"
    }
   ],
   "execution_count": 2
  },
  {
   "metadata": {
    "ExecuteTime": {
     "end_time": "2024-09-30T02:12:53.557015Z",
     "start_time": "2024-09-30T02:12:51.189080Z"
    }
   },
   "cell_type": "code",
   "source": [
    "# get data\n",
    "\n",
    "with open(os.path.join(\"/new_home/xzj23/workspace/SLR/data/global_files/gloss_dict/phoenix2014_gloss_dict.npy\"),\n",
    "          'rb') as f:\n",
    "    gloss_dict = np.load(f, allow_pickle=True).item()\n",
    "datamodule = Phoenix2014DataModule(\n",
    "    features_path=\"/new_home/xzj23/workspace/SLR/data/phoenix2014/phoenix-2014-multisigner/features/fullFrame-256x256px\",\n",
    "    annotations_path=\"/new_home/xzj23/workspace/SLR/data/phoenix2014/phoenix-2014-multisigner/annotations/manual\",\n",
    "    gloss_dict=gloss_dict,\n",
    "    batch_size=2, num_workers=10\n",
    ")\n",
    "datamodule.setup(stage=\"fit\")\n",
    "\n",
    "x, x_lgt, y, y_lgt, info = datamodule.train_dataloader().__iter__().__next__()"
   ],
   "id": "fc53eafbc4b614a5",
   "outputs": [],
   "execution_count": 3
  },
  {
   "metadata": {
    "ExecuteTime": {
     "end_time": "2024-09-30T02:12:53.637021Z",
     "start_time": "2024-09-30T02:12:53.628237Z"
    }
   },
   "cell_type": "code",
   "source": "x.shape",
   "id": "bf34ebe713c23f16",
   "outputs": [
    {
     "data": {
      "text/plain": [
       "torch.Size([2, 148, 3, 224, 224])"
      ]
     },
     "execution_count": 4,
     "metadata": {},
     "output_type": "execute_result"
    }
   ],
   "execution_count": 4
  },
  {
   "metadata": {
    "ExecuteTime": {
     "end_time": "2024-09-30T02:12:53.668984Z",
     "start_time": "2024-09-30T02:12:53.665111Z"
    }
   },
   "cell_type": "code",
   "source": "x_lgt",
   "id": "ae3a2212bf626db7",
   "outputs": [
    {
     "data": {
      "text/plain": [
       "tensor([148, 140])"
      ]
     },
     "execution_count": 5,
     "metadata": {},
     "output_type": "execute_result"
    }
   ],
   "execution_count": 5
  },
  {
   "metadata": {
    "ExecuteTime": {
     "end_time": "2024-09-30T02:12:53.744220Z",
     "start_time": "2024-09-30T02:12:53.734201Z"
    }
   },
   "cell_type": "code",
   "source": "y",
   "id": "372fc9d17ec6cf9c",
   "outputs": [
    {
     "data": {
      "text/plain": [
       "tensor([ 300,  788,  319,  791,  735,  137,  986,  986,  986,  303, 1204, 1145,\n",
       "         174,  958, 1087,  412,  906,  438,  966,  500,   65])"
      ]
     },
     "execution_count": 6,
     "metadata": {},
     "output_type": "execute_result"
    }
   ],
   "execution_count": 6
  },
  {
   "metadata": {
    "ExecuteTime": {
     "end_time": "2024-09-30T02:12:53.808686Z",
     "start_time": "2024-09-30T02:12:53.799733Z"
    }
   },
   "cell_type": "code",
   "source": "y_lgt",
   "id": "75e195679993dd60",
   "outputs": [
    {
     "data": {
      "text/plain": [
       "tensor([10, 11])"
      ]
     },
     "execution_count": 7,
     "metadata": {},
     "output_type": "execute_result"
    }
   ],
   "execution_count": 7
  },
  {
   "metadata": {
    "ExecuteTime": {
     "end_time": "2024-09-30T02:12:53.880850Z",
     "start_time": "2024-09-30T02:12:53.869660Z"
    }
   },
   "cell_type": "code",
   "source": "info",
   "id": "61ac9366b03b25a5",
   "outputs": [
    {
     "data": {
      "text/plain": [
       "[folder        23January_2011_Sunday_tagesschau_default-4/1/*...\n",
       " signer                                                 Signer04\n",
       " annotation    FLACH REGEN FROST REGION NUR BISSCHEN TROPFEN ...\n",
       " Name: 23January_2011_Sunday_tagesschau_default-4, dtype: object,\n",
       " folder        29September_2011_Thursday_heute_default-2/1/*.png\n",
       " signer                                                 Signer05\n",
       " annotation    __ON__ WOCHE DANACH SUPER WARM HERBST SONNE IC...\n",
       " Name: 29September_2011_Thursday_heute_default-2, dtype: object]"
      ]
     },
     "execution_count": 8,
     "metadata": {},
     "output_type": "execute_result"
    }
   ],
   "execution_count": 8
  },
  {
   "metadata": {
    "ExecuteTime": {
     "end_time": "2024-09-30T02:12:54.580737Z",
     "start_time": "2024-09-30T02:12:53.908480Z"
    }
   },
   "cell_type": "code",
   "source": [
    "# to device\n",
    "device = \"cuda:1\"\n",
    "model = model.to(device)\n",
    "x = x.to(device)\n",
    "y = y.to(device)\n",
    "x_lgt = x_lgt.to(device)\n",
    "y_lgt = y_lgt.to(device)\n",
    "\n",
    "# forward\n",
    "model.eval()\n",
    "conv_logits, y_hat_logits, y_hat_lgt = model(x, x_lgt)\n",
    "print(conv_logits.shape, y_hat_logits.shape, y_hat_lgt)\n",
    "torch.cuda.empty_cache()"
   ],
   "id": "ae45c85097c24e70",
   "outputs": [
    {
     "name": "stdout",
     "output_type": "stream",
     "text": [
      "torch.Size([34, 2, 1296]) torch.Size([34, 2, 1296]) tensor([34, 32])\n"
     ]
    }
   ],
   "execution_count": 9
  },
  {
   "metadata": {
    "ExecuteTime": {
     "end_time": "2024-09-30T02:12:54.655698Z",
     "start_time": "2024-09-30T02:12:54.648695Z"
    }
   },
   "cell_type": "code",
   "source": [
    "yyy = y_hat_logits.softmax(dim=-1).cpu()\n",
    "yyy_lgt = y_hat_lgt.cpu()"
   ],
   "id": "b56ea5c41bda4008",
   "outputs": [],
   "execution_count": 10
  },
  {
   "metadata": {
    "ExecuteTime": {
     "end_time": "2024-09-30T02:12:54.686071Z",
     "start_time": "2024-09-30T02:12:54.684367Z"
    }
   },
   "cell_type": "code",
   "source": "yyy.shape",
   "id": "9f0ab29494a724f6",
   "outputs": [
    {
     "data": {
      "text/plain": [
       "torch.Size([34, 2, 1296])"
      ]
     },
     "execution_count": 11,
     "metadata": {},
     "output_type": "execute_result"
    }
   ],
   "execution_count": 11
  },
  {
   "metadata": {
    "ExecuteTime": {
     "end_time": "2024-09-30T02:12:54.760016Z",
     "start_time": "2024-09-30T02:12:54.750707Z"
    }
   },
   "cell_type": "code",
   "source": "yyy_lgt",
   "id": "82a59d635ee1aa40",
   "outputs": [
    {
     "data": {
      "text/plain": [
       "tensor([34, 32])"
      ]
     },
     "execution_count": 12,
     "metadata": {},
     "output_type": "execute_result"
    }
   ],
   "execution_count": 12
  },
  {
   "metadata": {},
   "cell_type": "markdown",
   "source": "# torchaudio ctc_decoder",
   "id": "8ea5fc72dac1f4d2"
  },
  {
   "metadata": {
    "ExecuteTime": {
     "end_time": "2024-09-30T02:12:54.868221Z",
     "start_time": "2024-09-30T02:12:54.819461Z"
    }
   },
   "cell_type": "code",
   "source": [
    "from torchaudio.models.decoder import ctc_decoder\n",
    "from slr.datasets.tknzs.simple_tokenizer import SimpleTokenizer"
   ],
   "id": "6fe98b190eb24817",
   "outputs": [],
   "execution_count": 13
  },
  {
   "metadata": {
    "ExecuteTime": {
     "end_time": "2024-09-30T02:12:54.884601Z",
     "start_time": "2024-09-30T02:12:54.882310Z"
    }
   },
   "cell_type": "code",
   "source": [
    "tokenizer = SimpleTokenizer(\n",
    "    vocab_file=\"/new_home/xzj23/workspace/SLR/slr/datasets/vocabs/phoenix2014_gloss_vocab.txt\"\n",
    ")\n",
    "tokens = list(tokenizer.vocab.keys())\n",
    "tokens.append('|')\n",
    "decoder = ctc_decoder(\n",
    "    lexicon=None,\n",
    "    tokens=tokens,\n",
    "    nbest=10,\n",
    "    beam_size=100,\n",
    "    beam_size_token=None,\n",
    "    beam_threshold=0,\n",
    "    log_add=True,\n",
    "    blank_token=tokenizer.pad_token,\n",
    "    unk_word=tokenizer.unk_token\n",
    ")"
   ],
   "id": "6f5b7e807a0b777a",
   "outputs": [],
   "execution_count": 14
  },
  {
   "metadata": {
    "ExecuteTime": {
     "end_time": "2024-09-30T02:12:54.956196Z",
     "start_time": "2024-09-30T02:12:54.939582Z"
    }
   },
   "cell_type": "code",
   "source": "tokens",
   "id": "6de884dc9e79990c",
   "outputs": [
    {
     "data": {
      "text/plain": [
       "['<PAD>',\n",
       " 'A',\n",
       " 'AACHEN',\n",
       " 'AB',\n",
       " 'AB-JETZT',\n",
       " 'AB-PLUSPLUS',\n",
       " 'AB-SO',\n",
       " 'ABEND',\n",
       " 'ABER',\n",
       " 'ABFALLEN',\n",
       " 'ABKUEHLEN',\n",
       " 'ABSCHIED',\n",
       " 'ABSCHNITT',\n",
       " 'ABSINKEN',\n",
       " 'ABWECHSELN',\n",
       " 'ACH',\n",
       " 'ACHT',\n",
       " 'ACHTE',\n",
       " 'ACHTHUNDERT',\n",
       " 'ACHTUNG',\n",
       " 'ACHTZEHN',\n",
       " 'ACHTZIG',\n",
       " 'AEHNLCH',\n",
       " 'AEHNLICH',\n",
       " 'AENDERN',\n",
       " 'AFRIKA',\n",
       " 'AKTIV',\n",
       " 'AKTUELL',\n",
       " 'ALLE',\n",
       " 'ALLGAEU',\n",
       " 'ALLGEMEIN',\n",
       " 'ALPEN',\n",
       " 'ALPENRAND',\n",
       " 'ALPENTAL',\n",
       " 'ALS',\n",
       " 'ALSO',\n",
       " 'ALT',\n",
       " 'AM',\n",
       " 'AM-KUESTE',\n",
       " 'AM-MEER',\n",
       " 'AM-RAND',\n",
       " 'AM-TAG',\n",
       " 'AMERIKA',\n",
       " 'AN',\n",
       " 'ANDERE',\n",
       " 'ANDERE-MOEGLICHKEIT',\n",
       " 'ANDERS',\n",
       " 'ANFANG',\n",
       " 'ANGEMESSEN',\n",
       " 'ANGENEHM',\n",
       " 'ANGST',\n",
       " 'ANHALT',\n",
       " 'ANKLICKEN',\n",
       " 'ANKOMMEN',\n",
       " 'ANSAMMELN',\n",
       " 'ANSCHAUEN',\n",
       " 'APRIL',\n",
       " 'ARM',\n",
       " 'ATLANTIK',\n",
       " 'AUCH',\n",
       " 'AUCH-NICHT',\n",
       " 'AUF',\n",
       " 'AUF-JEDEN-FALL',\n",
       " 'AUFBLUEHEN',\n",
       " 'AUFEINANDERTREFFEN',\n",
       " 'AUFFUELLEN',\n",
       " 'AUFHEITERN',\n",
       " 'AUFHOEREN',\n",
       " 'AUFKLAREN',\n",
       " 'AUFKOMMEN',\n",
       " 'AUFLOCKERUNG',\n",
       " 'AUFLOCKERUNG-PLUSPLUS',\n",
       " 'AUFLOESEN',\n",
       " 'AUFLOESEN-PLUSPLUS',\n",
       " 'AUFPASSEN',\n",
       " 'AUFTAUCHEN',\n",
       " 'AUFZIEHEN',\n",
       " 'AUFZIEHEN-PLUSPLUS',\n",
       " 'AUGUST',\n",
       " 'AUS',\n",
       " 'AUSEINANDER',\n",
       " 'AUSHALTEN',\n",
       " 'AUSNAHME',\n",
       " 'AUSRICHTEN',\n",
       " 'AUSSEHEN',\n",
       " 'AUSSERGEWOEHNLICH',\n",
       " 'AUSWAEHLEN-PLUSPLUS',\n",
       " 'AUTO',\n",
       " 'AUTOBAHN',\n",
       " 'AUTOMATISCH',\n",
       " 'B',\n",
       " 'BAD',\n",
       " 'BADEN',\n",
       " 'BADEN-WUERTTEMBERG',\n",
       " 'BALD',\n",
       " 'BAUER',\n",
       " 'BAUM',\n",
       " 'BAYERN',\n",
       " 'BEDECKT',\n",
       " 'BEDEUTEN',\n",
       " 'BEDINGUNGEN',\n",
       " 'BEGINN',\n",
       " 'BEGRUESSEN',\n",
       " 'BEI-UNS',\n",
       " 'BEIDE',\n",
       " 'BEISEITE',\n",
       " 'BEISPIEL',\n",
       " 'BEKANNT',\n",
       " 'BEKANNTGEBEN',\n",
       " 'BEKOMMEN',\n",
       " 'BELAESTIGUNG',\n",
       " 'BELGIEN',\n",
       " 'BEOBACHTEN',\n",
       " 'BEREICH',\n",
       " 'BERG',\n",
       " 'BERGAB',\n",
       " 'BERGAUF',\n",
       " 'BERLIN',\n",
       " 'BERUF',\n",
       " 'BERUHIGEN',\n",
       " 'BESONDERS',\n",
       " 'BESPRECHEN',\n",
       " 'BESSER',\n",
       " 'BESSER-PLUSPLUS',\n",
       " 'BESTE',\n",
       " 'BESTIMMT',\n",
       " 'BETROFFEN',\n",
       " 'BETT',\n",
       " 'BEWEGEN',\n",
       " 'BEWOELKT',\n",
       " 'BEWOELKT-PLUSPLUS',\n",
       " 'BILD',\n",
       " 'BIS',\n",
       " 'BIS-JETZT',\n",
       " 'BIS-MITTE',\n",
       " 'BIS-MORGEN',\n",
       " 'BISHER',\n",
       " 'BISSCHEN',\n",
       " 'BISSCHEN-PLUSPLUS',\n",
       " 'BITTE',\n",
       " 'BLATT',\n",
       " 'BLAU',\n",
       " 'BLEIBEN',\n",
       " 'BLEIBEN-GLEICH',\n",
       " 'BLITZ',\n",
       " 'BLOCKIEREN',\n",
       " 'BLUETE',\n",
       " 'BLUMEN-PLUSPLUS',\n",
       " 'BODEN',\n",
       " 'BODENSEE',\n",
       " 'BOEE',\n",
       " 'BRAND',\n",
       " 'BRANDENBURG',\n",
       " 'BRAUCHEN',\n",
       " 'BRAUN',\n",
       " 'BREMEN',\n",
       " 'BRINGEN',\n",
       " 'BRITANNIEN',\n",
       " 'BROCKEN',\n",
       " 'BRUCKBERG',\n",
       " 'BUNT',\n",
       " 'BURG',\n",
       " 'C',\n",
       " 'C+M',\n",
       " 'CHANCE',\n",
       " 'CHANCE-PLUSPLUS',\n",
       " 'CHAOS',\n",
       " 'D',\n",
       " 'DA',\n",
       " 'DABEI',\n",
       " 'DABEI-PLUSPLUS',\n",
       " 'DAENEMARK',\n",
       " 'DAFUER',\n",
       " 'DAMEN',\n",
       " 'DANACH',\n",
       " 'DANEBEN',\n",
       " 'DANN',\n",
       " 'DARAUF',\n",
       " 'DARUM',\n",
       " 'DARUNTER',\n",
       " 'DAS-IST-ES',\n",
       " 'DAS-WAR-ES',\n",
       " 'DAS-WARS',\n",
       " 'DASSELBE',\n",
       " 'DAUER',\n",
       " 'DAUERND',\n",
       " 'DAZU',\n",
       " 'DAZWISCHEN',\n",
       " 'DEMNAECHST',\n",
       " 'DENKEN',\n",
       " 'DESHALB',\n",
       " 'DESWEGEN',\n",
       " 'DEUTSCH',\n",
       " 'DEUTSCHLAND',\n",
       " 'DEUTSCHLANDRAUM',\n",
       " 'DEZEMBER',\n",
       " 'DICHT',\n",
       " 'DICK',\n",
       " 'DIENST',\n",
       " 'DIENSTAG',\n",
       " 'DIESE',\n",
       " 'DIESE-WOCHE',\n",
       " 'DIESMAL',\n",
       " 'DOCH',\n",
       " 'DOCH-SONST-NOCH',\n",
       " 'DONNER',\n",
       " 'DONNERSTAG',\n",
       " 'DRAUSSEN',\n",
       " 'DREHEN',\n",
       " 'DREI',\n",
       " 'DREI-MONATE',\n",
       " 'DREIDREISSIG',\n",
       " 'DREIHUNDERT',\n",
       " 'DREIMAL',\n",
       " 'DREISSIG',\n",
       " 'DREIZEHN',\n",
       " 'DRESDEN',\n",
       " 'DRITTE',\n",
       " 'DRUCK',\n",
       " 'DRUCKFLAECHE',\n",
       " 'DU',\n",
       " 'DUENN',\n",
       " 'DUESSELDORF',\n",
       " 'DUMM',\n",
       " 'DUNST',\n",
       " 'DURCH',\n",
       " 'DURCHEINANDER',\n",
       " 'DURCHGEHEND',\n",
       " 'DURCHSCHNITT',\n",
       " 'E',\n",
       " 'E+R+Z',\n",
       " 'EBEN',\n",
       " 'ECHT',\n",
       " 'EIFEL',\n",
       " 'EIGENTLICH',\n",
       " 'EIN',\n",
       " 'EIN-BISSCHEN',\n",
       " 'EIN-JAHR',\n",
       " 'EIN-PAAR',\n",
       " 'EIN-WOCHE',\n",
       " 'EINE',\n",
       " 'EINFACH',\n",
       " 'EINFLUSS',\n",
       " 'EINHALB',\n",
       " 'EINHUNDERT',\n",
       " 'EINIGE',\n",
       " 'EINIGERMASSEN',\n",
       " 'EINLUSS',\n",
       " 'EINS',\n",
       " 'EINSCHRAENKEN',\n",
       " 'EINZELN-PLUSPLUS',\n",
       " 'EIS',\n",
       " 'EISEN',\n",
       " 'ELF',\n",
       " 'ELFTE',\n",
       " 'EMPFINDLICH',\n",
       " 'ENDE',\n",
       " 'ENDLICH',\n",
       " 'ENGLAND',\n",
       " 'ENORM',\n",
       " 'ENTFERNT',\n",
       " 'ENTHALTEN',\n",
       " 'ENTSCHEIDUNG',\n",
       " 'ENTSCHULDIGUNG',\n",
       " 'ENTSPANNT',\n",
       " 'ENTTAEUSCHT',\n",
       " 'ENTWICKELN',\n",
       " 'ERDRUTSCH',\n",
       " 'ERFAHREN',\n",
       " 'ERFAHRUNG',\n",
       " 'ERFURT',\n",
       " 'ERHOEHEN',\n",
       " 'ERLEICHERT',\n",
       " 'ERNTE',\n",
       " 'ERSCHROCKEN',\n",
       " 'ERST',\n",
       " 'ERSTE',\n",
       " 'ERSTMAL',\n",
       " 'ERWARTEN',\n",
       " 'ERZ',\n",
       " 'ES-BEDEUTET',\n",
       " 'ES-GIBT',\n",
       " 'ETWAS',\n",
       " 'EUCH',\n",
       " 'EUROPA',\n",
       " 'EWIG',\n",
       " 'EXTREM',\n",
       " 'F',\n",
       " 'FACH',\n",
       " 'FAHREN',\n",
       " 'FALLEN',\n",
       " 'FAST',\n",
       " 'FEBRUAR',\n",
       " 'FEHLT',\n",
       " 'FEIER',\n",
       " 'FELD',\n",
       " 'FERTIG',\n",
       " 'FEST',\n",
       " 'FEUCHT',\n",
       " 'FINNLAND',\n",
       " 'FLACH',\n",
       " 'FLAECHENDECKEND',\n",
       " 'FLIESSEN',\n",
       " 'FLOCKEN',\n",
       " 'FLUSS',\n",
       " 'FLUT',\n",
       " 'FOEHN',\n",
       " 'FOLGE',\n",
       " 'FRAGEZEICHEN',\n",
       " 'FRANKFURT',\n",
       " 'FRANKREICH',\n",
       " 'FREI',\n",
       " 'FREITAG',\n",
       " 'FREIZEIT',\n",
       " 'FREUEN',\n",
       " 'FREUNDLICH',\n",
       " 'FRISCH',\n",
       " 'FROH',\n",
       " 'FRONT',\n",
       " 'FROST',\n",
       " 'FROST-PLUSPLUS',\n",
       " 'FRUEH',\n",
       " 'FRUEHLING',\n",
       " 'FUEHLEN',\n",
       " 'FUEHLEN-WIE',\n",
       " 'FUENF',\n",
       " 'FUENF-TAGE',\n",
       " 'FUENF-UHR',\n",
       " 'FUENFHUNDERT',\n",
       " 'FUENFTE',\n",
       " 'FUENFZEHN',\n",
       " 'FUENFZIG',\n",
       " 'FUER',\n",
       " 'FUER-ALLE',\n",
       " 'FUER-UNS',\n",
       " 'G',\n",
       " 'GAENSEFUSS',\n",
       " 'GANZTAGS',\n",
       " 'GARTEN',\n",
       " 'GEBEN',\n",
       " 'GEBIRGE',\n",
       " 'GEFAHR',\n",
       " 'GEFRIEREN',\n",
       " 'GEHEN',\n",
       " 'GEHOERT',\n",
       " 'GEHT-SO',\n",
       " 'GELB',\n",
       " 'GEMISCHT',\n",
       " 'GEMUETLICH',\n",
       " 'GENAU',\n",
       " 'GENIESSEN',\n",
       " 'GENUG',\n",
       " 'GERADE',\n",
       " 'GESAMT',\n",
       " 'GESCHWINDIGKEIT',\n",
       " 'GESTERN',\n",
       " 'GETRENNT',\n",
       " 'GEWESEN',\n",
       " 'GEWITTER',\n",
       " 'GEWITTER-PLUSPLUS',\n",
       " 'GEWOHNT',\n",
       " 'GIPFEL',\n",
       " 'GLATT',\n",
       " 'GLATTEIS',\n",
       " 'GLAUBEN',\n",
       " 'GLEICH',\n",
       " 'GLEICH-BLEIBEN',\n",
       " 'GLEICH-PLUSPLUS',\n",
       " 'GLEICH-WIE',\n",
       " 'GLUECK',\n",
       " 'GOLD',\n",
       " 'GOTT',\n",
       " 'GRAD',\n",
       " 'GRAD-PLUSPLUS',\n",
       " 'GRAU',\n",
       " 'GRAUPEL',\n",
       " 'GRAUPEL-PLUSPLUS',\n",
       " 'GRENZE',\n",
       " 'GRIECHENLAND',\n",
       " 'GROB',\n",
       " 'GROSS',\n",
       " 'GROSSBRITANNIEN',\n",
       " 'GRUEN',\n",
       " 'GRUND',\n",
       " 'GUT',\n",
       " 'GUT-ABEND',\n",
       " 'H',\n",
       " 'HAAR',\n",
       " 'HABEN',\n",
       " 'HABEN2',\n",
       " 'HAELFTE',\n",
       " 'HAFTEN',\n",
       " 'HAGEL',\n",
       " 'HAGEL-PLUSPLUS',\n",
       " 'HALB',\n",
       " 'HALLO',\n",
       " 'HALTEN',\n",
       " 'HAMBURG',\n",
       " 'HANNOVER',\n",
       " 'HARMLOS',\n",
       " 'HART',\n",
       " 'HARZ',\n",
       " 'HAUPT',\n",
       " 'HAUPTSAECHLICH',\n",
       " 'HAVEN',\n",
       " 'HEFTIG',\n",
       " 'HEILIG',\n",
       " 'HEILIGE',\n",
       " 'HEINS',\n",
       " 'HEISS',\n",
       " 'HELL',\n",
       " 'HERAB',\n",
       " 'HERBST',\n",
       " 'HERREN',\n",
       " 'HERVORRAGEND',\n",
       " 'HERZ',\n",
       " 'HESSEN',\n",
       " 'HEUTE',\n",
       " 'HEUTE-ABEND',\n",
       " 'HEUTE-MITTAG',\n",
       " 'HEUTE-NACHT',\n",
       " 'HIER',\n",
       " 'HIMMEL',\n",
       " 'HINDERNIS',\n",
       " 'HINREICHEND',\n",
       " 'HOCH',\n",
       " 'HOCHWASSER',\n",
       " 'HOEHE',\n",
       " 'HOEHER',\n",
       " 'HOEREN',\n",
       " 'HOFFEN',\n",
       " 'HOLEN',\n",
       " 'HOLLAND',\n",
       " 'HOLSTEIN',\n",
       " 'HUND',\n",
       " 'HUNDERT',\n",
       " 'HUT',\n",
       " 'I',\n",
       " 'ICH',\n",
       " 'IHR',\n",
       " 'IM',\n",
       " 'IM-LAUFE',\n",
       " 'IM-MOMENT',\n",
       " 'IM-VERLAUF',\n",
       " 'IMMER',\n",
       " 'IN',\n",
       " 'IN-BESTIMMT-ZEIT',\n",
       " 'IN-DIESE-WOCHE',\n",
       " 'IN-KOMMEND',\n",
       " 'IN-KOMMEND-TAG',\n",
       " 'IN-KOMMEND-ZEIT',\n",
       " 'IN-KUERZE',\n",
       " 'IN-PAAR-TAG',\n",
       " 'IN-PAAR-TAGE-SPAETER',\n",
       " 'INFORMIEREN',\n",
       " 'INNERHALB',\n",
       " 'INSEL',\n",
       " 'INSEL-PLUSPLUS',\n",
       " 'INSGESAMT',\n",
       " 'INTERESSANT',\n",
       " 'INTERNET',\n",
       " 'IRGENDWANN',\n",
       " 'IRLAND',\n",
       " 'ISLAND',\n",
       " 'ITALIEN',\n",
       " 'IX',\n",
       " 'J',\n",
       " 'JA',\n",
       " 'JAHR',\n",
       " 'JANUAR',\n",
       " 'JEDEN-TAG',\n",
       " 'JETZT',\n",
       " 'JULI',\n",
       " 'JUNI',\n",
       " 'K',\n",
       " 'K+U+N+A',\n",
       " 'KALT',\n",
       " 'KALT-PLUSPLUS',\n",
       " 'KALTFRONT',\n",
       " 'KANADA',\n",
       " 'KANAL',\n",
       " 'KANN',\n",
       " 'KAPUTTGEGANGEN',\n",
       " 'KARFREITAG',\n",
       " 'KAUM',\n",
       " 'KAUM-PLUSPLUS',\n",
       " 'KEIN',\n",
       " 'KIEL',\n",
       " 'KILOMETER',\n",
       " 'KLAPPEN',\n",
       " 'KLAR',\n",
       " 'KLAR-PLUSPLUS',\n",
       " 'KLEIN',\n",
       " 'KLEINIGKEIT',\n",
       " 'KNAPP',\n",
       " 'KNOSPE-ABFALLEN',\n",
       " 'KOBLENZ',\n",
       " 'KOELN',\n",
       " 'KOENNEN',\n",
       " 'KOENNEN-PLUSPLUS',\n",
       " 'KOERPER',\n",
       " 'KOERPER-PLUSPLUS',\n",
       " 'KOMMA',\n",
       " 'KOMMEN',\n",
       " 'KOMMEN-PLUSPLUS',\n",
       " 'KOMPLETT',\n",
       " 'KONSTANT',\n",
       " 'KORB',\n",
       " 'KRAEFTIG',\n",
       " 'KRATZEN',\n",
       " 'KREISEN',\n",
       " 'KRISE',\n",
       " 'KROATIEN',\n",
       " 'KUCHEN',\n",
       " 'KUEHL',\n",
       " 'KUEHL-PLUSPLUS',\n",
       " 'KUEHLER',\n",
       " 'KUESTE',\n",
       " 'KURVE',\n",
       " 'KURZ',\n",
       " 'L',\n",
       " 'LAERM-PLUSPLUS',\n",
       " 'LAGE',\n",
       " 'LAHM',\n",
       " 'LAND',\n",
       " 'LANDSCHAFT',\n",
       " 'LANG',\n",
       " 'LANGSAM',\n",
       " 'LAUFEN',\n",
       " 'LAUSITZ',\n",
       " 'LEBEN',\n",
       " 'LEICHT',\n",
       " 'LEIDER',\n",
       " 'LEIPZIG',\n",
       " 'LESEN',\n",
       " 'LETZTE',\n",
       " 'LETZTE-WOCHE',\n",
       " 'LEUTE',\n",
       " 'LICHT',\n",
       " 'LIEB',\n",
       " 'LIEGEN',\n",
       " 'LITER',\n",
       " 'LOCH',\n",
       " 'LOCH-PLUSPLUS',\n",
       " 'LOCKER',\n",
       " 'LOS',\n",
       " 'LUECKE',\n",
       " 'LUFT',\n",
       " 'M',\n",
       " 'MACHEN',\n",
       " 'MAERZ',\n",
       " 'MAESSIG',\n",
       " 'MAESSIG-PLUSPLUS',\n",
       " 'MAI',\n",
       " 'MAINZ',\n",
       " 'MAL',\n",
       " 'MAL-AB-ZU',\n",
       " 'MAL-PLUSPLUS',\n",
       " 'MAL-SO',\n",
       " 'MANCHMAL',\n",
       " 'MANCHMAL-PLUSPLUS',\n",
       " 'MANNHEIM',\n",
       " 'MARKT',\n",
       " 'MASCHINE',\n",
       " 'MATSCH',\n",
       " 'MAXIMAL',\n",
       " 'MECKLENBURG',\n",
       " 'MECKLENBURG-VORPOMMERN',\n",
       " 'MEER',\n",
       " 'MEHR',\n",
       " 'MEHR-PLUSPLUS',\n",
       " 'MEHR-WENIG',\n",
       " 'MEHRMALS',\n",
       " 'MEIN',\n",
       " 'MEINEN',\n",
       " 'MEISTENS',\n",
       " 'MENSCHEN',\n",
       " 'MERKEN',\n",
       " 'MERKWUERDIG',\n",
       " 'MESSEN',\n",
       " 'METER',\n",
       " 'MILD',\n",
       " 'MINDESTENS',\n",
       " 'MINUS',\n",
       " 'MISCHUNG',\n",
       " 'MIT',\n",
       " 'MITBEKOMMEN',\n",
       " 'MITBRINGEN',\n",
       " 'MITEILEN',\n",
       " 'MITNEHMEN',\n",
       " 'MITTAG',\n",
       " 'MITTE',\n",
       " 'MITTEGEBIRGE',\n",
       " 'MITTEILEN',\n",
       " 'MITTWOCH',\n",
       " 'MITZIEHEN',\n",
       " 'MM',\n",
       " 'MOECHTEN',\n",
       " 'MOEGEN',\n",
       " 'MOEGLICH',\n",
       " 'MOMENT',\n",
       " 'MOND',\n",
       " 'MONTAG',\n",
       " 'MORGEN',\n",
       " 'MORGEN-FRUEH',\n",
       " 'MORGENS',\n",
       " 'MOSKAU',\n",
       " 'MUENCHEN',\n",
       " 'MUENSTER',\n",
       " 'MUESSEN',\n",
       " 'MUND',\n",
       " 'N',\n",
       " 'NACH',\n",
       " 'NACH-HAUSE',\n",
       " 'NACH-NORD',\n",
       " 'NACHMITTAG',\n",
       " 'NACHT',\n",
       " 'NAECHSTE',\n",
       " 'NAECHSTE-WOCHE',\n",
       " 'NAEHE',\n",
       " 'NAH',\n",
       " 'NASE',\n",
       " 'NASS',\n",
       " 'NATUR',\n",
       " 'NEBEL',\n",
       " 'NEBEN',\n",
       " 'NEIN',\n",
       " 'NEU',\n",
       " 'NEUN',\n",
       " 'NEUNHUNDERT',\n",
       " 'NEUNTE',\n",
       " 'NEUNZEHN',\n",
       " 'NEUNZEHNTE',\n",
       " 'NEUNZIG',\n",
       " 'NICHT',\n",
       " 'NICHT-ACHTZEHN',\n",
       " 'NICHT-BEDEUTEN',\n",
       " 'NICHT-DEUTSCH',\n",
       " 'NICHT-DIESE-WOCHE',\n",
       " 'NICHT-EINFLUSS',\n",
       " 'NICHT-FROST',\n",
       " 'NICHT-FUEHLEN',\n",
       " 'NICHT-FUENF',\n",
       " 'NICHT-GEMUETLICH',\n",
       " 'NICHT-GENUG',\n",
       " 'NICHT-GEWITTER',\n",
       " 'NICHT-GLEICH',\n",
       " 'NICHT-GRAD',\n",
       " 'NICHT-HABEN',\n",
       " 'NICHT-HART',\n",
       " 'NICHT-HEISS',\n",
       " 'NICHT-HOEHE',\n",
       " 'NICHT-IMMER',\n",
       " 'NICHT-IN-KOMMEND',\n",
       " 'NICHT-KALT',\n",
       " 'NICHT-KAUM',\n",
       " 'NICHT-KEIN',\n",
       " 'NICHT-KLAR',\n",
       " 'NICHT-KOENNEN',\n",
       " 'NICHT-KOMMEN',\n",
       " 'NICHT-MEHR',\n",
       " 'NICHT-MEISTENS',\n",
       " 'NICHT-MOEGEN',\n",
       " 'NICHT-NACHT',\n",
       " 'NICHT-NAJA',\n",
       " 'NICHT-NEBEL',\n",
       " 'NICHT-NEIN',\n",
       " 'NICHT-NICHT-MEHR',\n",
       " 'NICHT-NICHT-NUR',\n",
       " 'NICHT-NICHTS',\n",
       " 'NICHT-NOCH-NICHT',\n",
       " 'NICHT-NORD',\n",
       " 'NICHT-NULL',\n",
       " 'NICHT-REGEN',\n",
       " 'NICHT-REGEN-PLUSPLUS',\n",
       " 'NICHT-REGION',\n",
       " 'NICHT-RICHTIG',\n",
       " 'NICHT-SCHEINEN',\n",
       " 'NICHT-SCHLECHT',\n",
       " 'NICHT-SCHLIMM',\n",
       " 'NICHT-SCHNEE',\n",
       " 'NICHT-SCHOEN',\n",
       " 'NICHT-SEHEN',\n",
       " 'NICHT-SELTEN',\n",
       " 'NICHT-SONNE',\n",
       " 'NICHT-SPUEREN',\n",
       " 'NICHT-STARK',\n",
       " 'NICHT-TEIL',\n",
       " 'NICHT-THEMA',\n",
       " 'NICHT-TROCKEN',\n",
       " 'NICHT-VIEL',\n",
       " 'NICHT-VON',\n",
       " 'NICHT-WAHRSCHEINLICH',\n",
       " 'NICHT-WARM',\n",
       " 'NICHT-WARTEN',\n",
       " 'NICHT-WOLKE',\n",
       " 'NICHT-ZU-WARM',\n",
       " 'NICHT-cl-KOMMEN',\n",
       " 'NICHTALP-AUCH',\n",
       " 'NICHTALP-BRAUCHEN',\n",
       " 'NICHTALP-GIBT',\n",
       " 'NICHTALP-KEIN',\n",
       " 'NICHTALP-KOENNEN',\n",
       " 'NICHTALP-MUSS',\n",
       " 'NICHTALP-NICHT',\n",
       " 'NICHTALP-PASSEN',\n",
       " 'NICHTALP-STIMMT',\n",
       " 'NICHTS',\n",
       " 'NIEDER',\n",
       " 'NIEDERSACHSEN',\n",
       " 'NIEDERUNG',\n",
       " 'NIEDRIG',\n",
       " 'NIESELREGEN',\n",
       " 'NN',\n",
       " 'NOCH',\n",
       " 'NOCH-MEHR',\n",
       " 'NOCH-NICHT',\n",
       " 'NOCH-PLUSPLUS',\n",
       " 'NOCHEINMAL',\n",
       " 'NORD',\n",
       " 'NORDOST',\n",
       " 'NORDOSTRAUM',\n",
       " 'NORDPOL',\n",
       " 'NORDRAUM',\n",
       " 'NORDRHEIN',\n",
       " 'NORDRHEIN-WESTFALEN',\n",
       " 'NORDSEE',\n",
       " 'NORDWEST',\n",
       " 'NORDWESTRAUM',\n",
       " 'NORMAL',\n",
       " 'NORWEGEN',\n",
       " 'NOVEMBER',\n",
       " 'NRW',\n",
       " 'NULL',\n",
       " 'NUMMER',\n",
       " 'NUR',\n",
       " 'O',\n",
       " 'O+P+H+E+L+I+A',\n",
       " 'OB',\n",
       " 'OBEN',\n",
       " 'OBER',\n",
       " 'OBWOHL',\n",
       " 'ODER',\n",
       " 'OESTERREICH',\n",
       " 'OFT',\n",
       " 'OFT-PLUSPLUS',\n",
       " 'OHNE',\n",
       " 'OKTOBER',\n",
       " 'ORANGE',\n",
       " 'ORIENTIEREN',\n",
       " 'ORKAN',\n",
       " 'ORT',\n",
       " 'ORT-PLUSPLUS',\n",
       " 'OST',\n",
       " 'OSTERN',\n",
       " 'OSTRAUM',\n",
       " 'P',\n",
       " 'PAAR',\n",
       " 'PAAR-TAG',\n",
       " 'PASSEN',\n",
       " 'PASSIEREN',\n",
       " 'PAUSE',\n",
       " 'PFALZ',\n",
       " 'PFEIL',\n",
       " 'PFINGSTEN',\n",
       " 'PFLANZE',\n",
       " 'PLOETZLICH',\n",
       " 'PLUS',\n",
       " 'POLEN',\n",
       " 'POMMERN',\n",
       " 'PORTUGAL',\n",
       " 'POSITION',\n",
       " 'POSITIV',\n",
       " 'PRO',\n",
       " 'PROBLEM',\n",
       " 'PROZENT',\n",
       " 'PUENKTLICH',\n",
       " 'PULLOVER',\n",
       " 'PUNKT',\n",
       " 'QUADRAT',\n",
       " 'QUADRATMETER',\n",
       " 'QUELL',\n",
       " 'R',\n",
       " 'RAND',\n",
       " 'RAUM',\n",
       " 'RAUSFALLEN',\n",
       " 'RECHNEN',\n",
       " 'REDUZIEREN',\n",
       " 'REGEN',\n",
       " 'REGEN-AUF-ALPEN',\n",
       " 'REGEN-PLUSPLUS',\n",
       " 'REGION',\n",
       " 'REGION-PLUSPLUS',\n",
       " 'REIF',\n",
       " 'REIN',\n",
       " 'REKORD',\n",
       " 'REST',\n",
       " 'RHEIN',\n",
       " 'RHEIN-PFALZ',\n",
       " 'RHEINDLAND',\n",
       " 'RHEINLAND',\n",
       " 'RHEINLAND-PFALZ',\n",
       " 'RICHTIG',\n",
       " 'RICHTUNG',\n",
       " 'RISIKO',\n",
       " 'RODELN',\n",
       " 'ROSTOCK',\n",
       " 'ROT',\n",
       " 'RUECKEN',\n",
       " 'RUEGEN',\n",
       " 'RUHIG',\n",
       " 'RUHIGER',\n",
       " 'RUHRGEBIET',\n",
       " 'RUMAENIEN',\n",
       " 'RUND-UM-DIE-UHR',\n",
       " 'RUSSLAND',\n",
       " 'S',\n",
       " 'S+H',\n",
       " 'S+L+Y',\n",
       " 'S0NNE',\n",
       " 'SAARLAND',\n",
       " 'SACHSEN',\n",
       " 'SAEGE',\n",
       " 'SAGE',\n",
       " 'SAGEN',\n",
       " 'SAMSTAG',\n",
       " 'SAND',\n",
       " 'SAUER',\n",
       " 'SCH',\n",
       " 'SCHADEN',\n",
       " 'SCHAETZEN',\n",
       " 'SCHAFFEN',\n",
       " 'SCHAU-MAL',\n",
       " 'SCHAUEN',\n",
       " 'SCHAUER',\n",
       " 'SCHAUER-PLUSPLUS',\n",
       " 'SCHEINEN',\n",
       " 'SCHEINEN-PLUSPLUS',\n",
       " 'SCHIRM',\n",
       " 'SCHLAF',\n",
       " 'SCHLAGSAHNE',\n",
       " 'SCHLECHT',\n",
       " 'SCHLECHTER',\n",
       " 'SCHLESWIG',\n",
       " 'SCHLIMM',\n",
       " 'SCHLIMMER',\n",
       " 'SCHLUSS',\n",
       " 'SCHMELZEN',\n",
       " 'SCHNEE',\n",
       " 'SCHNEE-PLUSPLUS',\n",
       " 'SCHNEEVERWEHUNG',\n",
       " 'SCHNEIEN',\n",
       " 'SCHNEIEN-PLUSPLUS',\n",
       " 'SCHNELL',\n",
       " 'SCHOEN',\n",
       " 'SCHON',\n",
       " 'SCHON-WIEDER',\n",
       " 'SCHOTTLAND',\n",
       " 'SCHRANK',\n",
       " 'SCHUETZEN',\n",
       " 'SCHULD',\n",
       " 'SCHWACH',\n",
       " 'SCHWACH-PLUSPLUS',\n",
       " 'SCHWARZ',\n",
       " 'SCHWEDEN',\n",
       " 'SCHWER',\n",
       " 'SCHWIERIG',\n",
       " 'SCHWIERIG-PLUSPLUS',\n",
       " 'SCHWITZEN',\n",
       " 'SCHWUEL',\n",
       " 'SECHS',\n",
       " 'SECHSHUNDERT',\n",
       " 'SECHSTE',\n",
       " 'SECHSZEHN',\n",
       " 'SECHSZEHNTE',\n",
       " 'SECHZIG',\n",
       " 'SEE',\n",
       " 'SEHEN',\n",
       " 'SEHR',\n",
       " 'SEI-DANK',\n",
       " 'SEIN',\n",
       " 'SEIT',\n",
       " 'SEITE',\n",
       " 'SELBE',\n",
       " 'SELBST',\n",
       " 'SELTEN',\n",
       " 'SEPTEMBER',\n",
       " 'SICHER',\n",
       " 'SICHT',\n",
       " 'SIE',\n",
       " 'SIEBEN',\n",
       " 'SIEBEN-WOCHE',\n",
       " 'SIEBENHUNDERT',\n",
       " 'SIEBTE',\n",
       " 'SIEBZEHN',\n",
       " 'SIEBZIG',\n",
       " 'SINKEN',\n",
       " 'SITUATION',\n",
       " 'SITZ',\n",
       " 'SKANDINAVIEN',\n",
       " 'SKI',\n",
       " 'SLOWAKEI',\n",
       " 'SO',\n",
       " 'SO-BLEIBEN',\n",
       " 'SOLL',\n",
       " 'SOMMER',\n",
       " 'SONNE',\n",
       " 'SONNE-PLUSPLUS',\n",
       " 'SONNENUNTERGANG',\n",
       " 'SONNTAG',\n",
       " 'SONST',\n",
       " 'SOWIESO',\n",
       " 'SPAET',\n",
       " 'SPAETER',\n",
       " 'SPAETESTEN',\n",
       " 'SPANIEN',\n",
       " 'SPAZIEREN',\n",
       " 'SPEZIELL',\n",
       " 'SPITZE',\n",
       " 'SPORT',\n",
       " 'SPRIESSEN',\n",
       " 'SPUEREN',\n",
       " 'STABIL',\n",
       " 'STADT',\n",
       " 'STAMM',\n",
       " 'STARK',\n",
       " 'START',\n",
       " 'STAU',\n",
       " 'STEHEN',\n",
       " 'STEIGEN',\n",
       " 'STEIGEN-OBEN',\n",
       " 'STEIGEN-RUNTER',\n",
       " 'STEIGEN-RUNTER-PLUSPLUS',\n",
       " 'STEIN',\n",
       " 'STELLENWEISE',\n",
       " 'STERN',\n",
       " 'STERN-PLUSPLUS',\n",
       " 'STIMMT',\n",
       " 'STOCKEN',\n",
       " 'STOERUNG',\n",
       " 'STRAHLEN',\n",
       " 'STRASSE',\n",
       " 'STRENG',\n",
       " 'STROEMEN',\n",
       " 'STROM',\n",
       " 'STUFENWEISE',\n",
       " 'STUNDE',\n",
       " 'STURM',\n",
       " 'STURM-PLUSPLUS',\n",
       " 'STUTTGART',\n",
       " 'SUCHEN',\n",
       " 'SUED',\n",
       " 'SUED-PLUSPLUS',\n",
       " 'SUEDOST',\n",
       " 'SUEDOSTRAUM',\n",
       " 'SUEDRAUM',\n",
       " 'SUEDWEST',\n",
       " 'SUEDWESTRAUM',\n",
       " 'SUPER',\n",
       " 'SYLT',\n",
       " 'T',\n",
       " 'T-SHIRT',\n",
       " 'TAG',\n",
       " 'TAGE',\n",
       " 'TAGSUEBER',\n",
       " 'TAL',\n",
       " 'TANKEN',\n",
       " 'TATSAECHLICH',\n",
       " 'TAU',\n",
       " 'TAUEN',\n",
       " 'TAUGEN',\n",
       " 'TAUSEND',\n",
       " 'TEIL',\n",
       " 'TEILWEISE',\n",
       " 'TEMPERATUR',\n",
       " 'TEMPERATUR-PLUSPLUS',\n",
       " 'TEXT',\n",
       " 'THEMA',\n",
       " 'THUERINGEN',\n",
       " 'TIEF',\n",
       " 'TJA',\n",
       " 'TOLL',\n",
       " 'TRAUM',\n",
       " 'TRENNEN',\n",
       " 'TRINKEN',\n",
       " 'TROCKEN',\n",
       " 'TROPFEN',\n",
       " 'TROPFEN-PLUSPLUS',\n",
       " 'TROPISCH',\n",
       " 'TROTZDEM',\n",
       " 'TRUEB',\n",
       " 'TRUEB-PLUSPLUS',\n",
       " 'TSCHECHIEN',\n",
       " 'TSCHUESS',\n",
       " 'TUERKEI',\n",
       " 'TUERKEI-PLUSPLUS',\n",
       " 'TUN',\n",
       " 'TYPISCH',\n",
       " 'U',\n",
       " 'UEBER',\n",
       " ...]"
      ]
     },
     "execution_count": 15,
     "metadata": {},
     "output_type": "execute_result"
    }
   ],
   "execution_count": 15
  },
  {
   "metadata": {
    "ExecuteTime": {
     "end_time": "2024-09-30T02:12:55.022822Z",
     "start_time": "2024-09-30T02:12:55.013920Z"
    }
   },
   "cell_type": "code",
   "source": "decoder",
   "id": "289481258f65f1c2",
   "outputs": [
    {
     "data": {
      "text/plain": [
       "<torchaudio.models.decoder._ctc_decoder.CTCDecoder at 0x7f3e9aa30580>"
      ]
     },
     "execution_count": 16,
     "metadata": {},
     "output_type": "execute_result"
    }
   ],
   "execution_count": 16
  },
  {
   "metadata": {
    "ExecuteTime": {
     "end_time": "2024-09-30T02:12:55.065495Z",
     "start_time": "2024-09-30T02:12:55.058912Z"
    }
   },
   "cell_type": "code",
   "source": [
    "beam_search_result = decoder(yyy.permute(1, 0, 2), yyy_lgt)\n",
    "beam_search_result"
   ],
   "id": "8b8108b075d3f4d2",
   "outputs": [
    {
     "data": {
      "text/plain": [
       "[[CTCHypothesis(tokens=tensor([1296,  300, 1204, 1145,  174,  788,  958,  319,  412, 1296]), words=[], score=31.43412610888481, timesteps=tensor([ 0,  1,  2,  8, 12, 13, 20, 21, 30, 35], dtype=torch.int32))],\n",
       " [CTCHypothesis(tokens=tensor([1296, 1204, 1145,  174,  788,  958,  319,  412, 1296]), words=[], score=29.570444375276566, timesteps=tensor([ 0,  1,  7, 11, 12, 19, 20, 29, 33], dtype=torch.int32))]]"
      ]
     },
     "execution_count": 17,
     "metadata": {},
     "output_type": "execute_result"
    }
   ],
   "execution_count": 17
  },
  {
   "metadata": {
    "ExecuteTime": {
     "end_time": "2024-09-30T02:12:55.148138Z",
     "start_time": "2024-09-30T02:12:55.138105Z"
    }
   },
   "cell_type": "code",
   "source": "beam_search_result[0][0]",
   "id": "63962bddaef96db5",
   "outputs": [
    {
     "data": {
      "text/plain": [
       "CTCHypothesis(tokens=tensor([1296,  300, 1204, 1145,  174,  788,  958,  319,  412, 1296]), words=[], score=31.43412610888481, timesteps=tensor([ 0,  1,  2,  8, 12, 13, 20, 21, 30, 35], dtype=torch.int32))"
      ]
     },
     "execution_count": 18,
     "metadata": {},
     "output_type": "execute_result"
    }
   ],
   "execution_count": 18
  },
  {
   "metadata": {
    "ExecuteTime": {
     "end_time": "2024-09-30T02:12:55.213190Z",
     "start_time": "2024-09-30T02:12:55.203460Z"
    }
   },
   "cell_type": "code",
   "source": "beam_search_result[0][0].tokens.shape",
   "id": "a2764fb7afa5ea86",
   "outputs": [
    {
     "data": {
      "text/plain": [
       "torch.Size([10])"
      ]
     },
     "execution_count": 19,
     "metadata": {},
     "output_type": "execute_result"
    }
   ],
   "execution_count": 19
  },
  {
   "metadata": {
    "ExecuteTime": {
     "end_time": "2024-09-30T02:12:55.245879Z",
     "start_time": "2024-09-30T02:12:55.243996Z"
    }
   },
   "cell_type": "code",
   "source": "beam_search_result[0][0].timesteps.shape",
   "id": "e6c5e5d90546fa5e",
   "outputs": [
    {
     "data": {
      "text/plain": [
       "torch.Size([10])"
      ]
     },
     "execution_count": 20,
     "metadata": {},
     "output_type": "execute_result"
    }
   ],
   "execution_count": 20
  },
  {
   "metadata": {
    "ExecuteTime": {
     "end_time": "2024-09-30T02:12:55.311492Z",
     "start_time": "2024-09-30T02:12:55.304042Z"
    }
   },
   "cell_type": "code",
   "source": [
    "gloss_pred = tokenizer.decode(beam_search_result[0][0].tokens)\n",
    "print(gloss_pred)"
   ],
   "id": "9a4f0a49e74978f1",
   "outputs": [
    {
     "name": "stdout",
     "output_type": "stream",
     "text": [
      "['<PAD>', 'FLACH', '__ON__', 'WOCHE', 'DANACH', 'REGEN', 'SUPER', 'FROST', 'HERBST', '<PAD>']\n"
     ]
    }
   ],
   "execution_count": 21
  },
  {
   "metadata": {
    "ExecuteTime": {
     "end_time": "2024-09-30T02:12:55.352007Z",
     "start_time": "2024-09-30T02:12:55.350197Z"
    }
   },
   "cell_type": "code",
   "source": [
    "gloss_pred = tokenizer.decode(beam_search_result[1][0].tokens)\n",
    "print(gloss_pred)"
   ],
   "id": "30a1b9913c47b974",
   "outputs": [
    {
     "name": "stdout",
     "output_type": "stream",
     "text": [
      "['<PAD>', '__ON__', 'WOCHE', 'DANACH', 'REGEN', 'SUPER', 'FROST', 'HERBST', '<PAD>']\n"
     ]
    }
   ],
   "execution_count": 22
  },
  {
   "metadata": {
    "ExecuteTime": {
     "end_time": "2024-09-30T02:12:55.411156Z",
     "start_time": "2024-09-30T02:12:55.404092Z"
    }
   },
   "cell_type": "code",
   "source": [
    "while '<UNK>' in gloss_pred:\n",
    "    gloss_pred.remove('<UNK>')"
   ],
   "id": "6f1ec7a72d1847de",
   "outputs": [],
   "execution_count": 23
  },
  {
   "metadata": {
    "ExecuteTime": {
     "end_time": "2024-09-30T02:12:55.439417Z",
     "start_time": "2024-09-30T02:12:55.437937Z"
    }
   },
   "cell_type": "code",
   "source": "print(gloss_pred)",
   "id": "4c2f93c17885b1d3",
   "outputs": [
    {
     "name": "stdout",
     "output_type": "stream",
     "text": [
      "['<PAD>', '__ON__', 'WOCHE', 'DANACH', 'REGEN', 'SUPER', 'FROST', 'HERBST', '<PAD>']\n"
     ]
    }
   ],
   "execution_count": 24
  },
  {
   "metadata": {
    "ExecuteTime": {
     "end_time": "2024-09-30T02:12:55.514382Z",
     "start_time": "2024-09-30T02:12:55.503420Z"
    }
   },
   "cell_type": "code",
   "source": "y",
   "id": "a3783e442d3711d2",
   "outputs": [
    {
     "data": {
      "text/plain": [
       "tensor([ 300,  788,  319,  791,  735,  137,  986,  986,  986,  303, 1204, 1145,\n",
       "         174,  958, 1087,  412,  906,  438,  966,  500,   65], device='cuda:1')"
      ]
     },
     "execution_count": 25,
     "metadata": {},
     "output_type": "execute_result"
    }
   ],
   "execution_count": 25
  },
  {
   "metadata": {
    "ExecuteTime": {
     "end_time": "2024-09-30T02:12:55.579165Z",
     "start_time": "2024-09-30T02:12:55.571894Z"
    }
   },
   "cell_type": "code",
   "source": "print(tokenizer.decode(y))",
   "id": "9eca42fbe92a2bf7",
   "outputs": [
    {
     "name": "stdout",
     "output_type": "stream",
     "text": [
      "['FLACH', 'REGEN', 'FROST', 'REGION', 'NUR', 'BISSCHEN', 'TROPFEN', 'TROPFEN', 'TROPFEN', 'FLOCKEN', '__ON__', 'WOCHE', 'DANACH', 'SUPER', 'WARM', 'HERBST', 'SONNE', 'ICH', 'TANKEN', 'KOERPER', 'AUFFUELLEN']\n"
     ]
    }
   ],
   "execution_count": 26
  },
  {
   "metadata": {
    "ExecuteTime": {
     "end_time": "2024-09-30T02:12:55.619554Z",
     "start_time": "2024-09-30T02:12:55.617960Z"
    }
   },
   "cell_type": "code",
   "source": "",
   "id": "d5c0bd3dd8b3d27f",
   "outputs": [],
   "execution_count": null
  },
  {
   "metadata": {},
   "cell_type": "markdown",
   "source": "# Decode",
   "id": "ab03f30bba32ce43"
  },
  {
   "metadata": {
    "ExecuteTime": {
     "end_time": "2024-09-30T02:12:55.680259Z",
     "start_time": "2024-09-30T02:12:55.671124Z"
    }
   },
   "cell_type": "code",
   "source": [
    "from slr.models.utils.decode import Decode\n",
    "\n",
    "with open(\"/new_home/xzj23/workspace/SLR/data/global_files/gloss_dict/phoenix2014_gloss_dict.npy\", \"rb\") as f:\n",
    "    gloss_dict = np.load(f, allow_pickle=True).item()\n",
    "\n",
    "aa_decoder = Decode(\n",
    "    gloss_dict=gloss_dict,\n",
    "    num_classes=1296,\n",
    "    search_mode='beam'\n",
    ")"
   ],
   "id": "3db225557686efcf",
   "outputs": [],
   "execution_count": 27
  },
  {
   "metadata": {
    "ExecuteTime": {
     "end_time": "2024-09-30T02:12:55.713350Z",
     "start_time": "2024-09-30T02:12:55.706677Z"
    }
   },
   "cell_type": "code",
   "source": [
    "res = aa_decoder.decode(yyy, yyy_lgt, batch_first=False, probs=True)\n",
    "res"
   ],
   "id": "9ac0d419a4cf487c",
   "outputs": [
    {
     "data": {
      "text/plain": [
       "[[('FLACH', 0),\n",
       "  ('REGEN', 1),\n",
       "  ('FROST', 2),\n",
       "  ('REGION', 3),\n",
       "  ('NUR', 4),\n",
       "  ('BISSCHEN', 5),\n",
       "  ('TROPFEN', 6),\n",
       "  ('FLOCKEN', 7)],\n",
       " [('__ON__', 0),\n",
       "  ('WOCHE', 1),\n",
       "  ('DANACH', 2),\n",
       "  ('SUPER', 3),\n",
       "  ('HERBST', 4),\n",
       "  ('SONNE', 5),\n",
       "  ('ICH', 6),\n",
       "  ('TANKEN', 7),\n",
       "  ('KOERPER', 8)]]"
      ]
     },
     "execution_count": 28,
     "metadata": {},
     "output_type": "execute_result"
    }
   ],
   "execution_count": 28
  },
  {
   "metadata": {
    "ExecuteTime": {
     "end_time": "2024-09-30T02:12:55.773264Z",
     "start_time": "2024-09-30T02:12:55.766Z"
    }
   },
   "cell_type": "code",
   "source": [
    "for i in range(len(res)):\n",
    "    print([k[0] for k in res[i]])"
   ],
   "id": "901df81eaf18e01f",
   "outputs": [
    {
     "name": "stdout",
     "output_type": "stream",
     "text": [
      "['FLACH', 'REGEN', 'FROST', 'REGION', 'NUR', 'BISSCHEN', 'TROPFEN', 'FLOCKEN']\n",
      "['__ON__', 'WOCHE', 'DANACH', 'SUPER', 'HERBST', 'SONNE', 'ICH', 'TANKEN', 'KOERPER']\n"
     ]
    }
   ],
   "execution_count": 29
  },
  {
   "metadata": {
    "ExecuteTime": {
     "end_time": "2024-09-30T02:12:55.802365Z",
     "start_time": "2024-09-30T02:12:55.801313Z"
    }
   },
   "cell_type": "code",
   "source": "",
   "id": "a4034ac3829372cd",
   "outputs": [],
   "execution_count": null
  },
  {
   "metadata": {},
   "cell_type": "markdown",
   "source": "# decode3.py",
   "id": "26c8dab48cf4ebfa"
  },
  {
   "metadata": {
    "ExecuteTime": {
     "end_time": "2024-09-30T02:12:55.864332Z",
     "start_time": "2024-09-30T02:12:55.856188Z"
    }
   },
   "cell_type": "code",
   "source": "from slr.models.decoders.CTCBeamSearchDecoder import CTCBeamSearchDecoder",
   "id": "be7fc6f29381f25b",
   "outputs": [],
   "execution_count": 30
  },
  {
   "metadata": {
    "ExecuteTime": {
     "end_time": "2024-09-30T02:12:55.930212Z",
     "start_time": "2024-09-30T02:12:55.924799Z"
    }
   },
   "cell_type": "code",
   "source": "decoder3 = CTCBeamSearchDecoder(tokenizer=tokenizer, num_processes=1)",
   "id": "76995d2a891bf2fb",
   "outputs": [],
   "execution_count": 31
  },
  {
   "metadata": {
    "ExecuteTime": {
     "end_time": "2024-09-30T02:12:55.966925Z",
     "start_time": "2024-09-30T02:12:55.964538Z"
    }
   },
   "cell_type": "code",
   "source": "yyy.shape",
   "id": "9264addf666e3739",
   "outputs": [
    {
     "data": {
      "text/plain": [
       "torch.Size([34, 2, 1296])"
      ]
     },
     "execution_count": 32,
     "metadata": {},
     "output_type": "execute_result"
    }
   ],
   "execution_count": 32
  },
  {
   "metadata": {
    "ExecuteTime": {
     "end_time": "2024-09-30T02:12:56.035892Z",
     "start_time": "2024-09-30T02:12:56.025654Z"
    }
   },
   "cell_type": "code",
   "source": "yyy_lgt",
   "id": "73748be334410f88",
   "outputs": [
    {
     "data": {
      "text/plain": [
       "tensor([34, 32])"
      ]
     },
     "execution_count": 33,
     "metadata": {},
     "output_type": "execute_result"
    }
   ],
   "execution_count": 33
  },
  {
   "metadata": {
    "ExecuteTime": {
     "end_time": "2024-09-30T02:12:56.098151Z",
     "start_time": "2024-09-30T02:12:56.090115Z"
    }
   },
   "cell_type": "code",
   "source": "len(decoder3.tokenizer.vocab)",
   "id": "cff5173f5dc7f86",
   "outputs": [
    {
     "data": {
      "text/plain": [
       "1296"
      ]
     },
     "execution_count": 34,
     "metadata": {},
     "output_type": "execute_result"
    }
   ],
   "execution_count": 34
  },
  {
   "metadata": {
    "ExecuteTime": {
     "end_time": "2024-09-30T02:12:56.171834Z",
     "start_time": "2024-09-30T02:12:56.155526Z"
    }
   },
   "cell_type": "code",
   "source": "ress = decoder3.decode(yyy.permute(1, 0, 2), yyy_lgt, batch_first=True)",
   "id": "69699f6cc0c26fb1",
   "outputs": [],
   "execution_count": 35
  },
  {
   "metadata": {
    "ExecuteTime": {
     "end_time": "2024-09-30T02:12:56.203483Z",
     "start_time": "2024-09-30T02:12:56.201351Z"
    }
   },
   "cell_type": "code",
   "source": "ress",
   "id": "46596f2a17f8efb7",
   "outputs": [
    {
     "data": {
      "text/plain": [
       "[['FLACH',\n",
       "  'REGEN',\n",
       "  'FROST',\n",
       "  'REGION',\n",
       "  'NUR',\n",
       "  'BISSCHEN',\n",
       "  'TROPFEN',\n",
       "  'FLOCKEN'],\n",
       " ['__ON__',\n",
       "  'WOCHE',\n",
       "  'DANACH',\n",
       "  'SUPER',\n",
       "  'HERBST',\n",
       "  'SONNE',\n",
       "  'ICH',\n",
       "  'TANKEN',\n",
       "  'KOERPER']]"
      ]
     },
     "execution_count": 36,
     "metadata": {},
     "output_type": "execute_result"
    }
   ],
   "execution_count": 36
  },
  {
   "metadata": {
    "ExecuteTime": {
     "end_time": "2024-09-30T02:12:56.272810Z",
     "start_time": "2024-09-30T02:12:56.265585Z"
    }
   },
   "cell_type": "code",
   "source": [
    "for i in range(len(ress)):\n",
    "    print(ress[i])"
   ],
   "id": "87d67a200a5eecdc",
   "outputs": [
    {
     "name": "stdout",
     "output_type": "stream",
     "text": [
      "['FLACH', 'REGEN', 'FROST', 'REGION', 'NUR', 'BISSCHEN', 'TROPFEN', 'FLOCKEN']\n",
      "['__ON__', 'WOCHE', 'DANACH', 'SUPER', 'HERBST', 'SONNE', 'ICH', 'TANKEN', 'KOERPER']\n"
     ]
    }
   ],
   "execution_count": 37
  },
  {
   "metadata": {
    "ExecuteTime": {
     "end_time": "2024-09-30T02:12:56.334219Z",
     "start_time": "2024-09-30T02:12:56.327228Z"
    }
   },
   "cell_type": "code",
   "source": [
    "for i in range(len(ress)):\n",
    "    for j in range(len(ress[i])):\n",
    "        print(ress[i][j], res[i][j])"
   ],
   "id": "97084c3a4b604531",
   "outputs": [
    {
     "name": "stdout",
     "output_type": "stream",
     "text": [
      "FLACH ('FLACH', 0)\n",
      "REGEN ('REGEN', 1)\n",
      "FROST ('FROST', 2)\n",
      "REGION ('REGION', 3)\n",
      "NUR ('NUR', 4)\n",
      "BISSCHEN ('BISSCHEN', 5)\n",
      "TROPFEN ('TROPFEN', 6)\n",
      "FLOCKEN ('FLOCKEN', 7)\n",
      "__ON__ ('__ON__', 0)\n",
      "WOCHE ('WOCHE', 1)\n",
      "DANACH ('DANACH', 2)\n",
      "SUPER ('SUPER', 3)\n",
      "HERBST ('HERBST', 4)\n",
      "SONNE ('SONNE', 5)\n",
      "ICH ('ICH', 6)\n",
      "TANKEN ('TANKEN', 7)\n",
      "KOERPER ('KOERPER', 8)\n"
     ]
    }
   ],
   "execution_count": 38
  },
  {
   "metadata": {
    "ExecuteTime": {
     "end_time": "2024-09-30T02:12:56.422313Z",
     "start_time": "2024-09-30T02:12:56.414502Z"
    }
   },
   "cell_type": "code",
   "source": [
    "for i in range(len(ress)):\n",
    "    print(ress[i] == [k[0] for k in res[i]])"
   ],
   "id": "5e1e9a1161354e5c",
   "outputs": [
    {
     "name": "stdout",
     "output_type": "stream",
     "text": [
      "True\n",
      "True\n"
     ]
    }
   ],
   "execution_count": 39
  },
  {
   "metadata": {
    "ExecuteTime": {
     "end_time": "2024-09-30T02:12:56.510844Z",
     "start_time": "2024-09-30T02:12:56.506160Z"
    }
   },
   "cell_type": "code",
   "source": "",
   "id": "6c8a2a6bff942fc5",
   "outputs": [],
   "execution_count": null
  }
 ],
 "metadata": {
  "kernelspec": {
   "display_name": "Python 3",
   "language": "python",
   "name": "python3"
  },
  "language_info": {
   "codemirror_mode": {
    "name": "ipython",
    "version": 2
   },
   "file_extension": ".py",
   "mimetype": "text/x-python",
   "name": "python",
   "nbconvert_exporter": "python",
   "pygments_lexer": "ipython2",
   "version": "2.7.6"
  }
 },
 "nbformat": 4,
 "nbformat_minor": 5
}
