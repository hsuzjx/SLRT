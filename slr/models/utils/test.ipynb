{
 "cells": [
  {
   "cell_type": "code",
   "id": "initial_id",
   "metadata": {
    "collapsed": true,
    "ExecuteTime": {
     "end_time": "2024-09-28T08:24:01.896982Z",
     "start_time": "2024-09-28T08:24:01.301883Z"
    }
   },
   "source": "import torchaudio",
   "outputs": [],
   "execution_count": 1
  },
  {
   "metadata": {
    "ExecuteTime": {
     "end_time": "2024-09-28T08:24:08.015756Z",
     "start_time": "2024-09-28T08:24:08.009358Z"
    }
   },
   "cell_type": "code",
   "source": "dir(torchaudio.models)",
   "id": "bb88cd5d6b0828b2",
   "outputs": [
    {
     "data": {
      "text/plain": [
       "['AmplitudeToDB',\n",
       " 'ComputeDeltas',\n",
       " 'Fade',\n",
       " 'FrequencyMasking',\n",
       " 'GriffinLim',\n",
       " 'InverseMelScale',\n",
       " 'InverseSpectrogram',\n",
       " 'LFCC',\n",
       " 'Loudness',\n",
       " 'MFCC',\n",
       " 'MVDR',\n",
       " 'MelScale',\n",
       " 'MelSpectrogram',\n",
       " 'MuLawDecoding',\n",
       " 'MuLawEncoding',\n",
       " 'PSD',\n",
       " 'PitchShift',\n",
       " 'RNNTLoss',\n",
       " 'RTFMVDR',\n",
       " 'Resample',\n",
       " 'SlidingWindowCmn',\n",
       " 'SoudenMVDR',\n",
       " 'SpectralCentroid',\n",
       " 'Spectrogram',\n",
       " 'TimeMasking',\n",
       " 'TimeStretch',\n",
       " 'Vad',\n",
       " 'Vol',\n",
       " '__all__',\n",
       " '__builtins__',\n",
       " '__cached__',\n",
       " '__doc__',\n",
       " '__file__',\n",
       " '__loader__',\n",
       " '__name__',\n",
       " '__package__',\n",
       " '__path__',\n",
       " '__spec__',\n",
       " '_multi_channel',\n",
       " '_transforms']"
      ]
     },
     "execution_count": 2,
     "metadata": {},
     "output_type": "execute_result"
    }
   ],
   "execution_count": 2
  },
  {
   "metadata": {
    "ExecuteTime": {
     "end_time": "2024-09-28T08:28:05.844089Z",
     "start_time": "2024-09-28T08:28:05.814329Z"
    }
   },
   "cell_type": "code",
   "source": "from torchaudio.models.decoder import ctc_decoder",
   "id": "1ef008b3061ad45f",
   "outputs": [],
   "execution_count": 5
  },
  {
   "metadata": {
    "ExecuteTime": {
     "end_time": "2024-09-28T08:28:22.590828Z",
     "start_time": "2024-09-28T08:28:22.581453Z"
    }
   },
   "cell_type": "code",
   "source": "ctc_decoder",
   "id": "dcb6f67a3e1b828c",
   "outputs": [
    {
     "data": {
      "text/plain": [
       "<function torchaudio.models.decoder._ctc_decoder.ctc_decoder(lexicon: 'Optional[str]', tokens: 'Union[str, List[str]]', lm: 'Union[str, CTCDecoderLM]' = None, lm_dict: 'Optional[str]' = None, nbest: 'int' = 1, beam_size: 'int' = 50, beam_size_token: 'Optional[int]' = None, beam_threshold: 'float' = 50, lm_weight: 'float' = 2, word_score: 'float' = 0, unk_score: 'float' = -inf, sil_score: 'float' = 0, log_add: 'bool' = False, blank_token: 'str' = '-', sil_token: 'str' = '|', unk_word: 'str' = '<unk>') -> 'CTCDecoder'>"
      ]
     },
     "execution_count": 6,
     "metadata": {},
     "output_type": "execute_result"
    }
   ],
   "execution_count": 6
  },
  {
   "metadata": {
    "ExecuteTime": {
     "end_time": "2024-09-28T08:25:24.170581Z",
     "start_time": "2024-09-28T08:25:24.157572Z"
    }
   },
   "cell_type": "code",
   "source": [
    "import torch\n",
    "import torchaudio\n",
    "\n",
    "# 定义词汇表\n",
    "vocab = ['a', 'b', 'c', 'd', 'e', '<blank>']\n",
    "\n",
    "# 初始化 CTC 束搜索解码器\n",
    "beam_width = 10\n",
    "blank_id = 5  # 空白标识符的索引\n",
    "decoder = torchaudio.transforms.ViterbiDecoder(vocab, beam_width, blank_id)\n",
    "\n",
    "# 假设有一个形状为 (seq_len, batch_size, num_classes) 的神经网络输出\n",
    "nn_output = torch.randn(10, 2, 6).log_softmax(2).detach()\n",
    "\n",
    "# 假设每个样本的序列长度\n",
    "vid_lgt = torch.IntTensor([10, 10])\n",
    "\n",
    "# 使用 CTC 束搜索解码器进行解码\n",
    "decoded, scores = decoder(nn_output, vid_lgt)\n",
    "\n",
    "# 打印解码结果\n",
    "print(\"Decoded:\", decoded)\n",
    "print(\"Scores:\", scores)\n"
   ],
   "id": "3494c3755786fa83",
   "outputs": [
    {
     "ename": "AttributeError",
     "evalue": "module 'torchaudio.transforms' has no attribute 'ViterbiDecoder'",
     "output_type": "error",
     "traceback": [
      "\u001B[0;31m---------------------------------------------------------------------------\u001B[0m",
      "\u001B[0;31mAttributeError\u001B[0m                            Traceback (most recent call last)",
      "Cell \u001B[0;32mIn[4], line 10\u001B[0m\n\u001B[1;32m      8\u001B[0m beam_width \u001B[38;5;241m=\u001B[39m \u001B[38;5;241m10\u001B[39m\n\u001B[1;32m      9\u001B[0m blank_id \u001B[38;5;241m=\u001B[39m \u001B[38;5;241m5\u001B[39m  \u001B[38;5;66;03m# 空白标识符的索引\u001B[39;00m\n\u001B[0;32m---> 10\u001B[0m decoder \u001B[38;5;241m=\u001B[39m \u001B[43mtorchaudio\u001B[49m\u001B[38;5;241;43m.\u001B[39;49m\u001B[43mtransforms\u001B[49m\u001B[38;5;241;43m.\u001B[39;49m\u001B[43mViterbiDecoder\u001B[49m(vocab, beam_width, blank_id)\n\u001B[1;32m     12\u001B[0m \u001B[38;5;66;03m# 假设有一个形状为 (seq_len, batch_size, num_classes) 的神经网络输出\u001B[39;00m\n\u001B[1;32m     13\u001B[0m nn_output \u001B[38;5;241m=\u001B[39m torch\u001B[38;5;241m.\u001B[39mrandn(\u001B[38;5;241m10\u001B[39m, \u001B[38;5;241m2\u001B[39m, \u001B[38;5;241m6\u001B[39m)\u001B[38;5;241m.\u001B[39mlog_softmax(\u001B[38;5;241m2\u001B[39m)\u001B[38;5;241m.\u001B[39mdetach()\n",
      "\u001B[0;31mAttributeError\u001B[0m: module 'torchaudio.transforms' has no attribute 'ViterbiDecoder'"
     ]
    }
   ],
   "execution_count": 4
  },
  {
   "metadata": {},
   "cell_type": "code",
   "outputs": [],
   "execution_count": null,
   "source": "",
   "id": "365041a65cff3efd"
  }
 ],
 "metadata": {
  "kernelspec": {
   "display_name": "Python 3",
   "language": "python",
   "name": "python3"
  },
  "language_info": {
   "codemirror_mode": {
    "name": "ipython",
    "version": 2
   },
   "file_extension": ".py",
   "mimetype": "text/x-python",
   "name": "python",
   "nbconvert_exporter": "python",
   "pygments_lexer": "ipython2",
   "version": "2.7.6"
  }
 },
 "nbformat": 4,
 "nbformat_minor": 5
}
