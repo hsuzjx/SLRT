{
 "cells": [
  {
   "cell_type": "code",
   "id": "initial_id",
   "metadata": {
    "collapsed": true,
    "ExecuteTime": {
     "end_time": "2024-09-30T03:01:08.665914Z",
     "start_time": "2024-09-30T03:01:08.659074Z"
    }
   },
   "source": [
    "decoded = [[1,2,1,2,1,2,1,2,3,5,6,4,8,9],[66,9,6,3,5,2,1,2,3,5,6,4,8,9]]\n",
    "special_tokens = [1,2]\n",
    "for tokens in decoded:\n",
    "    for token in special_tokens:\n",
    "        if token == 1:\n",
    "            continue\n",
    "        while token in tokens:\n",
    "            tokens.remove(token)"
   ],
   "outputs": [],
   "execution_count": 3
  },
  {
   "metadata": {
    "ExecuteTime": {
     "end_time": "2024-09-30T03:01:09.131904Z",
     "start_time": "2024-09-30T03:01:09.120243Z"
    }
   },
   "cell_type": "code",
   "source": "decoded",
   "id": "b8a0a6072f28e893",
   "outputs": [
    {
     "data": {
      "text/plain": [
       "[[1, 1, 1, 1, 3, 5, 6, 4, 8, 9], [66, 9, 6, 3, 5, 1, 3, 5, 6, 4, 8, 9]]"
      ]
     },
     "execution_count": 4,
     "metadata": {},
     "output_type": "execute_result"
    }
   ],
   "execution_count": 4
  },
  {
   "metadata": {},
   "cell_type": "code",
   "outputs": [],
   "execution_count": null,
   "source": "",
   "id": "95ed9cfb2df1c8de"
  }
 ],
 "metadata": {
  "kernelspec": {
   "display_name": "Python 3",
   "language": "python",
   "name": "python3"
  },
  "language_info": {
   "codemirror_mode": {
    "name": "ipython",
    "version": 2
   },
   "file_extension": ".py",
   "mimetype": "text/x-python",
   "name": "python",
   "nbconvert_exporter": "python",
   "pygments_lexer": "ipython2",
   "version": "2.7.6"
  }
 },
 "nbformat": 4,
 "nbformat_minor": 5
}
