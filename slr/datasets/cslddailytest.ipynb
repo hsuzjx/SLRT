{
 "cells": [
  {
   "cell_type": "code",
   "id": "initial_id",
   "metadata": {
    "collapsed": true,
    "ExecuteTime": {
     "end_time": "2024-09-26T08:22:13.584457Z",
     "start_time": "2024-09-26T08:22:13.577574Z"
    }
   },
   "source": "from torch.utils.data import DataLoader\n",
   "outputs": [],
   "execution_count": 32
  },
  {
   "metadata": {
    "ExecuteTime": {
     "end_time": "2024-09-26T08:22:13.853684Z",
     "start_time": "2024-09-26T08:22:13.847102Z"
    }
   },
   "cell_type": "code",
   "source": [
    "\n",
    "from slr.datasets.CSLDailyDataset import CSLDailyDataset"
   ],
   "id": "f9b39d6c18450e8d",
   "outputs": [],
   "execution_count": 33
  },
  {
   "metadata": {
    "ExecuteTime": {
     "end_time": "2024-09-26T08:22:14.119170Z",
     "start_time": "2024-09-26T08:22:14.112308Z"
    }
   },
   "cell_type": "code",
   "source": "import lightning as L",
   "id": "de0a53e61963bc23",
   "outputs": [],
   "execution_count": 34
  },
  {
   "metadata": {
    "ExecuteTime": {
     "end_time": "2024-09-26T08:22:14.498396Z",
     "start_time": "2024-09-26T08:22:14.363120Z"
    }
   },
   "cell_type": "code",
   "source": [
    "datasaet = CSLDailyDataset(\n",
    "    dataset_dir='/new_home/xzj23/workspace/SLR/data/csl-daily',\n",
    "    mode=\"train\"\n",
    ")"
   ],
   "id": "141b42ce35100e90",
   "outputs": [],
   "execution_count": 35
  },
  {
   "metadata": {
    "ExecuteTime": {
     "end_time": "2024-09-26T08:22:14.638597Z",
     "start_time": "2024-09-26T08:22:14.628957Z"
    }
   },
   "cell_type": "code",
   "source": "datasaet.__len__()",
   "id": "2ef232ba6a70f420",
   "outputs": [
    {
     "data": {
      "text/plain": [
       "18401"
      ]
     },
     "execution_count": 36,
     "metadata": {},
     "output_type": "execute_result"
    }
   ],
   "execution_count": 36
  },
  {
   "metadata": {
    "ExecuteTime": {
     "end_time": "2024-09-26T08:22:17.162040Z",
     "start_time": "2024-09-26T08:22:17.049350Z"
    }
   },
   "cell_type": "code",
   "source": [
    "ds = CSLDailyDataset(\n",
    "    dataset_dir='/new_home/xzj23/workspace/SLR/data/csl-daily',\n",
    "    mode=[\"train\", \"dev\"]\n",
    ")\n",
    "ds.__len__()"
   ],
   "id": "bac3e61075f45f6d",
   "outputs": [
    {
     "data": {
      "text/plain": [
       "19478"
      ]
     },
     "execution_count": 37,
     "metadata": {},
     "output_type": "execute_result"
    }
   ],
   "execution_count": 37
  },
  {
   "metadata": {
    "ExecuteTime": {
     "end_time": "2024-09-26T08:22:17.869338Z",
     "start_time": "2024-09-26T08:22:17.863429Z"
    }
   },
   "cell_type": "code",
   "source": "ds",
   "id": "8e3c8fda7fad308b",
   "outputs": [
    {
     "data": {
      "text/plain": [
       "<slr.datasets.CSLDailyDataset.CSLDailyDataset at 0x7ff0bbb3ba00>"
      ]
     },
     "execution_count": 38,
     "metadata": {},
     "output_type": "execute_result"
    }
   ],
   "execution_count": 38
  },
  {
   "metadata": {
    "ExecuteTime": {
     "end_time": "2024-09-26T08:22:18.349622Z",
     "start_time": "2024-09-26T08:22:18.347606Z"
    }
   },
   "cell_type": "code",
   "source": [
    "dl = DataLoader(datasaet, batch_size=2, shuffle=True, pin_memory=True, num_workers=10, drop_last=True,\n",
    "                collate_fn=datasaet.collate_fn)"
   ],
   "id": "b242942bab145ed6",
   "outputs": [],
   "execution_count": 39
  },
  {
   "metadata": {
    "ExecuteTime": {
     "end_time": "2024-09-26T08:25:12.410791Z",
     "start_time": "2024-09-26T08:22:19.225597Z"
    }
   },
   "cell_type": "code",
   "source": [
    "from tqdm import tqdm\n",
    "\n",
    "for x, y, x_lgt, y_lgt, info in tqdm(dl):\n",
    "    x = x.cuda()"
   ],
   "id": "ec6445360e910fd0",
   "outputs": [
    {
     "name": "stderr",
     "output_type": "stream",
     "text": [
      "  2%|▏         | 195/9200 [02:52<2:12:57,  1.13it/s]Process Process-57:\n",
      "Process Process-55:\n",
      "Process Process-49:\n",
      "Process Process-53:\n",
      "\n",
      "Process Process-54:\n",
      "Process Process-50:\n",
      "Process Process-56:\n",
      "Traceback (most recent call last):\n",
      "Traceback (most recent call last):\n",
      "Traceback (most recent call last):\n",
      "  File \"/new_home/xzj23/.conda/envs/slr/lib/python3.10/multiprocessing/process.py\", line 317, in _bootstrap\n",
      "    util._exit_function()\n",
      "  File \"/new_home/xzj23/.conda/envs/slr/lib/python3.10/multiprocessing/process.py\", line 317, in _bootstrap\n",
      "    util._exit_function()\n",
      "Traceback (most recent call last):\n",
      "Traceback (most recent call last):\n",
      "Traceback (most recent call last):\n",
      "  File \"/new_home/xzj23/.conda/envs/slr/lib/python3.10/multiprocessing/process.py\", line 317, in _bootstrap\n",
      "    util._exit_function()\n",
      "  File \"/new_home/xzj23/.conda/envs/slr/lib/python3.10/multiprocessing/util.py\", line 334, in _exit_function\n",
      "    _run_finalizers(0)\n",
      "Traceback (most recent call last):\n",
      "  File \"/new_home/xzj23/.conda/envs/slr/lib/python3.10/multiprocessing/util.py\", line 334, in _exit_function\n",
      "    _run_finalizers(0)\n",
      "  File \"/new_home/xzj23/.conda/envs/slr/lib/python3.10/multiprocessing/process.py\", line 317, in _bootstrap\n",
      "    util._exit_function()\n",
      "  File \"/new_home/xzj23/.conda/envs/slr/lib/python3.10/multiprocessing/process.py\", line 317, in _bootstrap\n",
      "    util._exit_function()\n",
      "  File \"/new_home/xzj23/.conda/envs/slr/lib/python3.10/multiprocessing/process.py\", line 317, in _bootstrap\n",
      "    util._exit_function()\n",
      "  File \"/new_home/xzj23/.conda/envs/slr/lib/python3.10/multiprocessing/util.py\", line 334, in _exit_function\n",
      "    _run_finalizers(0)\n",
      "Process Process-48:\n",
      "  File \"/new_home/xzj23/.conda/envs/slr/lib/python3.10/multiprocessing/util.py\", line 300, in _run_finalizers\n",
      "    finalizer()\n",
      "  File \"/new_home/xzj23/.conda/envs/slr/lib/python3.10/multiprocessing/process.py\", line 317, in _bootstrap\n",
      "    util._exit_function()\n",
      "  File \"/new_home/xzj23/.conda/envs/slr/lib/python3.10/multiprocessing/util.py\", line 300, in _run_finalizers\n",
      "    finalizer()\n",
      "  File \"/new_home/xzj23/.conda/envs/slr/lib/python3.10/multiprocessing/util.py\", line 334, in _exit_function\n",
      "    _run_finalizers(0)\n",
      "  File \"/new_home/xzj23/.conda/envs/slr/lib/python3.10/multiprocessing/util.py\", line 334, in _exit_function\n",
      "    _run_finalizers(0)\n",
      "  File \"/new_home/xzj23/.conda/envs/slr/lib/python3.10/multiprocessing/util.py\", line 334, in _exit_function\n",
      "    _run_finalizers(0)\n",
      "  File \"/new_home/xzj23/.conda/envs/slr/lib/python3.10/multiprocessing/util.py\", line 300, in _run_finalizers\n",
      "    finalizer()\n",
      "KeyboardInterrupt\n",
      "  File \"/new_home/xzj23/.conda/envs/slr/lib/python3.10/multiprocessing/util.py\", line 334, in _exit_function\n",
      "    _run_finalizers(0)\n",
      "KeyboardInterrupt\n",
      "  File \"/new_home/xzj23/.conda/envs/slr/lib/python3.10/multiprocessing/util.py\", line 300, in _run_finalizers\n",
      "    finalizer()\n",
      "  File \"/new_home/xzj23/.conda/envs/slr/lib/python3.10/multiprocessing/util.py\", line 300, in _run_finalizers\n",
      "    finalizer()\n",
      "  File \"/new_home/xzj23/.conda/envs/slr/lib/python3.10/multiprocessing/util.py\", line 300, in _run_finalizers\n",
      "    finalizer()\n",
      "  File \"/new_home/xzj23/.conda/envs/slr/lib/python3.10/multiprocessing/util.py\", line 300, in _run_finalizers\n",
      "    finalizer()\n",
      "KeyboardInterrupt\n",
      "  File \"/new_home/xzj23/.conda/envs/slr/lib/python3.10/multiprocessing/util.py\", line 224, in __call__\n",
      "    res = self._callback(*self._args, **self._kwargs)\n",
      "  File \"/new_home/xzj23/.conda/envs/slr/lib/python3.10/multiprocessing/util.py\", line 224, in __call__\n",
      "    res = self._callback(*self._args, **self._kwargs)\n",
      "  File \"/new_home/xzj23/.conda/envs/slr/lib/python3.10/multiprocessing/util.py\", line 224, in __call__\n",
      "    res = self._callback(*self._args, **self._kwargs)\n",
      "KeyboardInterrupt\n",
      "KeyboardInterrupt\n",
      "Traceback (most recent call last):\n",
      "KeyboardInterrupt\n",
      "KeyboardInterrupt\n",
      "  File \"/new_home/xzj23/.conda/envs/slr/lib/python3.10/multiprocessing/process.py\", line 317, in _bootstrap\n",
      "    util._exit_function()\n",
      "  File \"/new_home/xzj23/.conda/envs/slr/lib/python3.10/multiprocessing/util.py\", line 334, in _exit_function\n",
      "    _run_finalizers(0)\n",
      "  File \"/new_home/xzj23/.conda/envs/slr/lib/python3.10/multiprocessing/util.py\", line 300, in _run_finalizers\n",
      "    finalizer()\n",
      "  File \"/new_home/xzj23/.conda/envs/slr/lib/python3.10/multiprocessing/util.py\", line 218, in __call__\n",
      "    if self._pid != getpid():\n",
      "KeyboardInterrupt\n"
     ]
    },
    {
     "name": "stdout",
     "output_type": "stream",
     "text": [
      "Unexpected exception formatting exception. Falling back to standard exception\n"
     ]
    },
    {
     "name": "stderr",
     "output_type": "stream",
     "text": [
      "Traceback (most recent call last):\n",
      "  File \"/new_home/xzj23/.conda/envs/slr/lib/python3.10/site-packages/IPython/core/interactiveshell.py\", line 3577, in run_code\n",
      "    exec(code_obj, self.user_global_ns, self.user_ns)\n",
      "  File \"/tmp/ipykernel_531435/1744069952.py\", line 3, in <module>\n",
      "    for x, y, x_lgt, y_lgt, info in tqdm(dl):\n",
      "  File \"/new_home/xzj23/.conda/envs/slr/lib/python3.10/site-packages/tqdm/std.py\", line 1181, in __iter__\n",
      "    for obj in iterable:\n",
      "  File \"/new_home/xzj23/.conda/envs/slr/lib/python3.10/site-packages/torch/utils/data/dataloader.py\", line 628, in __next__\n",
      "    data = self._next_data()\n",
      "  File \"/new_home/xzj23/.conda/envs/slr/lib/python3.10/site-packages/torch/utils/data/dataloader.py\", line 1316, in _next_data\n",
      "    idx, data = self._get_data()\n",
      "  File \"/new_home/xzj23/.conda/envs/slr/lib/python3.10/site-packages/torch/utils/data/dataloader.py\", line 1272, in _get_data\n",
      "    success, data = self._try_get_data()\n",
      "  File \"/new_home/xzj23/.conda/envs/slr/lib/python3.10/site-packages/torch/utils/data/dataloader.py\", line 1120, in _try_get_data\n",
      "    data = self._data_queue.get(timeout=timeout)\n",
      "  File \"/new_home/xzj23/.conda/envs/slr/lib/python3.10/queue.py\", line 180, in get\n",
      "    self.not_empty.wait(remaining)\n",
      "  File \"/new_home/xzj23/.conda/envs/slr/lib/python3.10/threading.py\", line 324, in wait\n",
      "    gotit = waiter.acquire(True, timeout)\n",
      "KeyboardInterrupt\n",
      "\n",
      "During handling of the above exception, another exception occurred:\n",
      "\n",
      "Traceback (most recent call last):\n",
      "  File \"/new_home/xzj23/.conda/envs/slr/lib/python3.10/site-packages/IPython/core/interactiveshell.py\", line 3517, in run_ast_nodes\n",
      "    if await self.run_code(code, result, async_=asy):\n",
      "  File \"/new_home/xzj23/.conda/envs/slr/lib/python3.10/site-packages/IPython/core/interactiveshell.py\", line 3598, in run_code\n",
      "    result.error_in_exec = sys.exc_info()[1]\n",
      "KeyboardInterrupt\n",
      "\n",
      "During handling of the above exception, another exception occurred:\n",
      "\n",
      "Traceback (most recent call last):\n",
      "  File \"/new_home/xzj23/.conda/envs/slr/lib/python3.10/site-packages/IPython/core/interactiveshell.py\", line 2168, in showtraceback\n",
      "    stb = self.InteractiveTB.structured_traceback(\n",
      "  File \"/new_home/xzj23/.conda/envs/slr/lib/python3.10/site-packages/IPython/core/ultratb.py\", line 1454, in structured_traceback\n",
      "    return FormattedTB.structured_traceback(\n",
      "  File \"/new_home/xzj23/.conda/envs/slr/lib/python3.10/site-packages/IPython/core/ultratb.py\", line 1345, in structured_traceback\n",
      "    return VerboseTB.structured_traceback(\n",
      "  File \"/new_home/xzj23/.conda/envs/slr/lib/python3.10/site-packages/IPython/core/ultratb.py\", line 1192, in structured_traceback\n",
      "    formatted_exception = self.format_exception_as_a_whole(etype, evalue, etb, number_of_lines_of_context,\n",
      "  File \"/new_home/xzj23/.conda/envs/slr/lib/python3.10/site-packages/IPython/core/ultratb.py\", line 1082, in format_exception_as_a_whole\n",
      "    self.get_records(etb, number_of_lines_of_context, tb_offset) if etb else []\n",
      "  File \"/new_home/xzj23/.conda/envs/slr/lib/python3.10/site-packages/IPython/core/ultratb.py\", line 1135, in get_records\n",
      "    formatter = Terminal256Formatter(style=style)\n",
      "  File \"/new_home/xzj23/.conda/envs/slr/lib/python3.10/site-packages/pygments/formatters/terminal256.py\", line 147, in __init__\n",
      "    self._setup_styles()  # convert selected style's colors to term. colors\n",
      "  File \"/new_home/xzj23/.conda/envs/slr/lib/python3.10/site-packages/pygments/formatters/terminal256.py\", line 225, in _setup_styles\n",
      "    for ttype, ndef in self.style:\n",
      "  File \"/new_home/xzj23/.conda/envs/slr/lib/python3.10/site-packages/pygments/style.py\", line 164, in __iter__\n",
      "    yield token, cls.style_for_token(token)\n",
      "  File \"/new_home/xzj23/.conda/envs/slr/lib/python3.10/site-packages/pygments/style.py\", line 126, in style_for_token\n",
      "    def style_for_token(cls, token):\n",
      "  File \"/new_home/xzj23/.conda/envs/slr/lib/python3.10/site-packages/torch/utils/data/_utils/signal_handling.py\", line 66, in handler\n",
      "    _error_if_any_worker_fails()\n",
      "RuntimeError: DataLoader worker (pid 539436) exited unexpectedly with exit code 1. Details are lost due to multiprocessing. Rerunning with num_workers=0 may give better error trace.\n"
     ]
    }
   ],
   "execution_count": 40
  },
  {
   "metadata": {
    "ExecuteTime": {
     "end_time": "2024-09-26T07:39:38.841802Z",
     "start_time": "2024-09-26T03:10:31.533454Z"
    }
   },
   "cell_type": "code",
   "source": "a = next(enumerate(dl))",
   "id": "8609c1fcb7032690",
   "outputs": [],
   "execution_count": 5
  },
  {
   "metadata": {
    "ExecuteTime": {
     "end_time": "2024-09-26T07:39:38.841941Z",
     "start_time": "2024-09-26T03:10:34.752217Z"
    }
   },
   "cell_type": "code",
   "source": "a",
   "id": "6d4b9566d8f261ee",
   "outputs": [
    {
     "data": {
      "text/plain": [
       "(0,\n",
       " [tensor([[[[[0., 0., 0.,  ..., 0., 0., 0.],\n",
       "             [0., 0., 0.,  ..., 0., 0., 0.],\n",
       "             [0., 0., 0.,  ..., 0., 0., 0.],\n",
       "             ...,\n",
       "             [0., 0., 0.,  ..., 0., 0., 0.],\n",
       "             [0., 0., 0.,  ..., 0., 0., 0.],\n",
       "             [0., 0., 0.,  ..., 0., 0., 0.]],\n",
       "  \n",
       "            [[0., 0., 0.,  ..., 0., 0., 0.],\n",
       "             [0., 0., 0.,  ..., 0., 0., 0.],\n",
       "             [0., 0., 0.,  ..., 0., 0., 0.],\n",
       "             ...,\n",
       "             [0., 0., 0.,  ..., 0., 0., 0.],\n",
       "             [0., 0., 0.,  ..., 0., 0., 0.],\n",
       "             [0., 0., 0.,  ..., 0., 0., 0.]],\n",
       "  \n",
       "            [[0., 0., 0.,  ..., 0., 0., 0.],\n",
       "             [0., 0., 0.,  ..., 0., 0., 0.],\n",
       "             [0., 0., 0.,  ..., 0., 0., 0.],\n",
       "             ...,\n",
       "             [0., 0., 0.,  ..., 0., 0., 0.],\n",
       "             [0., 0., 0.,  ..., 0., 0., 0.],\n",
       "             [0., 0., 0.,  ..., 0., 0., 0.]]],\n",
       "  \n",
       "  \n",
       "           [[[0., 0., 0.,  ..., 0., 0., 0.],\n",
       "             [0., 0., 0.,  ..., 0., 0., 0.],\n",
       "             [0., 0., 0.,  ..., 0., 0., 0.],\n",
       "             ...,\n",
       "             [0., 0., 0.,  ..., 0., 0., 0.],\n",
       "             [0., 0., 0.,  ..., 0., 0., 0.],\n",
       "             [0., 0., 0.,  ..., 0., 0., 0.]],\n",
       "  \n",
       "            [[0., 0., 0.,  ..., 0., 0., 0.],\n",
       "             [0., 0., 0.,  ..., 0., 0., 0.],\n",
       "             [0., 0., 0.,  ..., 0., 0., 0.],\n",
       "             ...,\n",
       "             [0., 0., 0.,  ..., 0., 0., 0.],\n",
       "             [0., 0., 0.,  ..., 0., 0., 0.],\n",
       "             [0., 0., 0.,  ..., 0., 0., 0.]],\n",
       "  \n",
       "            [[0., 0., 0.,  ..., 0., 0., 0.],\n",
       "             [0., 0., 0.,  ..., 0., 0., 0.],\n",
       "             [0., 0., 0.,  ..., 0., 0., 0.],\n",
       "             ...,\n",
       "             [0., 0., 0.,  ..., 0., 0., 0.],\n",
       "             [0., 0., 0.,  ..., 0., 0., 0.],\n",
       "             [0., 0., 0.,  ..., 0., 0., 0.]]],\n",
       "  \n",
       "  \n",
       "           [[[0., 0., 0.,  ..., 0., 0., 0.],\n",
       "             [0., 0., 0.,  ..., 0., 0., 0.],\n",
       "             [0., 0., 0.,  ..., 0., 0., 0.],\n",
       "             ...,\n",
       "             [0., 0., 0.,  ..., 0., 0., 0.],\n",
       "             [0., 0., 0.,  ..., 0., 0., 0.],\n",
       "             [0., 0., 0.,  ..., 0., 0., 0.]],\n",
       "  \n",
       "            [[0., 0., 0.,  ..., 0., 0., 0.],\n",
       "             [0., 0., 0.,  ..., 0., 0., 0.],\n",
       "             [0., 0., 0.,  ..., 0., 0., 0.],\n",
       "             ...,\n",
       "             [0., 0., 0.,  ..., 0., 0., 0.],\n",
       "             [0., 0., 0.,  ..., 0., 0., 0.],\n",
       "             [0., 0., 0.,  ..., 0., 0., 0.]],\n",
       "  \n",
       "            [[0., 0., 0.,  ..., 0., 0., 0.],\n",
       "             [0., 0., 0.,  ..., 0., 0., 0.],\n",
       "             [0., 0., 0.,  ..., 0., 0., 0.],\n",
       "             ...,\n",
       "             [0., 0., 0.,  ..., 0., 0., 0.],\n",
       "             [0., 0., 0.,  ..., 0., 0., 0.],\n",
       "             [0., 0., 0.,  ..., 0., 0., 0.]]],\n",
       "  \n",
       "  \n",
       "           ...,\n",
       "  \n",
       "  \n",
       "           [[[0., 0., 0.,  ..., 0., 0., 0.],\n",
       "             [0., 0., 0.,  ..., 0., 0., 0.],\n",
       "             [0., 0., 0.,  ..., 0., 0., 0.],\n",
       "             ...,\n",
       "             [0., 0., 0.,  ..., 0., 0., 0.],\n",
       "             [0., 0., 0.,  ..., 0., 0., 0.],\n",
       "             [0., 0., 0.,  ..., 0., 0., 0.]],\n",
       "  \n",
       "            [[0., 0., 0.,  ..., 0., 0., 0.],\n",
       "             [0., 0., 0.,  ..., 0., 0., 0.],\n",
       "             [0., 0., 0.,  ..., 0., 0., 0.],\n",
       "             ...,\n",
       "             [0., 0., 0.,  ..., 0., 0., 0.],\n",
       "             [0., 0., 0.,  ..., 0., 0., 0.],\n",
       "             [0., 0., 0.,  ..., 0., 0., 0.]],\n",
       "  \n",
       "            [[0., 0., 0.,  ..., 0., 0., 0.],\n",
       "             [0., 0., 0.,  ..., 0., 0., 0.],\n",
       "             [0., 0., 0.,  ..., 0., 0., 0.],\n",
       "             ...,\n",
       "             [0., 0., 0.,  ..., 0., 0., 0.],\n",
       "             [0., 0., 0.,  ..., 0., 0., 0.],\n",
       "             [0., 0., 0.,  ..., 0., 0., 0.]]],\n",
       "  \n",
       "  \n",
       "           [[[0., 0., 0.,  ..., 0., 0., 0.],\n",
       "             [0., 0., 0.,  ..., 0., 0., 0.],\n",
       "             [0., 0., 0.,  ..., 0., 0., 0.],\n",
       "             ...,\n",
       "             [0., 0., 0.,  ..., 0., 0., 0.],\n",
       "             [0., 0., 0.,  ..., 0., 0., 0.],\n",
       "             [0., 0., 0.,  ..., 0., 0., 0.]],\n",
       "  \n",
       "            [[0., 0., 0.,  ..., 0., 0., 0.],\n",
       "             [0., 0., 0.,  ..., 0., 0., 0.],\n",
       "             [0., 0., 0.,  ..., 0., 0., 0.],\n",
       "             ...,\n",
       "             [0., 0., 0.,  ..., 0., 0., 0.],\n",
       "             [0., 0., 0.,  ..., 0., 0., 0.],\n",
       "             [0., 0., 0.,  ..., 0., 0., 0.]],\n",
       "  \n",
       "            [[0., 0., 0.,  ..., 0., 0., 0.],\n",
       "             [0., 0., 0.,  ..., 0., 0., 0.],\n",
       "             [0., 0., 0.,  ..., 0., 0., 0.],\n",
       "             ...,\n",
       "             [0., 0., 0.,  ..., 0., 0., 0.],\n",
       "             [0., 0., 0.,  ..., 0., 0., 0.],\n",
       "             [0., 0., 0.,  ..., 0., 0., 0.]]],\n",
       "  \n",
       "  \n",
       "           [[[0., 0., 0.,  ..., 0., 0., 0.],\n",
       "             [0., 0., 0.,  ..., 0., 0., 0.],\n",
       "             [0., 0., 0.,  ..., 0., 0., 0.],\n",
       "             ...,\n",
       "             [0., 0., 0.,  ..., 0., 0., 0.],\n",
       "             [0., 0., 0.,  ..., 0., 0., 0.],\n",
       "             [0., 0., 0.,  ..., 0., 0., 0.]],\n",
       "  \n",
       "            [[0., 0., 0.,  ..., 0., 0., 0.],\n",
       "             [0., 0., 0.,  ..., 0., 0., 0.],\n",
       "             [0., 0., 0.,  ..., 0., 0., 0.],\n",
       "             ...,\n",
       "             [0., 0., 0.,  ..., 0., 0., 0.],\n",
       "             [0., 0., 0.,  ..., 0., 0., 0.],\n",
       "             [0., 0., 0.,  ..., 0., 0., 0.]],\n",
       "  \n",
       "            [[0., 0., 0.,  ..., 0., 0., 0.],\n",
       "             [0., 0., 0.,  ..., 0., 0., 0.],\n",
       "             [0., 0., 0.,  ..., 0., 0., 0.],\n",
       "             ...,\n",
       "             [0., 0., 0.,  ..., 0., 0., 0.],\n",
       "             [0., 0., 0.,  ..., 0., 0., 0.],\n",
       "             [0., 0., 0.,  ..., 0., 0., 0.]]]],\n",
       "  \n",
       "  \n",
       "  \n",
       "          [[[[0., 0., 0.,  ..., 0., 0., 0.],\n",
       "             [0., 0., 0.,  ..., 0., 0., 0.],\n",
       "             [0., 0., 0.,  ..., 0., 0., 0.],\n",
       "             ...,\n",
       "             [0., 0., 0.,  ..., 0., 0., 0.],\n",
       "             [0., 0., 0.,  ..., 0., 0., 0.],\n",
       "             [0., 0., 0.,  ..., 0., 0., 0.]],\n",
       "  \n",
       "            [[0., 0., 0.,  ..., 0., 0., 0.],\n",
       "             [0., 0., 0.,  ..., 0., 0., 0.],\n",
       "             [0., 0., 0.,  ..., 0., 0., 0.],\n",
       "             ...,\n",
       "             [0., 0., 0.,  ..., 0., 0., 0.],\n",
       "             [0., 0., 0.,  ..., 0., 0., 0.],\n",
       "             [0., 0., 0.,  ..., 0., 0., 0.]],\n",
       "  \n",
       "            [[0., 0., 0.,  ..., 0., 0., 0.],\n",
       "             [0., 0., 0.,  ..., 0., 0., 0.],\n",
       "             [0., 0., 0.,  ..., 0., 0., 0.],\n",
       "             ...,\n",
       "             [0., 0., 0.,  ..., 0., 0., 0.],\n",
       "             [0., 0., 0.,  ..., 0., 0., 0.],\n",
       "             [0., 0., 0.,  ..., 0., 0., 0.]]],\n",
       "  \n",
       "  \n",
       "           [[[0., 0., 0.,  ..., 0., 0., 0.],\n",
       "             [0., 0., 0.,  ..., 0., 0., 0.],\n",
       "             [0., 0., 0.,  ..., 0., 0., 0.],\n",
       "             ...,\n",
       "             [0., 0., 0.,  ..., 0., 0., 0.],\n",
       "             [0., 0., 0.,  ..., 0., 0., 0.],\n",
       "             [0., 0., 0.,  ..., 0., 0., 0.]],\n",
       "  \n",
       "            [[0., 0., 0.,  ..., 0., 0., 0.],\n",
       "             [0., 0., 0.,  ..., 0., 0., 0.],\n",
       "             [0., 0., 0.,  ..., 0., 0., 0.],\n",
       "             ...,\n",
       "             [0., 0., 0.,  ..., 0., 0., 0.],\n",
       "             [0., 0., 0.,  ..., 0., 0., 0.],\n",
       "             [0., 0., 0.,  ..., 0., 0., 0.]],\n",
       "  \n",
       "            [[0., 0., 0.,  ..., 0., 0., 0.],\n",
       "             [0., 0., 0.,  ..., 0., 0., 0.],\n",
       "             [0., 0., 0.,  ..., 0., 0., 0.],\n",
       "             ...,\n",
       "             [0., 0., 0.,  ..., 0., 0., 0.],\n",
       "             [0., 0., 0.,  ..., 0., 0., 0.],\n",
       "             [0., 0., 0.,  ..., 0., 0., 0.]]],\n",
       "  \n",
       "  \n",
       "           [[[0., 0., 0.,  ..., 0., 0., 0.],\n",
       "             [0., 0., 0.,  ..., 0., 0., 0.],\n",
       "             [0., 0., 0.,  ..., 0., 0., 0.],\n",
       "             ...,\n",
       "             [0., 0., 0.,  ..., 0., 0., 0.],\n",
       "             [0., 0., 0.,  ..., 0., 0., 0.],\n",
       "             [0., 0., 0.,  ..., 0., 0., 0.]],\n",
       "  \n",
       "            [[0., 0., 0.,  ..., 0., 0., 0.],\n",
       "             [0., 0., 0.,  ..., 0., 0., 0.],\n",
       "             [0., 0., 0.,  ..., 0., 0., 0.],\n",
       "             ...,\n",
       "             [0., 0., 0.,  ..., 0., 0., 0.],\n",
       "             [0., 0., 0.,  ..., 0., 0., 0.],\n",
       "             [0., 0., 0.,  ..., 0., 0., 0.]],\n",
       "  \n",
       "            [[0., 0., 0.,  ..., 0., 0., 0.],\n",
       "             [0., 0., 0.,  ..., 0., 0., 0.],\n",
       "             [0., 0., 0.,  ..., 0., 0., 0.],\n",
       "             ...,\n",
       "             [0., 0., 0.,  ..., 0., 0., 0.],\n",
       "             [0., 0., 0.,  ..., 0., 0., 0.],\n",
       "             [0., 0., 0.,  ..., 0., 0., 0.]]],\n",
       "  \n",
       "  \n",
       "           ...,\n",
       "  \n",
       "  \n",
       "           [[[0., 0., 0.,  ..., 0., 0., 0.],\n",
       "             [0., 0., 0.,  ..., 0., 0., 0.],\n",
       "             [0., 0., 0.,  ..., 0., 0., 0.],\n",
       "             ...,\n",
       "             [0., 0., 0.,  ..., 0., 0., 0.],\n",
       "             [0., 0., 0.,  ..., 0., 0., 0.],\n",
       "             [0., 0., 0.,  ..., 0., 0., 0.]],\n",
       "  \n",
       "            [[0., 0., 0.,  ..., 0., 0., 0.],\n",
       "             [0., 0., 0.,  ..., 0., 0., 0.],\n",
       "             [0., 0., 0.,  ..., 0., 0., 0.],\n",
       "             ...,\n",
       "             [0., 0., 0.,  ..., 0., 0., 0.],\n",
       "             [0., 0., 0.,  ..., 0., 0., 0.],\n",
       "             [0., 0., 0.,  ..., 0., 0., 0.]],\n",
       "  \n",
       "            [[0., 0., 0.,  ..., 0., 0., 0.],\n",
       "             [0., 0., 0.,  ..., 0., 0., 0.],\n",
       "             [0., 0., 0.,  ..., 0., 0., 0.],\n",
       "             ...,\n",
       "             [0., 0., 0.,  ..., 0., 0., 0.],\n",
       "             [0., 0., 0.,  ..., 0., 0., 0.],\n",
       "             [0., 0., 0.,  ..., 0., 0., 0.]]],\n",
       "  \n",
       "  \n",
       "           [[[0., 0., 0.,  ..., 0., 0., 0.],\n",
       "             [0., 0., 0.,  ..., 0., 0., 0.],\n",
       "             [0., 0., 0.,  ..., 0., 0., 0.],\n",
       "             ...,\n",
       "             [0., 0., 0.,  ..., 0., 0., 0.],\n",
       "             [0., 0., 0.,  ..., 0., 0., 0.],\n",
       "             [0., 0., 0.,  ..., 0., 0., 0.]],\n",
       "  \n",
       "            [[0., 0., 0.,  ..., 0., 0., 0.],\n",
       "             [0., 0., 0.,  ..., 0., 0., 0.],\n",
       "             [0., 0., 0.,  ..., 0., 0., 0.],\n",
       "             ...,\n",
       "             [0., 0., 0.,  ..., 0., 0., 0.],\n",
       "             [0., 0., 0.,  ..., 0., 0., 0.],\n",
       "             [0., 0., 0.,  ..., 0., 0., 0.]],\n",
       "  \n",
       "            [[0., 0., 0.,  ..., 0., 0., 0.],\n",
       "             [0., 0., 0.,  ..., 0., 0., 0.],\n",
       "             [0., 0., 0.,  ..., 0., 0., 0.],\n",
       "             ...,\n",
       "             [0., 0., 0.,  ..., 0., 0., 0.],\n",
       "             [0., 0., 0.,  ..., 0., 0., 0.],\n",
       "             [0., 0., 0.,  ..., 0., 0., 0.]]],\n",
       "  \n",
       "  \n",
       "           [[[0., 0., 0.,  ..., 0., 0., 0.],\n",
       "             [0., 0., 0.,  ..., 0., 0., 0.],\n",
       "             [0., 0., 0.,  ..., 0., 0., 0.],\n",
       "             ...,\n",
       "             [0., 0., 0.,  ..., 0., 0., 0.],\n",
       "             [0., 0., 0.,  ..., 0., 0., 0.],\n",
       "             [0., 0., 0.,  ..., 0., 0., 0.]],\n",
       "  \n",
       "            [[0., 0., 0.,  ..., 0., 0., 0.],\n",
       "             [0., 0., 0.,  ..., 0., 0., 0.],\n",
       "             [0., 0., 0.,  ..., 0., 0., 0.],\n",
       "             ...,\n",
       "             [0., 0., 0.,  ..., 0., 0., 0.],\n",
       "             [0., 0., 0.,  ..., 0., 0., 0.],\n",
       "             [0., 0., 0.,  ..., 0., 0., 0.]],\n",
       "  \n",
       "            [[0., 0., 0.,  ..., 0., 0., 0.],\n",
       "             [0., 0., 0.,  ..., 0., 0., 0.],\n",
       "             [0., 0., 0.,  ..., 0., 0., 0.],\n",
       "             ...,\n",
       "             [0., 0., 0.,  ..., 0., 0., 0.],\n",
       "             [0., 0., 0.,  ..., 0., 0., 0.],\n",
       "             [0., 0., 0.,  ..., 0., 0., 0.]]]]]),\n",
       "  [['你们', '好'], ['你们', '好']],\n",
       "  [52, 47],\n",
       "  [2, 2],\n",
       "  ['S000000_P0000_T00', 'S000000_P0004_T00']])"
      ]
     },
     "execution_count": 6,
     "metadata": {},
     "output_type": "execute_result"
    }
   ],
   "execution_count": 6
  },
  {
   "metadata": {
    "ExecuteTime": {
     "end_time": "2024-09-26T07:39:38.842877Z",
     "start_time": "2024-09-26T03:10:34.869553Z"
    }
   },
   "cell_type": "code",
   "source": "len(a)",
   "id": "8b4b03175dd4daf7",
   "outputs": [
    {
     "data": {
      "text/plain": [
       "2"
      ]
     },
     "execution_count": 7,
     "metadata": {},
     "output_type": "execute_result"
    }
   ],
   "execution_count": 7
  },
  {
   "metadata": {
    "ExecuteTime": {
     "end_time": "2024-09-26T07:39:38.843114Z",
     "start_time": "2024-09-26T03:10:34.891053Z"
    }
   },
   "cell_type": "code",
   "source": "video, label, video_length, label_length, info = a[1]",
   "id": "a47420a92e4ef449",
   "outputs": [],
   "execution_count": 8
  },
  {
   "metadata": {
    "ExecuteTime": {
     "end_time": "2024-09-26T07:39:38.843736Z",
     "start_time": "2024-09-26T03:10:34.904457Z"
    }
   },
   "cell_type": "code",
   "source": "video.shape",
   "id": "ebecd5536931c3fe",
   "outputs": [
    {
     "data": {
      "text/plain": [
       "torch.Size([2, 64, 3, 512, 512])"
      ]
     },
     "execution_count": 9,
     "metadata": {},
     "output_type": "execute_result"
    }
   ],
   "execution_count": 9
  },
  {
   "metadata": {
    "ExecuteTime": {
     "end_time": "2024-09-26T07:39:38.843932Z",
     "start_time": "2024-09-26T03:10:34.934379Z"
    }
   },
   "cell_type": "code",
   "source": "label",
   "id": "d6d5e8ae05d58679",
   "outputs": [
    {
     "data": {
      "text/plain": [
       "[['你们', '好'], ['你们', '好']]"
      ]
     },
     "execution_count": 10,
     "metadata": {},
     "output_type": "execute_result"
    }
   ],
   "execution_count": 10
  },
  {
   "metadata": {
    "ExecuteTime": {
     "end_time": "2024-09-26T07:39:38.844086Z",
     "start_time": "2024-09-26T03:10:34.981210Z"
    }
   },
   "cell_type": "code",
   "source": "video_length",
   "id": "b539cf94edc9fe5c",
   "outputs": [
    {
     "data": {
      "text/plain": [
       "[52, 47]"
      ]
     },
     "execution_count": 11,
     "metadata": {},
     "output_type": "execute_result"
    }
   ],
   "execution_count": 11
  },
  {
   "metadata": {
    "ExecuteTime": {
     "end_time": "2024-09-26T07:39:38.844236Z",
     "start_time": "2024-09-26T03:10:34.999436Z"
    }
   },
   "cell_type": "code",
   "source": "label_length",
   "id": "19b5758cfb2f058b",
   "outputs": [
    {
     "data": {
      "text/plain": [
       "[2, 2]"
      ]
     },
     "execution_count": 12,
     "metadata": {},
     "output_type": "execute_result"
    }
   ],
   "execution_count": 12
  },
  {
   "metadata": {
    "ExecuteTime": {
     "end_time": "2024-09-26T07:39:38.844391Z",
     "start_time": "2024-09-26T03:10:35.015475Z"
    }
   },
   "cell_type": "code",
   "source": "info",
   "id": "14e67f46099b909c",
   "outputs": [
    {
     "data": {
      "text/plain": [
       "['S000000_P0000_T00', 'S000000_P0004_T00']"
      ]
     },
     "execution_count": 13,
     "metadata": {},
     "output_type": "execute_result"
    }
   ],
   "execution_count": 13
  },
  {
   "metadata": {
    "ExecuteTime": {
     "end_time": "2024-09-26T07:39:38.844540Z",
     "start_time": "2024-09-26T03:10:35.068238Z"
    }
   },
   "cell_type": "code",
   "source": "b = datasaet.__getitem__(0)",
   "id": "29e39a8e0e203f6",
   "outputs": [],
   "execution_count": 14
  },
  {
   "metadata": {
    "ExecuteTime": {
     "end_time": "2024-09-26T07:39:38.844660Z",
     "start_time": "2024-09-26T03:10:35.139589Z"
    }
   },
   "cell_type": "code",
   "source": "b[2]",
   "id": "af7b0fac78c43a6b",
   "outputs": [
    {
     "data": {
      "text/plain": [
       "name            S000000_P0000_T00\n",
       "length                         52\n",
       "label_gloss               [你们, 好]\n",
       "label_char           [你, 们, 好, ！]\n",
       "label_word             [你们, 好, ！]\n",
       "label_postag            [r, a, w]\n",
       "signer                          0\n",
       "time                            0\n",
       "Name: 0, dtype: object"
      ]
     },
     "execution_count": 15,
     "metadata": {},
     "output_type": "execute_result"
    }
   ],
   "execution_count": 15
  },
  {
   "metadata": {
    "ExecuteTime": {
     "end_time": "2024-09-26T07:39:38.844886Z",
     "start_time": "2024-09-26T03:10:35.161157Z"
    }
   },
   "cell_type": "code",
   "source": "b[0].shape",
   "id": "1d6e7ca67c8e3cab",
   "outputs": [
    {
     "data": {
      "text/plain": [
       "torch.Size([52, 3, 512, 512])"
      ]
     },
     "execution_count": 16,
     "metadata": {},
     "output_type": "execute_result"
    }
   ],
   "execution_count": 16
  },
  {
   "metadata": {
    "ExecuteTime": {
     "end_time": "2024-09-26T07:39:38.857444Z",
     "start_time": "2024-09-26T03:10:35.182426Z"
    }
   },
   "cell_type": "code",
   "source": "b[1]",
   "id": "1a4d6f3335568bb3",
   "outputs": [
    {
     "data": {
      "text/plain": [
       "['你们', '好']"
      ]
     },
     "execution_count": 17,
     "metadata": {},
     "output_type": "execute_result"
    }
   ],
   "execution_count": 17
  },
  {
   "metadata": {
    "ExecuteTime": {
     "end_time": "2024-09-26T07:39:38.858079Z",
     "start_time": "2024-09-26T03:12:06.768442Z"
    }
   },
   "cell_type": "code",
   "source": "video[0][6:58]",
   "id": "29f867e0ef52af7e",
   "outputs": [
    {
     "data": {
      "text/plain": [
       "tensor([[[[218., 218., 218.,  ..., 218., 218., 218.],\n",
       "          [218., 218., 218.,  ..., 218., 218., 218.],\n",
       "          [218., 218., 218.,  ..., 218., 218., 218.],\n",
       "          ...,\n",
       "          [184., 184., 185.,  ..., 175., 176., 176.],\n",
       "          [184., 184., 183.,  ..., 176., 176., 176.],\n",
       "          [184., 185., 183.,  ..., 177., 177., 177.]],\n",
       "\n",
       "         [[243., 243., 243.,  ..., 243., 243., 243.],\n",
       "          [243., 243., 243.,  ..., 243., 243., 243.],\n",
       "          [243., 243., 243.,  ..., 243., 243., 243.],\n",
       "          ...,\n",
       "          [190., 190., 191.,  ..., 179., 179., 179.],\n",
       "          [190., 190., 191.,  ..., 179., 178., 178.],\n",
       "          [190., 191., 191.,  ..., 180., 179., 179.]],\n",
       "\n",
       "         [[245., 245., 245.,  ..., 245., 245., 245.],\n",
       "          [245., 245., 245.,  ..., 245., 245., 245.],\n",
       "          [245., 245., 245.,  ..., 245., 245., 245.],\n",
       "          ...,\n",
       "          [197., 197., 198.,  ..., 184., 184., 184.],\n",
       "          [195., 195., 198.,  ..., 184., 186., 186.],\n",
       "          [195., 196., 198.,  ..., 185., 187., 187.]]],\n",
       "\n",
       "\n",
       "        [[[218., 218., 218.,  ..., 218., 218., 218.],\n",
       "          [218., 218., 218.,  ..., 218., 218., 218.],\n",
       "          [218., 218., 218.,  ..., 218., 218., 218.],\n",
       "          ...,\n",
       "          [184., 184., 184.,  ..., 175., 175., 174.],\n",
       "          [183., 183., 184.,  ..., 175., 174., 174.],\n",
       "          [183., 183., 184.,  ..., 175., 175., 175.]],\n",
       "\n",
       "         [[243., 243., 243.,  ..., 243., 243., 243.],\n",
       "          [243., 243., 243.,  ..., 243., 243., 243.],\n",
       "          [243., 243., 243.,  ..., 243., 243., 243.],\n",
       "          ...,\n",
       "          [189., 189., 189.,  ..., 182., 182., 181.],\n",
       "          [188., 188., 189.,  ..., 182., 181., 181.],\n",
       "          [188., 188., 189.,  ..., 182., 182., 182.]],\n",
       "\n",
       "         [[245., 245., 245.,  ..., 245., 245., 245.],\n",
       "          [245., 245., 245.,  ..., 245., 245., 245.],\n",
       "          [245., 245., 245.,  ..., 245., 245., 245.],\n",
       "          ...,\n",
       "          [198., 198., 198.,  ..., 185., 185., 184.],\n",
       "          [197., 197., 198.,  ..., 185., 184., 184.],\n",
       "          [197., 197., 198.,  ..., 185., 185., 185.]]],\n",
       "\n",
       "\n",
       "        [[[218., 218., 218.,  ..., 218., 218., 218.],\n",
       "          [218., 218., 218.,  ..., 218., 218., 218.],\n",
       "          [218., 218., 218.,  ..., 218., 218., 218.],\n",
       "          ...,\n",
       "          [186., 186., 186.,  ..., 174., 174., 174.],\n",
       "          [185., 185., 185.,  ..., 175., 175., 174.],\n",
       "          [186., 186., 185.,  ..., 174., 175., 174.]],\n",
       "\n",
       "         [[243., 243., 243.,  ..., 243., 243., 243.],\n",
       "          [243., 243., 243.,  ..., 243., 243., 243.],\n",
       "          [243., 243., 243.,  ..., 243., 243., 243.],\n",
       "          ...,\n",
       "          [188., 188., 188.,  ..., 180., 180., 180.],\n",
       "          [187., 187., 187.,  ..., 182., 182., 181.],\n",
       "          [188., 188., 187.,  ..., 181., 182., 181.]],\n",
       "\n",
       "         [[245., 245., 245.,  ..., 245., 245., 245.],\n",
       "          [245., 245., 245.,  ..., 245., 245., 245.],\n",
       "          [245., 245., 245.,  ..., 245., 245., 245.],\n",
       "          ...,\n",
       "          [198., 198., 198.,  ..., 185., 185., 185.],\n",
       "          [197., 197., 197.,  ..., 185., 185., 184.],\n",
       "          [198., 198., 197.,  ..., 184., 185., 184.]]],\n",
       "\n",
       "\n",
       "        ...,\n",
       "\n",
       "\n",
       "        [[[218., 218., 218.,  ..., 218., 218., 218.],\n",
       "          [218., 218., 218.,  ..., 218., 218., 218.],\n",
       "          [218., 218., 218.,  ..., 218., 218., 218.],\n",
       "          ...,\n",
       "          [181., 180., 180.,  ..., 175., 175., 176.],\n",
       "          [180., 180., 180.,  ..., 174., 177., 177.],\n",
       "          [180., 180., 180.,  ..., 174., 176., 176.]],\n",
       "\n",
       "         [[243., 243., 243.,  ..., 243., 243., 243.],\n",
       "          [243., 243., 243.,  ..., 243., 243., 243.],\n",
       "          [243., 243., 243.,  ..., 243., 243., 243.],\n",
       "          ...,\n",
       "          [186., 185., 185.,  ..., 178., 178., 179.],\n",
       "          [185., 185., 185.,  ..., 177., 177., 177.],\n",
       "          [185., 185., 185.,  ..., 177., 176., 176.]],\n",
       "\n",
       "         [[245., 245., 245.,  ..., 245., 245., 245.],\n",
       "          [245., 245., 245.,  ..., 245., 245., 245.],\n",
       "          [245., 245., 245.,  ..., 245., 245., 245.],\n",
       "          ...,\n",
       "          [195., 194., 194.,  ..., 183., 183., 184.],\n",
       "          [194., 194., 194.,  ..., 182., 183., 183.],\n",
       "          [194., 194., 194.,  ..., 182., 182., 182.]]],\n",
       "\n",
       "\n",
       "        [[[218., 218., 218.,  ..., 218., 218., 218.],\n",
       "          [218., 218., 218.,  ..., 218., 218., 218.],\n",
       "          [218., 218., 218.,  ..., 218., 218., 218.],\n",
       "          ...,\n",
       "          [178., 178., 178.,  ..., 174., 175., 175.],\n",
       "          [178., 178., 178.,  ..., 175., 175., 175.],\n",
       "          [178., 178., 178.,  ..., 175., 175., 174.]],\n",
       "\n",
       "         [[243., 243., 243.,  ..., 243., 243., 243.],\n",
       "          [243., 243., 243.,  ..., 243., 243., 243.],\n",
       "          [243., 243., 243.,  ..., 243., 243., 243.],\n",
       "          ...,\n",
       "          [187., 187., 187.,  ..., 178., 179., 179.],\n",
       "          [187., 187., 187.,  ..., 179., 179., 179.],\n",
       "          [187., 187., 187.,  ..., 179., 179., 178.]],\n",
       "\n",
       "         [[245., 245., 245.,  ..., 245., 245., 245.],\n",
       "          [245., 245., 245.,  ..., 245., 245., 245.],\n",
       "          [245., 245., 245.,  ..., 245., 245., 245.],\n",
       "          ...,\n",
       "          [191., 191., 191.,  ..., 183., 184., 184.],\n",
       "          [191., 191., 191.,  ..., 184., 184., 184.],\n",
       "          [191., 191., 191.,  ..., 184., 184., 183.]]],\n",
       "\n",
       "\n",
       "        [[[218., 218., 218.,  ..., 218., 218., 218.],\n",
       "          [218., 218., 218.,  ..., 218., 218., 218.],\n",
       "          [218., 218., 218.,  ..., 218., 218., 218.],\n",
       "          ...,\n",
       "          [181., 180., 180.,  ..., 173., 172., 172.],\n",
       "          [181., 180., 178.,  ..., 173., 173., 172.],\n",
       "          [181., 181., 178.,  ..., 173., 173., 172.]],\n",
       "\n",
       "         [[243., 243., 243.,  ..., 243., 243., 243.],\n",
       "          [243., 243., 243.,  ..., 243., 243., 243.],\n",
       "          [243., 243., 243.,  ..., 243., 243., 243.],\n",
       "          ...,\n",
       "          [187., 186., 185.,  ..., 181., 180., 180.],\n",
       "          [187., 186., 185.,  ..., 181., 181., 180.],\n",
       "          [187., 187., 185.,  ..., 181., 181., 180.]],\n",
       "\n",
       "         [[245., 245., 245.,  ..., 245., 245., 245.],\n",
       "          [245., 245., 245.,  ..., 245., 245., 245.],\n",
       "          [245., 245., 245.,  ..., 245., 245., 245.],\n",
       "          ...,\n",
       "          [194., 193., 194.,  ..., 181., 180., 180.],\n",
       "          [194., 193., 194.,  ..., 181., 181., 180.],\n",
       "          [194., 194., 194.,  ..., 181., 181., 180.]]]])"
      ]
     },
     "execution_count": 24,
     "metadata": {},
     "output_type": "execute_result"
    }
   ],
   "execution_count": 24
  },
  {
   "metadata": {
    "ExecuteTime": {
     "end_time": "2024-09-26T07:39:38.858617Z",
     "start_time": "2024-09-26T02:56:47.784913Z"
    }
   },
   "cell_type": "code",
   "source": "b[0]",
   "id": "3a750f13ea73c189",
   "outputs": [
    {
     "data": {
      "text/plain": [
       "tensor([[[[218., 218., 218.,  ..., 218., 218., 218.],\n",
       "          [218., 218., 218.,  ..., 218., 218., 218.],\n",
       "          [218., 218., 218.,  ..., 218., 218., 218.],\n",
       "          ...,\n",
       "          [184., 184., 185.,  ..., 175., 176., 176.],\n",
       "          [184., 184., 183.,  ..., 176., 176., 176.],\n",
       "          [184., 185., 183.,  ..., 177., 177., 177.]],\n",
       "\n",
       "         [[243., 243., 243.,  ..., 243., 243., 243.],\n",
       "          [243., 243., 243.,  ..., 243., 243., 243.],\n",
       "          [243., 243., 243.,  ..., 243., 243., 243.],\n",
       "          ...,\n",
       "          [190., 190., 191.,  ..., 179., 179., 179.],\n",
       "          [190., 190., 191.,  ..., 179., 178., 178.],\n",
       "          [190., 191., 191.,  ..., 180., 179., 179.]],\n",
       "\n",
       "         [[245., 245., 245.,  ..., 245., 245., 245.],\n",
       "          [245., 245., 245.,  ..., 245., 245., 245.],\n",
       "          [245., 245., 245.,  ..., 245., 245., 245.],\n",
       "          ...,\n",
       "          [197., 197., 198.,  ..., 184., 184., 184.],\n",
       "          [195., 195., 198.,  ..., 184., 186., 186.],\n",
       "          [195., 196., 198.,  ..., 185., 187., 187.]]],\n",
       "\n",
       "\n",
       "        [[[218., 218., 218.,  ..., 218., 218., 218.],\n",
       "          [218., 218., 218.,  ..., 218., 218., 218.],\n",
       "          [218., 218., 218.,  ..., 218., 218., 218.],\n",
       "          ...,\n",
       "          [184., 184., 184.,  ..., 175., 175., 174.],\n",
       "          [183., 183., 184.,  ..., 175., 174., 174.],\n",
       "          [183., 183., 184.,  ..., 175., 175., 175.]],\n",
       "\n",
       "         [[243., 243., 243.,  ..., 243., 243., 243.],\n",
       "          [243., 243., 243.,  ..., 243., 243., 243.],\n",
       "          [243., 243., 243.,  ..., 243., 243., 243.],\n",
       "          ...,\n",
       "          [189., 189., 189.,  ..., 182., 182., 181.],\n",
       "          [188., 188., 189.,  ..., 182., 181., 181.],\n",
       "          [188., 188., 189.,  ..., 182., 182., 182.]],\n",
       "\n",
       "         [[245., 245., 245.,  ..., 245., 245., 245.],\n",
       "          [245., 245., 245.,  ..., 245., 245., 245.],\n",
       "          [245., 245., 245.,  ..., 245., 245., 245.],\n",
       "          ...,\n",
       "          [198., 198., 198.,  ..., 185., 185., 184.],\n",
       "          [197., 197., 198.,  ..., 185., 184., 184.],\n",
       "          [197., 197., 198.,  ..., 185., 185., 185.]]],\n",
       "\n",
       "\n",
       "        [[[218., 218., 218.,  ..., 218., 218., 218.],\n",
       "          [218., 218., 218.,  ..., 218., 218., 218.],\n",
       "          [218., 218., 218.,  ..., 218., 218., 218.],\n",
       "          ...,\n",
       "          [186., 186., 186.,  ..., 174., 174., 174.],\n",
       "          [185., 185., 185.,  ..., 175., 175., 174.],\n",
       "          [186., 186., 185.,  ..., 174., 175., 174.]],\n",
       "\n",
       "         [[243., 243., 243.,  ..., 243., 243., 243.],\n",
       "          [243., 243., 243.,  ..., 243., 243., 243.],\n",
       "          [243., 243., 243.,  ..., 243., 243., 243.],\n",
       "          ...,\n",
       "          [188., 188., 188.,  ..., 180., 180., 180.],\n",
       "          [187., 187., 187.,  ..., 182., 182., 181.],\n",
       "          [188., 188., 187.,  ..., 181., 182., 181.]],\n",
       "\n",
       "         [[245., 245., 245.,  ..., 245., 245., 245.],\n",
       "          [245., 245., 245.,  ..., 245., 245., 245.],\n",
       "          [245., 245., 245.,  ..., 245., 245., 245.],\n",
       "          ...,\n",
       "          [198., 198., 198.,  ..., 185., 185., 185.],\n",
       "          [197., 197., 197.,  ..., 185., 185., 184.],\n",
       "          [198., 198., 197.,  ..., 184., 185., 184.]]],\n",
       "\n",
       "\n",
       "        ...,\n",
       "\n",
       "\n",
       "        [[[218., 218., 218.,  ..., 218., 218., 218.],\n",
       "          [218., 218., 218.,  ..., 218., 218., 218.],\n",
       "          [218., 218., 218.,  ..., 218., 218., 218.],\n",
       "          ...,\n",
       "          [181., 180., 180.,  ..., 175., 175., 176.],\n",
       "          [180., 180., 180.,  ..., 174., 177., 177.],\n",
       "          [180., 180., 180.,  ..., 174., 176., 176.]],\n",
       "\n",
       "         [[243., 243., 243.,  ..., 243., 243., 243.],\n",
       "          [243., 243., 243.,  ..., 243., 243., 243.],\n",
       "          [243., 243., 243.,  ..., 243., 243., 243.],\n",
       "          ...,\n",
       "          [186., 185., 185.,  ..., 178., 178., 179.],\n",
       "          [185., 185., 185.,  ..., 177., 177., 177.],\n",
       "          [185., 185., 185.,  ..., 177., 176., 176.]],\n",
       "\n",
       "         [[245., 245., 245.,  ..., 245., 245., 245.],\n",
       "          [245., 245., 245.,  ..., 245., 245., 245.],\n",
       "          [245., 245., 245.,  ..., 245., 245., 245.],\n",
       "          ...,\n",
       "          [195., 194., 194.,  ..., 183., 183., 184.],\n",
       "          [194., 194., 194.,  ..., 182., 183., 183.],\n",
       "          [194., 194., 194.,  ..., 182., 182., 182.]]],\n",
       "\n",
       "\n",
       "        [[[218., 218., 218.,  ..., 218., 218., 218.],\n",
       "          [218., 218., 218.,  ..., 218., 218., 218.],\n",
       "          [218., 218., 218.,  ..., 218., 218., 218.],\n",
       "          ...,\n",
       "          [178., 178., 178.,  ..., 174., 175., 175.],\n",
       "          [178., 178., 178.,  ..., 175., 175., 175.],\n",
       "          [178., 178., 178.,  ..., 175., 175., 174.]],\n",
       "\n",
       "         [[243., 243., 243.,  ..., 243., 243., 243.],\n",
       "          [243., 243., 243.,  ..., 243., 243., 243.],\n",
       "          [243., 243., 243.,  ..., 243., 243., 243.],\n",
       "          ...,\n",
       "          [187., 187., 187.,  ..., 178., 179., 179.],\n",
       "          [187., 187., 187.,  ..., 179., 179., 179.],\n",
       "          [187., 187., 187.,  ..., 179., 179., 178.]],\n",
       "\n",
       "         [[245., 245., 245.,  ..., 245., 245., 245.],\n",
       "          [245., 245., 245.,  ..., 245., 245., 245.],\n",
       "          [245., 245., 245.,  ..., 245., 245., 245.],\n",
       "          ...,\n",
       "          [191., 191., 191.,  ..., 183., 184., 184.],\n",
       "          [191., 191., 191.,  ..., 184., 184., 184.],\n",
       "          [191., 191., 191.,  ..., 184., 184., 183.]]],\n",
       "\n",
       "\n",
       "        [[[218., 218., 218.,  ..., 218., 218., 218.],\n",
       "          [218., 218., 218.,  ..., 218., 218., 218.],\n",
       "          [218., 218., 218.,  ..., 218., 218., 218.],\n",
       "          ...,\n",
       "          [181., 180., 180.,  ..., 173., 172., 172.],\n",
       "          [181., 180., 178.,  ..., 173., 173., 172.],\n",
       "          [181., 181., 178.,  ..., 173., 173., 172.]],\n",
       "\n",
       "         [[243., 243., 243.,  ..., 243., 243., 243.],\n",
       "          [243., 243., 243.,  ..., 243., 243., 243.],\n",
       "          [243., 243., 243.,  ..., 243., 243., 243.],\n",
       "          ...,\n",
       "          [187., 186., 185.,  ..., 181., 180., 180.],\n",
       "          [187., 186., 185.,  ..., 181., 181., 180.],\n",
       "          [187., 187., 185.,  ..., 181., 181., 180.]],\n",
       "\n",
       "         [[245., 245., 245.,  ..., 245., 245., 245.],\n",
       "          [245., 245., 245.,  ..., 245., 245., 245.],\n",
       "          [245., 245., 245.,  ..., 245., 245., 245.],\n",
       "          ...,\n",
       "          [194., 193., 194.,  ..., 181., 180., 180.],\n",
       "          [194., 193., 194.,  ..., 181., 181., 180.],\n",
       "          [194., 194., 194.,  ..., 181., 181., 180.]]]])"
      ]
     },
     "execution_count": 24,
     "metadata": {},
     "output_type": "execute_result"
    }
   ],
   "execution_count": 24
  },
  {
   "metadata": {
    "ExecuteTime": {
     "end_time": "2024-09-26T07:39:38.859150Z",
     "start_time": "2024-09-26T03:12:46.932785Z"
    }
   },
   "cell_type": "code",
   "source": [
    "for l in range(6, 58):\n",
    "    for c in range(video[0].shape[1]):\n",
    "        for h in range(video[0].shape[2]):\n",
    "            for w in range(video[0].shape[3]):\n",
    "                if video[0][l, c, h, w] != b[0][l - 6, c, h, w]:\n",
    "                    print(video[0][l, c, h, w], b[0][l, c, h, w])"
   ],
   "id": "d1015a057968ab08",
   "outputs": [],
   "execution_count": 25
  },
  {
   "metadata": {},
   "cell_type": "code",
   "outputs": [],
   "execution_count": null,
   "source": "",
   "id": "e398c8c0bddb357"
  }
 ],
 "metadata": {
  "kernelspec": {
   "display_name": "Python 3",
   "language": "python",
   "name": "python3"
  },
  "language_info": {
   "codemirror_mode": {
    "name": "ipython",
    "version": 2
   },
   "file_extension": ".py",
   "mimetype": "text/x-python",
   "name": "python",
   "nbconvert_exporter": "python",
   "pygments_lexer": "ipython2",
   "version": "2.7.6"
  }
 },
 "nbformat": 4,
 "nbformat_minor": 5
}
