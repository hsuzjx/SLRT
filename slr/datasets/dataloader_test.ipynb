{
 "cells": [
  {
   "cell_type": "code",
   "id": "initial_id",
   "metadata": {
    "collapsed": true,
    "ExecuteTime": {
     "end_time": "2024-10-20T07:16:22.293958Z",
     "start_time": "2024-10-20T07:16:22.290053Z"
    }
   },
   "source": [
    "import torch\n",
    "import torchvision\n",
    "from anyio import sleep\n",
    "from torch.utils.data import DataLoader\n",
    "\n",
    "from slr.datasets import Phoenix2014Dataset\n",
    "from torchvision.transforms import Compose, Normalize, RandomCrop, RandomHorizontalFlip\n",
    "from slr.datasets.transforms import ToTensor, TemporalRescale\n",
    "from slr.datasets.tknzs.simple_tokenizer import SimpleTokenizer\n",
    "from tqdm import tqdm\n",
    "import time"
   ],
   "outputs": [],
   "execution_count": 12
  },
  {
   "metadata": {
    "ExecuteTime": {
     "end_time": "2024-10-20T07:13:10.991487Z",
     "start_time": "2024-10-20T07:13:10.986323Z"
    }
   },
   "cell_type": "code",
   "source": [
    "dataset_dir = \"/new_home/xzj23/workspace/SLR/data/phoenix2014\"\n",
    "features_dir = \"/new_home/xzj23/workspace/SLR/data/phoenix2014/phoenix-2014-multisigner/features/fullFrame-256x256px\""
   ],
   "id": "81063027e91fb96a",
   "outputs": [],
   "execution_count": 7
  },
  {
   "metadata": {
    "ExecuteTime": {
     "end_time": "2024-10-20T07:13:11.405240Z",
     "start_time": "2024-10-20T07:13:11.357924Z"
    }
   },
   "cell_type": "code",
   "source": [
    "ds = Phoenix2014Dataset(\n",
    "    dataset_dir=dataset_dir,\n",
    "    features_dir=features_dir,\n",
    "    mode=\"train\",\n",
    "    transform=Compose([ToTensor(), RandomCrop(224), RandomHorizontalFlip(0.5), TemporalRescale(0.2),\n",
    "                       Normalize(mean=[127.5, 127.5, 127.5], std=[127.5, 127.5, 127.5])]),\n",
    "    tokenizer=SimpleTokenizer(\n",
    "        vocab_file=\"/new_home/xzj23/workspace/SLR/slr/datasets/vocabs/phoenix2014_gloss_vocab.txt\")\n",
    ")"
   ],
   "id": "c816860122afd78f",
   "outputs": [],
   "execution_count": 8
  },
  {
   "metadata": {
    "ExecuteTime": {
     "end_time": "2024-10-20T07:13:12.193557Z",
     "start_time": "2024-10-20T07:13:12.185685Z"
    }
   },
   "cell_type": "code",
   "source": [
    "dl = DataLoader(ds, batch_size=2, num_workers=8, shuffle=True, pin_memory=True, drop_last=True,\n",
    "                collate_fn=ds.collate_fn)"
   ],
   "id": "21cbaef92f3e3617",
   "outputs": [],
   "execution_count": 9
  },
  {
   "metadata": {
    "ExecuteTime": {
     "end_time": "2024-10-20T07:26:11.767920Z",
     "start_time": "2024-10-20T07:16:28.057752Z"
    }
   },
   "cell_type": "code",
   "source": [
    "for batch in tqdm(dl):\n",
    "    time.sleep(0.5)"
   ],
   "id": "855f8e79d03b2b6d",
   "outputs": [
    {
     "name": "stderr",
     "output_type": "stream",
     "text": [
      " 41%|████      | 1160/2835 [09:43<14:02,  1.99it/s]\n"
     ]
    },
    {
     "ename": "KeyboardInterrupt",
     "evalue": "",
     "output_type": "error",
     "traceback": [
      "\u001B[0;31m---------------------------------------------------------------------------\u001B[0m",
      "\u001B[0;31mKeyboardInterrupt\u001B[0m                         Traceback (most recent call last)",
      "Cell \u001B[0;32mIn[13], line 2\u001B[0m\n\u001B[1;32m      1\u001B[0m \u001B[38;5;28;01mfor\u001B[39;00m batch \u001B[38;5;129;01min\u001B[39;00m tqdm(dl):\n\u001B[0;32m----> 2\u001B[0m     \u001B[43mtime\u001B[49m\u001B[38;5;241;43m.\u001B[39;49m\u001B[43msleep\u001B[49m\u001B[43m(\u001B[49m\u001B[38;5;241;43m0.5\u001B[39;49m\u001B[43m)\u001B[49m\n",
      "\u001B[0;31mKeyboardInterrupt\u001B[0m: "
     ]
    }
   ],
   "execution_count": 13
  },
  {
   "metadata": {},
   "cell_type": "code",
   "outputs": [],
   "execution_count": null,
   "source": "",
   "id": "2c592d05eff04577"
  }
 ],
 "metadata": {
  "kernelspec": {
   "display_name": "Python 3",
   "language": "python",
   "name": "python3"
  },
  "language_info": {
   "codemirror_mode": {
    "name": "ipython",
    "version": 2
   },
   "file_extension": ".py",
   "mimetype": "text/x-python",
   "name": "python",
   "nbconvert_exporter": "python",
   "pygments_lexer": "ipython2",
   "version": "2.7.6"
  }
 },
 "nbformat": 4,
 "nbformat_minor": 5
}
