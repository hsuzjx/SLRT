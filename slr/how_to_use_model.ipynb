{
 "cells": [
  {
   "cell_type": "code",
   "id": "initial_id",
   "metadata": {
    "collapsed": true,
    "ExecuteTime": {
     "end_time": "2024-09-29T04:08:03.415213Z",
     "start_time": "2024-09-29T04:07:59.615388Z"
    }
   },
   "source": [
    "from slr.models.CorrNet import CorrNet\n",
    "from slr.datasets.Phoenix2014DataModule import Phoenix2014DataModule\n",
    "import numpy as np\n",
    "import os\n",
    "from slr.models.utils.decode import Decode"
   ],
   "outputs": [],
   "execution_count": 1
  },
  {
   "metadata": {
    "ExecuteTime": {
     "end_time": "2024-09-29T04:08:05.921281Z",
     "start_time": "2024-09-29T04:08:03.437965Z"
    }
   },
   "cell_type": "code",
   "source": [
    "# load model\n",
    "model = CorrNet.load_from_checkpoint(\n",
    "    \"/new_home/xzj23/workspace/SLR/experiments/Phoenix2014/CorrNet/2024-09-23_12-48-46/checkpoints/epoch=21-DEV_WER=19.10.ckpt\")\n",
    "model"
   ],
   "id": "9d44c0b5a25831bb",
   "outputs": [
    {
     "data": {
      "text/plain": [
       "CorrNet(\n",
       "  (conv2d): ResNet(\n",
       "    (conv1): Conv3d(3, 64, kernel_size=(1, 7, 7), stride=(1, 2, 2), padding=(0, 3, 3), bias=False)\n",
       "    (bn1): BatchNorm3d(64, eps=1e-05, momentum=0.1, affine=True, track_running_stats=True)\n",
       "    (relu): ReLU(inplace=True)\n",
       "    (maxpool): MaxPool3d(kernel_size=(1, 3, 3), stride=(1, 2, 2), padding=(0, 1, 1), dilation=1, ceil_mode=False)\n",
       "    (layer1): Sequential(\n",
       "      (0): BasicBlock(\n",
       "        (conv1): Conv3d(64, 64, kernel_size=(1, 3, 3), stride=(1, 1, 1), padding=(0, 1, 1), bias=False)\n",
       "        (bn1): BatchNorm3d(64, eps=1e-05, momentum=0.1, affine=True, track_running_stats=True)\n",
       "        (relu): ReLU(inplace=True)\n",
       "        (conv2): Conv3d(64, 64, kernel_size=(1, 3, 3), stride=(1, 1, 1), padding=(0, 1, 1), bias=False)\n",
       "        (bn2): BatchNorm3d(64, eps=1e-05, momentum=0.1, affine=True, track_running_stats=True)\n",
       "      )\n",
       "      (1): BasicBlock(\n",
       "        (conv1): Conv3d(64, 64, kernel_size=(1, 3, 3), stride=(1, 1, 1), padding=(0, 1, 1), bias=False)\n",
       "        (bn1): BatchNorm3d(64, eps=1e-05, momentum=0.1, affine=True, track_running_stats=True)\n",
       "        (relu): ReLU(inplace=True)\n",
       "        (conv2): Conv3d(64, 64, kernel_size=(1, 3, 3), stride=(1, 1, 1), padding=(0, 1, 1), bias=False)\n",
       "        (bn2): BatchNorm3d(64, eps=1e-05, momentum=0.1, affine=True, track_running_stats=True)\n",
       "      )\n",
       "    )\n",
       "    (layer2): Sequential(\n",
       "      (0): BasicBlock(\n",
       "        (conv1): Conv3d(64, 128, kernel_size=(1, 3, 3), stride=(1, 2, 2), padding=(0, 1, 1), bias=False)\n",
       "        (bn1): BatchNorm3d(128, eps=1e-05, momentum=0.1, affine=True, track_running_stats=True)\n",
       "        (relu): ReLU(inplace=True)\n",
       "        (conv2): Conv3d(128, 128, kernel_size=(1, 3, 3), stride=(1, 1, 1), padding=(0, 1, 1), bias=False)\n",
       "        (bn2): BatchNorm3d(128, eps=1e-05, momentum=0.1, affine=True, track_running_stats=True)\n",
       "        (downsample): Sequential(\n",
       "          (0): Conv3d(64, 128, kernel_size=(1, 1, 1), stride=(1, 2, 2), bias=False)\n",
       "          (1): BatchNorm3d(128, eps=1e-05, momentum=0.1, affine=True, track_running_stats=True)\n",
       "        )\n",
       "      )\n",
       "      (1): BasicBlock(\n",
       "        (conv1): Conv3d(128, 128, kernel_size=(1, 3, 3), stride=(1, 1, 1), padding=(0, 1, 1), bias=False)\n",
       "        (bn1): BatchNorm3d(128, eps=1e-05, momentum=0.1, affine=True, track_running_stats=True)\n",
       "        (relu): ReLU(inplace=True)\n",
       "        (conv2): Conv3d(128, 128, kernel_size=(1, 3, 3), stride=(1, 1, 1), padding=(0, 1, 1), bias=False)\n",
       "        (bn2): BatchNorm3d(128, eps=1e-05, momentum=0.1, affine=True, track_running_stats=True)\n",
       "      )\n",
       "    )\n",
       "    (corr1): Get_Correlation(\n",
       "      (down_conv): Conv3d(128, 8, kernel_size=(1, 1, 1), stride=(1, 1, 1), bias=False)\n",
       "      (down_conv2): Conv3d(128, 128, kernel_size=(1, 1, 1), stride=(1, 1, 1), bias=False)\n",
       "      (spatial_aggregation1): Conv3d(8, 8, kernel_size=(9, 3, 3), stride=(1, 1, 1), padding=(4, 1, 1), groups=8)\n",
       "      (spatial_aggregation2): Conv3d(8, 8, kernel_size=(9, 3, 3), stride=(1, 1, 1), padding=(4, 2, 2), dilation=(1, 2, 2), groups=8)\n",
       "      (spatial_aggregation3): Conv3d(8, 8, kernel_size=(9, 3, 3), stride=(1, 1, 1), padding=(4, 3, 3), dilation=(1, 3, 3), groups=8)\n",
       "      (conv_back): Conv3d(8, 128, kernel_size=(1, 1, 1), stride=(1, 1, 1), bias=False)\n",
       "    )\n",
       "    (layer3): Sequential(\n",
       "      (0): BasicBlock(\n",
       "        (conv1): Conv3d(128, 256, kernel_size=(1, 3, 3), stride=(1, 2, 2), padding=(0, 1, 1), bias=False)\n",
       "        (bn1): BatchNorm3d(256, eps=1e-05, momentum=0.1, affine=True, track_running_stats=True)\n",
       "        (relu): ReLU(inplace=True)\n",
       "        (conv2): Conv3d(256, 256, kernel_size=(1, 3, 3), stride=(1, 1, 1), padding=(0, 1, 1), bias=False)\n",
       "        (bn2): BatchNorm3d(256, eps=1e-05, momentum=0.1, affine=True, track_running_stats=True)\n",
       "        (downsample): Sequential(\n",
       "          (0): Conv3d(128, 256, kernel_size=(1, 1, 1), stride=(1, 2, 2), bias=False)\n",
       "          (1): BatchNorm3d(256, eps=1e-05, momentum=0.1, affine=True, track_running_stats=True)\n",
       "        )\n",
       "      )\n",
       "      (1): BasicBlock(\n",
       "        (conv1): Conv3d(256, 256, kernel_size=(1, 3, 3), stride=(1, 1, 1), padding=(0, 1, 1), bias=False)\n",
       "        (bn1): BatchNorm3d(256, eps=1e-05, momentum=0.1, affine=True, track_running_stats=True)\n",
       "        (relu): ReLU(inplace=True)\n",
       "        (conv2): Conv3d(256, 256, kernel_size=(1, 3, 3), stride=(1, 1, 1), padding=(0, 1, 1), bias=False)\n",
       "        (bn2): BatchNorm3d(256, eps=1e-05, momentum=0.1, affine=True, track_running_stats=True)\n",
       "      )\n",
       "    )\n",
       "    (corr2): Get_Correlation(\n",
       "      (down_conv): Conv3d(256, 16, kernel_size=(1, 1, 1), stride=(1, 1, 1), bias=False)\n",
       "      (down_conv2): Conv3d(256, 256, kernel_size=(1, 1, 1), stride=(1, 1, 1), bias=False)\n",
       "      (spatial_aggregation1): Conv3d(16, 16, kernel_size=(9, 3, 3), stride=(1, 1, 1), padding=(4, 1, 1), groups=16)\n",
       "      (spatial_aggregation2): Conv3d(16, 16, kernel_size=(9, 3, 3), stride=(1, 1, 1), padding=(4, 2, 2), dilation=(1, 2, 2), groups=16)\n",
       "      (spatial_aggregation3): Conv3d(16, 16, kernel_size=(9, 3, 3), stride=(1, 1, 1), padding=(4, 3, 3), dilation=(1, 3, 3), groups=16)\n",
       "      (conv_back): Conv3d(16, 256, kernel_size=(1, 1, 1), stride=(1, 1, 1), bias=False)\n",
       "    )\n",
       "    (layer4): Sequential(\n",
       "      (0): BasicBlock(\n",
       "        (conv1): Conv3d(256, 512, kernel_size=(1, 3, 3), stride=(1, 2, 2), padding=(0, 1, 1), bias=False)\n",
       "        (bn1): BatchNorm3d(512, eps=1e-05, momentum=0.1, affine=True, track_running_stats=True)\n",
       "        (relu): ReLU(inplace=True)\n",
       "        (conv2): Conv3d(512, 512, kernel_size=(1, 3, 3), stride=(1, 1, 1), padding=(0, 1, 1), bias=False)\n",
       "        (bn2): BatchNorm3d(512, eps=1e-05, momentum=0.1, affine=True, track_running_stats=True)\n",
       "        (downsample): Sequential(\n",
       "          (0): Conv3d(256, 512, kernel_size=(1, 1, 1), stride=(1, 2, 2), bias=False)\n",
       "          (1): BatchNorm3d(512, eps=1e-05, momentum=0.1, affine=True, track_running_stats=True)\n",
       "        )\n",
       "      )\n",
       "      (1): BasicBlock(\n",
       "        (conv1): Conv3d(512, 512, kernel_size=(1, 3, 3), stride=(1, 1, 1), padding=(0, 1, 1), bias=False)\n",
       "        (bn1): BatchNorm3d(512, eps=1e-05, momentum=0.1, affine=True, track_running_stats=True)\n",
       "        (relu): ReLU(inplace=True)\n",
       "        (conv2): Conv3d(512, 512, kernel_size=(1, 3, 3), stride=(1, 1, 1), padding=(0, 1, 1), bias=False)\n",
       "        (bn2): BatchNorm3d(512, eps=1e-05, momentum=0.1, affine=True, track_running_stats=True)\n",
       "      )\n",
       "    )\n",
       "    (corr3): Get_Correlation(\n",
       "      (down_conv): Conv3d(512, 32, kernel_size=(1, 1, 1), stride=(1, 1, 1), bias=False)\n",
       "      (down_conv2): Conv3d(512, 512, kernel_size=(1, 1, 1), stride=(1, 1, 1), bias=False)\n",
       "      (spatial_aggregation1): Conv3d(32, 32, kernel_size=(9, 3, 3), stride=(1, 1, 1), padding=(4, 1, 1), groups=32)\n",
       "      (spatial_aggregation2): Conv3d(32, 32, kernel_size=(9, 3, 3), stride=(1, 1, 1), padding=(4, 2, 2), dilation=(1, 2, 2), groups=32)\n",
       "      (spatial_aggregation3): Conv3d(32, 32, kernel_size=(9, 3, 3), stride=(1, 1, 1), padding=(4, 3, 3), dilation=(1, 3, 3), groups=32)\n",
       "      (conv_back): Conv3d(32, 512, kernel_size=(1, 1, 1), stride=(1, 1, 1), bias=False)\n",
       "    )\n",
       "    (avgpool): AvgPool2d(kernel_size=7, stride=1, padding=0)\n",
       "    (fc): Identity()\n",
       "  )\n",
       "  (conv1d): TemporalConv(\n",
       "    (temporal_conv): Sequential(\n",
       "      (0): Conv1d(512, 1024, kernel_size=(5,), stride=(1,))\n",
       "      (1): BatchNorm1d(1024, eps=1e-05, momentum=0.1, affine=True, track_running_stats=True)\n",
       "      (2): ReLU(inplace=True)\n",
       "      (3): AvgPool1d(kernel_size=(2,), stride=(2,), padding=(0,))\n",
       "      (4): Conv1d(1024, 1024, kernel_size=(5,), stride=(1,))\n",
       "      (5): BatchNorm1d(1024, eps=1e-05, momentum=0.1, affine=True, track_running_stats=True)\n",
       "      (6): ReLU(inplace=True)\n",
       "      (7): AvgPool1d(kernel_size=(2,), stride=(2,), padding=(0,))\n",
       "    )\n",
       "    (fc): NormLinear()\n",
       "  )\n",
       "  (temporal_model): BiLSTMLayer(\n",
       "    (rnn): LSTM(1024, 512, num_layers=2, dropout=0.3, bidirectional=True)\n",
       "  )\n",
       "  (classifier): NormLinear()\n",
       "  (ctc_loss): CTCLoss()\n",
       "  (dist_loss): SeqKD(\n",
       "    (kdloss): KLDivLoss()\n",
       "  )\n",
       ")"
      ]
     },
     "execution_count": 2,
     "metadata": {},
     "output_type": "execute_result"
    }
   ],
   "execution_count": 2
  },
  {
   "metadata": {
    "ExecuteTime": {
     "end_time": "2024-09-29T04:08:12.442996Z",
     "start_time": "2024-09-29T04:08:06.447224Z"
    }
   },
   "cell_type": "code",
   "source": [
    "# get data\n",
    "\n",
    "with open(os.path.join(\"/new_home/xzj23/workspace/SLR/data/global_files/gloss_dict/phoenix2014_gloss_dict.npy\"),\n",
    "          'rb') as f:\n",
    "    gloss_dict = np.load(f, allow_pickle=True).item()\n",
    "datamodule = Phoenix2014DataModule(\n",
    "    features_path=\"/new_home/xzj23/workspace/SLR/data/phoenix2014/phoenix-2014-multisigner/features/fullFrame-256x256px\",\n",
    "    annotations_path=\"/new_home/xzj23/workspace/SLR/data/phoenix2014/phoenix-2014-multisigner/annotations/manual\",\n",
    "    gloss_dict=gloss_dict,\n",
    "    batch_size=2, num_workers=10\n",
    ")\n",
    "datamodule.setup(stage=\"fit\")\n",
    "\n",
    "x, x_lgt, y, y_lgt, info = datamodule.train_dataloader().__iter__().__next__()"
   ],
   "id": "bc52d0b38b7548a8",
   "outputs": [],
   "execution_count": 3
  },
  {
   "metadata": {
    "ExecuteTime": {
     "end_time": "2024-09-29T04:08:12.492716Z",
     "start_time": "2024-09-29T04:08:12.488954Z"
    }
   },
   "cell_type": "code",
   "source": "x.shape",
   "id": "83541703a549029e",
   "outputs": [
    {
     "data": {
      "text/plain": [
       "torch.Size([2, 188, 3, 224, 224])"
      ]
     },
     "execution_count": 4,
     "metadata": {},
     "output_type": "execute_result"
    }
   ],
   "execution_count": 4
  },
  {
   "metadata": {
    "ExecuteTime": {
     "end_time": "2024-09-29T04:08:12.560543Z",
     "start_time": "2024-09-29T04:08:12.555633Z"
    }
   },
   "cell_type": "code",
   "source": "y",
   "id": "c50cede701a099c0",
   "outputs": [
    {
     "data": {
      "text/plain": [
       "tensor([1204,  909,  825, 1118, 1257,  719, 1257, 1097,  906, 1149, 1257,  114,\n",
       "         465,  848,  848, 1203, 1204,  925, 1132,   31,    8,  448,  788,  788,\n",
       "         788,  788,   59,  951, 1014,  753, 1146])"
      ]
     },
     "execution_count": 5,
     "metadata": {},
     "output_type": "execute_result"
    }
   ],
   "execution_count": 5
  },
  {
   "metadata": {
    "ExecuteTime": {
     "end_time": "2024-09-29T04:08:12.630397Z",
     "start_time": "2024-09-29T04:08:12.624784Z"
    }
   },
   "cell_type": "code",
   "source": "x_lgt",
   "id": "3fa80fba1f9bcc2a",
   "outputs": [
    {
     "data": {
      "text/plain": [
       "tensor([188, 188])"
      ]
     },
     "execution_count": 6,
     "metadata": {},
     "output_type": "execute_result"
    }
   ],
   "execution_count": 6
  },
  {
   "metadata": {
    "ExecuteTime": {
     "end_time": "2024-09-29T04:08:12.667982Z",
     "start_time": "2024-09-29T04:08:12.663779Z"
    }
   },
   "cell_type": "code",
   "source": "y_lgt",
   "id": "c7f80ea7e764fbad",
   "outputs": [
    {
     "data": {
      "text/plain": [
       "tensor([16, 15])"
      ]
     },
     "execution_count": 7,
     "metadata": {},
     "output_type": "execute_result"
    }
   ],
   "execution_count": 7
  },
  {
   "metadata": {
    "ExecuteTime": {
     "end_time": "2024-09-29T04:08:12.723207Z",
     "start_time": "2024-09-29T04:08:12.717707Z"
    }
   },
   "cell_type": "code",
   "source": "info",
   "id": "fc757c18874565d7",
   "outputs": [
    {
     "data": {
      "text/plain": [
       "[folder        15October_2009_Thursday_tagesschau_default-12/...\n",
       " signer                                                 Signer03\n",
       " annotation    __ON__ SONNTAG SAMSTAG WEST loc-REGION NORD lo...\n",
       " Name: 15October_2009_Thursday_tagesschau_default-12, dtype: object,\n",
       " folder        23September_2010_Thursday_heute_default-11/1/*...\n",
       " signer                                                 Signer01\n",
       " annotation    __ON__ STARK WIND ALPEN ABER IN-KOMMEND REGEN ...\n",
       " Name: 23September_2010_Thursday_heute_default-11, dtype: object]"
      ]
     },
     "execution_count": 8,
     "metadata": {},
     "output_type": "execute_result"
    }
   ],
   "execution_count": 8
  },
  {
   "metadata": {
    "ExecuteTime": {
     "end_time": "2024-09-29T04:08:13.324453Z",
     "start_time": "2024-09-29T04:08:12.757275Z"
    }
   },
   "cell_type": "code",
   "source": [
    "# to device\n",
    "device = \"cuda:1\"\n",
    "model = model.to(device)\n",
    "x = x.to(device)\n",
    "y = y.to(device)\n",
    "x_lgt = x_lgt.to(device)\n",
    "y_lgt = y_lgt.to(device)\n",
    "\n",
    "# forward\n",
    "model.eval()\n",
    "conv_logits, y_hat_logits, y_hat_lgt = model(x, x_lgt)"
   ],
   "id": "eaeaea6075ab9d92",
   "outputs": [],
   "execution_count": 9
  },
  {
   "metadata": {
    "ExecuteTime": {
     "end_time": "2024-09-29T04:08:13.361345Z",
     "start_time": "2024-09-29T04:08:13.356430Z"
    }
   },
   "cell_type": "code",
   "source": "conv_logits.shape",
   "id": "38c539e7ce061072",
   "outputs": [
    {
     "data": {
      "text/plain": [
       "torch.Size([44, 2, 1296])"
      ]
     },
     "execution_count": 10,
     "metadata": {},
     "output_type": "execute_result"
    }
   ],
   "execution_count": 10
  },
  {
   "metadata": {
    "ExecuteTime": {
     "end_time": "2024-09-29T04:08:13.491563Z",
     "start_time": "2024-09-29T04:08:13.486680Z"
    }
   },
   "cell_type": "code",
   "source": "y_hat_logits.shape",
   "id": "cb0e897fbe8fb93",
   "outputs": [
    {
     "data": {
      "text/plain": [
       "torch.Size([44, 2, 1296])"
      ]
     },
     "execution_count": 11,
     "metadata": {},
     "output_type": "execute_result"
    }
   ],
   "execution_count": 11
  },
  {
   "metadata": {
    "ExecuteTime": {
     "end_time": "2024-09-29T04:08:13.582050Z",
     "start_time": "2024-09-29T04:08:13.577556Z"
    }
   },
   "cell_type": "code",
   "source": "y_hat_lgt.shape",
   "id": "202498c72eddb49e",
   "outputs": [
    {
     "data": {
      "text/plain": [
       "torch.Size([2])"
      ]
     },
     "execution_count": 12,
     "metadata": {},
     "output_type": "execute_result"
    }
   ],
   "execution_count": 12
  },
  {
   "metadata": {
    "ExecuteTime": {
     "end_time": "2024-09-29T04:08:13.672929Z",
     "start_time": "2024-09-29T04:08:13.665305Z"
    }
   },
   "cell_type": "code",
   "source": [
    "# set decoder\n",
    "decoder = Decode(gloss_dict=gloss_dict, num_classes=1296, search_mode='beam_search')"
   ],
   "id": "cb236bb0a4e3494e",
   "outputs": [],
   "execution_count": 13
  },
  {
   "metadata": {
    "ExecuteTime": {
     "end_time": "2024-09-29T04:08:13.737132Z",
     "start_time": "2024-09-29T04:08:13.722675Z"
    }
   },
   "cell_type": "code",
   "source": "sentence = decoder.decode(y_hat_logits.softmax(dim=-1).cpu(), y_hat_lgt.cpu(), batch_first=False, probs=True)",
   "id": "9d61f0953278a10e",
   "outputs": [],
   "execution_count": 14
  },
  {
   "metadata": {
    "ExecuteTime": {
     "end_time": "2024-09-29T04:08:13.782076Z",
     "start_time": "2024-09-29T04:08:13.777245Z"
    }
   },
   "cell_type": "code",
   "source": [
    "for s in sentence:\n",
    "    print(\" \".join([t[0] for t in s]))"
   ],
   "id": "f33b852aa9b0cc5f",
   "outputs": [
    {
     "name": "stdout",
     "output_type": "stream",
     "text": [
      "__ON__ SONNTAG SAMSTAG WEST loc-REGION NORD loc-REGION WECHSELHAFT SONNE WOLKE loc-REGION BERG IX SCHNEE __OFF__\n",
      "__ON__ STARK WIND ALPEN ABER IN-KOMMEND REGEN AUCH SUED UND OST WOCHENENDE\n"
     ]
    }
   ],
   "execution_count": 15
  },
  {
   "metadata": {
    "ExecuteTime": {
     "end_time": "2024-09-29T04:08:13.893286Z",
     "start_time": "2024-09-29T04:08:13.889524Z"
    }
   },
   "cell_type": "code",
   "source": "",
   "id": "77719271d41df4aa",
   "outputs": [],
   "execution_count": null
  }
 ],
 "metadata": {
  "kernelspec": {
   "display_name": "Python 3",
   "language": "python",
   "name": "python3"
  },
  "language_info": {
   "codemirror_mode": {
    "name": "ipython",
    "version": 2
   },
   "file_extension": ".py",
   "mimetype": "text/x-python",
   "name": "python",
   "nbconvert_exporter": "python",
   "pygments_lexer": "ipython2",
   "version": "2.7.6"
  }
 },
 "nbformat": 4,
 "nbformat_minor": 5
}
