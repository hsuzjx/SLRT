{
 "cells": [
  {
   "cell_type": "code",
   "id": "initial_id",
   "metadata": {
    "collapsed": true,
    "ExecuteTime": {
     "end_time": "2025-01-03T06:21:47.084385Z",
     "start_time": "2025-01-03T06:21:38.772102Z"
    }
   },
   "source": [
    "import lightning as L\n",
    "\n",
    "from slrt.constants import *"
   ],
   "outputs": [
    {
     "name": "stderr",
     "output_type": "stream",
     "text": [
      "2025-01-03 14:21:44.497934: I tensorflow/core/platform/cpu_feature_guard.cc:193] This TensorFlow binary is optimized with oneAPI Deep Neural Network Library (oneDNN) to use the following CPU instructions in performance-critical operations:  SSE4.1 SSE4.2 AVX AVX2 AVX_VNNI FMA\n",
      "To enable them in other operations, rebuild TensorFlow with the appropriate compiler flags.\n",
      "2025-01-03 14:21:44.589047: I tensorflow/core/util/port.cc:104] oneDNN custom operations are on. You may see slightly different numerical results due to floating-point round-off errors from different computation orders. To turn them off, set the environment variable `TF_ENABLE_ONEDNN_OPTS=0`.\n",
      "/new_home/xzj23/.conda/envs/slr/lib/python3.10/site-packages/torch/nn/_reduction.py:42: UserWarning: size_average and reduce args will be deprecated, please use reduction='mean' instead.\n",
      "  warnings.warn(warning.format(ret))\n"
     ]
    }
   ],
   "execution_count": 1
  },
  {
   "metadata": {},
   "cell_type": "markdown",
   "source": "## Config",
   "id": "7ce53f8a635b2a61"
  },
  {
   "metadata": {
    "ExecuteTime": {
     "end_time": "2025-01-03T06:21:47.101250Z",
     "start_time": "2025-01-03T06:21:47.095011Z"
    }
   },
   "cell_type": "code",
   "source": [
    "model_name = \"MSKA\"\n",
    "dataset_name = \"Phoenix2014\"\n",
    "dataset_type = \"keypoint\"\n",
    "tokenizer_name = \"SimpleTokenizer\"\n",
    "ckpt_file = \"../experiments/Phoenix2014_Experiment/MSKA3/0/checkpoints/best.ckpt\"\n",
    "dataset_dir = \"../data/phoenix2014\"\n",
    "keypoints_file = \"../data/preprocessed/phoenix2014/phoenix2014-keypoints-mska.pkl\"\n",
    "vocab_file = \"../data/preprocessed/phoenix2014/phoenix2014-gloss-vocab.txt\""
   ],
   "id": "cb334d4b8fbea6e8",
   "outputs": [],
   "execution_count": 2
  },
  {
   "metadata": {
    "ExecuteTime": {
     "end_time": "2025-01-03T06:21:48.433977Z",
     "start_time": "2025-01-03T06:21:47.172526Z"
    }
   },
   "cell_type": "code",
   "source": [
    "# load model\n",
    "model = ModelClassDict[model_name].load_from_checkpoint(ckpt_file, map_location='cpu')"
   ],
   "id": "9d44c0b5a25831bb",
   "outputs": [],
   "execution_count": 3
  },
  {
   "metadata": {
    "ExecuteTime": {
     "end_time": "2025-01-03T06:21:49.352693Z",
     "start_time": "2025-01-03T06:21:48.557422Z"
    }
   },
   "cell_type": "code",
   "source": [
    "# get data\n",
    "datamodule = DataModuleClassDict[dataset_type][dataset_name](\n",
    "    keypoints_file=keypoints_file,\n",
    "    batch_size=1, num_workers=10,\n",
    "    transform=TransformDict[dataset_type],\n",
    "    tokenizer={\"recognition\": TokenizerDict[\"Recognition\"][tokenizer_name](vocab_file=vocab_file), }\n",
    ")\n",
    "datamodule.setup(stage=\"test\")\n",
    "\n",
    "dl = datamodule.test_dataloader()"
   ],
   "id": "bc52d0b38b7548a8",
   "outputs": [],
   "execution_count": 4
  },
  {
   "metadata": {},
   "cell_type": "markdown",
   "source": "## Predict",
   "id": "96780174170a16ea"
  },
  {
   "metadata": {
    "ExecuteTime": {
     "end_time": "2025-01-03T06:15:58.660327Z",
     "start_time": "2025-01-03T06:15:07.483201Z"
    }
   },
   "cell_type": "code",
   "source": [
    "# trainer\n",
    "trainer = L.Trainer(accelerator='gpu', devices=[0], precision=\"16-mixed\", logger=False)\n",
    "res = trainer.predict(model=model, dataloaders=dl)"
   ],
   "id": "ded272e6cf0de175",
   "outputs": [
    {
     "name": "stderr",
     "output_type": "stream",
     "text": [
      "/new_home/xzj23/.conda/envs/slr/lib/python3.10/site-packages/lightning/fabric/plugins/environments/slurm.py:168: PossibleUserWarning: The `srun` command is available on your system but is not used. HINT: If your intention is to run Lightning on SLURM, prepend your python command with `srun` like so: srun python /new_home/xzj23/.conda/envs/slr/lib/python3.10/site- ...\n",
      "  rank_zero_warn(\n",
      "Using 16bit Automatic Mixed Precision (AMP)\n",
      "GPU available: True (cuda), used: True\n",
      "TPU available: False, using: 0 TPU cores\n",
      "IPU available: False, using: 0 IPUs\n",
      "HPU available: False, using: 0 HPUs\n",
      "The following callbacks returned in `LightningModule.configure_callbacks` will override existing callbacks passed to Trainer: ModelCheckpoint\n",
      "You are using a CUDA device ('NVIDIA GeForce RTX 3090') that has Tensor Cores. To properly utilize them, you should set `torch.set_float32_matmul_precision('medium' | 'high')` which will trade-off precision for performance. For more details, read https://pytorch.org/docs/stable/generated/torch.set_float32_matmul_precision.html#torch.set_float32_matmul_precision\n",
      "LOCAL_RANK: 0 - CUDA_VISIBLE_DEVICES: [0,1]\n"
     ]
    },
    {
     "data": {
      "text/plain": [
       "Predicting: 0it [00:00, ?it/s]"
      ],
      "application/vnd.jupyter.widget-view+json": {
       "version_major": 2,
       "version_minor": 0,
       "model_id": "0bb36d10e3db495cae8d019dbc26dd48"
      }
     },
     "metadata": {},
     "output_type": "display_data"
    }
   ],
   "execution_count": 5
  },
  {
   "metadata": {
    "ExecuteTime": {
     "end_time": "2025-01-03T06:15:58.730042Z",
     "start_time": "2025-01-03T06:15:58.718294Z"
    }
   },
   "cell_type": "code",
   "source": [
    "for item in res:\n",
    "    print(f\"{item[0][0]:<50}: {' '.join(item[1][0])}\")"
   ],
   "id": "8f2b44449a708cd",
   "outputs": [
    {
     "name": "stdout",
     "output_type": "stream",
     "text": [
      "01April_2010_Thursday_heute_default-5             : ABER MORGEN SONNE SELTEN REGEN\n",
      "01April_2010_Thursday_tagesschau_default-7        : SAMSTAG WECHSELHAFT BESONDERS FREUNDLICH loc-NORDOST __EMOTION__\n",
      "01April_2010_Thursday_tagesschau_default-8        : SONNTAG REGEN TEIL GEWITTER loc-SUEDOST DURCHGEHEND REGEN-PLUSPLUS\n",
      "01April_2011_Friday_tagesschau_default-0          : __ON__ JETZT WETTER WIE AUSSEHEN MORGEN SAMSTAG ZWEITE APRIL __OFF__ __ON__ __OFF__\n",
      "01April_2011_Friday_tagesschau_default-14         : __ON__ MONTAG WECHSELHAFT MEHR KUEHL AB IN-KOMMEND REGEN FREUNDLICH WARM __OFF__\n",
      "01April_2011_Friday_tagesschau_default-6          : __ON__ FLUSS loc-NORD HEUTE NACHT NOCH WOLKE KOENNEN NIESELREGEN REGEN loc-REGION\n",
      "01December_2011_Thursday_heute_default-6          : DURCHGEHEND loc-REGION MILD NEUN BIS UNGEFAEHR VIERZEHN GRAD TAG AUCH REGEN\n",
      "01December_2011_Thursday_tagesschau_default-6     : WIND MAESSIG FRISCH STARK STURM MEER STARK SCHWER STURM SUEDOSTRAUM SCHWACH WIND\n",
      "01February_2011_Tuesday_tagesschau_default-13     : DONNERSTAG cl-KOMMEN REGEN KOENNEN GLATT\n",
      "01February_2011_Tuesday_tagesschau_default-15     : REGION SUED FREUNDLICH TROCKEN __OFF__\n",
      "01July_2010_Thursday_tagesschau_default-14        : __ON__ SONNTAG SPEZIELL loc-SUEDOST GEWITTER loc-WEST MEHR SONNE\n",
      "01June_2010_Tuesday_heute_default-0               : __ON__ LIEB ZUSCHAUER poss-EUCH GUT ABEND __OFF__\n",
      "01June_2010_Tuesday_tagesschau_default-10         : __ON__ OST loc-REGION HOCH STURM KOENNEN BADEN SIEBEN ALPEN __OFF__\n",
      "01June_2010_Tuesday_tagesschau_default-8          : __ON__ loc-NORDWEST FREUNDLICH __OFF__ __ON__ WIND ZEIGEN __OFF__ __ON__ __PU__ WIND REGEN-PLUSPLUS WIND KOENNEN __OFF__\n",
      "01June_2011_Wednesday_heute_default-7             : MORGEN DASSELBE WIE SCHAUER KOMMEN __EMOTION__ VIEL SONNE loc-REGION TEILWEISE TEIL WEHEN STARK\n",
      "01June_2011_Wednesday_tagesschau_default-8        : __ON__ REGION VIEL SONNE BISSCHEN WOLKE __OFF__\n",
      "01May_2010_Saturday_tagesschau_default-10         : TAG NORDOSTRAUM ZWOELF SUED BAYERN IX MAXIMAL ZWANZIG GRAD\n",
      "01May_2010_Saturday_tagesschau_default-11         : MONTAG AUCH MEHR WOLKE SONNE HAUPTSAECHLICH REGEN HAUPTSAECHLICH GEWITTER\n",
      "01November_2010_Monday_heute_default-8            : MORGEN OST IX WEST NOCHEINMAL VIERZEHN GRAD MAXIMAL\n",
      "01November_2010_Monday_tagesschau_default-2       : __ON__ MORGEN AUCH HERBST TRUEB WOLKE NEBEL WOLKE SONNE\n",
      "01November_2010_Monday_tagesschau_default-6       : IM-VERLAUF NEBEL HOCH NEBEL MORGEN __PU__\n",
      "01October_2009_Thursday_tagesschau_default-12     : __ON__ SONNTAG NORD MITTE loc-REGION REGEN NORD STURM SUED loc-REGION BESSER __OFF__\n",
      "01October_2010_Friday_tagesschau_default-7        : NACHT ZWOELF LAND EINS TAG ELF VOGEL LAND __LEFTHAND__ __OFF__\n",
      "01October_2012_Monday_heute_default-1             : VIEL SONNE loc-REGION IN-PAAR-TAG ANFANG __EMOTION__ TATSAECHLICH __EMOTION__ WOCHE\n",
      "01October_2012_Monday_tagesschau_default-9        : __ON__ MITTE BERG VIER NORDWESTRAUM ZWOELF GRAD WOLKE\n",
      "01September_2010_Wednesday_tagesschau_default-4   : MORGEN loc-NORD __EMOTION__ WOLKE MEISTENS SCHAUER\n",
      "02August_2010_Monday_heute_default-5              : UND REGEN OST loc-REGION MILD FUENFZEHN SECHSZEHN __PU__\n",
      "02December_2009_Wednesday_tagesschau_default-0    : __ON__ JETZT WETTER MORGEN DONNERSTAG DRITTE DEZEMBER __OFF__\n",
      "02December_2009_Wednesday_tagesschau_default-6    : OST loc-SUEDOST MEISTENS BEWOELKT TROCKEN SONNE WOLKE __OFF__\n",
      "02December_2010_Thursday_tagesschau_default-2     : __ON__ OST SEE NORD NOCH SCHNEE SCHEINEN MEER SONNE\n",
      "02February_2011_Wednesday_tagesschau_default-8    : NORDRAUM GEWITTER KOENNEN FREUNDLICH WOLKE VERSCHWINDEN WIND LEICHT NORD MAESSIG\n",
      "02July_2009_Thursday_tagesschau_default-2         : __ON__ loc-NORDOST DEUTSCHLAND MORGEN DESWEGEN DRUCK cl-KOMMEN DESWEGEN SONNE loc-REGION\n",
      "02June_2010_Wednesday_heute_default-6             : AUCH SACHSEN loc-REGION REGEN-PLUSPLUS KOENNEN __OFF__\n",
      "02June_2010_Wednesday_tagesschau_default-16       : TAGSUEBER WEST loc-REGION BISSCHEN __OFF__\n",
      "02March_2011_Wednesday_tagesschau_default-0       : __ON__ JETZT MORGEN WETTER WIE-AUSSEHEN __PU__ DONNERSTAG MAERZ __OFF__\n",
      "02March_2011_Wednesday_tagesschau_default-9       : __ON__ GEWITTER SONNE __OFF__\n",
      "02October_2010_Saturday_tagesschau_default-2      : __ON__ MILD WEHEN STARK KOMMEN EINFLUSS\n",
      "02October_2012_Tuesday_heute_default-4            : WECHSELHAFT ABER TIEF KOMMEN\n",
      "02October_2012_Tuesday_tagesschau_default-2       : __ON__ DEUTSCH LAND loc-SUEDOST HOCH DRUCK __EMOTION__ FREUNDLICH\n",
      "03August_2010_Tuesday_tagesschau_default-13       : __ON__ GRAD NORDRAUM SECHS ZWANZIG GRAD THUERINGEN VORTEIL KLAR __OFF__\n",
      "03February_2010_Wednesday_heute_default-11        : SAMSTAG BESSER DANN NAECHSTE SONNTAG OST loc-REGION KALT SCHOEN ABEND poss-EUCH __OFF__\n",
      "03February_2010_Wednesday_heute_default-5         : AUCH DABEI SCHNEE SCHNEIEN loc-NORD TROCKEN IX MORGEN SCHNEE SCHNEIEN SCHNEE SCHNEIEN\n",
      "03February_2010_Wednesday_tagesschau_default-2    : __ON__ DEUTSCH LAND TIEF DRUCK KOMMEN IM-VERLAUF TAG NEBEL BISSCHEN REGEN SCHNEE SCHNEIEN\n",
      "03February_2010_Wednesday_tagesschau_default-4    : HEUTE NACHT FLUSS NOCH SCHNEE SCHNEIEN SUEDWESTRAUM AUCH TEIL loc-REGION SCHNEE\n",
      "03February_2010_Wednesday_tagesschau_default-7    : loc-NORDOST MIT SCHNEE SCHNEIEN WIND SCHWACH MAESSIG IX WEHEN IX WEHEN\n",
      "03February_2010_Wednesday_tagesschau_default-9    : FLUSS IX MORGEN SIEBEN FLUSS NUR TEIL MINUS EINS __OFF__\n",
      "03February_2011_Thursday_heute_default-2          : NORD STURM cl-KOMMEN SCHON NACHT __EMOTION__ REGEN KALT\n",
      "03July_2009_Friday_tagesschau_default-13          : SONNTAG HAUPTSAECHLICH loc-OST SUED __EMOTION__ SCHAUER GEWITTER REGION FREUNDLICH NAECHSTE WOCHE KUEHL WECHSELHAFT WETTER\n",
      "03July_2011_Sunday_tagesschau_default-13          : __ON__ DIENSTAG WEST FREUNDLICH IX SCHAUER GEWITTER\n",
      "03July_2011_Sunday_tagesschau_default-3           : REGION MEHR FREUNDLICH HOCH KOMMEN MINUS BIS REGION __OFF__\n",
      "03June_2010_Thursday_tagesschau_default-11        : TAG IX OSTRAUM SECHSZEHN MAXIMAL SIEBEN ZWANZIG GRAD FLUSS\n",
      "03June_2010_Thursday_tagesschau_default-2         : __ON__ NORD HOCH DEUTSCH LAND KOMMEN AUCH SAMSTAG SONNTAG VIEL SONNE SPEZIELL TEMPERATUR STEIGEN\n",
      "03June_2011_Friday_tagesschau_default-8           : GERADE SUED GEWITTER KOENNEN WIE UNWETTER\n",
      "03March_2011_Thursday_tagesschau_default-2        : __ON__ MORGEN SCHON VIEL SONNE ABER HOCH DRUCK\n",
      "03October_2010_Sunday_tagesschau_default-11       : MITTWOCH MISCHUNG SONNE WOLKE NEBEL loc-NORDWEST BISSCHEN SCHAUER REGION TROCKEN\n",
      "03October_2012_Wednesday_tagesschau_default-4     : __ON__ HEUTE NACHT NORDWESTRAUM REGEN KOMMEN MITTE\n",
      "03September_2010_Friday_tagesschau_default-6      : TAG WEST FREUNDLICH SONST SONNE WOLKE WECHSELHAFT MAL SCHAUER OST loc-OST loc-SUEDOST MOEGLICH GEWITTER __OFF__\n",
      "04April_2010_Sunday_tagesschau_default-12         : __ON__ DIENSTAG HAUPTSAECHLICH SONNE __PU__ loc-NORDOST WOLKE MOEGLICH REGEN __PU__\n",
      "04August_2011_Thursday_tagesschau_default-6       : __ON__ OST REGION ANFANG FREUNDLICH SPAETER loc-NORDWEST AUCH SONNE SONST loc-REGION WOLKE SCHAUER GEWITTER STARK ENORM __OFF__\n",
      "04December_2009_Friday_tagesschau_default-0       : __ON__ MORGEN SAMSTAG FUENFTE DEZEMBER WIE-AUSSEHEN WETTER __OFF__\n",
      "04December_2009_Friday_tagesschau_default-2       : __ON__ WETTER BISSCHEN VERSCHWINDEN DANN MORGEN __LEFTHAND__ TIEF KOMMEN WOLKE REGEN WENN BERG AUCH SCHNEE SCHNEIEN\n",
      "04December_2009_Friday_tagesschau_default-9       : SONNTAG MEHR MILD VIEL WOLKE REGEN __LEFTHAND__ WIND MONTAG DIENSTAG WECHSELHAFT MAL AUCH SONNE __OFF__\n",
      "04December_2010_Saturday_tagesschau_default-0     : __ON__ JETZT WIE-AUSSEHEN WETTER MORGEN SONNTAG FUENFTE DEZEMBER __OFF__\n",
      "04December_2011_Sunday_tagesschau_default-11      : __ON__ WIND DIENSTAG REGEN SCHNEE GRAUPEL IX REGEN\n",
      "04December_2011_Sunday_tagesschau_default-7       : WIND STARK MEER SCHWER STURM __OFF__\n",
      "04February_2010_Thursday_heute_default-5          : UND WIND ABER loc-REGION DANN REGEN AUCH NEU SCHNEE DABEI\n",
      "04January_2010_Monday_heute_default-0             : __ON__ GUT ABEND LIEB ZUSCHAUER BEGRUESSEN __OFF__\n",
      "04January_2010_Monday_tagesschau_default-0        : __ON__ MORGEN WETTER WIE-AUSSEHEN DIENSTAG JANUAR __OFF__\n",
      "04January_2010_Monday_tagesschau_default-7        : __ON__ NORD WIND MAESSIG KOENNEN FRISCH WIND SUED WIND SCHWACH __OFF__\n",
      "04January_2010_Monday_tagesschau_default-9        : __ON__ HEUTE NACHT MINUS ZWEI MINUS ZWEI IX ALPEN __OFF__\n",
      "04January_2011_Tuesday_tagesschau_default-11      : HEUTE NACHT KLAR HIMMEL ENORM NORDRAUM MINUS ZWEI\n",
      "04July_2010_Sunday_tagesschau_default-7           : SKANDINAVIEN FREUNDLICH WENN NICHT-HABEN GEWITTER SCHWACH WEHEN KUESTE\n",
      "04July_2011_Monday_heute_default-14               : OST ODER SUED OST OSTRAUM __PU__\n",
      "04July_2011_Monday_heute_default-5                : AUCH STERN SEHEN SUEDWESTRAUM\n",
      "04June_2010_Friday_tagesschau_default-5           : BESONDERS KUESTE MAL WOLKE REGION WIND SCHWACH VERSCHIEDEN WEHEN __OFF__\n",
      "04June_2010_Friday_tagesschau_default-9           : MONTAG WECHSELHAFT MEHR SONNE WOLKE BESONDERS loc-REGION SCHAUER GEWITTER __OFF__\n",
      "04March_2011_Friday_tagesschau_default-7          : DANN loc-ORT-PLUSPLUS BISSCHEN NEBEL WENN NEBEL VERSCHWINDEN DANN SUED MORGEN SONNE\n",
      "04March_2011_Friday_tagesschau_default-8          : WOLKE KOMMEN FLUSS ABER BEWOELKT loc-REGION\n",
      "04May_2010_Tuesday_heute_default-0                : __ON__ __PU__ MITTE SONNE IX DEUTSCHLAND __OFF__\n",
      "04May_2010_Tuesday_heute_default-6                : DONNERSTAG __EMOTION__ HEISS WIND loc-REGION TEMPERATUR UNTERSCHIED SECHS BIS ZWANZIG GRAD DANN RUHIG\n",
      "04May_2011_Wednesday_heute_default-12             : REGION ZWOELF BIS ACHTZEHN GRAD BISSCHEN KUEHL poss-SEIN __OFF__\n",
      "04May_2011_Wednesday_heute_default-5              : __ON__ SEHEN IX REGEN cl-KOMMEN NICHT-HABEN\n",
      "04May_2011_Wednesday_heute_default-9              : __ON__ TROCKEN ENORM MORGEN SCHAUER NICHT-MEHR VIEL SONNE __OFF__\n",
      "04October_2010_Monday_heute_default-14            : __ON__ TEMPERATUR __PU__ REGEN MEHR KUEHL SONST WENIGER\n",
      "04October_2010_Monday_tagesschau_default-11       : __ON__ HEUTE NACHT VIERZEHN OST NUR SECHS GRAD __OFF__ __ON__ MORGEN DREIZEHN REGION FUENFZEHN BIS ZWANZIG GRAD __OFF__\n",
      "04October_2012_Thursday_tagesschau_default-5      : HEUTE NACHT loc-OST NOCH REGEN SONST REGION KLAR WOLKE IX\n",
      "05April_2011_Tuesday_heute_default-3              : __ON__ BESONDERS loc-SUEDWEST WEHEN AUCH TEILWEISE KOMMEN\n",
      "05February_2010_Friday_tagesschau_default-16      : __ON__ ABER STARK WOLKE HIMMEL KOENNEN NEBEL TEILWEISE SONNE DABEI __OFF__\n",
      "05February_2010_Friday_tagesschau_default-5       : __ON__ WEST DANN loc-NORDOST MEHR TROCKEN __OFF__\n",
      "05February_2011_Saturday_tagesschau_default-0     : __ON__ __PU__ WETTER WIE-AUSSEHEN MORGEN SONNTAG SECHSTE FEBRUAR __OFF__\n",
      "05February_2011_Saturday_tagesschau_default-6     : IX MORGEN LANG SONNE loc-NORDOST MORGEN FRUEH REGEN\n",
      "05February_2011_Saturday_tagesschau_default-7     : SPAETER OST MEHR\n",
      "05January_2010_Tuesday_tagesschau_default-10      : __ON__ STARK __OFF__\n",
      "05January_2010_Tuesday_tagesschau_default-4       : __ON__ MORGEN SPANIEN KOMMEN DANN FREITAG UEBERWIEGEND SCHNEE BESONDERS KUESTE loc-SUEDWEST\n",
      "05January_2010_Tuesday_tagesschau_default-5       : HEUTE NACHT KOENNEN SCHNEE IX REGEN loc-REGION DANN KOENNEN BLEIBEN BIS SONNE HABEN2 __OFF__\n",
      "05January_2011_Wednesday_heute_default-3          : HAUPTSAECHLICH HEUTE KALT LUFT SCHOEN VERSCHWINDEN\n",
      "05January_2011_Wednesday_heute_default-5          : GEFAHR ANFANG SCHNEE REGEN GLATT\n",
      "05January_2011_Wednesday_heute_default-8          : HEUTE NACHT WEST cl-KOMMEN BIS MORGEN MITTAG cl-KOMMEN\n",
      "05January_2011_Wednesday_tagesschau_default-17    : __ON__ WOCHENENDE BLEIBEN TAUEN DAZU REGEN BLEIBEN\n",
      "05July_2010_Monday_heute_default-1                : MORGEN MITTE EUROPA ACHTZEHN BIS SECHS ZWANZIG GRAD OST EUROPA HEISS BIS FUENF ZWANZIG GRAD\n",
      "05July_2010_Monday_tagesschau_default-10          : __ON__ loc-SUEDWEST REGION MEHR TROCKEN __OFF__\n",
      "05July_2010_Monday_tagesschau_default-17          : __ON__ MORGEN ACHTZEHN NORDRAUM SECHS ZWANZIG loc-REGION __OFF__\n",
      "05June_2010_Saturday_tagesschau_default-11        : DIENSTAG BESONDERS loc-OST MEHR FREUNDLICH ABER DABEI SCHAUER GEWITTER\n",
      "05June_2010_Saturday_tagesschau_default-4         : MONTAG NACHT KOMMEN HEUTE NACHT HIMMEL KLAR\n",
      "05June_2010_Saturday_tagesschau_default-9         : FLUSS MAXIMAL EINS DREISSIG GRAD MONTAG NACHT SCHAUER GEWITTER KOMMEN\n",
      "05March_2011_Saturday_tagesschau_default-13       : __ON__ MORGEN TEMPERATUR VOGEL LAND ELF FLUSS MAXIMAL NEUN GRAD\n",
      "05March_2011_Saturday_tagesschau_default-6        : NUR BISSCHEN REGEN SCHNEE SCHNEIEN MORGEN IX SUED UEBERWIEGEND WOLKE\n",
      "05March_2011_Saturday_tagesschau_default-7        : loc-OST ALPEN IX BISSCHEN SCHNEE SCHNEIEN MOEGLICH NORDRAUM SONNE\n",
      "05May_2010_Wednesday_tagesschau_default-11        : NORD REGEN WOCHENENDE MEHR WARM WETTER WECHSELHAFT DONNER GEWITTER DANN SONNE DABEI __OFF__\n",
      "05May_2010_Wednesday_tagesschau_default-2         : __ON__ MITTE BERG TIEF KOMMEN NORD KOMMEN MORGEN loc-REGION WOLKE HIMMEL\n",
      "05May_2010_Wednesday_tagesschau_default-5         : NORD MORGEN TROCKEN DANN loc-REGION REGEN-PLUSPLUS VIEL\n",
      "05May_2010_Wednesday_tagesschau_default-6         : BAYERN SACHSEN IX SCHAUER GEWITTER AUCH IX KOENNEN SEHEN HIMMEL __OFF__\n",
      "05May_2011_Thursday_heute_default-13              : IX WIND WEHEN LEICHT\n",
      "05May_2011_Thursday_heute_default-16              : TROCKEN SPEZIELL NORDRAUM BIS WOCHENENDE IN-KOMMEND\n",
      "05May_2011_Thursday_heute_default-5               : SCHON WINTER NUR SONNE DESHALB VERRINGERN HEUTE NACHT UEBERALL REGION\n",
      "05November_2010_Friday_tagesschau_default-6       : AUCH BISSCHEN SONNE MORGEN __PU__ HAUPTSAECHLICH REGEN TAG IM-VERLAUF KOMMEN\n",
      "05November_2010_Friday_tagesschau_default-8       : FRISCH WEHEN BISSCHEN STURM BERG MOEGLICH\n",
      "05October_2010_Tuesday_heute_default-7            : AUCH TEILWEISE NEBEL DONNERSTAG WIND loc-REGION __OFF__\n",
      "05September_2009_Saturday_tagesschau_default-6    : IX SCHWACH MAESSIG WEHEN NORD WIND NACHT STURM\n",
      "06April_2010_Tuesday_tagesschau_default-6         : MITTE TAL ODER WIND NEBEL KOENNEN __PU__ MORGEN UEBERWIEGEND SONNE __PU__\n",
      "06April_2010_Tuesday_tagesschau_default-9         : WEST loc-REGION SIEBEN GRAD __OFF__ __ON__ MORGEN __PU__ GRAD OST SEE WEST ZWEIZWANZIG GRAD loc-REGION __OFF__\n",
      "06August_2010_Friday_tagesschau_default-6         : TEIL LANG REGION SONNE BISSCHEN WOLKE NORDWESTRAUM NACHMITTAG BISSCHEN SCHAUER __OFF__\n",
      "06December_2009_Sunday_tagesschau_default-5       : __ON__ HEUTE NACHT REGEN KOMMEN __OFF__\n",
      "06December_2011_Tuesday_tagesschau_default-12     : FREITAG SUED REST SONST REGION REGEN DANN SCHNEE\n",
      "06February_2010_Saturday_tagesschau_default-5     : IX NEBEL NORDOSTRAUM IX SCHNEE\n",
      "06February_2010_Saturday_tagesschau_default-6     : OST SONNE REGION TRUEB BISSCHEN SCHNEE REGEN WIND SCHWACH WEHEN\n",
      "06January_2010_Wednesday_tagesschau_default-18    : __ON__ BERG SCHNEE WEHEN WOCHENENDE DANN IX SCHNEE KOENNEN BLEIBEN WIND __OFF__\n",
      "06January_2010_Wednesday_tagesschau_default-5     : MORGEN MITTE loc-REGION TIEF KOMMEN AB FREITAG loc-REGION REGEN SCHNEE\n",
      "06January_2011_Thursday_tagesschau_default-3      : DARUM SCHNEE TAUEN VIEL F cl-KOMMEN KOENNEN UEBERSCHWEMMUNG\n",
      "06July_2010_Tuesday_tagesschau_default-7          : __ON__ WIND SCHWACH UNTERSCHIED WEHEN IX AUCH FRISCH IX WEHEN __OFF__\n",
      "06July_2011_Wednesday_tagesschau_default-4        : SPAETER MEHR TROCKEN REGION TAG SCHOEN BISSCHEN WOLKE\n",
      "06June_2010_Sunday_tagesschau_default-4           : MORGEN GEWITTER TEIL STURM NACHT KOMMEN NORD REGEN\n",
      "06May_2011_Friday_tagesschau_default-12           : __ON__ WEHEN SCHWACH loc-REGION FRISCH HEUTE NACHT ZWOELF GRAD REGION DREISSIG GRAD BAYERN WALD loc-REGION __OFF__\n",
      "06May_2011_Friday_tagesschau_default-14           : __ON__ ZWANZIG BIS ACHT ZWANZIG GRAD NORDRAUM SINKEN __OFF__\n",
      "06November_2010_Saturday_tagesschau_default-7     : SCHWACH WEHEN MAESSIG WEHEN-PLUSPLUS WEHEN NORD WEHEN IX WEHEN __OFF__\n",
      "06October_2010_Wednesday_tagesschau_default-11    : __ON__ HEUTE NACHT FUENF loc-NORDWEST VIERZEHN GRAD MILD __OFF__\n",
      "06October_2010_Wednesday_tagesschau_default-9     : MORGEN VOR MITTAG NORD NORDRAUM STARK WIND SONST REGION SCHWACH __OFF__\n",
      "06October_2011_Thursday_heute_default-3           : __ON__ IM-MOMENT KALT KOMMEN MITTE EUROPA ALPEN REGEN SCHNEE __OFF__\n",
      "06October_2011_Thursday_tagesschau_default-10     : __ON__ WEHEN REGION FRISCH STURM SCHAUER IX __OFF__\n",
      "06October_2011_Thursday_tagesschau_default-8      : __ON__ WEST NORDWESTRAUM SCHAUER IX __OFF__\n",
      "06October_2012_Saturday_tagesschau_default-14     : DIENSTAG WIND DAZU REGEN KURZ REGEN KOENNEN SUEDWESTRAUM REGEN REGION FREUNDLICH\n",
      "06September_2009_Sunday_tagesschau_default-6      : MORGEN WIND WEHEN SCHWACH loc-NORD UEBERWIEGEND WIND HEUTE NACHT FUENFZEHN IX\n",
      "06September_2010_Monday_tagesschau_default-11     : DONNERSTAG WECHSELHAFT ABER WENIG WEST FREUNDLICH __OFF__\n",
      "06September_2010_Monday_tagesschau_default-6      : SCHWACH NORD WIND WEHEN KUESTE BERG SCHWER STURM\n",
      "07April_2010_Wednesday_heute_default-0            : __ON__ HALLO GUT ABEND LIEB ZUSCHAUER poss-EUCH __OFF__\n",
      "07April_2010_Wednesday_heute_default-11           : IM-VERLAUF __EMOTION__ BISSCHEN SINKEN KUEHL BESONDERS SAMSTAG SONNTAG\n",
      "07April_2010_Wednesday_heute_default-7            : MORGEN loc-SUEDOST DANN WIE HEUTE __EMOTION__ loc-NORDWEST WOLKE MEHR IX\n",
      "07April_2010_Wednesday_tagesschau_default-0       : __ON__ JETZT WIE-AUSSEHEN MORGEN DONNERSTAG ACHTE APRIL WETTER __OFF__\n",
      "07April_2010_Wednesday_tagesschau_default-10      : MEHR SONNE WOLKE BISSCHEN DABEI REGEN\n",
      "07April_2011_Thursday_tagesschau_default-9        : __ON__ NORD NORDOSTRAUM WOLKE WARM BISSCHEN IX WENIG __OFF__\n",
      "07August_2009_Friday_tagesschau_default-5         : __ON__ IX SCHON WARNUNG DEUTSCH WETTER DIENST WIND KOENNEN TAG SONNE\n",
      "07December_2009_Monday_tagesschau_default-10      : __ON__ IX KOENNEN SONNE __OFF__\n",
      "07December_2009_Monday_tagesschau_default-12      : __ON__ WIND ZEIGEN SCHWACH MAESSIG __OFF__\n",
      "07December_2010_Tuesday_heute_default-6           : UEBERSCHWEMMUNG SUED NORD DEUTSCHLAND NEBEL SUED HABEN SONNE BISSCHEN WEHEN TEMPERATUR ALPEN IX KOENNEN BIS ZEHN GRAD\n",
      "07December_2010_Tuesday_tagesschau_default-13     : UEBERWIEGEND STARK WIND FREITAG SUEDWESTRAUM SCHNEE SCHEINEN REGION WEST AUCH REGEN\n",
      "07December_2011_Wednesday_heute_default-3         : UND TAUSEND STUNDE STURM __OFF__\n",
      "07December_2011_Wednesday_heute_default-8         : __ON__ HEUTE NACHT __EMOTION__ NOCH STURM MITTE loc-SUED DAZU SCHNEE REGEN\n",
      "07February_2010_Sunday_tagesschau_default-7       : KLAR UEBER ZEHN MINUS IX NULL OST MINUS SIEBEN MOEGLICH\n",
      "07February_2011_Monday_heute_default-0            : __ON__ GUT ABEND LIEB ZUSCHAUER SONNE DANN KOMMEN MEHR REGEN MORGEN AUCH MEHR WOLKE\n",
      "07February_2011_Monday_heute_default-10           : KALT LUFT WEHEN MITTWOCH AUCH SCHOEN\n",
      "07February_2011_Monday_tagesschau_default-4       : TAG SUED FREUNDLICH SONNE NORD AUCH BISSCHEN WOLKE ABER MEHR SONNE\n",
      "07June_2010_Monday_tagesschau_default-6           : MEISTENS TIEF KOENNEN STARK REGEN-PLUSPLUS HAGEL STURM\n",
      "07May_2011_Saturday_tagesschau_default-6          : BRAND loc-REGION NORD loc-REGION KOENNEN WOLKE __OFF__\n",
      "07October_2010_Thursday_heute_default-6           : WEST loc-WEST DURCHGEHEND ACHTZEHN ZWISCHEN DREI ZWANZIG OST NUR ZWOELF ZWISCHEN SIEBZEHN GRAD\n",
      "07October_2010_Thursday_tagesschau_default-0      : __ON__ JETZT WETTER WIE-AUSSEHEN MORGEN FREITAG ACHTE OKTOBER __OFF__\n",
      "07October_2010_Thursday_tagesschau_default-10     : RUHIG TROCKEN FREUNDLICH IN-KOMMEND BLEIBEN __OFF__\n",
      "07October_2010_Thursday_tagesschau_default-4      : BESONDERS NORDRAUM HEUTE NACHT MEISTENS WOLKE WAHRSCHEINLICH REGEN SUED VIEL NEBEL HOCH NEBEL\n",
      "07October_2010_Thursday_tagesschau_default-5      : MORGEN HAUPTSAECHLICH NEBEL NORDOSTRAUM MEISTENS WOLKE\n",
      "07October_2010_Thursday_tagesschau_default-9      : HEUTE NACHT ALLGAEU VIER GRAD FLUSS __EMOTION__ NORDRAUM DREIZEHN\n",
      "07October_2012_Sunday_tagesschau_default-8        : __ON__ KUESTE HEUTE NACHT STURM MORGEN LEICHT SCHWACH MAESSIG WIND NORDRAUM FRISCH WEHEN __OFF__\n",
      "07September_2010_Tuesday_tagesschau_default-0     : __ON__ JETZT WETTER WIE-AUSSEHEN MORGEN MITTWOCH ACHTE SEPTEMBER\n",
      "07September_2010_Tuesday_tagesschau_default-10    : __ON__ IX FRISCH IX WEHEN IX WEHEN SPAETER NORDRAUM STARK WEHEN __OFF__\n",
      "08April_2010_Thursday_tagesschau_default-10       : MORGEN NEUN GRAD IX MAXIMAL SIEBZEHN GRAD __LEFTHAND__ __OFF__\n",
      "08April_2010_Thursday_tagesschau_default-12       : MONTAG ANFANG WECHSELHAFT KUEHL __OFF__\n",
      "08April_2010_Thursday_tagesschau_default-3        : DOCH WOLKE ABER REGEN __OFF__\n",
      "08December_2009_Tuesday_heute_default-0           : __ON__ NACHT LIEB ZUSCHAUER __OFF__ __ON__ MORGEN TAG WOLKE __OFF__\n",
      "08December_2009_Tuesday_tagesschau_default-3      : __ON__ loc-SUEDOST NOCH REGEN BERG SCHNEE __LEFTHAND__ NORD NACH MITTAG MEHR REGEN-PLUSPLUS __OFF__\n",
      "08February_2010_Monday_heute_default-1            : TRUEB DESWEGEN IX WEST AUCH SCHAUER VERSCHWINDEN ABER AUCH IX BERG SONNE NEUNZEHN SCHNEE\n",
      "08February_2010_Monday_heute_default-2            : loc-WEST MEHR MILD MINUS VIER BIS SIEBEN KOMMEN BISSCHEN NEBEL __EMOTION__ KLAR\n",
      "08February_2010_Monday_tagesschau_default-2       : __ON__ MORGEN NOCHEINMAL RUHIG WETTER IX TROCKEN WINTER\n",
      "08January_2010_Friday_tagesschau_default-5        : __ON__ SUED WIND MAESSIG NORD WIND STARK MORGEN WIND loc-NORD BERG WIE ORKAN KOENNEN\n",
      "08July_2010_Thursday_tagesschau_default-14        : OST loc-REGION MEISTENS SONNE MONTAG AUCH SONNE ABER SCHWER GEWITTER DABEI __OFF__\n",
      "08July_2010_Thursday_tagesschau_default-5         : WAHRSCHEINLICH BISSCHEN WOLKE IX DANN REGION SONNE __OFF__\n",
      "08July_2011_Friday_tagesschau_default-2           : __ON__ SCHOTTLAND __LEFTHAND__ TIEF __LEFTHAND__ cl-KOMMEN MORGEN loc-REGION SUED ELF AUCH WARM\n",
      "08July_2011_Friday_tagesschau_default-3           : NACHT SUED ENORM GEWITTER __OFF__\n",
      "08June_2010_Tuesday_tagesschau_default-11         : DONNERSTAG FREITAG WETTER BLEIBEN __PU__ FEUCHT __PU__ WARM HEISS ENORM MOEGLICH GEWITTER AUCH STARK __PU__\n",
      "08June_2010_Tuesday_tagesschau_default-3          : GEWITTER loc-SUEDOST DEUTSCH LAND BLEIBEN LANG IM-VERLAUF GUT __EMOTION__ IM-VERLAUF MOEGLICH GEWITTER __PU__\n",
      "08June_2010_Tuesday_tagesschau_default-5          : loc-NORDWEST MORGEN WECHSELHAFT SONNE WOLKE DAZU __PU__ STARK REGEN NACH MITTAG GEWITTER\n",
      "08May_2010_Saturday_tagesschau_default-2          : __ON__ DRUCK UNTERSCHIED loc-REGION FEUCHT loc-REGION KOENNEN GEWITTER\n",
      "08November_2010_Monday_heute_default-0            : __ON__ GUT ABEND LIEB ZUSCHAUER poss-EUCH EUROPA WETTER UNTERSCHIED STURM REGEN SCHNEE\n",
      "08November_2010_Monday_tagesschau_default-14      : __ON__ MITTWOCH SUEDRAUM REGEN REGION FREUNDLICH SONNE __OFF__\n",
      "08November_2010_Monday_tagesschau_default-2       : __ON__ EUROPA IN-KOMMEND ZWEI-TAG WETTER STARK TIEF cl-KOMMEN __OFF__\n",
      "08October_2009_Thursday_tagesschau_default-0      : __ON__ MORGEN WETTER WIE-AUSSEHEN FREITAG NEUNTE OKTOBER __OFF__\n",
      "08October_2009_Thursday_tagesschau_default-13     : __ON__ TAG TEMPERATUR ZWOELF GRAD loc-NORD BIS ZWANZIG GRAD B REGION __OFF__\n",
      "08October_2009_Thursday_tagesschau_default-14     : __ON__ SAMSTAG DANN MEHR KOMMEN OST ERSTMAL WEST KOMMEN KOENNEN SONNE HABEN2 __OFF__\n",
      "08October_2009_Thursday_tagesschau_default-9      : __ON__ NORD HEUTE ABEND STURM MORGEN SCHWACH MAESSIG WEHEN __OFF__\n",
      "08September_2010_Wednesday_tagesschau_default-11  : SAMSTAG IX NOCH BISSCHEN REGEN SONST REGION FREUNDLICH TROCKEN\n",
      "08September_2010_Wednesday_tagesschau_default-5   : SCHLESWIG H VOR IX BRAND BURG MORGEN DURCHGEHEND REGEN SONST REGION WOLKE TEIL SONNE\n",
      "09August_2009_Sunday_tagesschau_default-11        : __ON__ WIND SCHWACH __OFF__ __ON__ loc-REGION WIND ZEIGEN __OFF__\n",
      "09August_2010_Monday_heute_default-1              : AUCH RUSSLAND IX TROCKEN HEISS SONNE FUENF BIS VIER GRAD IN-KOMMEND BLEIBEN WAHRSCHEINLICH WEITER __PU__\n",
      "09August_2010_Monday_heute_default-2              : IX HEUTE NACHT FRISCH ZEHN ELF GRAD loc-REGION DREIZEHN MAXIMAL FUENFZEHN\n",
      "09February_2010_Tuesday_tagesschau_default-12     : SAMSTAG SCHNEE WENIG loc-REGION MANCHMAL __OFF__\n",
      "09July_2010_Friday_tagesschau_default-3           : ZUERST GEWITTER NUR WEST RISIKO MITTAG OST GEWITTER WEST\n",
      "09June_2010_Wednesday_heute_default-6             : NACHT BLEIBEN WARM NACHT HOCH VIERZEHN GRAD NEIN NICHTALP-AUCH __PU__ __OFF__\n",
      "09June_2010_Wednesday_tagesschau_default-3        : DAZU LUFT WARM MILD KOENNEN GEWITTER DEUTSCH LAND WETTER DIENST MOEGLICH __PU__ __OFF__\n",
      "09March_2011_Wednesday_heute_default-10           : __ON__ MORGEN BISSCHEN REGEN loc-REGION NORDRAUM NEU REGEN cl-KOMMEN __OFF__\n",
      "09March_2011_Wednesday_heute_default-3            : SUEDOSTRAUM REGION __EMOTION__ LANGSAM IM-VERLAUF\n",
      "09November_2010_Tuesday_heute_default-10          : DANN MOEGLICH MEHR MILD JETZT SCHOEN ABEND TSCHUESS __OFF__\n",
      "09November_2010_Tuesday_tagesschau_default-12     : __ON__ HEUTE NACHT GRAD SECHS BIS EIN GRAD __OFF__\n",
      "09September_2010_Thursday_tagesschau_default-4    : HOCH SAMSTAG SONNTAG FREUNDLICH SPAET SOMMER WETTER HEUTE ABEND WOLKE MEHR MAL REGEN\n",
      "10August_2009_Monday_heute_default-12             : __ON__ DANN BIS VIER ZWANZIG GRAD loc-REGION SUED loc-REGION BIS ZWANZIG GRAD __OFF__\n",
      "10August_2009_Monday_heute_default-5              : __ON__ HEUTE NACHT OST loc-REGION REGEN GEWITTER KOENNEN WIND REGEN __OFF__\n",
      "10August_2009_Monday_heute_default-9              : __ON__ TEMPERATUR ODER GEWITTER KOENNEN __OFF__\n",
      "10August_2010_Tuesday_heute_default-4             : __ON__ REGEN HEUTE NACHT loc-REGION cl-KOMMEN DANN AB ZWOELF UHR\n",
      "10December_2009_Thursday_heute_default-7          : __ON__ __LEFTHAND__ loc-NORDWEST KOENNEN SONNE WAHRSCHEINLICH SAMSTAG NOCH SCHNEE NORD WEST REGEN WAHRSCHEINLICH\n",
      "10February_2010_Wednesday_tagesschau_default-12   : SAMSTAG TEIL SCHNEE BISSCHEN __PU__ NORD loc-REGION KLAR\n",
      "10February_2010_Wednesday_tagesschau_default-3    : MOEGLICH SCHNEE AUCH FROST __PU__ __OFF__ __ON__ WOCHENENDE __PU__ WETTER BESSER RUHIG __PU__\n",
      "10January_2011_Monday_tagesschau_default-5        : WEST SCHAUER REGEN GLATT IN-KOMMEND DANN WECHSELHAFT STARK MILD __OFF__\n",
      "10March_2011_Thursday_heute_default-12            : __ON__ WOCHENENDE SONNE SAMSTAG GUT TEMPERATUR BIS SIEBZEHN GRAD REGION\n",
      "10May_2010_Monday_tagesschau_default-4            : __ON__ HEUTE NACHT SUED ANFANG GEWITTER IX SONST loc-REGION REGEN IX KOENNEN AUCH NEBEL __OFF__\n",
      "10November_2009_Tuesday_tagesschau_default-2      : __ON__ __PU__ TIEF OST EUROPA KOMMEN\n",
      "10November_2010_Wednesday_tagesschau_default-8    : TAG VIER GRAD V LAND ELF GRAD FLUSS __OFF__\n",
      "11April_2010_Sunday_tagesschau_default-0          : __ON__ JETZT WETTER MORGEN MONTAG ZWOELF APRIL __OFF__\n",
      "11August_2009_Tuesday_tagesschau_default-7        : __ON__ loc-REGION SUED MEHR FREUNDLICH SONST VIEL WOLKE NORD KOMMEN SCHAUER GEWITTER KOENNEN __OFF__\n",
      "11August_2009_Tuesday_tagesschau_default-9        : __ON__ HEUTE loc-REGION SCHWACH MAESSIG WIND __OFF__\n",
      "11August_2010_Wednesday_tagesschau_default-12     : NEUNZEHN BIS FUENF ZWANZIG FLUSS SIEBEN ZWANZIG GRAD __OFF__\n",
      "11August_2010_Wednesday_tagesschau_default-6      : TAG OFT REGEN-PLUSPLUS REGEN GEWITTER KOENNEN\n",
      "11August_2011_Thursday_heute_default-8            : NACH MITTAG SONNE UND REGEN cl-KOMMEN MIT cl-KOMMEN __OFF__\n",
      "11December_2009_Friday_tagesschau_default-0       : __ON__ JETZT WETTER WIE-AUSSEHEN SAMSTAG ZWOELF DEZEMBER __OFF__\n",
      "11December_2010_Saturday_tagesschau_default-13    : FLUSS DIENSTAG ABER OST KOENNEN SCHNEE MITTWOCH GLEICH MINUS NEUN BIS MINUS EINS GRAD __OFF__\n",
      "11December_2010_Saturday_tagesschau_default-6     : SCHNEE BIS SECHSHUNDERT BIS DREIHUNDERT METER BERG\n",
      "11December_2010_Saturday_tagesschau_default-8     : loc-REGION REGEN SCHNEE NACHT MITTE BERG STURM\n",
      "11February_2010_Thursday_tagesschau_default-5     : __ON__ WOCHENENDE IM-VERLAUF MEHR TROCKEN ABER BLEIBEN KALT __OFF__\n",
      "11January_2011_Tuesday_tagesschau_default-0       : __ON__ JETZT WIE-AUSSEHEN WETTER MORGEN MITTWOCH ZWOELF JANUAR\n",
      "11January_2011_Tuesday_tagesschau_default-14      : WIND SUED FREUNDLICH TEIL EINIGERMASSEN __OFF__\n",
      "11January_2011_Tuesday_tagesschau_default-3       : ISLAND __LEFTHAND__ ABER MILD LUFT KOMMEN DANN DONNERSTAG MEISTENS REGEN MIT GEFAHR\n",
      "11January_2011_Tuesday_tagesschau_default-5       : __ON__ loc-NORDOST BAYERN SUEDOSTRAUM SCHNEE SCHNEIEN UND REGEN MIT FROST BODEN\n",
      "11July_2009_Saturday_tagesschau_default-0         : __ON__ MORGEN WETTER WIE-AUSSEHEN SONNTAG ZWOELF JULI\n",
      "11July_2009_Saturday_tagesschau_default-10        : __ON__ HEUTE NACHT TEMPERATUR SINKEN VIERZEHN BIS SIEBEN GRAD MORGEN KOENNEN SIEBZEHN loc-REGION FUENF ZWANZIG REGION __OFF__\n",
      "11July_2009_Saturday_tagesschau_default-13        : __ON__ DIENSTAG MITTWOCH SONNE WOLKE WECHSELHAFT SCHAUER loc-REGION REGEN GEWITTER KOENNEN __OFF__\n",
      "11July_2011_Monday_tagesschau_default-4           : HEUTE NACHT MEHR LOCKER BEWOELKT ODER KLAR STERN SEHEN NORDWESTRAUM WOLKE\n",
      "11May_2010_Tuesday_heute_default-13               : __ON__ ZWANZIG GRAD IN-KOMMEND DONNERSTAG BESONDERS SCHOEN NORD\n",
      "11May_2010_Tuesday_heute_default-6                : NORD WEHEN MORGEN VOR MITTAG REGEN OST\n",
      "11May_2010_Tuesday_tagesschau_default-13          : __ON__ DONNERSTAG BESONDERS loc-SUEDOST REGEN-PLUSPLUS\n",
      "11November_2009_Wednesday_tagesschau_default-6    : __ON__ IM-VERLAUF AUCH WOLKE REGEN __OFF__ __ON__ __PU__ WIND SCHWACH MAESSIG WEHEN\n",
      "11November_2010_Thursday_tagesschau_default-6     : __ON__ TEILWEISE REGEN KOMMEN loc-REGION VERSCHWINDEN NORDRAUM KOENNEN GEWITTER __OFF__\n",
      "11November_2010_Thursday_tagesschau_default-8     : __ON__ TAG AUCH SCHAUER BESONDERS NORDRAUM SPAETER loc-REGION NEU REGEN __OFF__\n",
      "11September_2009_Friday_tagesschau_default-0      : __ON__ JETZT WETTER MORGEN SAMSTAG ZWOELF SEPTEMBER __OFF__\n",
      "11September_2009_Friday_tagesschau_default-2      : __ON__ HIER DEUTSCH LAND KOMMEN KUEHL KOMMEN TIEF KOMMEN NUR SCHWACH ABER SONNTAG\n",
      "11September_2009_Friday_tagesschau_default-7      : __ON__ SONST WECHSELHAFT SONNE WOLKE __OFF__\n",
      "11September_2009_Friday_tagesschau_default-8      : __ON__ WIND SCHWACH MAESSIG IX BERG AUCH FRISCH WEHEN HEUTE NACHT VIERZEHN ZWISCHEN SIEBEN\n",
      "12April_2010_Monday_heute_default-6               : MORGEN __PU__ NORD SONNE VIEL NORDRAUM KUESTE VIEL SONNE TROCKEN BLEIBEN\n",
      "12April_2010_Monday_tagesschau_default-8          : __ON__ SIEBEN BIS SECHSZEHN GRAD loc-REGION DONNERSTAG loc-SUEDOST WEITER WECHSELHAFT loc-NORDWEST loc-WEST MEHR FREUNDLICH SONNE\n",
      "12April_2011_Tuesday_tagesschau_default-3         : WEST REGION SCHON MOEGLICH FRANKREICH HOCH KOMMEN WOLKE KLAR KOMMEN __OFF__\n",
      "12August_2009_Wednesday_tagesschau_default-10     : FREITAG SONNE WOLKE SUED ANFANG REGEN\n",
      "12August_2010_Thursday_tagesschau_default-2       : __ON__ DEUTSCH LAND AUFZIEHEN KUEHL HEISS\n",
      "12August_2010_Thursday_tagesschau_default-9       : loc-REGION SONNE WOLKE REGEN WECHSELHAFT __OFF__\n",
      "12December_2009_Saturday_tagesschau_default-2     : NACHT SCHNEE LEICHT KUESTE AUCH __EMOTION__ TIEF REGEN DABEI\n",
      "12December_2011_Monday_heute_default-12           : NORDWESTRAUM REGEN cl-KOMMEN NACH MITTAG VERSCHWINDEN SCHAUER GEWITTER STURM KOENNEN\n",
      "12December_2011_Monday_heute_default-2            : __ON__ WEST HIMMEL STERN KOENNEN SEHEN UMWANDELN MORGEN REGEN\n",
      "12December_2011_Monday_heute_default-5            : HIMMEL STERN KOENNEN SEHEN REGEN VERSCHWINDEN ABER WEST WOLKE cl-KOMMEN ANFANG REGEN BERG SCHNEE AUCH\n",
      "12December_2011_Monday_tagesschau_default-2       : __ON__ TIEF cl-KOMMEN REGEN STURM __OFF__\n",
      "12January_2010_Tuesday_heute_default-5            : HEUTE NACHT NOCH KALT HAUPTSAECHLICH MITTE BERG loc-REGION MORGEN FRUEH SUED loc-REGION MOEGLICH SCHNEE\n",
      "12January_2011_Wednesday_heute_default-7          : __LEFTHAND__ SAUER LAND AUCH BAYERN IX\n",
      "12January_2011_Wednesday_tagesschau_default-4     : RUHIG ANFANG GEFAHR WETTER DIENST WARNUNG UNWETTER WIND\n",
      "12July_2009_Sunday_tagesschau_default-0           : __ON__ JETZT MORGEN WETTER WIE-AUSSEHEN __OFF__\n",
      "12July_2010_Monday_tagesschau_default-6           : __ON__ WEST loc-NORDWEST AUFLOESEN MORGEN OST SUEDOSTRAUM MISCHUNG SONNE WOLKE TEILWEISE REGEN GEWITTER __OFF__\n",
      "12July_2011_Tuesday_heute_default-14              : __ON__ MORGEN GEWITTER MEISTENS DESWEGEN loc-SUEDOST REGION BRAND BURG __OFF__\n",
      "12July_2011_Tuesday_heute_default-20              : __ON__ ENORM ANGENEHM DANN DONNERSTAG NORD REGEN STURM WEHEN KOENNEN\n",
      "12March_2011_Saturday_tagesschau_default-15       : DANN DIENSTAG NORDWESTRAUM BISSCHEN REGEN UNGEFAEHR SONST SONNE WOLKE\n",
      "12May_2010_Wednesday_tagesschau_default-15        : __ON__ SAMSTAG loc-SUEDOST REGEN loc-NORD DANN WIND STARK SONST IX TEILWEISE AUCH SONNE DABEI __OFF__\n",
      "12November_2009_Thursday_tagesschau_default-5     : WOLKE NEBEL MAL SONNE\n",
      "12October_2009_Monday_tagesschau_default-0        : __ON__ JETZT MORGEN WETTER WIE-AUSSEHEN DREIZEHN OKTOBER __OFF__\n",
      "12October_2009_Monday_tagesschau_default-10       : __ON__ MITTWOCH REGEN SCHNEE loc-SUEDOST WIND loc-WEST FREUNDLICH __OFF__\n",
      "12October_2009_Monday_tagesschau_default-12       : __ON__ AUCH DONNERSTAG FREITAG VIEL WOLKE REGEN OST SUED SCHNEE KOENNEN __OFF__\n",
      "13April_2010_Tuesday_tagesschau_default-13        : __ON__ NORDRAUM SIEBEN GRAD FUENFZEHN VIERZEHN FLUSS __OFF__\n",
      "13April_2010_Tuesday_tagesschau_default-19        : __ON__ SAMSTAG VIEL SONNE BESONDERS ALPEN KUESTE WOLKE KOENNEN __OFF__\n",
      "13April_2010_Tuesday_tagesschau_default-5         : REGION HOCH TIEF KOMMEN SKANDINAVIEN DESHALB cl-KOMMEN FREUNDLICH __OFF__\n",
      "13August_2009_Thursday_tagesschau_default-12      : SONNTAG WIEDER WECHSELHAFT SCHAUER GEWITTER loc-ORT-PLUSPLUS STARK\n",
      "13August_2009_Thursday_tagesschau_default-13      : MONTAG WECHSELHAFT BISSCHEN KUEHL __OFF__\n",
      "13August_2011_Saturday_tagesschau_default-8       : NORDRAUM MORGEN BIS FUENF ZWANZIG GRAD REGION FUENF ZWANZIG BIS NEUN ZWANZIG GRAD\n",
      "13December_2010_Monday_tagesschau_default-12      : WIND DABEI FREITAG RUHIG __OFF__\n",
      "13December_2010_Monday_tagesschau_default-9       : __ON__ NORDOSTRAUM HEUTE NACHT MINUS ZWEI BERG ALPEN BIS MINUS FUENFZEHN GRAD IX MORGEN MINUS SIEBEN GRAD\n",
      "13January_2010_Wednesday_tagesschau_default-8     : PLUS VIER MINUS FUENF loc-REGION WIE-AUSSEHEN IN-KOMMEND\n",
      "13July_2009_Monday_tagesschau_default-2           : __ON__ DEUTSCH LAND __LEFTHAND__ MITTE BERG HOCH HEISS __LEFTHAND__ MILD WARM\n",
      "13July_2009_Monday_tagesschau_default-3           : loc-REGION TEIL STARK GEWITTER REGEN HEUTE NACHT IX BADEN IX BIS loc-REGION THUERINGEN REGEN\n",
      "13July_2009_Monday_tagesschau_default-6           : SONST WIND IX WEHEN SCHWACH __OFF__\n",
      "13July_2011_Wednesday_tagesschau_default-2        : __ON__ LUFT DRUCK TIEF REGEN\n",
      "13November_2009_Friday_tagesschau_default-5       : IM-VERLAUF REGEN KOMMEN DANN WEST MEHR FREUNDLICH __OFF__ WEST loc-NORDWEST WEHEN WIRBEL\n",
      "13October_2009_Tuesday_tagesschau_default-14      : __ON__ AEHNLICH WETTER DONNERSTAG FREITAG loc-SUEDWEST WOLKE DANN REGEN\n",
      "13September_2010_Monday_tagesschau_default-0      : __ON__ JETZT WETTER MORGEN DIENSTAG VIERZEHN SEPTEMBER __OFF__\n",
      "14April_2010_Wednesday_tagesschau_default-3       : ABER loc-REGION WECHSELHAFT loc-SUEDOST WECHSELHAFT GRUND IX WECHSELHAFT TIEF __OFF__\n",
      "14August_2009_Friday_tagesschau_default-2         : __ON__ DEUTSCH LAND MORGEN HOCH DRUCK KOMMEN WOLKE VERSCHWINDEN AUCH\n",
      "14August_2009_Friday_tagesschau_default-7         : SONNTAG NAECHSTE NORDWESTRAUM WOLKE SONNE WOLKE GEWITTER DABEI loc-REGION SONNE WAHRSCHEINLICH SCHAUER GEWITTER STARK\n",
      "14August_2011_Sunday_tagesschau_default-2         : __ON__ loc-WEST KUEHL KOMMEN WARM cl-KOMMEN DANN REGEN GEWITTER AUCH UNWETTER KOENNEN\n",
      "14August_2011_Sunday_tagesschau_default-5         : __ON__ OST SUEDOSTRAUM NACHT ANFANG NOCH REGEN __OFF__\n",
      "14August_2011_Sunday_tagesschau_default-9         : __ON__ NORDWESTRAUM KOENNEN SCHAUER REGEN NORDWESTRAUM AUCH VERSCHWINDEN MILD __OFF__\n",
      "14December_2009_Monday_tagesschau_default-3       : KALT LUFT BLEIBEN NAECHSTE FREITAG MINUS\n",
      "14December_2009_Monday_tagesschau_default-6       : loc-NORDOST WIND SCHWACH WEHEN SONST MAESSIG NUR BERG IX BERG FRISCH STURM __OFF__\n",
      "14December_2010_Tuesday_heute_default-8           : ABER PLUS __LEFTHAND__ SONST REGION FROST BESONDERS KALT loc-SUEDOST\n",
      "14February_2010_Sunday_tagesschau_default-2       : __ON__ LUFT KALT FEUCHT DESWEGEN KOMMEN DEUTSCHLAND EINFLUSS\n",
      "14July_2009_Tuesday_tagesschau_default-4          : TEIL AUCH KLAR MORGEN FRUEH loc-SUEDWEST TATSAECHLICH HERBST REGEN loc-SUED TATSAECHLICH UEBERWIEGEND GEWITTER\n",
      "14July_2009_Tuesday_tagesschau_default-6          : HEUTE NACHT DREIZEHN ZWISCHEN ACHTZEHN GRAD MAESSIG\n",
      "14July_2009_Tuesday_tagesschau_default-8          : __ON__ DONNERSTAG DANN MEISTENS VIEL loc-REGION BESONDERS SUED BERG WARM GEWITTER\n",
      "14March_2011_Monday_tagesschau_default-7          : ABER REST REGION FREUNDLICH ABER MOEGLICH BISSCHEN SONNE __OFF__\n",
      "14October_2009_Wednesday_tagesschau_default-0     : __ON__ JETZT MORGEN WETTER WIE-AUSSEHEN MORGEN FUENFZEHN OKTOBER __OFF__\n",
      "14October_2009_Wednesday_tagesschau_default-9     : __ON__ HEUTE NACHT PLUS VIER loc-NORD MINUS\n",
      "14October_2010_Thursday_tagesschau_default-0      : __ON__ JETZT WETTER VORAUSSAGE FUER MORGEN FREITAG FUENFZEHN OKTOBER __OFF__\n",
      "14October_2010_Thursday_tagesschau_default-3      : NORD SEE MEHR WOLKE NORD HAUPTSAECHLICH REGEN-PLUSPLUS HEUTE ABEND SUED KLAR HIMMEL BISSCHEN NEBEL AUCH DABEI __PU__\n",
      "14October_2010_Thursday_tagesschau_default-5      : NORD HAUPTSAECHLICH REGEN MOEGLICH BISSCHEN GEWITTER __PU__\n",
      "14September_2010_Tuesday_heute_default-1          : NORD DEUTSCH LAND NORDRAUM SCHON SPEZIELL IX SUED AUCH KOMMEN UND NORD cl-KOMMEN\n",
      "14September_2010_Tuesday_heute_default-2          : NORD DEUTSCH REGION HEUTE NACHT MEHR MITTE DANN NEU TIEF NORDRAUM SCHWER STURM TEIL\n",
      "14September_2010_Tuesday_tagesschau_default-11    : __ON__ HEUTE NACHT SIEBEN MAXIMAL VIERZEHN TAG SUED ZWEIZWANZIG ZWANZIG GRAD ODER FLUSS ZWEIZWANZIG GRAD\n",
      "14September_2010_Tuesday_tagesschau_default-15    : SAMSTAG SUED FREUNDLICH NORDRAUM EINIGE SCHAUER __OFF__\n",
      "15December_2009_Tuesday_tagesschau_default-11     : __ON__ WIE-AUSSEHEN IN-KOMMEND __PU__ DONNERSTAG BESONDERS loc-NORD loc-WEST LEICHT SCHNEE SCHNEIEN\n",
      "15December_2009_Tuesday_tagesschau_default-5      : loc-SUEDOST MORGEN BEWOELKT VIEL SCHNEE SCHNEIEN loc-NORD BEWOELKT\n",
      "15December_2010_Wednesday_tagesschau_default-2    : __ON__ __LEFTHAND__ STARK TIEF AB MORGEN FRUEH STARK SCHNEE SCHNEIEN __EMOTION__ ENORM REGEN-PLUSPLUS __PU__\n",
      "15February_2011_Tuesday_heute_default-17          : __ON__ SONNE KOENNEN OST ALPEN SPAETER SUEDWESTRAUM __OFF__\n",
      "15February_2011_Tuesday_tagesschau_default-6      : OST KOENNEN GEFRIEREN GLATT SCHNEE KOENNEN TAG MEHR WOLKE ODER NEBEL __OFF__\n",
      "15July_2010_Thursday_tagesschau_default-4         : loc-SUEDOST HEUTE NACHT KOENNEN GEWITTER SPEZIELL\n",
      "15March_2011_Tuesday_tagesschau_default-2         : __ON__ SKANDINAVIEN IX HOCH MEHR cl-KOMMEN GLEICH FLUSS __LEFTHAND__\n",
      "15March_2011_Tuesday_tagesschau_default-4         : REGION IX cl-KOMMEN SONST KLAR LOCKER WOLKE ABER NACHT MEHR WOLKE __OFF__\n",
      "15May_2010_Saturday_tagesschau_default-4          : MORGEN loc-SUEDOST WOLKE HAUPTSAECHLICH ALPEN MOEGLICH REGEN __PU__\n",
      "15May_2010_Saturday_tagesschau_default-8          : __ON__ HEUTE NACHT ACHT BIS ZWANZIG GRAD KLAR HIMMEL MOEGLICH BODEN FROST __OFF__\n",
      "15October_2009_Thursday_tagesschau_default-6      : MEER IX SUED AUCH __PU__ loc-SUEDWEST loc-REGION GUT loc-REGION HAUPTSAECHLICH REGEN __OFF__\n",
      "16December_2009_Wednesday_tagesschau_default-0    : __ON__ JETZT WETTER MORGEN DONNERSTAG SIEBZEHN DEZEMBER __OFF__\n",
      "16December_2009_Wednesday_tagesschau_default-7    : TAG AUCH REGEN IX WEST IX SCHNEE SCHNEIEN MOEGLICH GLATT MITTE __EMOTION__ KLAR HIMMEL __PU__\n",
      "16February_2010_Tuesday_tagesschau_default-12     : __ON__ WEST TAG REGEN IX KOENNEN SCHNEE __EMOTION__ REGEN GEFRIEREN BODEN __OFF__\n",
      "16February_2010_Tuesday_tagesschau_default-5      : __ON__ LUFT MILD VIEL SCHNEE REGEN BODEN GLATT KOENNEN __OFF__\n",
      "16July_2009_Thursday_tagesschau_default-5         : HEUTE NACHT SUED loc-REGION NOCH REGEN GEWITTER loc-REGION KLAR HIMMEL BISSCHEN WOLKE\n",
      "16June_2010_Wednesday_tagesschau_default-2        : __ON__ NORD loc-REGION HEUTE NACHT KLAR STERN KOENNEN SEHEN SUED REGEN-PLUSPLUS REGEN loc-REGION __OFF__\n",
      "16March_2011_Wednesday_tagesschau_default-6       : TAG AUCH NORD MEHR REGION REST REGION ORT REGEN\n",
      "16March_2011_Wednesday_tagesschau_default-8       : WEHEN SCHWACH MAESSIG WEHEN NORD SEE BISSCHEN WEHEN NORD WEHEN\n",
      "16May_2010_Sunday_tagesschau_default-3            : IN-KOMMEND loc-NORD REGEN KUEHL LUFT BLEIBEN __OFF__\n",
      "16November_2009_Monday_tagesschau_default-9       : __ON__ MITTWOCH DONNERSTAG NORD WIND BLEIBEN TEIL REGEN SUED MEHR FREUNDLICH\n",
      "16September_2010_Thursday_tagesschau_default-10   : BERG IX UNTERSCHIED REGEN SONNTAG NORD ALPEN IX SONNE WOLKE AUCH SCHAUER SCHON SONST loc-REGION FREUNDLICH __OFF__\n",
      "16September_2010_Thursday_tagesschau_default-6    : SCHAUER NORDRAUM SCHAUER KURZ GEWITTER __OFF__\n",
      "17April_2010_Saturday_tagesschau_default-12       : DIENSTAG HAUPTSAECHLICH SONNE ABER WOLKE HABEN2 WECHSELHAFT MOEGLICH REGEN ODER GEWITTER\n",
      "17April_2010_Saturday_tagesschau_default-4        : LUFT WEHEN MEHR KUEHL __PU__\n",
      "17April_2011_Sunday_tagesschau_default-0          : __ON__ JETZT WETTER WIE-AUSSEHEN MORGEN MONTAG __ON__ ACHTZEHN APRIL __OFF__\n",
      "17February_2010_Wednesday_heute_default-3         : TIEF KOMMEN MILD WEST NORD KOMMEN HEUTE SCHNEE KOENNEN\n",
      "17February_2010_Wednesday_heute_default-6         : BODEN GEFRIEREN FLUSS REGEN PLUS SONST loc-REGION FROST\n",
      "17February_2010_Wednesday_tagesschau_default-9    : __ON__ WIND WEHEN MAESSIG __OFF__\n",
      "17February_2011_Thursday_heute_default-5          : TEMPERATUR NULL GRAD KALT NORD BIS MINUS FUENF GRAD __OFF__\n",
      "17February_2011_Thursday_heute_default-8          : SECHS BIS ACHT GRAD PLUS __OFF__\n",
      "17February_2011_Thursday_tagesschau_default-5     : TAG GANZTAGS MEHR STARK WOLKE ODER NEBEL SONNE\n",
      "17January_2011_Monday_tagesschau_default-7        : SUEDRAUM AUCH VIEL WOLKE ODER NEBEL ABER REGEN SUEDRAUM KAUM __PU__ __OFF__\n",
      "17July_2009_Friday_tagesschau_default-0           : __ON__ JETZT WETTER WIE-AUSSEHEN MORGEN SAMSTAG ACHTZEHN JULI __OFF__\n",
      "17July_2009_Friday_tagesschau_default-3           : KOMMEN KALT LUFT SO DESWEGEN WETTER WECHSELHAFT loc-OST\n",
      "17July_2009_Friday_tagesschau_default-4           : HEUTE ABEND UEBERWIEGEND REGEN STARK GEWITTER __PU__ DEUTSCH DIENST WARNUNG __PU__\n",
      "17June_2010_Thursday_tagesschau_default-8         : __ON__ HEUTE DEUTSCH LAND WETTER DIENST SCHON WARNUNG UNWETTER KOENNEN\n",
      "17May_2010_Monday_heute_default-13                : AUCH KUEHL DANN BESSER SONNE KOMMEN DANN WARM __OFF__\n",
      "17May_2010_Monday_heute_default-15                : __ON__ JETZT SCHOEN ABEND poss-EUCH __OFF__\n",
      "17October_2009_Saturday_tagesschau_default-11     : DIENSTAG RUHIG REGEN MIT SONNE TEIL NEBEL HOCH NEBEL __OFF__\n",
      "17September_2010_Friday_tagesschau_default-2      : __ON__ A EUROPA BIS SUED DEUTSCHLAND KOMMEN GUT WARM KOMMEN GUT __PU__\n",
      "18April_2010_Sunday_tagesschau_default-10         : DONNERSTAG MITTE FREUNDLICH NORD REGEN SUED REGEN __OFF__\n",
      "18April_2011_Monday_tagesschau_default-0          : __ON__ MORGEN WETTER WIE-AUSSEHEN DIENSTAG NEUNZEHN APRIL __OFF__\n",
      "18December_2010_Saturday_tagesschau_default-0     : __ON__ JETZT WETTER WIE-AUSSEHEN MORGEN SONNTAG NEUNZEHN DEZEMBER __OFF__\n",
      "18December_2010_Saturday_tagesschau_default-7     : __ON__ SUED TEIL REGEN MEISTENS SCHWACH __OFF__\n",
      "18December_2010_Saturday_tagesschau_default-8     : IX WEHEN IX WEHEN-PLUSPLUS WEHEN __OFF__\n",
      "18February_2010_Thursday_tagesschau_default-10    : __EMOTION__ MAL SONNE MOEGLICH SAMSTAG NORD WIND DANN NAECHSTE WOCHE WIE-IMMER WEITER __OFF__\n",
      "18February_2011_Friday_tagesschau_default-2       : BESONDERS OST DEUTSCH LAND MEHR REGEN ODER SCHNEE\n",
      "18February_2011_Friday_tagesschau_default-8       : SONST REGION FROST V MINUS SECHS REGION NOCH MINUS ZWEI GRAD REGION\n",
      "18January_2010_Monday_tagesschau_default-12       : __ON__ REGION SECHS GRAD loc-REGION MINUS EIN BIS FUENF GRAD __OFF__\n",
      "18January_2011_Tuesday_tagesschau_default-0       : __ON__ JETZT WETTER VORAUS INFORMIEREN MORGEN MITTWOCH NEUNZEHN JANUAR __OFF__\n",
      "18January_2011_Tuesday_tagesschau_default-3       : SONNE WOLKE __PU__\n",
      "18July_2009_Saturday_tagesschau_default-2         : __ON__ KOMMEN TIEF DRUCK DESWEGEN DEUTSCHLAND HABEN2 KUEHL REGEN-PLUSPLUS\n",
      "18July_2009_Saturday_tagesschau_default-6         : ANDERE MAESSIG ALPEN HEUTE NACHT SECHS MAXIMAL FUENFZEHN FLUSS\n",
      "18May_2010_Tuesday_heute_default-7                : __ON__ MORGEN REGEN KOMMEN WEST cl-KOMMEN __EMOTION__ SPEZIELL BAYERN loc-REGION\n",
      "18November_2009_Wednesday_tagesschau_default-0    : __ON__ JETZT WIE-AUSSEHEN WETTER MORGEN DONNERSTAG NEUNZEHN NOVEMBER\n",
      "18November_2009_Wednesday_tagesschau_default-3    : IN-KOMMEND RUHIG FREUNDLICH HERBST __PU__ __OFF__\n",
      "18November_2011_Friday_tagesschau_default-2       : __ON__ HOCH LUFT DRUCK EINFLUSS WOCHENENDE NAECHSTE WOCHE WIE-IMMER SO\n",
      "19April_2010_Monday_heute_default-17              : __ON__ JETZT WETTER SCHOEN ABEND BEGRUESSEN __OFF__\n",
      "19February_2010_Friday_tagesschau_default-3       : NAEHE TIEF LUFT DRUCK HAUPTSAECHLICH UNTERSCHIED DESHALB TEIL WIND\n",
      "19February_2011_Saturday_tagesschau_default-0     : __ON__ WETTER WIE-AUSSEHEN MORGEN SONNTAG ZWANZIG FEBRUAR __OFF__\n",
      "19January_2011_Wednesday_heute_default-12         : DANN IM-VERLAUF KOMMEN SCHNEE SCHEINEN SCHNEIEN SCHOEN ABEND poss-EUCH MACHEN GUT __OFF__\n",
      "19January_2011_Wednesday_heute_default-9          : WIND WETTER DAZU BISSCHEN KALT FRISCH NORD WEHEN\n",
      "19March_2011_Saturday_tagesschau_default-2        : __ON__ REGION KOMMEN STARK MORGEN VIEL SONNE\n",
      "19March_2011_Saturday_tagesschau_default-9        : MORGEN TEMPERATUR FUENF NORDRAUM BIS DREIZEHN FLUSS\n",
      "19November_2009_Thursday_tagesschau_default-0     : __ON__ JETZT WIE-AUSSEHEN WETTER MORGEN FREITAG ZWANZIG\n",
      "19November_2011_Saturday_tagesschau_default-12    : __ON__ HEUTE NACHT FUENF IX MINUS FUENF BERG\n",
      "19October_2010_Tuesday_heute_default-3            : MORGEN KUEHL ZEHN GRAD NUR loc-OST SCHAFFEN MAXIMAL ZEHN GRAD MITTE BERG BESONDERS OST loc-SUED\n",
      "19October_2010_Tuesday_tagesschau_default-5       : TAG WOLKE DANN REGEN loc-NORDWEST BERG IX AUCH UEBERWIEGEND REGEN SCHNEE SCHNEIEN __PU__\n",
      "19October_2010_Tuesday_tagesschau_default-6       : NACHT AUCH BODEN MOEGLICH REGEN GRAUPEL KURZ GEWITTER __OFF__\n",
      "19September_2010_Sunday_tagesschau_default-11     : DONNERSTAG BISSCHEN SONNE WEST WOLKE MEHR-PLUSPLUS NACH MITTAG BISSCHEN SONNE GEWITTER __OFF__\n",
      "19September_2010_Sunday_tagesschau_default-6      : __ON__ SUED WIND NUR SCHWACH NORD WEHEN KUESTE STARK STURM __PU__\n",
      "20April_2011_Wednesday_tagesschau_default-7       : AUCH TAG VIEL SONNE IM-VERLAUF IX WOLKE\n",
      "20February_2010_Saturday_tagesschau_default-7     : loc-ALPEN MINUS ACHT IN-KOMMEND loc-NORDOST FLUSS MINUS EINS FLUSS PLUS ACHT\n",
      "20January_2010_Wednesday_heute_default-14         : __ON__ KALT ZEIGEN loc-NORDOST MINUS FUENF MINUS SIEBEN GRAD\n",
      "20July_2010_Tuesday_heute_default-6               : IX VIEL __PU__ MOEGLICH BEISPIEL FLUSS FUENF GRAD ZWANZIG GRAD KUESTE IX DREISSIG GRAD __OFF__\n",
      "20June_2011_Monday_heute_default-0                : __ON__ SO MAESSIG ENORM ABER ZWEI JETZT SCHOEN GUT ABEND\n",
      "20June_2011_Monday_heute_default-5                : BISSCHEN WARM KALT WARM KALT WETTER WECHSELHAFT IN-KOMMEND WIE-IMMER\n",
      "20June_2011_Monday_tagesschau_default-0           : __ON__ JETZT WETTER VORAUS INFORMIEREN MORGEN DIENSTAG EINS ZWANZIG JUNI __OFF__\n",
      "20June_2011_Monday_tagesschau_default-9           : FLUSS MILD SECHSZEHN GRAD FLUSS NUR ACHT GRAD HOCH FLUSS WARM DREISSIG GRAD\n",
      "20November_2009_Friday_tagesschau_default-0       : __ON__ JETZT WETTER WIE-AUSSEHEN MORGEN SAMSTAG EINS ZWANZIG NOVEMBER __OFF__\n",
      "20November_2009_Friday_tagesschau_default-10      : TEIL WIND MEHR KUEHL AUCH DANN IX HERBST MILD __OFF__\n",
      "20November_2009_Friday_tagesschau_default-2       : __ON__ TIEF KOMMEN loc-REGION HEUTE NACHT BISSCHEN REGEN DEUTSCH LAND SONST SCHON HOCH DRUCK __PU__ TROCKEN TEIL FREUNDLICH MORGEN __OFF__\n",
      "20November_2009_Friday_tagesschau_default-5       : FLUSS NEBEL BLEIBEN MORGEN LANG DAUER NEBEL WOLKE ABER TROCKEN NACH MITTAG MEHR FREUNDLICH __OFF__\n",
      "20November_2010_Saturday_tagesschau_default-9     : KLAR NACHT BISSCHEN EIS NORDOSTRAUM PLUS FUENF\n",
      "20October_2010_Wednesday_tagesschau_default-13    : __ON__ HEUTE NACHT NORDRAUM DREI FUENF GRAD REGION ZWISCHEN NULL\n",
      "20October_2010_Wednesday_tagesschau_default-5     : __ON__ HEUTE NACHT WAHRSCHEINLICH SCHAUER IX AUCH GEWITTER\n",
      "20October_2010_Wednesday_tagesschau_default-8     : __ON__ SUED MORGEN WOLKE TEIL SONNE SONST REGION SCHAUER\n",
      "20October_2011_Thursday_tagesschau_default-16     : TAG BERG SECHS GRAD REGION DREIZEHN GRAD REGION WIE-AUSSEHEN IN-KOMMEND __OFF__\n",
      "20October_2011_Thursday_tagesschau_default-5      : SUED loc-REGION KOENNEN NACHT FROST __OFF__\n",
      "20September_2010_Monday_heute_default-3           : MEHR FREUNDLICH HEUTE NACHT WAHRSCHEINLICH REGEN NORDRAUM REGION MEHR STERN KOENNEN SEHEN\n",
      "21April_2010_Wednesday_heute_default-0            : __ON__ GUT ABEND BEGRUESSEN JETZT NACHT FROST KOENNEN TAG TEMPERATUR HOCH NICHTALP-AUCH\n",
      "21April_2010_Wednesday_tagesschau_default-9       : MORGEN loc-NORD NEUN GRAD loc-SUED ACHTZEHN GRAD __OFF__\n",
      "21August_2010_Saturday_tagesschau_default-10      : __ON__ HEUTE NACHT ZWISCHEN NEUNZEHN ZWISCHEN loc-SUEDOST MAXIMAL ZWOELF\n",
      "21August_2011_Sunday_tagesschau_default-5         : __ON__ NORDRAUM NACHT ANFANG ENORM SCHAUER GEWITTER DANN WOLKE VERSCHWINDEN\n",
      "21January_2011_Friday_tagesschau_default-3        : NORDWESTRAUM MEHR REGEN ODER SCHNEE\n",
      "21January_2011_Friday_tagesschau_default-4        : HEUTE NACHT STERN IX MEISTENS NEBEL AUCH\n",
      "21March_2011_Monday_tagesschau_default-10         : __ON__ BERG SEE MAESSIG FRISCH\n",
      "21May_2010_Friday_tagesschau_default-0            : __ON__ JETZT WETTER MORGEN __OFF__\n",
      "21May_2010_Friday_tagesschau_default-10           : __ON__ __PU__ WIND WEHEN HAUPTSAECHLICH SCHWACH MAESSIG WEHEN-PLUSPLUS __OFF__\n",
      "21May_2010_Friday_tagesschau_default-12           : MORGEN NORD loc-REGION FUENFZEHN GRAD loc-REGION VIERZEHN ZWANZIG GRAD MOEGLICH __PU__\n",
      "21May_2010_Friday_tagesschau_default-13           : SONNTAG BLEIBEN SO MONTAG NORD loc-NORD WOLKE KOMMEN REGEN __PU__\n",
      "21May_2010_Friday_tagesschau_default-7            : MOEGLICH NEBEL MORGEN NORD loc-REGION TRUEB SONNE WECHSELHAFT MOEGLICH SCHAUER GEWITTER\n",
      "21November_2009_Saturday_tagesschau_default-7     : NORDWESTRAUM SCHAUER STURM WEHEN ABEND STURM BERG ORKAN MOEGLICH\n",
      "21November_2010_Sunday_tagesschau_default-12      : __ON__ HEUTE NACHT HABEN2 FROST MOEGLICH SONST NULL BIS VIER GRAD __OFF__\n",
      "21November_2010_Sunday_tagesschau_default-15      : MITTWOCH DONNERSTAG WECHSELHAFT BISSCHEN REGEN SCHNEE REGEN MEHR TIEF SCHNEE DA __OFF__\n",
      "21November_2011_Monday_heute_default-14           : ABER TIEF KOMMEN MEHR WEHEN cl-KOMMEN BESONDERS NORD BISSCHEN REGEN IHR SCHOEN ABEND __OFF__\n",
      "21November_2011_Monday_heute_default-3            : SONST BISSCHEN REGEN ABER BIS-JETZT NICHT-HABEN REGEN BEDEUTEN FROST\n",
      "21November_2011_Monday_heute_default-6            : PLUS VIER SEE AUCH WEST loc-REGION VIER GRAD __OFF__\n",
      "21November_2011_Monday_tagesschau_default-4       : NACHT ANFANG KLAR HIMMEL DANN MEHR NEBEL HOCH NEBEL\n",
      "21October_2010_Thursday_tagesschau_default-7      : __ON__ NORD HEUTE HAUPTSAECHLICH WEHEN AUCH STURM DANN ORKAN MOEGLICH __PU__\n",
      "21October_2011_Friday_tagesschau_default-2        : __ON__ HOCH cl-KOMMEN DANN IN-KOMMEND WETTER\n",
      "21October_2011_Friday_tagesschau_default-3        : REGION NEBEL LANG loc-REGION SONNE BERG UND DANN DURCH SONNE __OFF__\n",
      "22April_2010_Thursday_tagesschau_default-14       : __ON__ WOCHENENDE HAUPTSAECHLICH SONNE MEHR WARM __PU__\n",
      "22April_2010_Thursday_tagesschau_default-16       : AUCH MONTAG MOEGLICH REGEN GEWITTER MEHR WOLKE loc-REGION ABER BLEIBEN WARM SONNE GUT\n",
      "22August_2010_Sunday_tagesschau_default-5         : MORGEN ORT-PLUSPLUS SCHAUER BESONDERS loc-SUEDOST TATSAECHLICH GEWITTER HAUPTSAECHLICH REGEN AUCH UNWETTER MOEGLICH\n",
      "22August_2010_Sunday_tagesschau_default-9         : FLUSS MAXIMAL NEUN ZWANZIG GRAD DIENSTAG SUED NOCH REGEN GEWITTER\n",
      "22February_2010_Monday_tagesschau_default-6       : __ON__ loc-NORDOST HEUTE NACHT TROCKEN IX REGEN NORD REGEN REGEN-PLUSPLUS REGEN NORD IX SCHNEE KOENNEN\n",
      "22February_2011_Tuesday_tagesschau_default-3      : MORGEN WETTER DANN NAECHSTE DONNERSTAG WEST cl-KOMMEN MILD SCHNEE SCHNEIEN REGEN MIT FROST\n",
      "22February_2011_Tuesday_tagesschau_default-4      : HEUTE NACHT KLAR HIMMEL KLAR SUED NORDOSTRAUM KOENNEN WOLKE\n",
      "22January_2011_Saturday_tagesschau_default-9      : __ON__ SUED KLAR IX FROST loc-NORDWEST PLUS EINS\n",
      "22July_2009_Wednesday_tagesschau_default-4        : NACHT HAUPTSAECHLICH loc-NORDWEST SCHAUER GEWITTER HEFTIG REGEN-PLUSPLUS MOEGLICH\n",
      "22November_2010_Monday_heute_default-10           : BIS NACHT IN-KOMMEND DANN KOMMEN BODEN __OFF__\n",
      "22November_2011_Tuesday_heute_default-2           : WOCHENENDE VIEL REGEN KAUM NORMAL MITTE REGION SCHON SECHS LITER REGEN MOEGLICH DEUTSCH LAND\n",
      "22October_2010_Friday_tagesschau_default-6        : REGION NACHT ACHT WEITER KLAR WINTER BERG REGION MORGEN SIEBEN\n",
      "22September_2010_Wednesday_heute_default-13       : __ON__ FREITAG LANGSAM UNTER TEMPERATUR SINKEN OST REGEN __EMOTION__ SAMSTAG KUEHL HERBST SUPER IN-KOMMEND SCHOEN ABEND TSCHUESS __OFF__\n",
      "22September_2010_Wednesday_tagesschau_default-5   : __ON__ HEUTE NACHT KLAR STERN KOENNEN SEHEN WOLKE BESONDERS NAEHE MITTE SUED REGION NEBEL __OFF__\n",
      "23August_2010_Monday_heute_default-8              : AUCH BLEIBEN MITTWOCH ABER DONNERSTAG HEISS IX SUED NORD REGEN KUEHL\n",
      "23February_2011_Wednesday_heute_default-8         : REGION IX L REGION BLEIBEN FROST ABER DANN BESONDERS SONNE WIE HEUTE\n",
      "23January_2011_Sunday_tagesschau_default-0        : __ON__ JETZT WETTER WIE-AUSSEHEN MORGEN MONTAG VIER ZWANZIG JANUAR ZWEIZWANZIG MAI __OFF__\n",
      "23July_2009_Thursday_tagesschau_default-0         : __ON__ MORGEN WETTER WIE-AUSSEHEN FREITAG VIER ZWANZIG JUNI __OFF__\n",
      "23July_2009_Thursday_tagesschau_default-2         : __ON__ HEUTE BEWOELKT KUEHL MEER WEHEN KOMMEN KOENNEN WIND GEWITTER\n",
      "23July_2010_Friday_tagesschau_default-10          : SONNTAG LANG SONNE NUR MAL SCHAUER OST REGION IX MOEGLICH LANG REGEN\n",
      "23May_2010_Sunday_tagesschau_default-3            : __ON__ IN-KOMMEND TIEF KOMMEN __EMOTION__ WETTER WECHSELHAFT TEMPERATUR SINKEN __OFF__\n",
      "23October_2010_Saturday_tagesschau_default-10     : __ON__ WOLKE DESWEGEN NACHT ZWEI BIS ACHT NICHT-HABEN FROST MORGEN REGION ALLGAEU FUENF\n",
      "23October_2010_Saturday_tagesschau_default-8      : IX BERG SCHWER STURM\n",
      "23September_2009_Wednesday_tagesschau_default-10  : __ON__ FREITAG NAEHE KUESTE SUED STARK WOLKE SONST loc-REGION FREUNDLICH\n",
      "23September_2010_Thursday_tagesschau_default-13   : loc-SUEDOST SECHS BIS ACHT FLUSS MILD FUENFZEHN GRAD\n",
      "23September_2010_Thursday_tagesschau_default-16   : __ON__ SAMSTAG UEBERWIEGEND WOLKE SONNE WENIG loc-SUEDOST REGEN KOENNEN __PU__ SUEDWESTRAUM SCHAUER __OFF__\n",
      "24April_2010_Saturday_tagesschau_default-5        : TAG SONNE SUED WEST BISSCHEN WOLKE NACHMITTAG SCHWARZ\n",
      "24April_2010_Saturday_tagesschau_default-8        : NORD ZWOELF IX BODEN FROST MOEGLICH\n",
      "24August_2009_Monday_heute_default-4              : MORGEN BIS NACH MITTAG loc-OST SONNE DAZU SUED WOLKE cl-KOMMEN\n",
      "24August_2009_Monday_heute_default-8              : __ON__ MITTWOCH REST SCHAUER GEWITTER OST\n",
      "24August_2010_Tuesday_heute_default-0             : __ON__ LIEB ZUSCHAUER ABEND WETTER ENORM GESTERN NOCH ORKAN WEHEN\n",
      "24August_2010_Tuesday_heute_default-3             : __ON__ NAECHSTE REGEN AB DONNERSTAG WAHRSCHEINLICH KUEHL BLEIBEN\n",
      "24August_2010_Tuesday_tagesschau_default-5        : __ON__ HEUTE NACHT KUESTE REGEN loc-SUED AUCH IX LANGSAM VERSCHWINDEN loc-REGION TROCKEN KOENNEN\n",
      "24December_2010_Friday_tagesschau_default-7       : OST FRISCH STARK WEHEN NORD BERG TEILWEISE ENORM FROST\n",
      "24February_2011_Thursday_heute_default-1          : BERG SACHSEN __OFF__ __ON__ WEST FUENF M SCHON __OFF__\n",
      "24February_2011_Thursday_tagesschau_default-15    : __ON__ SONNTAG ZWOELF WOLKE AUCH IX SCHNEE BERG KOENNEN SCHNEE MONTAG ODER WETTER __EMOTION__ FEUCHT WENIG __OFF__\n",
      "24January_2010_Sunday_tagesschau_default-0        : __ON__ JETZT WETTER WIE-AUSSEHEN MORGEN MONTAG FUENF ZWANZIG JANUAR __OFF__\n",
      "24January_2011_Monday_heute_default-9             : __ON__ WIND IX SCHNEE UEBER DREIHUNDERT METER NACH MITTAG REGEN cl-KOMMEN BERLIN\n",
      "24January_2013_Thursday_heute_default-12          : SAMSTAG KALT MINUS ZEHN TEMPERATUR SONNTAG GLATT EIS REGEN\n",
      "24January_2013_Thursday_heute_default-4           : BISSCHEN WOLKE WETTER AUCH MEISTENS KLAR cl-KOMMEN ABER WEST MEHR MILD LUFT SCHOEN\n",
      "24January_2013_Thursday_heute_default-7           : BISSCHEN REGEN SCHNEE IN-KOMMEND SACHSEN FLUSS BERG BAYERN MOEGLICH SCHNEE SONST\n",
      "24January_2013_Thursday_tagesschau_default-2      : SONNTAG AUCH MEER cl-KOMMEN BISSCHEN MEHR MILD cl-KOMMEN\n",
      "24July_2010_Saturday_tagesschau_default-11        : DIENSTAG SUED SCHAUER TEIL GEWITTER NORD FREUNDLICH\n",
      "24July_2010_Saturday_tagesschau_default-6         : OST REGEN WEST __EMOTION__ REGEN __LEFTHAND__\n",
      "24July_2011_Sunday_tagesschau_default-11          : OST SONNE MEHR MITTWOCH UEBERWIEGEND NACHMITTAG SCHAUER GEWITTER GLEICH WIE WETTER DEUTSCH __OFF__\n",
      "24June_2010_Thursday_tagesschau_default-0         : __ON__ MORGEN WETTER WIE-AUSSEHEN FREITAG FUENF ZWANZIG JULI __OFF__\n",
      "24March_2011_Thursday_tagesschau_default-5        : __ON__ NACHT NORDRAUM NORDOSTRAUM WOLKE OST REGION MOEGLICH IX REGEN SONST REGION WOLKE LOCKER\n",
      "24May_2010_Monday_tagesschau_default-0            : __ON__ JETZT WETTER WIE-AUSSEHEN MORGEN DIENSTAG FUENF ZWANZIG MAI __OFF__\n",
      "24May_2011_Tuesday_heute_default-1                : TEMPERATUR ZWISCHEN MITTE BERG NULL ZWISCHEN __EMOTION__ BODEN FROST MOEGLICH SCHOEN ABEND poss-EUCH __OFF__\n",
      "24May_2011_Tuesday_heute_default-6                : __ON__ FLUSS E SUED SONNE ENORM KLAR ABER SUED __OFF__\n",
      "24May_2011_Tuesday_tagesschau_default-12          : BAYERN SUED MAXIMAL ELF KUESTE KUEHL FUENFZEHN SECHSZEHN FLUSS DREI ZWANZIG BIS SECHS ZWANZIG GRAD\n",
      "24May_2011_Tuesday_tagesschau_default-2           : __ON__ DEUTSCH LAND MORGEN HOCH DRUCK cl-KOMMEN SONNE TROCKEN __OFF__\n",
      "24November_2009_Tuesday_tagesschau_default-13     : __ON__ HEUTE NACHT NORD ELF GRAD REGION EINS GRAD MITTE REGION ZEHN GRAD __OFF__ loc-SUED SECHSZEHN GRAD __OFF__\n",
      "24November_2009_Tuesday_tagesschau_default-15     : __ON__ DONNERSTAG BESONDERS loc-NORDWEST REGEN STURM KOENNEN IX AUCH GEWITTER loc-SUEDOST SONNE DABEI\n",
      "24November_2009_Tuesday_tagesschau_default-2      : __ON__ SCHOTTLAND loc-REGION UND SUED EUROPA HOCH KOMMEN DAZWISCHEN MORGEN LUFT MILD __OFF__\n",
      "24November_2009_Tuesday_tagesschau_default-3      : __ON__ IX WARM IN-KOMMEND MEHR BISSCHEN KUEHL WENIGER __OFF__\n",
      "24November_2009_Tuesday_tagesschau_default-9      : __ON__ HEUTE NACHT BESONDERS NORD __EMOTION__ MITTAG loc-NORDWEST STURM NORDRAUM SCHWACH WIND BERG ORKAN KOENNEN\n",
      "24November_2011_Thursday_heute_default-5          : NORDRAUM FROST NICHT-HABEN MILD AEHNLICH WIE HEUTE SECHS ZWISCHEN ELF GRAD\n",
      "24November_2011_Thursday_tagesschau_default-13    : SONNTAG MEHR WIND NORDWESTRAUM WOLKE BISSCHEN REGEN MONTAG MEISTENS TROCKEN SONNE WOLKE IM-VERLAUF __OFF__\n",
      "24November_2011_Thursday_tagesschau_default-5     : NORDRAUM WAHRSCHEINLICH WOLKE MEHR __PU__ __OFF__\n",
      "24October_2009_Saturday_tagesschau_default-12     : __ON__ MORGEN loc-REGION BIS DREIZEHN WEST BIS SIEBZEHN GRAD __OFF__\n",
      "24October_2009_Saturday_tagesschau_default-9      : __ON__ WIND ZEIGEN SCHWACH MAESSIG NORDRAUM FRISCH WIND KOENNEN __OFF__\n",
      "24October_2010_Sunday_tagesschau_default-10       : OST loc-SUEDOST BISSCHEN SCHAUER BIS BERG SCHNEE TEIL NEBEL WOLKE SONNE\n",
      "24October_2010_Sunday_tagesschau_default-11       : MITTWOCH cl-KOMMEN REGEN REGION loc-SUEDOST MISCHUNG NEBEL WOLKE SONNE\n",
      "24September_2009_Thursday_heute_default-2         : HIER AUCH HOCH SEHEN ABER SAMSTAG SONNTAG HEUTE NACHT BAYERN IX WALD BISSCHEN REGEN\n",
      "24September_2009_Thursday_heute_default-3         : SONST IX STERN NEBEL TEMPERATUR DREIZEHN ZWISCHEN FUENF GRAD MORGEN IX\n",
      "24September_2009_Thursday_heute_default-6         : ABER ENORM SPAET SOMMER WARM NEU IN-KOMMEND WECHSELHAFT SCHOEN ABEND poss-EUCH __OFF__\n",
      "25August_2009_Tuesday_heute_default-10            : DONNERSTAG FREUNDLICH SONNE MEHR WARM GRAD __OFF__\n",
      "25August_2009_Tuesday_tagesschau_default-13       : __ON__ IN-KOMMEND WIE-AUSSEHEN __PU__ TEIL WECHSELHAFT SONNE WOLKE TATSAECHLICH GEWITTER KOENNEN\n",
      "25August_2009_Tuesday_tagesschau_default-3        : __ON__ DANN BESONDERS REGEN-PLUSPLUS GEWITTER BESONDERS SUED loc-SUEDOST STURM STARK KOENNEN DEUTSCH WETTER DIENST SCHON WARNUNG __OFF__\n",
      "25August_2009_Tuesday_tagesschau_default-9        : __ON__ HEUTE NACHT TEMPERATUR ZEHN REGION BIS ACHTZEHN loc-REGION __OFF__\n",
      "25August_2010_Wednesday_heute_default-6           : GRUND __PU__ ABER SUED loc-REGION MEHR FEUCHT WARM SUED loc-REGION SONNE ABEND GEWITTER KOENNEN __OFF__\n",
      "25August_2010_Wednesday_tagesschau_default-10     : MORGEN DREISSIG GRAD loc-REGION ACHTZEHN GRAD\n",
      "25August_2010_Wednesday_tagesschau_default-2      : __ON__ WEST KOMMEN TIEF TEIL ENORM REGEN GEWITTER SUED loc-REGION MORGEN NOCH HOCH DRUCK\n",
      "25August_2010_Wednesday_tagesschau_default-3      : DANN SCHON GUT WARM __PU__ HEUTE NACHT WEST KOMMEN REGEN KOENNEN\n",
      "25February_2010_Thursday_tagesschau_default-9     : __ON__ KUESTE IX MORGEN DREI IX FLUSS BIS DREI GRAD\n",
      "25February_2011_Friday_tagesschau_default-6       : __ON__ TAG OST VIEL SONNE WEST REGEN FLUSS KUESTE __OFF__\n",
      "25January_2011_Tuesday_tagesschau_default-11      : FREITAG RUHIG WETTER BESONDERS NORDRAUM FREUNDLICH GLEICH SAMSTAG AUCH NUR NORD BISSCHEN SCHNEE SCHNEIEN REGEN MIT FROST __OFF__\n",
      "25January_2013_Friday_tagesschau_default-0        : __ON__ JETZT WIE AUSSEHEN WETTER MORGEN SAMSTAG SECHS ZWANZIG JANUAR __OFF__\n",
      "25January_2013_Friday_tagesschau_default-15       : __ON__ SONNTAG SCHNEE REGEN GEFRIEREN KOMMEN KOENNEN GLATT\n",
      "25June_2010_Friday_tagesschau_default-2           : __ON__ KOMMEN __PU__ WOCHENENDE VIEL SONNE TEMPERATUR STEIGEN ZWISCHEN\n",
      "25June_2010_Friday_tagesschau_default-6           : __ON__ AUCH ABEND NACHT IM-VERLAUF DANN loc-REGION REGEN VERSCHWINDEN REGION KLAR IX BISSCHEN NEBEL\n",
      "25June_2010_Friday_tagesschau_default-8           : __ON__ MORGEN loc-REGION __PU__ IX BISSCHEN WOLKE BEWOELKT\n",
      "25June_2010_Friday_tagesschau_default-9           : __ON__ SUED loc-REGION BESONDERS BAYERN WALD BIS REGION DANN REGEN NACH MITTAG KOENNEN\n",
      "25March_2011_Friday_tagesschau_default-13         : __ON__ MONTAG WEST loc-REGION SONNE KUESTE BERG IX MEHR WOLKE BISSCHEN ORT-PLUSPLUS REGEN\n",
      "25November_2009_Wednesday_tagesschau_default-0    : __ON__ JETZT MORGEN WETTER WIE-AUSSEHEN __PU__ DONNERSTAG SECHS ZWANZIG NOVEMBER __OFF__\n",
      "25November_2009_Wednesday_tagesschau_default-13   : __ON__ FREITAG SCHNEE WECHSELHAFT loc-NORDWEST KOENNEN GEWITTER __OFF__\n",
      "25November_2009_Wednesday_tagesschau_default-3    : __ON__ MEER KOMMEN BISSCHEN LUFT NICHT-HABEN MILD __OFF__\n",
      "25November_2010_Thursday_tagesschau_default-3     : HEUTE NACHT BESONDERS loc-ZONE BADEN WUERTTEMBERG BIS SACHSEN SONST loc-REGION SCHNEE SCHNEIEN SCHAUER VORSICHT ACHTUNG STRASSE GLATT\n",
      "25November_2011_Friday_tagesschau_default-10      : SUED SONNTAG OFT SONNE SONST REGION VIEL WOLKE ORT-PLUSPLUS REGEN\n",
      "25November_2011_Friday_tagesschau_default-4       : HEUTE NACHT WOLKE MEHR KOMMEN BISSCHEN REGEN\n",
      "25November_2011_Friday_tagesschau_default-9       : FLUSS ZEHN ZWOELF SONST loc-REGION ZWEI ZWISCHEN NEUN __OFF__\n",
      "25October_2010_Monday_heute_default-9             : DANN NEU WOLKE cl-KOMMEN NACH MITTAG REGEN SCHON WIND WEHEN __OFF__\n",
      "25October_2010_Monday_tagesschau_default-21       : __ON__ DONNERSTAG loc-NORD REGEN loc-REGION SONNE WOLKE WECHSELHAFT DANN FREITAG AEHNLICH WETTER __OFF__\n",
      "25October_2010_Monday_tagesschau_default-6        : __ON__ REGEN SCHNEE ALPEN VERSCHWINDEN NORDRAUM REGEN KOENNEN SONST loc-REGION STERN KOENNEN SEHEN __OFF__\n",
      "25October_2010_Monday_tagesschau_default-8        : __ON__ TAG WOLKE SONNE WOLKE NEBEL loc-SUEDOST NORD SCHAUER KOENNEN\n",
      "25September_2010_Saturday_tagesschau_default-10   : MONTAG MEISTENS REGEN NORDOSTRAUM REGEN-PLUSPLUS REGEN OST DAZU WIND BISSCHEN __LEFTHAND__\n",
      "25September_2010_Saturday_tagesschau_default-4    : __ON__ DARUM UNWETTER WEHEN loc-REGION WECHSELHAFT WOLKE\n",
      "26April_2010_Monday_tagesschau_default-6          : __ON__ NORD REGEN-PLUSPLUS REGEN WOLKE VERSCHWINDEN ALPEN REGEN KOENNEN IX NEBEL __OFF__\n",
      "26August_2009_Wednesday_heute_default-3           : ABER REGION loc-NORDWEST KUEHL FUENFZEHN BIS ZWANZIG GRAD __OFF__\n",
      "26August_2009_Wednesday_tagesschau_default-0      : __ON__ MORGEN WETTER WIE-AUSSEHEN __PU__ DONNERSTAG SIEBEN ZWANZIG AUGUST __OFF__\n",
      "26August_2009_Wednesday_tagesschau_default-15     : __ON__ SAMSTAG KUEHL WENIGER NORD STARK WIND AB SONNTAG TEMPERATUR SONNE LANG __OFF__\n",
      "26January_2010_Tuesday_heute_default-8            : IM-VERLAUF BLEIBEN WINTER MOEGLICH __PU__ SCHNEE KOENNEN __PU__ WOCHENENDE IX MEHR KALT __PU__\n",
      "26January_2010_Tuesday_tagesschau_default-0       : __ON__ JETZT WETTER MORGEN MITTWOCH ZWANZIG JANUAR __OFF__\n",
      "26July_2010_Monday_tagesschau_default-8           : MITTWOCH NORDWESTRAUM cl-KOMMEN REGEN SCHAUER TEIL GEWITTER\n",
      "26July_2010_Monday_tagesschau_default-9           : TAGE BLEIBEN SO WECHSELHAFT __EMOTION__ TEMPERATUR GRAD __OFF__\n",
      "26June_2010_Saturday_tagesschau_default-7         : __ON__ loc-REGION TAGSUEBER DANN WOLKE __OFF__ __ON__ DANN SUEDWESTRAUM BISSCHEN GEWITTER KOENNEN\n",
      "26June_2010_Saturday_tagesschau_default-9         : __ON__ WIND SCHWACH __OFF__\n",
      "26March_2011_Saturday_tagesschau_default-5        : __ON__ HEUTE NACHT B BAYERN REGION REGEN\n",
      "26May_2010_Wednesday_heute_default-0              : __ON__ LIEB ZUSCHAUER BEGRUESSEN GUT ABEND HEUTE AUCH WETTER ENORM UEBERWIEGEND GEWITTER NACH MITTAG AUCH REGEN\n",
      "26May_2011_Thursday_tagesschau_default-7          : SONST REGION WOLKE MAL WOLKE IX REGION SCHAUER KURZ GEWITTER\n",
      "26October_2009_Monday_tagesschau_default-11       : loc-NORDOST MEHR WOLKE WAHRSCHEINLICH REGEN FREITAG WENN NEBEL VERSCHWINDEN SONNE __OFF__\n",
      "26October_2009_Monday_tagesschau_default-4        : __ON__ HEUTE NACHT MEISTENS WOLKE loc-ORT-PLUSPLUS REGEN\n",
      "26September_2009_Saturday_tagesschau_default-4    : __ON__ SUED BISSCHEN SCHAUER MOEGLICH __OFF__\n",
      "26September_2009_Saturday_tagesschau_default-6    : WENN NEBEL TAG VERSCHWINDEN SONNE SUED REGEN-PLUSPLUS REGEN IX BISSCHEN WOLKE __OFF__\n",
      "26September_2009_Saturday_tagesschau_default-7    : __ON__ loc-NORD WIND SCHWACH MAESSIG IX WEHEN SONST loc-REGION VERSCHIEDEN WEHEN\n",
      "27April_2010_Tuesday_heute_default-1              : SCHON MORGEN GRAD SUED ZWEI AUCH WARM HIER LAND SCHON loc-SUEDWEST FUENF ZWANZIG GRAD\n",
      "27April_2010_Tuesday_heute_default-11             : __ON__ WEST MEHR WARM NACH MITTAG ABEND __EMOTION__ NORDWESTRAUM DANN FREITAG KOMMEN\n",
      "27August_2009_Thursday_tagesschau_default-0       : MORGEN WETTER WIE-AUSSEHEN FREITAG ACHT ZWANZIG AUGUST __OFF__\n",
      "27August_2009_Thursday_tagesschau_default-2       : __ON__ SCHOTTLAND KOMMEN TIEF KOMMEN JETZT DEUTSCH LAND KUEHL STROEMEN __OFF__\n",
      "27August_2010_Friday_tagesschau_default-14        : __ON__ SONNTAG MONTAG __PU__ __EMOTION__ BLEIBEN SO MEHR KUEHL AUCH WECHSELHAFT\n",
      "27August_2010_Friday_tagesschau_default-6         : KAUM AUCH WOLKE REGEN HAUPTSAECHLICH loc-NORDWEST GEWITTER DABEI __OFF__\n",
      "27June_2010_Sunday_tagesschau_default-9           : MORGEN TEMPERATUR ZWANZIG GRAD OST SEE SUED DREI DREISSIG GRAD FLUSS\n",
      "27June_2011_Monday_heute_default-4                : __ON__ WEST WARM HEISS GRAD OST DANN NULL BIS VIERZEHN GRAD __OFF__\n",
      "27June_2011_Monday_heute_default-5                : __ON__ DANN MORGEN loc-REGION OST WAHRSCHEINLICH DREI ZWANZIG GRAD ANGENEHM DANN\n",
      "27May_2010_Thursday_heute_default-11              : SUED SCHON NAECHSTE SONNTAG WIEDER WECHSELHAFT\n",
      "27May_2010_Thursday_heute_default-2               : SAMSTAG IX NUR BISSCHEN SCHAUER cl-KOMMEN DANN TAG HEUTE NACHT BESONDERS loc-WEST SCHAUER\n",
      "27May_2010_Thursday_tagesschau_default-14         : SONNTAG WECHSELHAFT TEIL HAUPTSAECHLICH REGEN-PLUSPLUS AUCH DABEI GEWITTER\n",
      "27May_2011_Friday_tagesschau_default-12           : MORGEN loc-NORDOST FUENFZEHN GRAD FLUSS DREI ZWANZIG GRAD __OFF__\n",
      "27November_2009_Friday_tagesschau_default-9       : __ON__ MONTAG WOLKE MAL REGEN BERG SCHNEE SCHNEIEN IX ALPEN REGEN SCHNEE SCHNEIEN DIENSTAG WECHSELHAFT __PU__ __OFF__\n",
      "27November_2011_Sunday_tagesschau_default-0       : __ON__ JETZT INFORMIEREN WETTER MORGEN MONTAG ACHT ZWANZIG NOVEMBER __OFF__\n",
      "27November_2011_Sunday_tagesschau_default-10      : MORGEN SUED DAUER NEBEL NUR ZWEI __LEFTHAND__ MAXIMAL ELF\n",
      "27October_2009_Tuesday_tagesschau_default-0       : __ON__ JETZT WETTER WIE-AUSSEHEN IX MORGEN MITTWOCH ACHT ZWANZIG OKTOBER\n",
      "28August_2009_Friday_tagesschau_default-11        : __LEFTHAND__ ABEND IX cl-KOMMEN SCHAUER GEWITTER __OFF__\n",
      "28August_2009_Friday_tagesschau_default-7         : __ON__ WIND SCHWACH MAESSIG IX STARK IX WEHEN IX AUCH STURM\n",
      "28August_2009_Friday_tagesschau_default-8         : REGION NACHT ACHT GRAD L SECHSZEHN IX MORGEN ZWEIZWANZIG GRAD IX NUR SECHSZEHN GRAD\n",
      "28August_2009_Friday_tagesschau_default-9         : SONNTAG NORDRAUM WOLKE IX SCHAUER SONST loc-REGION VIEL SONNE\n",
      "28December_2011_Wednesday_tagesschau_default-6    : IX LUFT NEU REGEN VIERHUNDERT DREIHUNDERT METER SCHNEE\n",
      "28February_2011_Monday_tagesschau_default-12      : __ON__ RUEGEN IX BIS ZEHN GRAD loc-REGION __OFF__\n",
      "28February_2011_Monday_tagesschau_default-15      : __ON__ TEMPERATUR WIE-IMMER __OFF__\n",
      "28January_2010_Thursday_heute_default-0           : __ON__ GUT ABEND LIEB DU ZUSCHAUER BESONDERS STUNDE DOCH FUENF GRAD SCHNEE SCHNEIEN\n",
      "28January_2013_Monday_heute_default-12            : TAGSUEBER MILD __OFF__\n",
      "28January_2013_Monday_heute_default-8             : __ON__ WEST REGEN-PLUSPLUS REGEN cl-KOMMEN OST REGION __EMOTION__ ANFANG SCHNEE MITTE BERG AUCH __OFF__\n",
      "28January_2013_Monday_heute_default-9             : __ON__ STURM WEITER HEFTIG REGEN __ON__ WEHEN __OFF__\n",
      "28January_2013_Monday_tagesschau_default-12       : __ON__ WIND HEUTE NACHT WEHEN NORDRAUM STURM KOENNEN IX STURM BERG ORKAN __OFF__\n",
      "28July_2010_Wednesday_tagesschau_default-15       : __ON__ SAMSTAG FREUNDLICH TROCKEN MEHR WARM SONNTAG BEWOELKT REGEN KOMMEN __OFF__\n",
      "28July_2010_Wednesday_tagesschau_default-7        : __ON__ MORGEN REGEN-PLUSPLUS REGEN GEWITTER KOENNEN __OFF__\n",
      "28March_2011_Monday_tagesschau_default-5          : __ON__ SUED WOLKE IX KOENNEN loc-REGION KLAR SCHWACH __OFF__\n",
      "28March_2011_Monday_tagesschau_default-7          : __ON__ loc-NORDWEST __EMOTION__ loc-REGION NEBEL VERSCHWINDEN MORGEN MEISTENS SONNE __OFF__\n",
      "28May_2010_Friday_tagesschau_default-11           : __ON__ HEUTE NACHT ELF GRAD loc-SUEDOST BAYERN EINS GRAD loc-NORD\n",
      "28October_2009_Wednesday_tagesschau_default-2     : __ON__ NORD loc-NORDOST WOLKE MORGEN BISSCHEN REGEN SONST REGION HOCH __OFF__\n",
      "28October_2009_Wednesday_tagesschau_default-3     : HERBST MEHR NEBEL WOLKE SONNE HEUTE NACHT loc-NORD NORDOSTRAUM VIEL WOLKE IX REGEN\n",
      "28October_2009_Wednesday_tagesschau_default-5     : MORGEN MEISTENS WOLKE NEBEL AUCH SUED SONNE loc-NORDOST WOLKE IX REGEN __OFF__\n",
      "28October_2009_Wednesday_tagesschau_default-8     : __ON__ IX GEFRIEREN __OFF__ __ON__ MORGEN NORD ACHT SUED SIEBZEHN MAXIMAL\n",
      "28September_2009_Monday_tagesschau_default-7      : __ON__ WIE-AUSSEHEN IN-KOMMEND MITTWOCH NORD REGEN SUED MEHR FREUNDLICH\n",
      "28September_2010_Tuesday_heute_default-0          : __ON__ GUT ABEND BISHER TAG DEUTSCH VIEL REGEN-PLUSPLUS REGEN DARUM OST AUCH poss-SEIN\n",
      "28September_2010_Tuesday_heute_default-7          : FLUSS UNGEFAEHR FUENFZEHN IX SIEBZEHN GRAD EINS ZWEI GRAD STEIGEN\n",
      "29April_2010_Thursday_heute_default-10            : NOCH SONNE __PU__ VOR MITTAG NOCH __PU__ IM-VERLAUF NACH MITTAG SUED loc-REGION GEWITTER\n",
      "29August_2009_Saturday_tagesschau_default-3       : __ON__ HEUTE NACHT SELTEN DANN KOMMEN KUESTE loc-SUED __EMOTION__ WOLKE KLAR MORGEN FRUEH MOEGLICH NEBEL __OFF__\n",
      "29August_2011_Monday_tagesschau_default-4         : HEUTE NACHT NORDRAUM MEISTENS WOLKE BESONDERS IX loc-REGION MAL SCHAUER ALPEN IX AUCH SCHAUER\n",
      "29December_2011_Thursday_tagesschau_default-4     : DESWEGEN SCHNEE KOENNEN SUEDWESTRAUM __EMOTION__ WARNUNG UNWETTER\n",
      "29December_2011_Thursday_tagesschau_default-7     : OST SUED SCHNEE SONST WECHSELHAFT WOLKE SCHAUER SONNE\n",
      "29January_2010_Friday_tagesschau_default-4        : MEHR OST DANN MORGEN SCHNEE SCHNEIEN loc-NORDOST SCHNEE SCHNEIEN\n",
      "29July_2010_Thursday_tagesschau_default-12        : SAMSTAG MEISTENS FREUNDLICH TROCKEN BEWOELKT SCHAUER NUR loc-NORDWEST\n",
      "29June_2011_Wednesday_tagesschau_default-12       : __ON__ FREITAG SONNE WOLKE WECHSELHAFT MOEGLICH BISSCHEN REGEN MOEGLICH GEWITTER NORDOSTRAUM BLEIBEN TROCKEN\n",
      "29June_2011_Wednesday_tagesschau_default-8        : NACHT ACHTZEHN GRAD REGION ACHT GRAD FLUSS __OFF__\n",
      "29March_2010_Monday_tagesschau_default-4          : __ON__ REGEN-PLUSPLUS GEWITTER KOMMEN IN-KOMMEND DANN KOMMEN KALT WECHSELHAFT __OFF__\n",
      "29March_2011_Tuesday_tagesschau_default-0         : __ON__ MORGEN WIE-AUSSEHEN WETTER MITTWOCH DREISSIG MAERZ __OFF__\n",
      "29March_2011_Tuesday_tagesschau_default-5         : __ON__ IN-KOMMEND REGEN-PLUSPLUS REGEN WENIG __EMOTION__ MORGEN BISSCHEN REGEN MEHR __OFF__\n",
      "29November_2009_Sunday_tagesschau_default-7       : BODEN loc-REGION MOEGLICH AUCH SCHNEE loc-REGION NORD loc-REGION NOCH TROCKEN __PU__\n",
      "29October_2009_Thursday_tagesschau_default-15     : MONTAG ANFANG WECHSELHAFT MEHR KUEHL __OFF__\n",
      "29October_2009_Thursday_tagesschau_default-2      : MISCHUNG NEBEL VERSCHWINDEN DANN WOLKE SONNE\n",
      "29September_2010_Wednesday_heute_default-2        : ABER TROTZDEM IN-KOMMEND KOMMEN REGEN MEHR NUR WEST loc-REGION OST REGEN\n",
      "29September_2011_Thursday_tagesschau_default-8    : VIERZEHN FLUSS MORGEN FLUSS MAXIMAL DREI ZWANZIG GRAD WENN NEBEL LANG SIEBZEHN GRAD\n",
      "29September_2011_Thursday_tagesschau_default-9    : SAMSTAG SONNTAG GLEICH DANN GERADE MONTAG TAG FRANKREICH TAG BISSCHEN KUEHL IX WOLKE\n",
      "29September_2012_Saturday_tagesschau_default-8    : __ON__ WIND SCHWACH MAESSIG TEMPERATUR FRISCH STARK MOEGLICH __OFF__\n",
      "30April_2010_Friday_tagesschau_default-9          : SAUER LAND FLUSS FUENF GRAD MORGEN KUESTE loc-REGION ZEHN GRAD BAYERN loc-REGION ZWANZIG GRAD __PU__\n",
      "30August_2011_Tuesday_heute_default-1             : DEUTSCH LAND BISSCHEN WENIG SONNE ABER VIEL REGEN\n",
      "30December_2010_Thursday_tagesschau_default-0     : __ON__ JETZT MORGEN WETTER WIE-AUSSEHEN __OFF__\n",
      "30December_2010_Thursday_tagesschau_default-9     : __ON__ NORDRAUM REGEN SCHNEE __EMOTION__ REGEN REGION TROCKEN\n",
      "30January_2013_Wednesday_tagesschau_default-15    : AUCH SAMSTAG REGEN SCHNEE SCHNEIEN IM-VERLAUF WEST NORD MEHR FREUNDLICH __OFF__\n",
      "30January_2013_Wednesday_tagesschau_default-7     : __ON__ TAG NORDOSTRAUM ANFANG SONNE SUED AUCH FREUNDLICH\n",
      "30July_2011_Saturday_tagesschau_default-11        : __ON__ WIND WEHEN SCHWACH MAESSIG WEHEN KOENNEN STARK __OFF__\n",
      "30July_2011_Saturday_tagesschau_default-5         : __ON__ REGEN-PLUSPLUS loc-REGION __OFF__\n",
      "30March_2010_Tuesday_tagesschau_default-9         : __ON__ WEST loc-REGION REGEN BERG SCHNEE SCHAUER DABEI __OFF__\n",
      "30March_2011_Wednesday_tagesschau_default-0       : __ON__ JETZT WETTER WIE-AUSSEHEN MORGEN DONNERSTAG EINS DREISSIG MAERZ __OFF__\n",
      "30May_2010_Sunday_tagesschau_default-4            : __ON__ IX KOENNEN UNWETTER WIND loc-NORDWEST REGEN\n",
      "30November_2009_Monday_tagesschau_default-6       : WEST loc-REGION TROCKEN __PU__ WOLKE SONNE __PU__ TEIL NEBEL\n",
      "30November_2009_Monday_tagesschau_default-7       : MORGEN __PU__ loc-SUEDOST loc-REGION TEIL REGEN-PLUSPLUS MOEGLICH SCHNEE\n",
      "30November_2009_Monday_tagesschau_default-8       : loc-REGION MEHR REGEN ODER WOLKE __PU__ WIND SCHWACH MAESSIG KOMMEN\n",
      "30October_2009_Friday_tagesschau_default-0        : __ON__ JETZT WETTER MORGEN SAMSTAG EINS DREISSIG OKTOBER __OFF__\n",
      "30October_2009_Friday_tagesschau_default-5        : OST loc-REGION NEBEL AUFLOESEN SONNE KOMMEN __PU__ WEST loc-REGION IM-VERLAUF MORGEN WOLKE BLEIBEN TROCKEN REGEN NICHT-HABEN\n",
      "30September_2009_Wednesday_tagesschau_default-2   : __ON__ TIEF KOMMEN JETZT DEUTSCH LAND KOMMEN\n",
      "31August_2010_Tuesday_heute_default-6             : SONST loc-REGION NEBEL HIMMEL __OFF__\n",
      "31January_2011_Monday_heute_default-13            : FREITAG NORD HAUPTSAECHLICH STURM ABER INSGESAMT SCHON MEHR MILD SCHOEN ABEND NOCH __OFF__\n",
      "31January_2011_Monday_tagesschau_default-0        : JETZT WETTER VORAUS INFORMIEREN MORGEN DIENSTAG ERSTE FEBRUAR __OFF__\n",
      "31January_2013_Thursday_tagesschau_default-13     : AB SAUER LAND VIER loc-REGION ZWOELF GRAD __OFF__\n",
      "31January_2013_Thursday_tagesschau_default-4      : HEUTE NACHT BESONDERS loc-REGION REGION REGEN\n",
      "31March_2010_Wednesday_tagesschau_default-0       : __ON__ MORGEN WETTER WIE-AUSSEHEN __PU__ ERSTE APRIL DONNERSTAG __OFF__\n",
      "31March_2010_Wednesday_tagesschau_default-11      : __ON__ FREITAG SONNE WOLKE WECHSELHAFT SCHAUER KOENNEN IX SONNE LANG __OFF__\n",
      "31March_2010_Wednesday_tagesschau_default-2       : __ON__ SCHOTTLAND TIEF KOMMEN AUCH KUEHL KOMMEN MORGEN WECHSELHAFT WETTER FREITAG __EMOTION__ WETTER AUFLOESEN\n",
      "31May_2011_Tuesday_heute_default-25               : SCHAUER loc-NORDWEST WARM WEHEN\n"
     ]
    }
   ],
   "execution_count": 6
  },
  {
   "metadata": {},
   "cell_type": "markdown",
   "source": "## Validate",
   "id": "e0f1c6bb0b7e94ba"
  },
  {
   "metadata": {
    "ExecuteTime": {
     "end_time": "2025-01-03T06:21:51.093733Z",
     "start_time": "2025-01-03T06:21:49.363857Z"
    }
   },
   "cell_type": "code",
   "source": [
    "datamodule.setup(stage=\"fit\")\n",
    "dev_dataloader = datamodule.val_dataloader()"
   ],
   "id": "9e525d2e8b8a965f",
   "outputs": [],
   "execution_count": 5
  },
  {
   "metadata": {
    "ExecuteTime": {
     "end_time": "2025-01-03T06:21:51.299623Z",
     "start_time": "2025-01-03T06:21:51.142395Z"
    }
   },
   "cell_type": "code",
   "source": "trainer = L.Trainer(accelerator='gpu', devices=[0], precision=\"16-mixed\", strategy=\"ddp_notebook\", logger=False)",
   "id": "14fba8ef2e87199d",
   "outputs": [
    {
     "name": "stderr",
     "output_type": "stream",
     "text": [
      "/new_home/xzj23/.conda/envs/slr/lib/python3.10/site-packages/lightning/fabric/plugins/environments/slurm.py:168: PossibleUserWarning: The `srun` command is available on your system but is not used. HINT: If your intention is to run Lightning on SLURM, prepend your python command with `srun` like so: srun python /new_home/xzj23/.conda/envs/slr/lib/python3.10/site- ...\n",
      "  rank_zero_warn(\n",
      "Using 16bit Automatic Mixed Precision (AMP)\n",
      "GPU available: True (cuda), used: True\n",
      "TPU available: False, using: 0 TPU cores\n",
      "IPU available: False, using: 0 IPUs\n",
      "HPU available: False, using: 0 HPUs\n"
     ]
    }
   ],
   "execution_count": 6
  },
  {
   "metadata": {
    "ExecuteTime": {
     "end_time": "2025-01-03T06:22:37.283802Z",
     "start_time": "2025-01-03T06:21:51.413162Z"
    }
   },
   "cell_type": "code",
   "source": "trainer.validate(model=model, dataloaders=dev_dataloader)",
   "id": "cc2abddb8c48907e",
   "outputs": [
    {
     "name": "stderr",
     "output_type": "stream",
     "text": [
      "The following callbacks returned in `LightningModule.configure_callbacks` will override existing callbacks passed to Trainer: ModelCheckpoint\n",
      "Initializing distributed: GLOBAL_RANK: 0, MEMBER: 1/1\n",
      "----------------------------------------------------------------------------------------------------\n",
      "distributed_backend=nccl\n",
      "All distributed processes registered. Starting with 1 processes\n",
      "----------------------------------------------------------------------------------------------------\n",
      "\n",
      "You are using a CUDA device ('NVIDIA GeForce RTX 3090') that has Tensor Cores. To properly utilize them, you should set `torch.set_float32_matmul_precision('medium' | 'high')` which will trade-off precision for performance. For more details, read https://pytorch.org/docs/stable/generated/torch.set_float32_matmul_precision.html#torch.set_float32_matmul_precision\n",
      "LOCAL_RANK: 0 - CUDA_VISIBLE_DEVICES: [0,1]\n",
      "/new_home/xzj23/.conda/envs/slr/lib/python3.10/site-packages/torch/utils/data/dataloader.py:554: UserWarning: This DataLoader will create 10 worker processes in total. Our suggested max number of worker in current system is 2, which is smaller than what this DataLoader is going to create. Please be aware that excessive worker creation might get DataLoader running slow or even freeze, lower the worker number to avoid potential slowness/freeze if necessary.\n",
      "  warnings.warn(_create_warning_msg(\n"
     ]
    },
    {
     "data": {
      "text/plain": [
       "Validation: 0it [00:00, ?it/s]"
      ],
      "application/vnd.jupyter.widget-view+json": {
       "version_major": 2,
       "version_minor": 0,
       "model_id": "e5a368d19a024c3cb592dafeca42b4cb"
      }
     },
     "metadata": {},
     "output_type": "display_data"
    },
    {
     "name": "stdout",
     "output_type": "stream",
     "text": [
      "2025-01-03 14:22:35 Running SCLITE...\n",
      "2025-01-03 14:22:35 SCLITE completed successfully. Outputs saved to /new_home/xzj23/workspace/SLRT/experiments/Phoenix2014_Experiment/MSKA3/0/hypothesis/dev/epoch_0/recognition/sclite_results\n",
      "2025-01-03 14:22:35 Epoch 0, DEV_WER: 21.5%\n"
     ]
    },
    {
     "name": "stderr",
     "output_type": "stream",
     "text": [
      "/new_home/xzj23/.conda/envs/slr/lib/python3.10/site-packages/lightning/pytorch/trainer/connectors/logger_connector/result.py:432: PossibleUserWarning: It is recommended to use `self.log('Val/Word-Error-Rate', ..., sync_dist=True)` when logging on epoch level in distributed setting to accumulate the metric across devices.\n",
      "  warning_cache.warn(\n"
     ]
    },
    {
     "data": {
      "text/plain": [
       "┏━━━━━━━━━━━━━━━━━━━━━━━━━━━┳━━━━━━━━━━━━━━━━━━━━━━━━━━━┓\n",
       "┃\u001B[1m \u001B[0m\u001B[1m     Validate metric     \u001B[0m\u001B[1m \u001B[0m┃\u001B[1m \u001B[0m\u001B[1m      DataLoader 0       \u001B[0m\u001B[1m \u001B[0m┃\n",
       "┡━━━━━━━━━━━━━━━━━━━━━━━━━━━╇━━━━━━━━━━━━━━━━━━━━━━━━━━━┩\n",
       "│\u001B[36m \u001B[0m\u001B[36m     Val/Loss_epoch      \u001B[0m\u001B[36m \u001B[0m│\u001B[35m \u001B[0m\u001B[35m    93.92906188964844    \u001B[0m\u001B[35m \u001B[0m│\n",
       "│\u001B[36m \u001B[0m\u001B[36m   Val/Word-Error-Rate   \u001B[0m\u001B[36m \u001B[0m│\u001B[35m \u001B[0m\u001B[35m          21.5           \u001B[0m\u001B[35m \u001B[0m│\n",
       "└───────────────────────────┴───────────────────────────┘\n"
      ],
      "text/html": [
       "<pre style=\"white-space:pre;overflow-x:auto;line-height:normal;font-family:Menlo,'DejaVu Sans Mono',consolas,'Courier New',monospace\">┏━━━━━━━━━━━━━━━━━━━━━━━━━━━┳━━━━━━━━━━━━━━━━━━━━━━━━━━━┓\n",
       "┃<span style=\"font-weight: bold\">      Validate metric      </span>┃<span style=\"font-weight: bold\">       DataLoader 0        </span>┃\n",
       "┡━━━━━━━━━━━━━━━━━━━━━━━━━━━╇━━━━━━━━━━━━━━━━━━━━━━━━━━━┩\n",
       "│<span style=\"color: #008080; text-decoration-color: #008080\">      Val/Loss_epoch       </span>│<span style=\"color: #800080; text-decoration-color: #800080\">     93.92906188964844     </span>│\n",
       "│<span style=\"color: #008080; text-decoration-color: #008080\">    Val/Word-Error-Rate    </span>│<span style=\"color: #800080; text-decoration-color: #800080\">           21.5            </span>│\n",
       "└───────────────────────────┴───────────────────────────┘\n",
       "</pre>\n"
      ]
     },
     "metadata": {},
     "output_type": "display_data"
    },
    {
     "data": {
      "text/plain": [
       "[{'Val/Loss_epoch': 93.92906188964844, 'Val/Word-Error-Rate': 21.5}]"
      ]
     },
     "execution_count": 7,
     "metadata": {},
     "output_type": "execute_result"
    }
   ],
   "execution_count": 7
  },
  {
   "metadata": {
    "ExecuteTime": {
     "end_time": "2025-01-03T06:22:38.191631Z",
     "start_time": "2025-01-03T06:22:37.335644Z"
    }
   },
   "cell_type": "code",
   "source": [
    "datamodule.setup(stage=\"test\")\n",
    "test_dataloader = datamodule.test_dataloader()"
   ],
   "id": "f3a3920a47fd260a",
   "outputs": [],
   "execution_count": 8
  },
  {
   "metadata": {
    "ExecuteTime": {
     "end_time": "2025-01-03T06:22:38.261918Z",
     "start_time": "2025-01-03T06:22:38.241417Z"
    }
   },
   "cell_type": "code",
   "source": "trainer = L.Trainer(accelerator='gpu', devices=[0], precision=\"16-mixed\", strategy=\"ddp_notebook\", logger=False)",
   "id": "5e8e03fbad143aa0",
   "outputs": [
    {
     "name": "stderr",
     "output_type": "stream",
     "text": [
      "Using 16bit Automatic Mixed Precision (AMP)\n",
      "GPU available: True (cuda), used: True\n",
      "TPU available: False, using: 0 TPU cores\n",
      "IPU available: False, using: 0 IPUs\n",
      "HPU available: False, using: 0 HPUs\n"
     ]
    }
   ],
   "execution_count": 9
  },
  {
   "metadata": {
    "ExecuteTime": {
     "end_time": "2025-01-03T06:23:34.846944Z",
     "start_time": "2025-01-03T06:22:38.338113Z"
    }
   },
   "cell_type": "code",
   "source": "trainer.test(model=model, dataloaders=test_dataloader)",
   "id": "655d87f2c57c5697",
   "outputs": [
    {
     "name": "stderr",
     "output_type": "stream",
     "text": [
      "The following callbacks returned in `LightningModule.configure_callbacks` will override existing callbacks passed to Trainer: ModelCheckpoint\n",
      "Initializing distributed: GLOBAL_RANK: 0, MEMBER: 1/1\n",
      "----------------------------------------------------------------------------------------------------\n",
      "distributed_backend=nccl\n",
      "All distributed processes registered. Starting with 1 processes\n",
      "----------------------------------------------------------------------------------------------------\n",
      "\n",
      "You are using a CUDA device ('NVIDIA GeForce RTX 3090') that has Tensor Cores. To properly utilize them, you should set `torch.set_float32_matmul_precision('medium' | 'high')` which will trade-off precision for performance. For more details, read https://pytorch.org/docs/stable/generated/torch.set_float32_matmul_precision.html#torch.set_float32_matmul_precision\n",
      "LOCAL_RANK: 0 - CUDA_VISIBLE_DEVICES: [0,1]\n",
      "/new_home/xzj23/.conda/envs/slr/lib/python3.10/site-packages/torch/utils/data/dataloader.py:554: UserWarning: This DataLoader will create 10 worker processes in total. Our suggested max number of worker in current system is 2, which is smaller than what this DataLoader is going to create. Please be aware that excessive worker creation might get DataLoader running slow or even freeze, lower the worker number to avoid potential slowness/freeze if necessary.\n",
      "  warnings.warn(_create_warning_msg(\n"
     ]
    },
    {
     "data": {
      "text/plain": [
       "Testing: 0it [00:00, ?it/s]"
      ],
      "application/vnd.jupyter.widget-view+json": {
       "version_major": 2,
       "version_minor": 0,
       "model_id": "798f6be78d9449d2a7f651ce758fc5e4"
      }
     },
     "metadata": {},
     "output_type": "display_data"
    },
    {
     "name": "stdout",
     "output_type": "stream",
     "text": [
      "2025-01-03 14:23:32 Running SCLITE...\n",
      "2025-01-03 14:23:33 SCLITE completed successfully. Outputs saved to /new_home/xzj23/workspace/SLRT/experiments/Phoenix2014_Experiment/MSKA3/0/hypothesis/test/test_best_model_after_epoch_0/recognition/sclite_results\n",
      "2025-01-03 14:23:33 Test best model after epoch -1, TEST_WER: 22.299999237060547%\n"
     ]
    },
    {
     "name": "stderr",
     "output_type": "stream",
     "text": [
      "/new_home/xzj23/.conda/envs/slr/lib/python3.10/site-packages/lightning/pytorch/trainer/connectors/logger_connector/result.py:432: PossibleUserWarning: It is recommended to use `self.log('Test/Word-Error-Rate', ..., sync_dist=True)` when logging on epoch level in distributed setting to accumulate the metric across devices.\n",
      "  warning_cache.warn(\n"
     ]
    },
    {
     "data": {
      "text/plain": [
       "┏━━━━━━━━━━━━━━━━━━━━━━━━━━━┳━━━━━━━━━━━━━━━━━━━━━━━━━━━┓\n",
       "┃\u001B[1m \u001B[0m\u001B[1m       Test metric       \u001B[0m\u001B[1m \u001B[0m┃\u001B[1m \u001B[0m\u001B[1m      DataLoader 0       \u001B[0m\u001B[1m \u001B[0m┃\n",
       "┡━━━━━━━━━━━━━━━━━━━━━━━━━━━╇━━━━━━━━━━━━━━━━━━━━━━━━━━━┩\n",
       "│\u001B[36m \u001B[0m\u001B[36m     Test/Loss_epoch     \u001B[0m\u001B[36m \u001B[0m│\u001B[35m \u001B[0m\u001B[35m    92.25061798095703    \u001B[0m\u001B[35m \u001B[0m│\n",
       "│\u001B[36m \u001B[0m\u001B[36m  Test/Word-Error-Rate   \u001B[0m\u001B[36m \u001B[0m│\u001B[35m \u001B[0m\u001B[35m   22.299999237060547    \u001B[0m\u001B[35m \u001B[0m│\n",
       "└───────────────────────────┴───────────────────────────┘\n"
      ],
      "text/html": [
       "<pre style=\"white-space:pre;overflow-x:auto;line-height:normal;font-family:Menlo,'DejaVu Sans Mono',consolas,'Courier New',monospace\">┏━━━━━━━━━━━━━━━━━━━━━━━━━━━┳━━━━━━━━━━━━━━━━━━━━━━━━━━━┓\n",
       "┃<span style=\"font-weight: bold\">        Test metric        </span>┃<span style=\"font-weight: bold\">       DataLoader 0        </span>┃\n",
       "┡━━━━━━━━━━━━━━━━━━━━━━━━━━━╇━━━━━━━━━━━━━━━━━━━━━━━━━━━┩\n",
       "│<span style=\"color: #008080; text-decoration-color: #008080\">      Test/Loss_epoch      </span>│<span style=\"color: #800080; text-decoration-color: #800080\">     92.25061798095703     </span>│\n",
       "│<span style=\"color: #008080; text-decoration-color: #008080\">   Test/Word-Error-Rate    </span>│<span style=\"color: #800080; text-decoration-color: #800080\">    22.299999237060547     </span>│\n",
       "└───────────────────────────┴───────────────────────────┘\n",
       "</pre>\n"
      ]
     },
     "metadata": {},
     "output_type": "display_data"
    },
    {
     "data": {
      "text/plain": [
       "[{'Test/Loss_epoch': 92.25061798095703,\n",
       "  'Test/Word-Error-Rate': 22.299999237060547}]"
      ]
     },
     "execution_count": 10,
     "metadata": {},
     "output_type": "execute_result"
    }
   ],
   "execution_count": 10
  },
  {
   "metadata": {},
   "cell_type": "markdown",
   "source": "## Validate and Test TFCTCBeamSearchDecoder",
   "id": "31f1056c0610fbd0"
  },
  {
   "metadata": {
    "ExecuteTime": {
     "end_time": "2025-01-03T06:23:34.994513Z",
     "start_time": "2025-01-03T06:23:34.990420Z"
    }
   },
   "cell_type": "code",
   "source": [
    "from slrt.models import TFCTCBeamSearchDecoder\n",
    "\n",
    "tf_ctc_decoder = TFCTCBeamSearchDecoder(\n",
    "    tokenizer=TokenizerDict[\"Recognition\"][tokenizer_name](\n",
    "        vocab_file=vocab_file, pad_token=\"<pad>\", unk_token=\"<unk>\",\n",
    "        sos_token=\"<si>\", eos_token=\"</s>\"\n",
    "    ),\n",
    "    beam_width=10,\n",
    "    top_paths=1\n",
    ")\n",
    "model.recognition_decoder = tf_ctc_decoder"
   ],
   "id": "37d00467df0f28c4",
   "outputs": [],
   "execution_count": 11
  },
  {
   "metadata": {
    "ExecuteTime": {
     "end_time": "2025-01-03T06:25:34.703915Z",
     "start_time": "2025-01-03T06:23:35.005970Z"
    }
   },
   "cell_type": "code",
   "source": "trainer.validate(model=model, dataloaders=dev_dataloader)",
   "id": "eacc89edbdda9e91",
   "outputs": [
    {
     "name": "stderr",
     "output_type": "stream",
     "text": [
      "The following callbacks returned in `LightningModule.configure_callbacks` will override existing callbacks passed to Trainer: ModelCheckpoint\n",
      "Initializing distributed: GLOBAL_RANK: 0, MEMBER: 1/1\n",
      "----------------------------------------------------------------------------------------------------\n",
      "distributed_backend=nccl\n",
      "All distributed processes registered. Starting with 1 processes\n",
      "----------------------------------------------------------------------------------------------------\n",
      "\n",
      "You are using a CUDA device ('NVIDIA GeForce RTX 3090') that has Tensor Cores. To properly utilize them, you should set `torch.set_float32_matmul_precision('medium' | 'high')` which will trade-off precision for performance. For more details, read https://pytorch.org/docs/stable/generated/torch.set_float32_matmul_precision.html#torch.set_float32_matmul_precision\n",
      "LOCAL_RANK: 0 - CUDA_VISIBLE_DEVICES: [0,1]\n",
      "/new_home/xzj23/.conda/envs/slr/lib/python3.10/site-packages/torch/utils/data/dataloader.py:554: UserWarning: This DataLoader will create 10 worker processes in total. Our suggested max number of worker in current system is 2, which is smaller than what this DataLoader is going to create. Please be aware that excessive worker creation might get DataLoader running slow or even freeze, lower the worker number to avoid potential slowness/freeze if necessary.\n",
      "  warnings.warn(_create_warning_msg(\n"
     ]
    },
    {
     "data": {
      "text/plain": [
       "Validation: 0it [00:00, ?it/s]"
      ],
      "application/vnd.jupyter.widget-view+json": {
       "version_major": 2,
       "version_minor": 0,
       "model_id": "383858f83f9a4b98bddc699c26af4a95"
      }
     },
     "metadata": {},
     "output_type": "display_data"
    },
    {
     "name": "stderr",
     "output_type": "stream",
     "text": [
      "2025-01-03 14:23:39.970413: I tensorflow/core/platform/cpu_feature_guard.cc:193] This TensorFlow binary is optimized with oneAPI Deep Neural Network Library (oneDNN) to use the following CPU instructions in performance-critical operations:  SSE4.1 SSE4.2 AVX AVX2 AVX_VNNI FMA\n",
      "To enable them in other operations, rebuild TensorFlow with the appropriate compiler flags.\n"
     ]
    },
    {
     "name": "stdout",
     "output_type": "stream",
     "text": [
      "2025-01-03 14:25:32 Running SCLITE...\n",
      "2025-01-03 14:25:33 SCLITE completed successfully. Outputs saved to /new_home/xzj23/workspace/SLRT/experiments/Phoenix2014_Experiment/MSKA3/0/hypothesis/dev/epoch_0/recognition/sclite_results\n",
      "2025-01-03 14:25:33 Epoch 0, DEV_WER: 28.399999618530273%\n"
     ]
    },
    {
     "name": "stderr",
     "output_type": "stream",
     "text": [
      "/new_home/xzj23/.conda/envs/slr/lib/python3.10/site-packages/lightning/pytorch/trainer/connectors/logger_connector/result.py:432: PossibleUserWarning: It is recommended to use `self.log('Val/Word-Error-Rate', ..., sync_dist=True)` when logging on epoch level in distributed setting to accumulate the metric across devices.\n",
      "  warning_cache.warn(\n"
     ]
    },
    {
     "data": {
      "text/plain": [
       "┏━━━━━━━━━━━━━━━━━━━━━━━━━━━┳━━━━━━━━━━━━━━━━━━━━━━━━━━━┓\n",
       "┃\u001B[1m \u001B[0m\u001B[1m     Validate metric     \u001B[0m\u001B[1m \u001B[0m┃\u001B[1m \u001B[0m\u001B[1m      DataLoader 0       \u001B[0m\u001B[1m \u001B[0m┃\n",
       "┡━━━━━━━━━━━━━━━━━━━━━━━━━━━╇━━━━━━━━━━━━━━━━━━━━━━━━━━━┩\n",
       "│\u001B[36m \u001B[0m\u001B[36m     Val/Loss_epoch      \u001B[0m\u001B[36m \u001B[0m│\u001B[35m \u001B[0m\u001B[35m    93.92906188964844    \u001B[0m\u001B[35m \u001B[0m│\n",
       "│\u001B[36m \u001B[0m\u001B[36m   Val/Word-Error-Rate   \u001B[0m\u001B[36m \u001B[0m│\u001B[35m \u001B[0m\u001B[35m   28.399999618530273    \u001B[0m\u001B[35m \u001B[0m│\n",
       "└───────────────────────────┴───────────────────────────┘\n"
      ],
      "text/html": [
       "<pre style=\"white-space:pre;overflow-x:auto;line-height:normal;font-family:Menlo,'DejaVu Sans Mono',consolas,'Courier New',monospace\">┏━━━━━━━━━━━━━━━━━━━━━━━━━━━┳━━━━━━━━━━━━━━━━━━━━━━━━━━━┓\n",
       "┃<span style=\"font-weight: bold\">      Validate metric      </span>┃<span style=\"font-weight: bold\">       DataLoader 0        </span>┃\n",
       "┡━━━━━━━━━━━━━━━━━━━━━━━━━━━╇━━━━━━━━━━━━━━━━━━━━━━━━━━━┩\n",
       "│<span style=\"color: #008080; text-decoration-color: #008080\">      Val/Loss_epoch       </span>│<span style=\"color: #800080; text-decoration-color: #800080\">     93.92906188964844     </span>│\n",
       "│<span style=\"color: #008080; text-decoration-color: #008080\">    Val/Word-Error-Rate    </span>│<span style=\"color: #800080; text-decoration-color: #800080\">    28.399999618530273     </span>│\n",
       "└───────────────────────────┴───────────────────────────┘\n",
       "</pre>\n"
      ]
     },
     "metadata": {},
     "output_type": "display_data"
    },
    {
     "data": {
      "text/plain": [
       "[{'Val/Loss_epoch': 93.92906188964844,\n",
       "  'Val/Word-Error-Rate': 28.399999618530273}]"
      ]
     },
     "execution_count": 12,
     "metadata": {},
     "output_type": "execute_result"
    }
   ],
   "execution_count": 12
  },
  {
   "metadata": {
    "ExecuteTime": {
     "end_time": "2025-01-03T06:27:53.037052Z",
     "start_time": "2025-01-03T06:25:34.889399Z"
    }
   },
   "cell_type": "code",
   "source": "trainer.test(model=model, dataloaders=test_dataloader)",
   "id": "6af8e426f4df89a",
   "outputs": [
    {
     "name": "stderr",
     "output_type": "stream",
     "text": [
      "The following callbacks returned in `LightningModule.configure_callbacks` will override existing callbacks passed to Trainer: ModelCheckpoint\n",
      "Initializing distributed: GLOBAL_RANK: 0, MEMBER: 1/1\n",
      "----------------------------------------------------------------------------------------------------\n",
      "distributed_backend=nccl\n",
      "All distributed processes registered. Starting with 1 processes\n",
      "----------------------------------------------------------------------------------------------------\n",
      "\n",
      "You are using a CUDA device ('NVIDIA GeForce RTX 3090') that has Tensor Cores. To properly utilize them, you should set `torch.set_float32_matmul_precision('medium' | 'high')` which will trade-off precision for performance. For more details, read https://pytorch.org/docs/stable/generated/torch.set_float32_matmul_precision.html#torch.set_float32_matmul_precision\n",
      "LOCAL_RANK: 0 - CUDA_VISIBLE_DEVICES: [0,1]\n",
      "/new_home/xzj23/.conda/envs/slr/lib/python3.10/site-packages/torch/utils/data/dataloader.py:554: UserWarning: This DataLoader will create 10 worker processes in total. Our suggested max number of worker in current system is 2, which is smaller than what this DataLoader is going to create. Please be aware that excessive worker creation might get DataLoader running slow or even freeze, lower the worker number to avoid potential slowness/freeze if necessary.\n",
      "  warnings.warn(_create_warning_msg(\n"
     ]
    },
    {
     "data": {
      "text/plain": [
       "Testing: 0it [00:00, ?it/s]"
      ],
      "application/vnd.jupyter.widget-view+json": {
       "version_major": 2,
       "version_minor": 0,
       "model_id": "e00be535789d493daba846d0f6914b3f"
      }
     },
     "metadata": {},
     "output_type": "display_data"
    },
    {
     "name": "stderr",
     "output_type": "stream",
     "text": [
      "2025-01-03 14:25:39.743937: I tensorflow/core/platform/cpu_feature_guard.cc:193] This TensorFlow binary is optimized with oneAPI Deep Neural Network Library (oneDNN) to use the following CPU instructions in performance-critical operations:  SSE4.1 SSE4.2 AVX AVX2 AVX_VNNI FMA\n",
      "To enable them in other operations, rebuild TensorFlow with the appropriate compiler flags.\n"
     ]
    },
    {
     "name": "stdout",
     "output_type": "stream",
     "text": [
      "2025-01-03 14:27:50 Running SCLITE...\n",
      "2025-01-03 14:27:51 SCLITE completed successfully. Outputs saved to /new_home/xzj23/workspace/SLRT/experiments/Phoenix2014_Experiment/MSKA3/0/hypothesis/test/test_best_model_after_epoch_0/recognition/sclite_results\n",
      "2025-01-03 14:27:51 Test best model after epoch -1, TEST_WER: 28.299999237060547%\n"
     ]
    },
    {
     "name": "stderr",
     "output_type": "stream",
     "text": [
      "/new_home/xzj23/.conda/envs/slr/lib/python3.10/site-packages/lightning/pytorch/trainer/connectors/logger_connector/result.py:432: PossibleUserWarning: It is recommended to use `self.log('Test/Word-Error-Rate', ..., sync_dist=True)` when logging on epoch level in distributed setting to accumulate the metric across devices.\n",
      "  warning_cache.warn(\n"
     ]
    },
    {
     "data": {
      "text/plain": [
       "┏━━━━━━━━━━━━━━━━━━━━━━━━━━━┳━━━━━━━━━━━━━━━━━━━━━━━━━━━┓\n",
       "┃\u001B[1m \u001B[0m\u001B[1m       Test metric       \u001B[0m\u001B[1m \u001B[0m┃\u001B[1m \u001B[0m\u001B[1m      DataLoader 0       \u001B[0m\u001B[1m \u001B[0m┃\n",
       "┡━━━━━━━━━━━━━━━━━━━━━━━━━━━╇━━━━━━━━━━━━━━━━━━━━━━━━━━━┩\n",
       "│\u001B[36m \u001B[0m\u001B[36m     Test/Loss_epoch     \u001B[0m\u001B[36m \u001B[0m│\u001B[35m \u001B[0m\u001B[35m    92.25061798095703    \u001B[0m\u001B[35m \u001B[0m│\n",
       "│\u001B[36m \u001B[0m\u001B[36m  Test/Word-Error-Rate   \u001B[0m\u001B[36m \u001B[0m│\u001B[35m \u001B[0m\u001B[35m   28.299999237060547    \u001B[0m\u001B[35m \u001B[0m│\n",
       "└───────────────────────────┴───────────────────────────┘\n"
      ],
      "text/html": [
       "<pre style=\"white-space:pre;overflow-x:auto;line-height:normal;font-family:Menlo,'DejaVu Sans Mono',consolas,'Courier New',monospace\">┏━━━━━━━━━━━━━━━━━━━━━━━━━━━┳━━━━━━━━━━━━━━━━━━━━━━━━━━━┓\n",
       "┃<span style=\"font-weight: bold\">        Test metric        </span>┃<span style=\"font-weight: bold\">       DataLoader 0        </span>┃\n",
       "┡━━━━━━━━━━━━━━━━━━━━━━━━━━━╇━━━━━━━━━━━━━━━━━━━━━━━━━━━┩\n",
       "│<span style=\"color: #008080; text-decoration-color: #008080\">      Test/Loss_epoch      </span>│<span style=\"color: #800080; text-decoration-color: #800080\">     92.25061798095703     </span>│\n",
       "│<span style=\"color: #008080; text-decoration-color: #008080\">   Test/Word-Error-Rate    </span>│<span style=\"color: #800080; text-decoration-color: #800080\">    28.299999237060547     </span>│\n",
       "└───────────────────────────┴───────────────────────────┘\n",
       "</pre>\n"
      ]
     },
     "metadata": {},
     "output_type": "display_data"
    },
    {
     "data": {
      "text/plain": [
       "[{'Test/Loss_epoch': 92.25061798095703,\n",
       "  'Test/Word-Error-Rate': 28.299999237060547}]"
      ]
     },
     "execution_count": 13,
     "metadata": {},
     "output_type": "execute_result"
    }
   ],
   "execution_count": 13
  },
  {
   "metadata": {},
   "cell_type": "code",
   "outputs": [],
   "execution_count": null,
   "source": "",
   "id": "81eca75dba87e35e"
  }
 ],
 "metadata": {
  "kernelspec": {
   "display_name": "Python 3",
   "language": "python",
   "name": "python3"
  },
  "language_info": {
   "codemirror_mode": {
    "name": "ipython",
    "version": 2
   },
   "file_extension": ".py",
   "mimetype": "text/x-python",
   "name": "python",
   "nbconvert_exporter": "python",
   "pygments_lexer": "ipython2",
   "version": "2.7.6"
  }
 },
 "nbformat": 4,
 "nbformat_minor": 5
}
