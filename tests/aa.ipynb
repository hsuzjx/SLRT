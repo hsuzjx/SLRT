{
 "cells": [
  {
   "cell_type": "code",
   "id": "initial_id",
   "metadata": {
    "collapsed": true,
    "ExecuteTime": {
     "end_time": "2024-08-19T11:03:25.495001Z",
     "start_time": "2024-08-19T11:03:25.481599Z"
    }
   },
   "source": [
    "a = [\n",
    "    \n",
    "           \"01April_2010_Thursday_heute_default-1 1 0.02 0.03 WETTER\",\n",
    "            \"01April_2010_Thursday_heute_default-1 2 0.03 0.04 SONNE\",\n",
    "            \"01April_2010_Thursday_heute_default-1 3 0.04 0.05 cl-DIE\",\n",
    "            \"01April_2010_Thursday_heute_default-1 4 0.05 0.06 loc-S0NNE\",\n",
    "            \"01April_2010_Thursday_heute_default-1 9 0.10 0.11 __PU__\",\n",
    "            \"01April_2010_Thursday_heute_default-1 10 0.11 0.12 __LEFTHAND__\",\n",
    "            \"01April_2010_Thursday_heute_default-1 11 0.12 0.13 HABEN2\",\n",
    "            \"01April_2010_Thursday_heute_default-1 12 0.13 0.14 WIE AUSSEHEN\",\n",
    "            \"01April_2010_Thursday_heute_default-1 13 0.14 0.15 ZEIGEN \",\n",
    "            \"01April_2010_Thursday_heute_default-1 14 0.15 0.16 ZEIGEN$\",\n",
    "            \"01April_2010_Thursday_heute_default-2 1 0.16 0.17 DAS\",\n",
    "            \"01April_2010_Thursday_heute_default-2 2 0.17 0.18 IST\",\n",
    "            \"01April_2010_Thursday_heute_default-1 5 0.06 0.07 qu-WIE\",\n",
    "            \"01April_2010_Thursday_heute_default-1 6 0.07 0.08 poss-DER\",\n",
    "            \"01April_2010_Thursday_heute_default-1 7 0.08 0.09 lh-BUCH\",\n",
    "            \"01April_2010_Thursday_heute_default-1 8 0.09 0.10 __EMOTION__\",\n",
    "            \"01April_2010_Thursday_heute_default-2 3 0.18 0.19 EIN\",\n",
    "            \"01April_2010_Thursday_heute_default-2 4 0.19 0.20 TEST\"\n",
    "]\n",
    "a"
   ],
   "outputs": [
    {
     "data": {
      "text/plain": [
       "['01April_2010_Thursday_heute_default-1 1 0.02 0.03 WETTER',\n",
       " '01April_2010_Thursday_heute_default-1 2 0.03 0.04 SONNE',\n",
       " '01April_2010_Thursday_heute_default-1 3 0.04 0.05 cl-DIE',\n",
       " '01April_2010_Thursday_heute_default-1 4 0.05 0.06 loc-S0NNE',\n",
       " '01April_2010_Thursday_heute_default-1 9 0.10 0.11 __PU__',\n",
       " '01April_2010_Thursday_heute_default-1 10 0.11 0.12 __LEFTHAND__',\n",
       " '01April_2010_Thursday_heute_default-1 11 0.12 0.13 HABEN2',\n",
       " '01April_2010_Thursday_heute_default-1 12 0.13 0.14 WIE AUSSEHEN',\n",
       " '01April_2010_Thursday_heute_default-1 13 0.14 0.15 ZEIGEN ',\n",
       " '01April_2010_Thursday_heute_default-1 14 0.15 0.16 ZEIGEN$',\n",
       " '01April_2010_Thursday_heute_default-2 1 0.16 0.17 DAS',\n",
       " '01April_2010_Thursday_heute_default-2 2 0.17 0.18 IST',\n",
       " '01April_2010_Thursday_heute_default-1 5 0.06 0.07 qu-WIE',\n",
       " '01April_2010_Thursday_heute_default-1 6 0.07 0.08 poss-DER',\n",
       " '01April_2010_Thursday_heute_default-1 7 0.08 0.09 lh-BUCH',\n",
       " '01April_2010_Thursday_heute_default-1 8 0.09 0.10 __EMOTION__',\n",
       " '01April_2010_Thursday_heute_default-2 3 0.18 0.19 EIN',\n",
       " '01April_2010_Thursday_heute_default-2 4 0.19 0.20 TEST']"
      ]
     },
     "execution_count": 4,
     "metadata": {},
     "output_type": "execute_result"
    }
   ],
   "execution_count": 4
  },
  {
   "metadata": {
    "ExecuteTime": {
     "end_time": "2024-08-19T11:03:26.220187Z",
     "start_time": "2024-08-19T11:03:26.212247Z"
    }
   },
   "cell_type": "code",
   "source": [
    "with open(\"test.txt\", \"w+\") as f:\n",
    "    for i in a:\n",
    "        f.write(i + \"\\n\")"
   ],
   "id": "7ca7963263642a37",
   "outputs": [],
   "execution_count": 5
  },
  {
   "metadata": {
    "ExecuteTime": {
     "end_time": "2024-08-19T11:38:32.886187Z",
     "start_time": "2024-08-19T11:38:31.752378Z"
    }
   },
   "cell_type": "code",
   "source": [
    "from src.evaluation.utils import format_phoenix2014_output\n",
    "\n",
    "format_phoenix2014_output(\"./phoenix2014_test_ctm1.ctm\", \"tttttttttt.ctmm\")"
   ],
   "id": "debedb2ea74321c2",
   "outputs": [],
   "execution_count": 6
  },
  {
   "metadata": {
    "ExecuteTime": {
     "end_time": "2024-08-19T12:50:32.172782Z",
     "start_time": "2024-08-19T12:50:32.145621Z"
    }
   },
   "cell_type": "code",
   "source": [
    "from src.evaluation.utils import format_phoenix2014_output\n",
    "\n",
    "format_phoenix2014_output(\"./test.ctm\", \"soooo.ctmm\")"
   ],
   "id": "dfe987e886175031",
   "outputs": [],
   "execution_count": 1
  },
  {
   "metadata": {},
   "cell_type": "code",
   "outputs": [],
   "execution_count": null,
   "source": "",
   "id": "8bb5596bdf473a97"
  }
 ],
 "metadata": {
  "kernelspec": {
   "display_name": "Python 3",
   "language": "python",
   "name": "python3"
  },
  "language_info": {
   "codemirror_mode": {
    "name": "ipython",
    "version": 2
   },
   "file_extension": ".py",
   "mimetype": "text/x-python",
   "name": "python",
   "nbconvert_exporter": "python",
   "pygments_lexer": "ipython2",
   "version": "2.7.6"
  }
 },
 "nbformat": 4,
 "nbformat_minor": 5
}
